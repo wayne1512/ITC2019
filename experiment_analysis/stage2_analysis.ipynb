{
 "cells": [
  {
   "cell_type": "code",
   "execution_count": 1,
   "outputs": [
    {
     "data": {
      "text/plain": "<timetable_solver.TimetableSolver at 0x2562e336510>"
     },
     "execution_count": 1,
     "metadata": {},
     "output_type": "execute_result"
    }
   ],
   "source": [
    "#read\n",
    "\n",
    "import pickle\n",
    "\n",
    "with open('D:\\\\Desktop\\\\ITC2019\\\\output\\\\itc2007_track2 with random construction and 1k generations 3neighbourhoods_itc2007_track2_20240419-230712\\\\comp-2007-2-1_rep 1\\\\checkpointsolver.pkl', 'rb') as f:\n",
    "    data = pickle.load(f)\n",
    "    \n",
    "data"
   ],
   "metadata": {
    "collapsed": false,
    "ExecuteTime": {
     "end_time": "2024-04-20T14:26:15.165998300Z",
     "start_time": "2024-04-20T14:24:40.419387900Z"
    }
   },
   "id": "ceb9cb19cf4e75a2"
  },
  {
   "cell_type": "code",
   "execution_count": null,
   "id": "initial_id",
   "metadata": {
    "collapsed": true
   },
   "outputs": [],
   "source": []
  }
 ],
 "metadata": {
  "kernelspec": {
   "display_name": "Python 3",
   "language": "python",
   "name": "python3"
  },
  "language_info": {
   "codemirror_mode": {
    "name": "ipython",
    "version": 2
   },
   "file_extension": ".py",
   "mimetype": "text/x-python",
   "name": "python",
   "nbconvert_exporter": "python",
   "pygments_lexer": "ipython2",
   "version": "2.7.6"
  }
 },
 "nbformat": 4,
 "nbformat_minor": 5
}
