{
 "cells": [
  {
   "cell_type": "code",
   "execution_count": 1,
   "outputs": [],
   "source": [
    "import json\n",
    "import os\n",
    "import re\n",
    "import time\n",
    "\n",
    "import matplotlib.pyplot as plt\n",
    "import numpy as np\n",
    "import pandas as pd\n",
    "import yaml\n",
    "\n",
    "from penalty_calc import calculate_total_cost_including_student_conflicts\n",
    "from random_student_sectioning import RandomStudentSectioning\n",
    "from solution_to_xml import generate_xml, output_itc2007_cb, output_itc2007_post\n"
   ],
   "metadata": {
    "collapsed": false,
    "ExecuteTime": {
     "end_time": "2024-05-15T10:12:38.582680700Z",
     "start_time": "2024-05-15T10:12:31.448543900Z"
    }
   },
   "id": "a4c0feac3ea670e3"
  },
  {
   "cell_type": "code",
   "execution_count": 2,
   "outputs": [],
   "source": [
    "\n",
    "show_graphs = False\n",
    "\n",
    "output_folder_path = f'output\\\\.analysis\\\\{time.strftime(\"%Y%m%d-%H%M%S\")}'\n",
    "os.makedirs(output_folder_path)\n",
    "\n",
    "assets_folder_path = os.path.join(output_folder_path, 'assets')\n",
    "os.makedirs(assets_folder_path)\n",
    "\n",
    "itc2007_track2_path = 'D:\\\\Desktop\\\\Datasets\\\\post'\n",
    "itc2007_track3_path = 'D:\\\\Desktop\\\\Datasets\\\\curriculum'\n",
    "itc2019_path = 'D:\\\\Desktop\\\\Datasets\\\\2019'"
   ],
   "metadata": {
    "collapsed": false,
    "ExecuteTime": {
     "end_time": "2024-05-15T10:12:38.598617700Z",
     "start_time": "2024-05-15T10:12:38.581679300Z"
    }
   },
   "id": "ceb9cb19cf4e75a2"
  },
  {
   "cell_type": "code",
   "execution_count": 3,
   "outputs": [],
   "source": [
    "from parse_input import parse_xml, parse_itc2007_post_enrolment, parse_itc2007_curriculum_based\n",
    "\n",
    "\n",
    "def get_instance_by_dataset_and_instance_file_name(dataset, instance_file_name):\n",
    "    if dataset == 'itc2007_track2':\n",
    "        return next((file for file in itc2007_track2_files if instance_file_name in file), None)\n",
    "    elif dataset == 'itc2007_track3':\n",
    "        return next((file for file in itc2007_track3_files if instance_file_name in file), None)\n",
    "    elif dataset == 'itc2019':\n",
    "        return next((file for file in itc2019_files if instance_file_name + \".xml\" in\n",
    "                     file.split(\"\\\\\\\\\")[-1]), None)\n",
    "    else:\n",
    "        return None\n",
    "\n",
    "\n",
    "def parse_problem(dataset, instance_path):\n",
    "    if dataset == 'itc2007_track2':\n",
    "        return parse_itc2007_post_enrolment(instance_path)\n",
    "    elif dataset == 'itc2007_track3':\n",
    "        return parse_itc2007_curriculum_based(instance_path)\n",
    "    elif dataset == 'itc2019':\n",
    "        return parse_xml(instance_path)\n",
    "\n",
    "\n",
    "def save_solution(dataset, problem, solution_gene, output_folder, raw_room_ids=None, raw_course_ids_for_classes=None,\n",
    "                  student_classes=None):\n",
    "    if dataset == 'itc2007_track2':\n",
    "        output_itc2007_post(problem, solution_gene, os.path.join(output_folder, 'output.sln'))\n",
    "        return os.path.join(output_folder, 'output.sln')\n",
    "    elif dataset == 'itc2007_track3':\n",
    "        output_itc2007_cb(problem, solution_gene, raw_room_ids, raw_course_ids_for_classes,\n",
    "                          os.path.join(output_folder, 'output.sol'))\n",
    "        return os.path.join(output_folder, 'output.sol')\n",
    "    elif dataset == 'itc2019':\n",
    "        generate_xml(problem, solution_gene, student_classes, os.path.join(output_folder, 'output.xml'))\n",
    "        return os.path.join(output_folder, 'output.xml')"
   ],
   "metadata": {
    "collapsed": false,
    "ExecuteTime": {
     "end_time": "2024-05-15T10:12:39.033970900Z",
     "start_time": "2024-05-15T10:12:38.603621100Z"
    }
   },
   "id": "6251a7bddbc6cff4"
  },
  {
   "cell_type": "code",
   "execution_count": 4,
   "outputs": [],
   "source": [
    "def get_all_files(path):\n",
    "    return [os.path.join(dirpath, file) for dirpath, _, filenames in os.walk(path) for file in filenames]\n",
    "\n",
    "\n",
    "itc2007_track2_files = get_all_files(itc2007_track2_path)\n",
    "itc2007_track3_files = get_all_files(itc2007_track3_path)\n",
    "itc2019_files = get_all_files(itc2019_path)\n",
    "\n",
    "\n",
    "# for each instance, pass through the validator and check if the solution is valid by compiling and running the required cpp file\n",
    "\n",
    "\n",
    "def validate_itc2007_track3(problem_path, solution_path, results_path):\n",
    "    import subprocess\n",
    "\n",
    "    validator_exe = 'D:\\\\Desktop\\\\itc validators\\\\2007cb\\\\x64\\\\Release\\\\2007cb.exe'\n",
    "    command = [validator_exe, problem_path, solution_path]\n",
    "\n",
    "    process = subprocess.run(command, capture_output=True)\n",
    "\n",
    "    output_data = process.stdout\n",
    "\n",
    "    with open(results_path, 'w') as f:\n",
    "        f.write(output_data.decode())\n",
    "\n",
    "    # Check the return code\n",
    "    if process.returncode != 0:\n",
    "        print(f\"Command failed with exit code {process.returncode}\")\n",
    "\n",
    "    output_string = output_data.decode()\n",
    "\n",
    "    hard_lines = re.findall(r'\\(hard\\) : (\\d+)', output_string)\n",
    "    hard_constraint_violations = np.sum([int(line) for line in hard_lines])\n",
    "\n",
    "    soft_constraint_violations = int(re.search(r'Total Cost = (\\d+)', output_string).group(1))\n",
    "\n",
    "    return hard_constraint_violations, soft_constraint_violations\n",
    "\n",
    "\n",
    "def validate_itc2019(problem_path, solution_path, results_path):\n",
    "    # send an api request similar to the following\n",
    "    #curl \\\n",
    "    #-u email:password \\\n",
    "    #-H \"Content-Type:text/xml;charset=UTF-8\" \\\n",
    "    #-d @solution.xml \\\n",
    "    #https://www.itc2019.org/itc2019-validator\n",
    "\n",
    "    with open('itc2019creds.yaml', 'r') as file:\n",
    "        credentials = yaml.safe_load(file)\n",
    "\n",
    "    import requests\n",
    "\n",
    "    with open(solution_path, 'rb') as f:\n",
    "        solution_data = f.read()\n",
    "\n",
    "    url = 'https://www.itc2019.org/itc2019-validator'\n",
    "\n",
    "    headers = {\n",
    "        'Content-Type': 'text/xml;charset=UTF-8'\n",
    "    }\n",
    "\n",
    "    response = requests.post(url, headers=headers, data=solution_data,\n",
    "                             auth=(credentials['email'], credentials['password']))\n",
    "\n",
    "    with open(results_path, 'w') as f:\n",
    "        f.write(response.text)\n",
    "\n",
    "    data = json.loads(response.text)\n",
    "\n",
    "    result = data.get('result')\n",
    "    soft = data.get('totalCost', {}).get('value', -1)\n",
    "\n",
    "    hard = 0 if result == 'OK' else 999999999\n",
    "\n",
    "    return hard, soft\n"
   ],
   "metadata": {
    "collapsed": false,
    "ExecuteTime": {
     "end_time": "2024-05-15T10:12:39.115516400Z",
     "start_time": "2024-05-15T10:12:39.033970900Z"
    }
   },
   "id": "a3f62bad454f012a"
  },
  {
   "cell_type": "code",
   "execution_count": 5,
   "outputs": [],
   "source": [
    "def read_stats_file(file_path):\n",
    "    stats = {}\n",
    "    with open(file_path, 'r') as file:\n",
    "        for line in file:\n",
    "            key, value = line.split(\": \")\n",
    "            if key == \"Best solution cost\":\n",
    "                stats[key] = tuple(map(int, value.strip()[1:-1].split(\", \")))\n",
    "            elif key == \"Execution time\":\n",
    "                stats[key] = float(value.split(\" \")[0].strip())\n",
    "            elif key == \"Population init time\":\n",
    "                value = value.strip()[1:-1]\n",
    "                split_data = value.split(\"), (\")\n",
    "\n",
    "                tuple_list = []\n",
    "                for item in split_data:\n",
    "                    # Remove parentheses from the string\n",
    "                    item = item.strip(\"() \")\n",
    "                    # Split by comma to separate values\n",
    "                    values = item.split(\", \")\n",
    "                    # Convert the first value to float and the second value to boolean\n",
    "                    tuple_list.append((float(values[0]), values[1] == \"True\"))\n",
    "                stats[key] = tuple_list\n",
    "\n",
    "    return stats"
   ],
   "metadata": {
    "collapsed": false,
    "ExecuteTime": {
     "end_time": "2024-05-15T10:12:39.127557900Z",
     "start_time": "2024-05-15T10:12:39.119515800Z"
    }
   },
   "id": "3f6af78015a3b715"
  },
  {
   "cell_type": "code",
   "execution_count": 6,
   "outputs": [],
   "source": [
    "def plot_history(title,history_df, file_path=None):\n",
    "    fig, axs = plt.subplots(2)\n",
    "    \n",
    "    # Plot hard_cost\n",
    "    axs[0].plot(history_df['generation'], history_df['hard_cost'])\n",
    "    axs[0].set_title('Hard Cost')\n",
    "    axs[0].set(xlabel='Generation', ylabel='Cost')\n",
    "    \n",
    "    # Plot soft_cost\n",
    "    axs[1].plot(history_df['generation'], history_df['soft_cost'])\n",
    "    axs[1].set_title('Soft Cost')\n",
    "    axs[1].set(xlabel='Generation', ylabel='Cost')\n",
    "    \n",
    "    plt.subplots_adjust(hspace=0.5)\n",
    "    \n",
    "    plt.suptitle(title)\n",
    "    \n",
    "    if show_graphs:\n",
    "        plt.show()        \n",
    "        \n",
    "    if file_path:\n",
    "        plt.savefig(file_path)\n",
    "    \n",
    "    plt.close()\n",
    "    \n",
    "    \n",
    "def plot_valid_history(title, history_df, file_path=None):\n",
    "    history_df = history_df[history_df['hard_cost'] == 0]\n",
    "\n",
    "    fig, ax = plt.subplots()\n",
    "\n",
    "    ax.plot(history_df['generation'], history_df['soft_cost'])\n",
    "    ax.set_title('Soft Cost')\n",
    "    ax.set(xlabel='Generation', ylabel='Cost')\n",
    "\n",
    "    plt.suptitle(title)\n",
    "\n",
    "    if show_graphs:\n",
    "        plt.show()\n",
    "\n",
    "    if file_path:\n",
    "        plt.savefig(file_path)\n",
    "\n",
    "    plt.close()"
   ],
   "metadata": {
    "collapsed": false,
    "ExecuteTime": {
     "end_time": "2024-05-15T10:12:39.137926300Z",
     "start_time": "2024-05-15T10:12:39.127557900Z"
    }
   },
   "id": "7938ef4cfacdbf99"
  },
  {
   "cell_type": "code",
   "execution_count": 7,
   "id": "initial_id",
   "metadata": {
    "collapsed": true,
    "ExecuteTime": {
     "end_time": "2024-05-15T10:12:39.194817600Z",
     "start_time": "2024-05-15T10:12:39.189924600Z"
    }
   },
   "outputs": [],
   "source": [
    "def read_experiment_stats(experiment_folder, dataset):\n",
    "    analysis_df = pd.DataFrame(list(os.listdir(experiment_folder)), columns=['folder'])\n",
    "\n",
    "    analysis_df['folder_path'] = analysis_df.apply(lambda x: os.path.join(experiment_folder, x.folder), axis=1)\n",
    "\n",
    "    analysis_df['instance_name'] = analysis_df['folder'].apply(lambda x: x.split('_')[0])\n",
    "\n",
    "    analysis_df['instance_file'] = analysis_df.apply(\n",
    "        lambda x: get_instance_by_dataset_and_instance_file_name(dataset, x.instance_name), axis=1)\n",
    "\n",
    "    analysis_df['stats_file'] = analysis_df.apply(\n",
    "        lambda x: os.path.join(x.folder_path, 'stats.txt'), axis=1)\n",
    "\n",
    "    analysis_df['stats'] = analysis_df['stats_file'].apply(read_stats_file)\n",
    "\n",
    "    analysis_df['total_exec_time'] = analysis_df['stats'].apply(lambda x: x['Execution time'])\n",
    "\n",
    "    analysis_df['population_init_time_arr'] = analysis_df['stats'].apply(lambda x: x['Population init time'])\n",
    "\n",
    "    analysis_df['population_init_time'] = analysis_df['population_init_time_arr'].apply(\n",
    "        lambda x: sum([y[0] for y in x]))\n",
    "\n",
    "    if dataset == 'itc2007_track3':\n",
    "        analysis_df['problem'], analysis_df['problem_stats'], analysis_df['raw_room_ids'], analysis_df[\n",
    "            'raw_course_ids_for_classes'] = zip(\n",
    "            *analysis_df.apply(lambda x: parse_problem(dataset, x['instance_file']), axis=1))\n",
    "    else:\n",
    "        analysis_df['problem'], analysis_df['problem_stats'] = zip(\n",
    "            *analysis_df.apply(lambda x: parse_problem(dataset, x['instance_file']), axis=1))\n",
    "\n",
    "    analysis_df['checkpoint_file'] = analysis_df.apply(\n",
    "        lambda x: os.path.join(x.folder_path, 'checkpointsolver.pkl'), axis=1)\n",
    "\n",
    "    analysis_df['checkpoint'] = analysis_df.apply(lambda x: pd.read_pickle(x.checkpoint_file), axis=1)\n",
    "\n",
    "    analysis_df['best_solution'] = analysis_df.apply(lambda x: x.checkpoint.get_best_solution()[0], axis=1)\n",
    "\n",
    "    analysis_df['best_cost'] = analysis_df.apply(lambda x: x.checkpoint.get_best_solution()[1], axis=1)\n",
    "\n",
    "    if dataset == 'itc2019':\n",
    "        analysis_df['student_classes'] = analysis_df.apply(lambda x: RandomStudentSectioning(x['problem']).apply(),\n",
    "                                                           axis=1)\n",
    "\n",
    "    if dataset == 'itc2007_track2':\n",
    "        #need to save solution since it wasn't saved when running the experiment\n",
    "        analysis_df['solution_file_path'] = analysis_df.apply(\n",
    "            lambda x: save_solution(dataset, x['problem'], x['best_solution'], x['folder_path']), axis=1)\n",
    "    elif dataset == 'itc2007_track3':\n",
    "        analysis_df['solution_file_path'] = analysis_df.apply(\n",
    "            lambda x: os.path.join(x.folder_path, 'output.sol'), axis=1)\n",
    "    elif dataset == 'itc2019':\n",
    "        analysis_df['solution_file_path'] = analysis_df.apply(\n",
    "            lambda x: os.path.join(x.folder_path, 'output.xml'), axis=1)\n",
    "\n",
    "    analysis_df['cost'] = analysis_df.apply(lambda x:     \n",
    "        calculate_total_cost_including_student_conflicts(x['problem'],x['best_solution'],x.get('student_classes',{})), axis=1)\n",
    "\n",
    "    analysis_df['hard_cost'] = analysis_df['cost'].apply(lambda x: x[0])\n",
    "    analysis_df['soft_cost'] = analysis_df['cost'].apply(lambda x: x[1])\n",
    "\n",
    "    if dataset == 'itc2007_track3':\n",
    "        analysis_df['validator_cost'] = analysis_df.apply(\n",
    "            lambda x: validate_itc2007_track3(x['instance_file'], x['solution_file_path'],\n",
    "                                              os.path.join(x['folder_path'], 'validation_results.txt')), axis=1)\n",
    "    elif dataset == 'itc2019':\n",
    "        analysis_df['validator_cost'] = analysis_df.apply(\n",
    "            lambda x: validate_itc2019(x['instance_file'], x['solution_file_path'],\n",
    "                                       os.path.join(x['folder_path'], 'validation_results.txt')), axis=1)\n",
    "\n",
    "\n",
    "    analysis_df['history_file_path'] = analysis_df.apply(\n",
    "        lambda x: os.path.join(x.folder_path, 'history.csv'), axis=1)\n",
    "    \n",
    "    analysis_df['history'] = analysis_df['history_file_path'].apply(lambda x: pd.read_csv(x))\n",
    "\n",
    "    return analysis_df\n"
   ]
  },
  {
   "cell_type": "code",
   "execution_count": 8,
   "outputs": [],
   "source": [
    "itc2007_track2_ls = read_experiment_stats(\n",
    "    'D:\\Desktop\\done tests\\select ls full\\select itc2007 track 2 with valid dfs construction and 150 generations with ls_itc2007_track2_20240430-001928',\n",
    "    \"itc2007_track2\")\n",
    "\n",
    "itc2007_track3_ls = read_experiment_stats(\n",
    "    'D:\\Desktop\\done tests\\select ls full\\select itc2007 track 3 with valid dfs construction and 150 generations with ls_itc2007_track3_20240430-001937',\n",
    "    \"itc2007_track3\")\n",
    "\n",
    "itc2019_ls = read_experiment_stats(\n",
    "    'D:\\Desktop\\done tests\\select ls full\\select itc2019 with valid dfs construction and 150 generations with ls_itc2019_20240430-001952',\n",
    "    \"itc2019\")"
   ],
   "metadata": {
    "collapsed": false,
    "ExecuteTime": {
     "end_time": "2024-05-15T10:14:03.140595700Z",
     "start_time": "2024-05-15T10:12:39.195820600Z"
    }
   },
   "id": "714f2e4fbdcb0fe8"
  },
  {
   "cell_type": "code",
   "execution_count": 9,
   "outputs": [],
   "source": [
    "itc2007_track2_ils = read_experiment_stats(\n",
    "    'D:\\Desktop\\done tests\\select ils full\\select itc2007t2 with valid dfs construction and 150 gens with ils_itc2007_track2_20240507-123948',\n",
    "    \"itc2007_track2\")\n",
    "\n",
    "itc2007_track3_ils = read_experiment_stats(\n",
    "    'D:\\Desktop\\done tests\\select ils full\\select itc2007 track 3 with valid dfs construction and 150 generations with ils_itc2007_track3_20240505-135802',\n",
    "    \"itc2007_track3\")\n",
    "\n",
    "itc2019_ils = read_experiment_stats(\n",
    "    'D:\\Desktop\\done tests\\select ils full\\select itc2019 with valid dfs construction and 150 generations with ils_itc2019_20240505-135818',\n",
    "    \"itc2019\")"
   ],
   "metadata": {
    "collapsed": false,
    "ExecuteTime": {
     "end_time": "2024-05-15T10:14:51.350040500Z",
     "start_time": "2024-05-15T10:14:03.157598Z"
    }
   },
   "id": "4257c5552796a99b"
  },
  {
   "cell_type": "code",
   "execution_count": 10,
   "outputs": [],
   "source": [
    "itc2007_track2_gsga = read_experiment_stats(\n",
    "    'D:\\\\Desktop\\\\done tests\\\\select gsga full\\\\select with valid dfs construction and 150 generations with gsga_itc2007_track2_20240510-235446',\n",
    "    \"itc2007_track2\")\n",
    "\n",
    "itc2007_track3_gsga = read_experiment_stats(\n",
    "    'D:\\\\Desktop\\\\done tests\\\\select gsga full\\\\select with valid dfs construction and 150 generations with gsga_itc2007_track3_20240510-235500',\n",
    "    \"itc2007_track3\")\n",
    "\n",
    "itc2019_gsga = read_experiment_stats(\n",
    "    'D:\\\\Desktop\\\\done tests\\\\select gsga full\\\\select with valid dfs construction and 150 generations with gsga_itc2019_20240510-235509',\n",
    "    \"itc2019\")"
   ],
   "metadata": {
    "collapsed": false,
    "ExecuteTime": {
     "end_time": "2024-05-15T10:15:32.139601500Z",
     "start_time": "2024-05-15T10:14:51.372046600Z"
    }
   },
   "id": "60b4b44d0c3c3dc1"
  },
  {
   "cell_type": "code",
   "execution_count": 11,
   "outputs": [
    {
     "data": {
      "text/plain": "0    None\n1    None\n2    None\n3    None\n4    None\ndtype: object"
     },
     "execution_count": 11,
     "metadata": {},
     "output_type": "execute_result"
    }
   ],
   "source": [
    "itc2007_track2_ls.apply(lambda x: plot_history(\"Local search progression for \"+\"ITC2007 track 2 - \"+x['instance_name'],x['history'],os.path.join(x['folder_path'],\"graphs/progress.png\")),axis=1)\n",
    "\n",
    "itc2007_track3_ls.apply(lambda x: plot_history(\"Local search progression for \"+\"ITC2007 track 3 - \"+x['instance_name'],x['history'],os.path.join(x['folder_path'],\"graphs/progress.png\")),axis=1)\n",
    "\n",
    "itc2019_ls.apply(lambda x: plot_history(\"Local search progression for \"+\"ITC2019 - \"+x['instance_name'],x['history'],os.path.join(x['folder_path'],\"graphs/progress.png\")),axis=1)\n",
    "\n",
    "itc2007_track2_ils.apply(lambda x: plot_history(\"Iterated local search progression for \"+\"ITC2007 track 2 - \"+x['instance_name'],x['history'],os.path.join(x['folder_path'],\"graphs/progress.png\")),axis=1)\n",
    "\n",
    "itc2007_track3_ils.apply(lambda x: plot_history(\"Iterated local search progression for \"+\"ITC2007 track 3 - \"+x['instance_name'],x['history'],os.path.join(x['folder_path'],\"graphs/progress.png\")),axis=1)\n",
    "\n",
    "itc2019_ils.apply(lambda x: plot_history(\"Iterated local search progression for \"+\"ITC2019 - \"+x['instance_name'],x['history'],os.path.join(x['folder_path'],\"graphs/progress.png\")),axis=1)\n",
    "\n",
    "itc2007_track2_gsga.apply(lambda x: plot_history(\"GSGA progression for \"+\"ITC2007 track 2 - \"+x['instance_name'],x['history'],os.path.join(x['folder_path'],\"graphs/progress.png\")),axis=1)\n",
    "\n",
    "itc2007_track3_gsga.apply(lambda x: plot_history(\"GSGA progression for \"+\"ITC2007 track 3 - \"+x['instance_name'],x['history'],os.path.join(x['folder_path'],\"graphs/progress.png\")),axis=1)\n",
    "\n",
    "itc2019_gsga.apply(lambda x: plot_history(\"GSGA progression for \"+\"ITC2019 - \"+x['instance_name'],x['history'],os.path.join(x['folder_path'],\"graphs/progress.png\")),axis=1)"
   ],
   "metadata": {
    "collapsed": false,
    "ExecuteTime": {
     "end_time": "2024-05-15T10:15:40.966910Z",
     "start_time": "2024-05-15T10:15:32.145605300Z"
    }
   },
   "id": "dba32f3e7728e053"
  },
  {
   "cell_type": "code",
   "execution_count": 12,
   "outputs": [
    {
     "data": {
      "text/plain": "0    None\n1    None\n2    None\n3    None\n4    None\ndtype: object"
     },
     "execution_count": 12,
     "metadata": {},
     "output_type": "execute_result"
    }
   ],
   "source": [
    "itc2007_track2_ls.apply(lambda x: plot_valid_history(\"Local search SC progression for \"+\"ITC2007 track 2 - \"+x['instance_name'],x['history'],os.path.join(x['folder_path'],\"graphs/valid progress.png\")),axis=1)\n",
    "\n",
    "itc2007_track3_ls.apply(lambda x: plot_valid_history(\"Local search SC progression for \"+\"ITC2007 track 3 - \"+x['instance_name'],x['history'],os.path.join(x['folder_path'],\"graphs/valid progress.png\")),axis=1)\n",
    "\n",
    "itc2019_ls.apply(lambda x: plot_valid_history(\"Local search SC progression for \"+\"ITC2019 - \"+x['instance_name'],x['history'],os.path.join(x['folder_path'],\"graphs/valid progress.png\")),axis=1)\n",
    "\n",
    "itc2007_track2_ils.apply(lambda x: plot_valid_history(\"Iterated local search SC progression for \"+\"ITC2007 track 2 - \"+x['instance_name'],x['history'],os.path.join(x['folder_path'],\"graphs/valid progress.png\")),axis=1)\n",
    "\n",
    "itc2007_track3_ils.apply(lambda x: plot_valid_history(\"Iterated local search SC progression for \"+\"ITC2007 track 3 - \"+x['instance_name'],x['history'],os.path.join(x['folder_path'],\"graphs/valid progress.png\")),axis=1)\n",
    "\n",
    "itc2019_ils.apply(lambda x: plot_valid_history(\"Iterated local search SC progression for \"+\"ITC2019 - \"+x['instance_name'],x['history'],os.path.join(x['folder_path'],\"graphs/valid progress.png\")),axis=1)\n",
    "\n",
    "itc2007_track2_gsga.apply(lambda x: plot_valid_history(\"GSGA SC progression for \"+\"ITC2007 track 2 - \"+x['instance_name'],x['history'],os.path.join(x['folder_path'],\"graphs/valid progress.png\")),axis=1)\n",
    "\n",
    "itc2007_track3_gsga.apply(lambda x: plot_valid_history(\"GSGA SC progression for \"+\"ITC2007 track 3 - \"+x['instance_name'],x['history'],os.path.join(x['folder_path'],\"graphs/valid progress.png\")),axis=1)\n",
    "\n",
    "itc2019_gsga.apply(lambda x: plot_valid_history(\"GSGA SC progression for \"+\"ITC2019 - \"+x['instance_name'],x['history'],os.path.join(x['folder_path'],\"graphs/valid progress.png\")),axis=1)"
   ],
   "metadata": {
    "collapsed": false,
    "ExecuteTime": {
     "end_time": "2024-05-15T10:15:44.266881900Z",
     "start_time": "2024-05-15T10:15:40.904800500Z"
    }
   },
   "id": "945610557db07ab3"
  },
  {
   "cell_type": "code",
   "execution_count": 13,
   "outputs": [
    {
     "data": {
      "text/plain": "                  folder                                        folder_path  \\\n0       lums-fal17_rep 1  D:\\Desktop\\done tests\\select ils full\\select i...   \n1       lums-spr18_rep 1  D:\\Desktop\\done tests\\select ils full\\select i...   \n2    muni-fi-fal17_rep 1  D:\\Desktop\\done tests\\select ils full\\select i...   \n3    muni-fi-spr17_rep 1  D:\\Desktop\\done tests\\select ils full\\select i...   \n4  muni-fsps-spr17_rep 1  D:\\Desktop\\done tests\\select ils full\\select i...   \n\n     instance_name                                      instance_file  \\\n0       lums-fal17     D:\\Desktop\\Datasets\\2019\\3.late\\lums-fal17.xml   \n1       lums-spr18   D:\\Desktop\\Datasets\\2019\\2.middle\\lums-spr18.xml   \n2    muni-fi-fal17  D:\\Desktop\\Datasets\\2019\\3.late\\muni-fi-fal17.xml   \n3    muni-fi-spr17  D:\\Desktop\\Datasets\\2019\\2.middle\\muni-fi-spr1...   \n4  muni-fsps-spr17  D:\\Desktop\\Datasets\\2019\\1.early\\muni-fsps-spr...   \n\n                                          stats_file  \\\n0  D:\\Desktop\\done tests\\select ils full\\select i...   \n1  D:\\Desktop\\done tests\\select ils full\\select i...   \n2  D:\\Desktop\\done tests\\select ils full\\select i...   \n3  D:\\Desktop\\done tests\\select ils full\\select i...   \n4  D:\\Desktop\\done tests\\select ils full\\select i...   \n\n                                               stats  total_exec_time  \\\n0  {'Best solution cost': (0, 2388), 'Execution t...     52437.521089   \n1  {'Best solution cost': (0, 1357), 'Execution t...     33668.178052   \n2  {'Best solution cost': (0, 5090), 'Execution t...      6523.899548   \n3  {'Best solution cost': (0, 6414), 'Execution t...      8221.952287   \n4  {'Best solution cost': (0, 2036), 'Execution t...      4112.341303   \n\n                            population_init_time_arr  population_init_time  \\\n0  [(178.48715376853943, False), (284.81183075904...          19533.576239   \n1  [(159.49844455718994, True), (208.248942852020...          13771.759868   \n2  [(9.885940790176392, True), (9.815082550048828...            487.153518   \n3  [(25.32409381866455, False), (20.9013924598693...           2964.216249   \n4  [(2.7010204792022705, True), (2.47749638557434...            168.971830   \n\n                                             problem  ...  \\\n0  <models.input.problem.Problem object at 0x0000...  ...   \n1  <models.input.problem.Problem object at 0x0000...  ...   \n2  <models.input.problem.Problem object at 0x0000...  ...   \n3  <models.input.problem.Problem object at 0x0000...  ...   \n4  <models.input.problem.Problem object at 0x0000...  ...   \n\n                                       best_solution  best_cost  \\\n0  [[15, 45], [14, 13], [4, 16], [3, 30], [17, 42...  (0, 2388)   \n1  [[12, 20], [23, 4], [12, 3], [0, 1], [19, 29],...  (0, 1357)   \n2  [[2, 0], [0, 0], [0, 0], [7, 8], [0, 0], [6, 2...  (0, 5090)   \n3  [[4, 0], [6, 0], [5, 1], [2, 3], [1, 0], [1, 1...  (0, 6414)   \n4  [[0, 12], [0, 14], [0, 0], [4, 3], [4, 0], [-1...  (0, 2036)   \n\n                                     student_classes  \\\n0                                                 {}   \n1                                                 {}   \n2  {1: [80, 104, 498, 276, 27, 46], 2: [476], 3: ...   \n3  {1: [20, 29, 42, 476, 58, 77], 2: [101, 102, 1...   \n4  {1: [408, 409, 410, 411, 412, 413, 414, 415, 4...   \n\n                                  solution_file_path         cost hard_cost  \\\n0  D:\\Desktop\\done tests\\select ils full\\select i...    (0, 2388)         0   \n1  D:\\Desktop\\done tests\\select ils full\\select i...    (0, 1357)         0   \n2  D:\\Desktop\\done tests\\select ils full\\select i...   (0, 24315)         0   \n3  D:\\Desktop\\done tests\\select ils full\\select i...   (0, 22509)         0   \n4  D:\\Desktop\\done tests\\select ils full\\select i...  (0, 221136)         0   \n\n  soft_cost validator_cost                                  history_file_path  \\\n0      2388      (0, 2388)  D:\\Desktop\\done tests\\select ils full\\select i...   \n1      1357      (0, 1357)  D:\\Desktop\\done tests\\select ils full\\select i...   \n2     24315     (0, 24315)  D:\\Desktop\\done tests\\select ils full\\select i...   \n3     22509     (0, 22509)  D:\\Desktop\\done tests\\select ils full\\select i...   \n4    221136    (0, 221136)  D:\\Desktop\\done tests\\select ils full\\select i...   \n\n                                             history  \n0       Unnamed: 0  generation  hard_cost  soft_c...  \n1       Unnamed: 0  generation  hard_cost  soft_c...  \n2       Unnamed: 0  generation  hard_cost  soft_c...  \n3       Unnamed: 0  generation  hard_cost  soft_c...  \n4       Unnamed: 0  generation  hard_cost  soft_c...  \n\n[5 rows x 23 columns]",
      "text/html": "<div>\n<style scoped>\n    .dataframe tbody tr th:only-of-type {\n        vertical-align: middle;\n    }\n\n    .dataframe tbody tr th {\n        vertical-align: top;\n    }\n\n    .dataframe thead th {\n        text-align: right;\n    }\n</style>\n<table border=\"1\" class=\"dataframe\">\n  <thead>\n    <tr style=\"text-align: right;\">\n      <th></th>\n      <th>folder</th>\n      <th>folder_path</th>\n      <th>instance_name</th>\n      <th>instance_file</th>\n      <th>stats_file</th>\n      <th>stats</th>\n      <th>total_exec_time</th>\n      <th>population_init_time_arr</th>\n      <th>population_init_time</th>\n      <th>problem</th>\n      <th>...</th>\n      <th>best_solution</th>\n      <th>best_cost</th>\n      <th>student_classes</th>\n      <th>solution_file_path</th>\n      <th>cost</th>\n      <th>hard_cost</th>\n      <th>soft_cost</th>\n      <th>validator_cost</th>\n      <th>history_file_path</th>\n      <th>history</th>\n    </tr>\n  </thead>\n  <tbody>\n    <tr>\n      <th>0</th>\n      <td>lums-fal17_rep 1</td>\n      <td>D:\\Desktop\\done tests\\select ils full\\select i...</td>\n      <td>lums-fal17</td>\n      <td>D:\\Desktop\\Datasets\\2019\\3.late\\lums-fal17.xml</td>\n      <td>D:\\Desktop\\done tests\\select ils full\\select i...</td>\n      <td>{'Best solution cost': (0, 2388), 'Execution t...</td>\n      <td>52437.521089</td>\n      <td>[(178.48715376853943, False), (284.81183075904...</td>\n      <td>19533.576239</td>\n      <td>&lt;models.input.problem.Problem object at 0x0000...</td>\n      <td>...</td>\n      <td>[[15, 45], [14, 13], [4, 16], [3, 30], [17, 42...</td>\n      <td>(0, 2388)</td>\n      <td>{}</td>\n      <td>D:\\Desktop\\done tests\\select ils full\\select i...</td>\n      <td>(0, 2388)</td>\n      <td>0</td>\n      <td>2388</td>\n      <td>(0, 2388)</td>\n      <td>D:\\Desktop\\done tests\\select ils full\\select i...</td>\n      <td>Unnamed: 0  generation  hard_cost  soft_c...</td>\n    </tr>\n    <tr>\n      <th>1</th>\n      <td>lums-spr18_rep 1</td>\n      <td>D:\\Desktop\\done tests\\select ils full\\select i...</td>\n      <td>lums-spr18</td>\n      <td>D:\\Desktop\\Datasets\\2019\\2.middle\\lums-spr18.xml</td>\n      <td>D:\\Desktop\\done tests\\select ils full\\select i...</td>\n      <td>{'Best solution cost': (0, 1357), 'Execution t...</td>\n      <td>33668.178052</td>\n      <td>[(159.49844455718994, True), (208.248942852020...</td>\n      <td>13771.759868</td>\n      <td>&lt;models.input.problem.Problem object at 0x0000...</td>\n      <td>...</td>\n      <td>[[12, 20], [23, 4], [12, 3], [0, 1], [19, 29],...</td>\n      <td>(0, 1357)</td>\n      <td>{}</td>\n      <td>D:\\Desktop\\done tests\\select ils full\\select i...</td>\n      <td>(0, 1357)</td>\n      <td>0</td>\n      <td>1357</td>\n      <td>(0, 1357)</td>\n      <td>D:\\Desktop\\done tests\\select ils full\\select i...</td>\n      <td>Unnamed: 0  generation  hard_cost  soft_c...</td>\n    </tr>\n    <tr>\n      <th>2</th>\n      <td>muni-fi-fal17_rep 1</td>\n      <td>D:\\Desktop\\done tests\\select ils full\\select i...</td>\n      <td>muni-fi-fal17</td>\n      <td>D:\\Desktop\\Datasets\\2019\\3.late\\muni-fi-fal17.xml</td>\n      <td>D:\\Desktop\\done tests\\select ils full\\select i...</td>\n      <td>{'Best solution cost': (0, 5090), 'Execution t...</td>\n      <td>6523.899548</td>\n      <td>[(9.885940790176392, True), (9.815082550048828...</td>\n      <td>487.153518</td>\n      <td>&lt;models.input.problem.Problem object at 0x0000...</td>\n      <td>...</td>\n      <td>[[2, 0], [0, 0], [0, 0], [7, 8], [0, 0], [6, 2...</td>\n      <td>(0, 5090)</td>\n      <td>{1: [80, 104, 498, 276, 27, 46], 2: [476], 3: ...</td>\n      <td>D:\\Desktop\\done tests\\select ils full\\select i...</td>\n      <td>(0, 24315)</td>\n      <td>0</td>\n      <td>24315</td>\n      <td>(0, 24315)</td>\n      <td>D:\\Desktop\\done tests\\select ils full\\select i...</td>\n      <td>Unnamed: 0  generation  hard_cost  soft_c...</td>\n    </tr>\n    <tr>\n      <th>3</th>\n      <td>muni-fi-spr17_rep 1</td>\n      <td>D:\\Desktop\\done tests\\select ils full\\select i...</td>\n      <td>muni-fi-spr17</td>\n      <td>D:\\Desktop\\Datasets\\2019\\2.middle\\muni-fi-spr1...</td>\n      <td>D:\\Desktop\\done tests\\select ils full\\select i...</td>\n      <td>{'Best solution cost': (0, 6414), 'Execution t...</td>\n      <td>8221.952287</td>\n      <td>[(25.32409381866455, False), (20.9013924598693...</td>\n      <td>2964.216249</td>\n      <td>&lt;models.input.problem.Problem object at 0x0000...</td>\n      <td>...</td>\n      <td>[[4, 0], [6, 0], [5, 1], [2, 3], [1, 0], [1, 1...</td>\n      <td>(0, 6414)</td>\n      <td>{1: [20, 29, 42, 476, 58, 77], 2: [101, 102, 1...</td>\n      <td>D:\\Desktop\\done tests\\select ils full\\select i...</td>\n      <td>(0, 22509)</td>\n      <td>0</td>\n      <td>22509</td>\n      <td>(0, 22509)</td>\n      <td>D:\\Desktop\\done tests\\select ils full\\select i...</td>\n      <td>Unnamed: 0  generation  hard_cost  soft_c...</td>\n    </tr>\n    <tr>\n      <th>4</th>\n      <td>muni-fsps-spr17_rep 1</td>\n      <td>D:\\Desktop\\done tests\\select ils full\\select i...</td>\n      <td>muni-fsps-spr17</td>\n      <td>D:\\Desktop\\Datasets\\2019\\1.early\\muni-fsps-spr...</td>\n      <td>D:\\Desktop\\done tests\\select ils full\\select i...</td>\n      <td>{'Best solution cost': (0, 2036), 'Execution t...</td>\n      <td>4112.341303</td>\n      <td>[(2.7010204792022705, True), (2.47749638557434...</td>\n      <td>168.971830</td>\n      <td>&lt;models.input.problem.Problem object at 0x0000...</td>\n      <td>...</td>\n      <td>[[0, 12], [0, 14], [0, 0], [4, 3], [4, 0], [-1...</td>\n      <td>(0, 2036)</td>\n      <td>{1: [408, 409, 410, 411, 412, 413, 414, 415, 4...</td>\n      <td>D:\\Desktop\\done tests\\select ils full\\select i...</td>\n      <td>(0, 221136)</td>\n      <td>0</td>\n      <td>221136</td>\n      <td>(0, 221136)</td>\n      <td>D:\\Desktop\\done tests\\select ils full\\select i...</td>\n      <td>Unnamed: 0  generation  hard_cost  soft_c...</td>\n    </tr>\n  </tbody>\n</table>\n<p>5 rows × 23 columns</p>\n</div>"
     },
     "execution_count": 13,
     "metadata": {},
     "output_type": "execute_result"
    }
   ],
   "source": [
    "itc2019_ils"
   ],
   "metadata": {
    "collapsed": false,
    "ExecuteTime": {
     "end_time": "2024-05-15T10:15:44.809360900Z",
     "start_time": "2024-05-15T10:15:44.266881900Z"
    }
   },
   "id": "dceae2104f1a8008"
  },
  {
   "cell_type": "code",
   "execution_count": 14,
   "outputs": [
    {
     "data": {
      "text/plain": "     instance_name  hard_cost  soft_cost  population_init_time  \\\n0       lums-fal17          0       1848          10761.467455   \n1       lums-spr18          0        853          12550.778537   \n2    muni-fi-fal17          0      25996            311.074486   \n3    muni-fi-spr17          0      21127           2017.978540   \n4  muni-fsps-spr17          0     280889            203.921252   \n\n   total_exec_time  \n0     19978.646213  \n1     19272.082253  \n2      2571.123254  \n3      4278.085902  \n4      2865.435522  ",
      "text/html": "<div>\n<style scoped>\n    .dataframe tbody tr th:only-of-type {\n        vertical-align: middle;\n    }\n\n    .dataframe tbody tr th {\n        vertical-align: top;\n    }\n\n    .dataframe thead th {\n        text-align: right;\n    }\n</style>\n<table border=\"1\" class=\"dataframe\">\n  <thead>\n    <tr style=\"text-align: right;\">\n      <th></th>\n      <th>instance_name</th>\n      <th>hard_cost</th>\n      <th>soft_cost</th>\n      <th>population_init_time</th>\n      <th>total_exec_time</th>\n    </tr>\n  </thead>\n  <tbody>\n    <tr>\n      <th>0</th>\n      <td>lums-fal17</td>\n      <td>0</td>\n      <td>1848</td>\n      <td>10761.467455</td>\n      <td>19978.646213</td>\n    </tr>\n    <tr>\n      <th>1</th>\n      <td>lums-spr18</td>\n      <td>0</td>\n      <td>853</td>\n      <td>12550.778537</td>\n      <td>19272.082253</td>\n    </tr>\n    <tr>\n      <th>2</th>\n      <td>muni-fi-fal17</td>\n      <td>0</td>\n      <td>25996</td>\n      <td>311.074486</td>\n      <td>2571.123254</td>\n    </tr>\n    <tr>\n      <th>3</th>\n      <td>muni-fi-spr17</td>\n      <td>0</td>\n      <td>21127</td>\n      <td>2017.978540</td>\n      <td>4278.085902</td>\n    </tr>\n    <tr>\n      <th>4</th>\n      <td>muni-fsps-spr17</td>\n      <td>0</td>\n      <td>280889</td>\n      <td>203.921252</td>\n      <td>2865.435522</td>\n    </tr>\n  </tbody>\n</table>\n</div>"
     },
     "execution_count": 14,
     "metadata": {},
     "output_type": "execute_result"
    }
   ],
   "source": [
    "itc2019_ls[['instance_name', 'hard_cost','soft_cost', 'population_init_time', 'total_exec_time']]"
   ],
   "metadata": {
    "collapsed": false,
    "ExecuteTime": {
     "end_time": "2024-05-15T10:15:44.938846200Z",
     "start_time": "2024-05-15T10:15:44.809360900Z"
    }
   },
   "id": "6c049871b1534a7d"
  },
  {
   "cell_type": "markdown",
   "source": [],
   "metadata": {
    "collapsed": false
   },
   "id": "7b31802be4bc6bd4"
  },
  {
   "cell_type": "code",
   "execution_count": 15,
   "outputs": [],
   "source": [
    "itc2007_track2_ls_copy = itc2007_track2_ls.rename(columns={'hard_cost': 'ls_hard_cost', 'soft_cost': 'ls_soft_cost', 'population_init_time': 'ls_population_init_time', 'total_exec_time': 'ls_total_exec_time'}, copy=True)\n",
    "itc2007_track3_ls_copy = itc2007_track3_ls.rename(columns={'hard_cost': 'ls_hard_cost', 'soft_cost': 'ls_soft_cost', 'population_init_time': 'ls_population_init_time', 'total_exec_time': 'ls_total_exec_time'}, copy=True)\n",
    "itc2019_ls_copy = itc2019_ls.rename(columns={'hard_cost': 'ls_hard_cost', 'soft_cost': 'ls_soft_cost', 'population_init_time': 'ls_population_init_time', 'total_exec_time': 'ls_total_exec_time'}, copy=True)\n",
    "\n",
    "itc2007_track2_ils_copy = itc2007_track2_ils.rename(columns={'hard_cost': 'ils_hard_cost', 'soft_cost': 'ils_soft_cost', 'population_init_time': 'ils_population_init_time', 'total_exec_time': 'ils_total_exec_time'}, copy=True)\n",
    "itc2007_track3_ils_copy = itc2007_track3_ils.rename(columns={'hard_cost': 'ils_hard_cost', 'soft_cost': 'ils_soft_cost', 'population_init_time': 'ils_population_init_time', 'total_exec_time': 'ils_total_exec_time'}, copy=True)\n",
    "itc2019_ils_copy = itc2019_ils.rename(columns={'hard_cost': 'ils_hard_cost', 'soft_cost': 'ils_soft_cost', 'population_init_time': 'ils_population_init_time', 'total_exec_time': 'ils_total_exec_time'}, copy=True)\n",
    "\n",
    "itc2007_track2_gsga_copy = itc2007_track2_gsga.rename(columns={'hard_cost': 'gsga_hard_cost', 'soft_cost': 'gsga_soft_cost', 'population_init_time': 'gsga_population_init_time', 'total_exec_time': 'gsga_total_exec_time'}, copy=True)\n",
    "itc2007_track3_gsga_copy = itc2007_track3_gsga.rename(columns={'hard_cost': 'gsga_hard_cost', 'soft_cost': 'gsga_soft_cost', 'population_init_time': 'gsga_population_init_time', 'total_exec_time': 'gsga_total_exec_time'}, copy=True)\n",
    "itc2019_gsga_copy = itc2019_gsga.rename(columns={'hard_cost': 'gsga_hard_cost', 'soft_cost': 'gsga_soft_cost', 'population_init_time': 'gsga_population_init_time', 'total_exec_time': 'gsga_total_exec_time'}, copy=True)\n",
    "\n",
    "combined_df_itc2007_track2 = pd.merge(itc2007_track2_ls_copy, itc2007_track2_ils_copy, on='instance_name', how='outer')\n",
    "combined_df_itc2007_track2 = pd.merge(combined_df_itc2007_track2, itc2007_track2_gsga_copy, on='instance_name', how='outer')\n",
    "\n",
    "combined_df_itc2007_track3 = pd.merge(itc2007_track3_ls_copy, itc2007_track3_ils_copy, on='instance_name', how='outer')\n",
    "combined_df_itc2007_track3 = pd.merge(combined_df_itc2007_track3, itc2007_track3_gsga_copy, on='instance_name', how='outer')\n",
    "\n",
    "combined_df_itc2019 = pd.merge(itc2019_ls_copy, itc2019_ils_copy, on='instance_name', how='outer')\n",
    "combined_df_itc2019 = pd.merge(combined_df_itc2019, itc2019_gsga_copy, on='instance_name', how='outer')\n",
    "\n",
    "\n",
    "combined_df_itc2007_track2['dataset'] = 'itc2007_track2'\n",
    "combined_df_itc2007_track3['dataset'] = 'itc2007_track3'\n",
    "combined_df_itc2019['dataset'] = 'itc2019'\n",
    "\n",
    "combined_df = pd.concat([combined_df_itc2007_track2, combined_df_itc2007_track3, combined_df_itc2019])\n",
    "\n",
    "columns_to_keep = ['dataset', 'instance_name', \n",
    "                   'ls_population_init_time', 'ls_total_exec_time', 'ls_hard_cost', 'ls_soft_cost',\n",
    "                   'ils_population_init_time', 'ils_total_exec_time', 'ils_hard_cost', 'ils_soft_cost',\n",
    "                   'gsga_population_init_time', 'gsga_total_exec_time', 'gsga_hard_cost', 'gsga_soft_cost']\n",
    "\n",
    "combined_df = combined_df[columns_to_keep]\n",
    "\n",
    "combined_df.to_excel(os.path.join(assets_folder_path, \"results.xlsx\"), index=False)\n"
   ],
   "metadata": {
    "collapsed": false,
    "ExecuteTime": {
     "end_time": "2024-05-15T10:15:46.407827100Z",
     "start_time": "2024-05-15T10:15:44.898847200Z"
    }
   },
   "id": "bdf6dd73ed42ddcf"
  },
  {
   "cell_type": "code",
   "execution_count": 16,
   "outputs": [
    {
     "data": {
      "text/plain": "     instance_name         cost validator_cost\n0   comp-2007-2-17     (0, 466)            NaN\n0           comp03     (0, 545)       (0, 545)\n1           comp12    (0, 1424)      (0, 1424)\n2           comp14     (0, 363)       (0, 363)\n3           comp15     (0, 521)       (0, 521)\n4           comp18     (0, 235)       (0, 235)\n0       lums-fal17    (0, 1848)      (0, 1848)\n1       lums-spr18     (0, 853)       (0, 853)\n2    muni-fi-fal17   (0, 25996)     (0, 25996)\n3    muni-fi-spr17   (0, 21127)     (0, 21127)\n4  muni-fsps-spr17  (0, 280889)    (0, 280889)\n0   comp-2007-2-17     (0, 217)            NaN\n0           comp03     (0, 329)       (0, 329)\n1           comp12    (0, 1020)      (0, 1020)\n2           comp14     (0, 257)       (0, 257)\n3           comp15     (0, 402)       (0, 402)\n4           comp18     (0, 192)       (0, 192)\n0       lums-fal17    (0, 2388)      (0, 2388)\n1       lums-spr18    (0, 1357)      (0, 1357)\n2    muni-fi-fal17   (0, 24315)     (0, 24315)\n3    muni-fi-spr17   (0, 22509)     (0, 22509)\n4  muni-fsps-spr17  (0, 221136)    (0, 221136)\n0   comp-2007-2-17     (0, 736)            NaN\n0           comp03     (0, 968)       (0, 968)\n1           comp12    (0, 1369)      (0, 1369)\n2           comp14     (0, 430)       (0, 430)\n3           comp15     (0, 582)       (0, 582)\n4           comp18     (0, 241)       (0, 241)\n0       lums-fal17    (0, 2439)      (0, 2439)\n1       lums-spr18    (0, 1332)      (0, 1332)\n2    muni-fi-fal17   (0, 26175)     (0, 26175)\n3    muni-fi-spr17   (0, 24482)     (0, 24482)\n4  muni-fsps-spr17  (0, 234791)    (0, 234791)",
      "text/html": "<div>\n<style scoped>\n    .dataframe tbody tr th:only-of-type {\n        vertical-align: middle;\n    }\n\n    .dataframe tbody tr th {\n        vertical-align: top;\n    }\n\n    .dataframe thead th {\n        text-align: right;\n    }\n</style>\n<table border=\"1\" class=\"dataframe\">\n  <thead>\n    <tr style=\"text-align: right;\">\n      <th></th>\n      <th>instance_name</th>\n      <th>cost</th>\n      <th>validator_cost</th>\n    </tr>\n  </thead>\n  <tbody>\n    <tr>\n      <th>0</th>\n      <td>comp-2007-2-17</td>\n      <td>(0, 466)</td>\n      <td>NaN</td>\n    </tr>\n    <tr>\n      <th>0</th>\n      <td>comp03</td>\n      <td>(0, 545)</td>\n      <td>(0, 545)</td>\n    </tr>\n    <tr>\n      <th>1</th>\n      <td>comp12</td>\n      <td>(0, 1424)</td>\n      <td>(0, 1424)</td>\n    </tr>\n    <tr>\n      <th>2</th>\n      <td>comp14</td>\n      <td>(0, 363)</td>\n      <td>(0, 363)</td>\n    </tr>\n    <tr>\n      <th>3</th>\n      <td>comp15</td>\n      <td>(0, 521)</td>\n      <td>(0, 521)</td>\n    </tr>\n    <tr>\n      <th>4</th>\n      <td>comp18</td>\n      <td>(0, 235)</td>\n      <td>(0, 235)</td>\n    </tr>\n    <tr>\n      <th>0</th>\n      <td>lums-fal17</td>\n      <td>(0, 1848)</td>\n      <td>(0, 1848)</td>\n    </tr>\n    <tr>\n      <th>1</th>\n      <td>lums-spr18</td>\n      <td>(0, 853)</td>\n      <td>(0, 853)</td>\n    </tr>\n    <tr>\n      <th>2</th>\n      <td>muni-fi-fal17</td>\n      <td>(0, 25996)</td>\n      <td>(0, 25996)</td>\n    </tr>\n    <tr>\n      <th>3</th>\n      <td>muni-fi-spr17</td>\n      <td>(0, 21127)</td>\n      <td>(0, 21127)</td>\n    </tr>\n    <tr>\n      <th>4</th>\n      <td>muni-fsps-spr17</td>\n      <td>(0, 280889)</td>\n      <td>(0, 280889)</td>\n    </tr>\n    <tr>\n      <th>0</th>\n      <td>comp-2007-2-17</td>\n      <td>(0, 217)</td>\n      <td>NaN</td>\n    </tr>\n    <tr>\n      <th>0</th>\n      <td>comp03</td>\n      <td>(0, 329)</td>\n      <td>(0, 329)</td>\n    </tr>\n    <tr>\n      <th>1</th>\n      <td>comp12</td>\n      <td>(0, 1020)</td>\n      <td>(0, 1020)</td>\n    </tr>\n    <tr>\n      <th>2</th>\n      <td>comp14</td>\n      <td>(0, 257)</td>\n      <td>(0, 257)</td>\n    </tr>\n    <tr>\n      <th>3</th>\n      <td>comp15</td>\n      <td>(0, 402)</td>\n      <td>(0, 402)</td>\n    </tr>\n    <tr>\n      <th>4</th>\n      <td>comp18</td>\n      <td>(0, 192)</td>\n      <td>(0, 192)</td>\n    </tr>\n    <tr>\n      <th>0</th>\n      <td>lums-fal17</td>\n      <td>(0, 2388)</td>\n      <td>(0, 2388)</td>\n    </tr>\n    <tr>\n      <th>1</th>\n      <td>lums-spr18</td>\n      <td>(0, 1357)</td>\n      <td>(0, 1357)</td>\n    </tr>\n    <tr>\n      <th>2</th>\n      <td>muni-fi-fal17</td>\n      <td>(0, 24315)</td>\n      <td>(0, 24315)</td>\n    </tr>\n    <tr>\n      <th>3</th>\n      <td>muni-fi-spr17</td>\n      <td>(0, 22509)</td>\n      <td>(0, 22509)</td>\n    </tr>\n    <tr>\n      <th>4</th>\n      <td>muni-fsps-spr17</td>\n      <td>(0, 221136)</td>\n      <td>(0, 221136)</td>\n    </tr>\n    <tr>\n      <th>0</th>\n      <td>comp-2007-2-17</td>\n      <td>(0, 736)</td>\n      <td>NaN</td>\n    </tr>\n    <tr>\n      <th>0</th>\n      <td>comp03</td>\n      <td>(0, 968)</td>\n      <td>(0, 968)</td>\n    </tr>\n    <tr>\n      <th>1</th>\n      <td>comp12</td>\n      <td>(0, 1369)</td>\n      <td>(0, 1369)</td>\n    </tr>\n    <tr>\n      <th>2</th>\n      <td>comp14</td>\n      <td>(0, 430)</td>\n      <td>(0, 430)</td>\n    </tr>\n    <tr>\n      <th>3</th>\n      <td>comp15</td>\n      <td>(0, 582)</td>\n      <td>(0, 582)</td>\n    </tr>\n    <tr>\n      <th>4</th>\n      <td>comp18</td>\n      <td>(0, 241)</td>\n      <td>(0, 241)</td>\n    </tr>\n    <tr>\n      <th>0</th>\n      <td>lums-fal17</td>\n      <td>(0, 2439)</td>\n      <td>(0, 2439)</td>\n    </tr>\n    <tr>\n      <th>1</th>\n      <td>lums-spr18</td>\n      <td>(0, 1332)</td>\n      <td>(0, 1332)</td>\n    </tr>\n    <tr>\n      <th>2</th>\n      <td>muni-fi-fal17</td>\n      <td>(0, 26175)</td>\n      <td>(0, 26175)</td>\n    </tr>\n    <tr>\n      <th>3</th>\n      <td>muni-fi-spr17</td>\n      <td>(0, 24482)</td>\n      <td>(0, 24482)</td>\n    </tr>\n    <tr>\n      <th>4</th>\n      <td>muni-fsps-spr17</td>\n      <td>(0, 234791)</td>\n      <td>(0, 234791)</td>\n    </tr>\n  </tbody>\n</table>\n</div>"
     },
     "execution_count": 16,
     "metadata": {},
     "output_type": "execute_result"
    }
   ],
   "source": [
    "#concat all dfs\n",
    "concat_df = pd.concat([itc2007_track2_ls, itc2007_track3_ls, itc2019_ls,\n",
    "                       itc2007_track2_ils, itc2007_track3_ils, itc2019_ils,\n",
    "                       itc2007_track2_gsga, itc2007_track3_gsga, itc2019_gsga])\n",
    "\n",
    "concat_df[['instance_name','cost','validator_cost']]"
   ],
   "metadata": {
    "collapsed": false,
    "ExecuteTime": {
     "end_time": "2024-05-15T10:15:46.440304Z",
     "start_time": "2024-05-15T10:15:46.409825400Z"
    }
   },
   "id": "b854022f5483c865"
  },
  {
   "cell_type": "code",
   "execution_count": 16,
   "outputs": [],
   "source": [],
   "metadata": {
    "collapsed": false,
    "ExecuteTime": {
     "end_time": "2024-05-15T10:15:46.445317800Z",
     "start_time": "2024-05-15T10:15:46.439789200Z"
    }
   },
   "id": "c3269e50dab256a6"
  }
 ],
 "metadata": {
  "kernelspec": {
   "display_name": "Python 3",
   "language": "python",
   "name": "python3"
  },
  "language_info": {
   "codemirror_mode": {
    "name": "ipython",
    "version": 2
   },
   "file_extension": ".py",
   "mimetype": "text/x-python",
   "name": "python",
   "nbconvert_exporter": "python",
   "pygments_lexer": "ipython2",
   "version": "2.7.6"
  }
 },
 "nbformat": 4,
 "nbformat_minor": 5
}
