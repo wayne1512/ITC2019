{
 "cells": [
  {
   "cell_type": "code",
   "execution_count": 45,
   "id": "initial_id",
   "metadata": {
    "collapsed": true,
    "ExecuteTime": {
     "end_time": "2024-04-22T15:27:15.529053900Z",
     "start_time": "2024-04-22T15:27:15.168072800Z"
    }
   },
   "outputs": [],
   "source": [
    "import numpy as np\n",
    "\n",
    "a = np.load(\"D:\\Desktop\\output benchmark\\output\\initial populations_valid_20240417-172036\\itc2019\\\\agh-fis-spr17.npy\")"
   ]
  },
  {
   "cell_type": "code",
   "execution_count": 50,
   "outputs": [
    {
     "data": {
      "text/plain": "array([[  2,  98, 113, ...,   0,   0,   0],\n       [221,   9, 202, ...,   0,   0,   0],\n       [ 22,  35, 200, ...,   0,   0,   0],\n       ...,\n       [197,  39, 229, ...,   0,   0,   0],\n       [141,   8, 172, ...,   0,   0,   0],\n       [121,  10, 211, ...,   0,   0,   0]], dtype=int64)"
     },
     "execution_count": 50,
     "metadata": {},
     "output_type": "execute_result"
    }
   ],
   "source": [
    "a[:,:,1] # time indexes chosen"
   ],
   "metadata": {
    "collapsed": false,
    "ExecuteTime": {
     "end_time": "2024-04-22T15:32:33.783260900Z",
     "start_time": "2024-04-22T15:27:58.006837900Z"
    }
   },
   "id": "f893aec88eedc6a3"
  },
  {
   "cell_type": "code",
   "execution_count": 51,
   "outputs": [
    {
     "data": {
      "text/plain": "array([[ 4, -1, -1, ..., -1, -1, -1],\n       [ 4, -1, -1, ..., -1, -1, -1],\n       [ 5, -1, -1, ..., -1, -1, -1],\n       ...,\n       [ 5, -1, -1, ..., -1, -1, -1],\n       [ 5, -1, -1, ..., -1, -1, -1],\n       [ 4, -1, -1, ..., -1, -1, -1]], dtype=int64)"
     },
     "execution_count": 51,
     "metadata": {},
     "output_type": "execute_result"
    }
   ],
   "source": [
    "a[:,:,0] # room indexes chosen"
   ],
   "metadata": {
    "collapsed": false,
    "ExecuteTime": {
     "end_time": "2024-04-22T19:31:06.830874300Z",
     "start_time": "2024-04-22T15:32:39.152692100Z"
    }
   },
   "id": "d9551d62c6d3380f"
  }
 ],
 "metadata": {
  "kernelspec": {
   "display_name": "Python 3",
   "language": "python",
   "name": "python3"
  },
  "language_info": {
   "codemirror_mode": {
    "name": "ipython",
    "version": 2
   },
   "file_extension": ".py",
   "mimetype": "text/x-python",
   "name": "python",
   "nbconvert_exporter": "python",
   "pygments_lexer": "ipython2",
   "version": "2.7.6"
  }
 },
 "nbformat": 4,
 "nbformat_minor": 5
}
