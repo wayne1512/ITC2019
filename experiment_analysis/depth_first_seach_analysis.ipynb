{
 "cells": [
  {
   "cell_type": "code",
   "execution_count": null,
   "id": "initial_id",
   "metadata": {
    "collapsed": true
   },
   "outputs": [],
   "source": [
    "import os\n",
    "import pickle\n",
    "import time\n",
    "\n",
    "import numpy as np\n",
    "import pandas as pd\n",
    "from matplotlib import pyplot as plt\n",
    "from matplotlib.ticker import PercentFormatter\n",
    "\n",
    "from parse_input import parse_xml, parse_itc2007_curriculum_based, parse_itc2007_post_enrolment\n",
    "from penalty_calc import calculate_total_cost\n",
    "from solution_search import SolutionSearch\n"
   ]
  },
  {
   "cell_type": "code",
   "execution_count": null,
   "outputs": [],
   "source": [
    "output_folder_path = f'output\\\\.analysis\\\\{time.strftime(\"%Y%m%d-%H%M%S\")}'\n",
    "stats_file_path = os.path.join(output_folder_path, 'stats.txt')\n",
    "os.makedirs(output_folder_path)\n",
    "stats_file = open(stats_file_path, 'x')\n",
    "assets_folder_path= os.path.join(output_folder_path, 'assets')\n",
    "os.makedirs(assets_folder_path)\n",
    "\n",
    "itc2007_track2_path = 'D:\\\\Desktop\\\\Datasets\\\\post'\n",
    "itc2007_track3_path = 'D:\\\\Desktop\\\\Datasets\\\\curriculum'\n",
    "itc2019_path = 'D:\\\\Desktop\\\\Datasets\\\\2019'"
   ],
   "metadata": {
    "collapsed": false
   },
   "id": "2d25c8c6eef2d7a"
  },
  {
   "cell_type": "code",
   "execution_count": null,
   "outputs": [],
   "source": [
    "def get_all_files(path):\n",
    "    return [os.path.join(dirpath, file) for dirpath, _, filenames in os.walk(path) for file in filenames]"
   ],
   "metadata": {
    "collapsed": false
   },
   "id": "b0201f20438f79c3"
  },
  {
   "cell_type": "code",
   "execution_count": null,
   "outputs": [],
   "source": [
    "itc2007_track2_files = get_all_files(itc2007_track2_path)\n",
    "itc2007_track3_files = get_all_files(itc2007_track3_path)\n",
    "itc2019_files = get_all_files(itc2019_path)"
   ],
   "metadata": {
    "collapsed": false
   },
   "id": "f8d89224b34bfbd0"
  },
  {
   "cell_type": "code",
   "execution_count": null,
   "outputs": [],
   "source": [
    "def get_instance_by_dataset_and_instance_file_name(dataset, instance_file_name):\n",
    "    if dataset == 'itc2007_track2':\n",
    "        return next((file for file in itc2007_track2_files if instance_file_name in file), None)\n",
    "    elif dataset == 'itc2007_track3':\n",
    "        return next((file for file in itc2007_track3_files if instance_file_name in file), None)\n",
    "    elif dataset == 'itc2019':\n",
    "        return next((file for file in itc2019_files if instance_file_name + \".xml\" in\n",
    "                     file.split(\"\\\\\\\\\")[-1]), None)\n",
    "    else:\n",
    "        return None\n",
    "\n",
    "\n",
    "def parse_problem(dataset, instance_path):\n",
    "    if dataset == 'itc2007_track2':\n",
    "        return parse_itc2007_post_enrolment(instance_path)\n",
    "    elif dataset == 'itc2007_track3':\n",
    "        return parse_itc2007_curriculum_based(instance_path)\n",
    "    elif dataset == 'itc2019':\n",
    "        return parse_xml(instance_path)"
   ],
   "metadata": {
    "collapsed": false
   },
   "id": "3860d8ae56e87a72"
  },
  {
   "cell_type": "code",
   "execution_count": null,
   "outputs": [],
   "source": [
    "def plot_percentage_placed_over_operation(file, operation_history, class_count, title):\n",
    "    fig, ax = plt.subplots()\n",
    "    ax.set_title(title)\n",
    "\n",
    "    y = [i['current_row'] for i in operation_history]\n",
    "    y_percent = [i / class_count for i in y]\n",
    "\n",
    "    ax.set_xlabel('Operation')\n",
    "    ax.set_ylabel('Classes placed (%)')\n",
    "\n",
    "    ax.yaxis.set_major_formatter(PercentFormatter(1))\n",
    "\n",
    "    ax.plot(y_percent)\n",
    "    plt.show()\n",
    "\n",
    "    if file:\n",
    "        fig.savefig(file + '.png')"
   ],
   "metadata": {
    "collapsed": false
   },
   "id": "5c358a88b460d8cd"
  },
  {
   "cell_type": "code",
   "execution_count": null,
   "outputs": [],
   "source": [
    "def read_experiment_stats(experiment_folder):\n",
    "    analysis_df = pd.DataFrame(list(os.listdir(experiment_folder)), columns=['folder'])\n",
    "\n",
    "    analysis_df['folder path'] = analysis_df.apply(lambda x: os.path.join(experiment_folder, x.folder), axis=1)\n",
    "\n",
    "    analysis_df['experiment_details'] = analysis_df.apply(\n",
    "        lambda x: pickle.load(open(os.path.join(x['folder path'], 'experiment_details.pkl'), 'rb')), axis=1)\n",
    "\n",
    "    analysis_df['instance_name'] = analysis_df.apply(lambda x: x.experiment_details.instance_name, axis=1)\n",
    "\n",
    "    analysis_df['instance_file'] = analysis_df.apply(\n",
    "        lambda x: get_instance_by_dataset_and_instance_file_name(x.experiment_details.dataset_name,\n",
    "                                                                 x.experiment_details.instance_file_name), axis=1)\n",
    "\n",
    "    analysis_df['problem'], analysis_df['problem_stats'] = zip(\n",
    "        *analysis_df.apply(lambda x: parse_problem(x.experiment_details.dataset_name, x['instance_file']), axis=1))\n",
    "\n",
    "    if analysis_df['experiment_details'][0].experiment_data['depth_first_params'] is not None:\n",
    "\n",
    "        analysis_df['dfs_results'] = analysis_df.apply(\n",
    "        lambda x: x.experiment_details.results_data['depth_first_search_results'], axis=1)\n",
    "\n",
    "        analysis_df['dfs_success'] = analysis_df.apply(lambda x: x.dfs_results['success'], axis=1)\n",
    "\n",
    "        analysis_df['dfs_operation_count'] = analysis_df.apply(lambda x: x.dfs_results['operation_count'],\n",
    "                                                           axis=1)\n",
    "    \n",
    "        analysis_df['dfs_backtrack_count'] = analysis_df.apply(lambda x: x.dfs_results['backtrack_count'],\n",
    "                                                           axis=1)\n",
    "        \n",
    "        \n",
    "        analysis_df['dfs_time'] = analysis_df.apply(lambda x: x.dfs_results['time'],\n",
    "                                                           axis=1)\n",
    "        \n",
    "        analysis_df['dfs_operation_history'] = analysis_df.apply(\n",
    "        lambda x: x.dfs_results['operation_history'], axis=1)\n",
    "        \n",
    "        \n",
    "    if 'ac3_params' in analysis_df['experiment_details'][0].experiment_data and  analysis_df['experiment_details'][0].experiment_data['ac3_params'] is not None:\n",
    "            \n",
    "            analysis_df['ac3_results'] = analysis_df.apply(\n",
    "            lambda x: x.experiment_details.results_data['ac3_results'], axis=1)\n",
    "    \n",
    "            analysis_df['ac3_success'] = analysis_df.apply(lambda x: x.ac3_results['ac3_return_value'], axis=1)\n",
    "        \n",
    "            analysis_df['ac3_time'] = analysis_df.apply(lambda x: x.ac3_results['ac3_total_time'],\n",
    "                                                               axis=1)\n",
    "        \n",
    "            analysis_df['ac3_init_time'] = analysis_df.apply(lambda x: x.ac3_results['ac3_init_time'],\n",
    "                                                               axis=1)\n",
    "        \n",
    "            analysis_df['ac3_apply_time'] = analysis_df.apply(lambda x: x.ac3_results['ac3_apply_time'],\n",
    "                                                                   axis=1)\n",
    "        \n",
    "        \n",
    "            # must recalculate options opened before ac3 because data was incorrectly saved when running the experiments\n",
    "            \n",
    "            def count_options_opened_before_ac3(problem):\n",
    "                search = SolutionSearch(problem)\n",
    "                return np.count_nonzero(search.decision_table == 0)\n",
    "            \n",
    "            analysis_df['ac3_fixed_options_open_before_ac3'] = analysis_df.apply(lambda x:count_options_opened_before_ac3(x['problem']),\n",
    "                                                                           axis=1)      \n",
    "                  \n",
    "            analysis_df['ac3_fixed_options_closed_by_ac3'] = analysis_df['ac3_fixed_options_open_before_ac3'] - analysis_df.ac3_results.apply(lambda x: x['options_open_after_ac3'])\n",
    "\n",
    "    analysis_df['solution_gene_file'] = (\n",
    "        analysis_df.apply(lambda x:\n",
    "                          os.path.join(x['folder path'], 'solution gene after depth first search.npy') if x['dfs_success']\n",
    "                          else None, axis=1)\n",
    "    )\n",
    "\n",
    "    analysis_df['solution_gene'] = analysis_df.apply(lambda x:\n",
    "                                                     np.load(x['solution_gene_file']) if x['dfs_success']\n",
    "                                                     else None, axis=1)\n",
    "\n",
    "    analysis_df['cost'] = analysis_df.apply(lambda x:\n",
    "                                            calculate_total_cost(x['problem'], x['solution_gene']) if x['dfs_success']\n",
    "                                            else None, axis=1)\n",
    "\n",
    "    analysis_df['class_count'] = analysis_df.apply(lambda x: len(x['problem'].classes), axis=1)\n",
    "\n",
    "    _ = analysis_df.apply(\n",
    "        lambda x: plot_percentage_placed_over_operation(\n",
    "            os.path.join(x['folder path'], \"class_placed_percent_over_operation_graph\"),\n",
    "            x['dfs_operation_history'],\n",
    "            x['class_count'],\n",
    "            x['experiment_details'].name + \" \" + x['experiment_details'].dataset_name + ' - ' + x['instance_name'])\n",
    "        , axis=1\n",
    "    )\n",
    "\n",
    "    return analysis_df"
   ],
   "metadata": {
    "collapsed": false
   },
   "id": "9fcbba801d25d271"
  },
  {
   "cell_type": "code",
   "execution_count": null,
   "outputs": [],
   "source": [
    "itc07t2_dfs_res = read_experiment_stats(\"D:\\Desktop\\done tests\\Depth_first_search with 10k max operations_itc2007_track2_20240320-001401\")\n",
    "\n",
    "itc07t2_ac3_res = read_experiment_stats(\"D:\\Desktop\\done tests\\AC3 and depth_first_search with 10k max operations_itc2007_track2_20240321-171030\")"
   ],
   "metadata": {
    "collapsed": false
   },
   "id": "6c8c7c44b7c938c0"
  },
  {
   "cell_type": "code",
   "execution_count": null,
   "outputs": [],
   "source": [
    "itc07_t3_dfs_res = read_experiment_stats(\"D:\\Desktop\\done tests\\Depth_first_search with 10k max operations_itc2007_track3_20240320-003204\")\n",
    "\n",
    "itc07t3_ac3_res = read_experiment_stats(\"D:\\Desktop\\done tests\\AC3 and depth_first_search with 10k max operations_itc2007_track3_20240321-201025\")"
   ],
   "metadata": {
    "collapsed": false
   },
   "id": "9731751bd1644768"
  },
  {
   "cell_type": "code",
   "execution_count": null,
   "outputs": [],
   "source": [
    "itc19_dfs_res = read_experiment_stats(\"D:\\Desktop\\done tests\\Depth_first_search with 10k max operations_itc2019_20240320-003405\")"
   ],
   "metadata": {
    "collapsed": false
   },
   "id": "15f75bf2ff314b5d"
  },
  {
   "cell_type": "code",
   "execution_count": null,
   "outputs": [],
   "source": [
    "def count_successes(df):\n",
    "    return df['dfs_success'].sum()"
   ],
   "metadata": {
    "collapsed": false
   },
   "id": "87c6e55cdc22afc4"
  },
  {
   "cell_type": "code",
   "execution_count": null,
   "outputs": [],
   "source": [
    "stats_file.write(f\"successes for itc2007 track 2 dfs: {count_successes(itc07t2_dfs_res)} / {len(itc07t2_dfs_res)} = {(count_successes(itc07t2_dfs_res) / len(itc07t2_dfs_res)*100):.2f}%\")\n",
    "stats_file.write('\\n')\n",
    "\n",
    "stats_file.write(f\"successes for itc2007 track 2 ac3: {count_successes(itc07t2_ac3_res)} / {len(itc07t2_ac3_res)} = {(count_successes(itc07t2_ac3_res) / len(itc07t2_ac3_res)*100):.2f}%\")\n",
    "stats_file.write('\\n')\n",
    "\n",
    "stats_file.write(f\"successes for itc2007 track 3 dfs: {count_successes(itc07_t3_dfs_res)} / {len(itc07_t3_dfs_res)} = {(count_successes(itc07_t3_dfs_res) / len(itc07_t3_dfs_res)*100):.2f}%\")\n",
    "stats_file.write('\\n')\n",
    "\n",
    "stats_file.write(f\"successes for itc2007 track 3 ac3: {count_successes(itc07t3_ac3_res)} / {len(itc07t3_ac3_res)} = {(count_successes(itc07t3_ac3_res) / len(itc07t3_ac3_res)*100):.2f}%\")\n",
    "stats_file.write('\\n')\n",
    "\n",
    "stats_file.write(f\"successes for itc2019 dfs: {count_successes(itc19_dfs_res)} / {len(itc19_dfs_res)} = {(count_successes(itc19_dfs_res) / len(itc19_dfs_res)*100):.2f}%\")\n",
    "stats_file.write('\\n')\n",
    "\n",
    "print(f\"successes for itc2007 track 2 dfs: {count_successes(itc07t2_dfs_res)} / {len(itc07t2_dfs_res)} = {(count_successes(itc07t2_dfs_res) / len(itc07t2_dfs_res)*100):.2f}%\")\n",
    "print(f\"successes for itc2007 track 2 ac3: {count_successes(itc07t2_ac3_res)} / {len(itc07t2_ac3_res)} = {(count_successes(itc07t2_ac3_res) / len(itc07t2_ac3_res)*100):.2f}%\")\n",
    "\n",
    "print(f\"successes for itc2007 track 3 dfs: {count_successes(itc07_t3_dfs_res)} / {len(itc07_t3_dfs_res)} = {(count_successes(itc07_t3_dfs_res) / len(itc07_t3_dfs_res)*100):.2f}%\")\n",
    "print(f\"successes for itc2007 track 3 ac3: {count_successes(itc07t3_ac3_res)} / {len(itc07t3_ac3_res)} = {(count_successes(itc07t3_ac3_res) / len(itc07t3_ac3_res)*100):.2f}%\")\n",
    "\n",
    "print(f\"successes for itc2019 dfs: {count_successes(itc19_dfs_res)} / {len(itc19_dfs_res)} = {(count_successes(itc19_dfs_res) / len(itc19_dfs_res)*100):.2f}%\")\n",
    "\n",
    "stats_file.write('\\n')\n",
    "stats_file.write('\\n')\n",
    "stats_file.flush()"
   ],
   "metadata": {
    "collapsed": false
   },
   "id": "61956bcf9f124ef3"
  },
  {
   "cell_type": "code",
   "execution_count": null,
   "outputs": [],
   "source": [
    "it07t2_dfs_succeeded = itc07t2_dfs_res[itc07t2_dfs_res['dfs_success']]\n",
    "it07t2_ac3_succeeded = itc07t2_ac3_res[itc07t2_ac3_res['dfs_success']]\n",
    "it07t3_dfs_succeeded = itc07_t3_dfs_res[itc07_t3_dfs_res['dfs_success']]\n",
    "it07t3_ac3_succeeded = itc07t3_ac3_res[itc07t3_ac3_res['dfs_success']]\n",
    "it19_dfs_succeeded = itc19_dfs_res[itc19_dfs_res['dfs_success']]"
   ],
   "metadata": {
    "collapsed": false
   },
   "id": "a686c678648b155a"
  },
  {
   "cell_type": "code",
   "execution_count": null,
   "outputs": [],
   "source": [
    "def plot_time_taken_successful_dfs_instances(df, title, file):\n",
    "    fig, ax = plt.subplots()\n",
    "    ax.set_title(title)\n",
    "\n",
    "    bars = plt.bar(df['instance_name'], df['dfs_time'])\n",
    "    \n",
    "    #set x labels to vertical\n",
    "    plt.xticks(rotation=90)\n",
    "    \n",
    "    plt.tight_layout()\n",
    "    plt.show()\n",
    "    \n",
    "    fig.savefig(os.path.join(assets_folder_path, file + '.png'))"
   ],
   "metadata": {
    "collapsed": false
   },
   "id": "8c782e1251798fa4"
  },
  {
   "cell_type": "code",
   "execution_count": null,
   "outputs": [],
   "source": [
    "def plot_time_taken_successful_ac3_instances(df, title, file):\n",
    "    fig, ax = plt.subplots()\n",
    "    ax.set_title(title)\n",
    "\n",
    "    bars = plt.bar(df['instance_name'], df['dfs_time'],bottom=df['ac3_time'])\n",
    "    bars_ac3 = plt.bar(df['instance_name'], df['ac3_time'])\n",
    "    \n",
    "    \n",
    "    plt.legend(['ac3 time', 'dfs time'])\n",
    "    \n",
    "    #set x labels to vertical\n",
    "    plt.xticks(rotation=90)\n",
    "    \n",
    "    plt.tight_layout()\n",
    "    plt.show()\n",
    "    \n",
    "    fig.savefig(os.path.join(assets_folder_path, file + '.png'))"
   ],
   "metadata": {
    "collapsed": false
   },
   "id": "eeb62463fbd05d78"
  },
  {
   "cell_type": "code",
   "execution_count": null,
   "outputs": [],
   "source": [
    "plot_time_taken_successful_dfs_instances(it07t2_dfs_succeeded, 'Time taken for successful instances\\nin itc2007 track 2 dfs', 'itc2007_track2_dfs_time')\n",
    "\n",
    "plot_time_taken_successful_dfs_instances(it07t3_dfs_succeeded, 'Time taken for successful instances\\nin itc2007 track 3 dfs', 'itc2007_track3_dfs_time')\n",
    "\n",
    "plot_time_taken_successful_dfs_instances(it19_dfs_succeeded, 'Time taken for successful instances\\nin itc2019 dfs', 'itc2019_dfs_time')"
   ],
   "metadata": {
    "collapsed": false
   },
   "id": "9efd90c58ee9f0ee"
  },
  {
   "cell_type": "code",
   "execution_count": null,
   "outputs": [],
   "source": [
    "plot_time_taken_successful_ac3_instances( it07t2_ac3_succeeded, 'Time taken for successful instances\\nin itc2007 track 2 dfs vs ac3', 'itc2007_track2_dfs_vs_ac3_time')\n",
    "\n",
    "plot_time_taken_successful_ac3_instances( it07t3_ac3_succeeded, 'Time taken for successful instances\\nin itc2007 track 3 dfs vs ac3', 'itc2007_track3_dfs_vs_ac3_time')"
   ],
   "metadata": {
    "collapsed": false
   },
   "id": "43f4b823ba553923"
  },
  {
   "cell_type": "code",
   "execution_count": null,
   "outputs": [],
   "source": [
    "def plot_options_closed_by_ac3(df, title, file):\n",
    "    fig, ax = plt.subplots()\n",
    "    ax.set_title(title)\n",
    "\n",
    "\n",
    "    color_list = ['green' if success else 'red' for success in df['dfs_success']]\n",
    "    \n",
    "    bars = plt.bar(df['instance_name'], df['ac3_fixed_options_closed_by_ac3']/df['ac3_fixed_options_open_before_ac3']*100,color=color_list)\n",
    "    \n",
    "    #set x labels to vertical\n",
    "    plt.xticks(rotation=90)\n",
    "    \n",
    "    plt.tight_layout()\n",
    "    plt.show()\n",
    "    \n",
    "    fig.savefig(os.path.join(assets_folder_path, file + '.png'))\n",
    "\n",
    "plot_options_closed_by_ac3(itc07t2_ac3_res, '% of options closed by ac3\\nin itc2007 track 2 ac3', 'itc2007_track2_ac3_options_closed')\n",
    "\n",
    "plot_options_closed_by_ac3(itc07t3_ac3_res, '% of options closed by ac3\\nin itc2007 track 3 ac3', 'itc2007_track3_ac3_options_closed')"
   ],
   "metadata": {
    "collapsed": false
   },
   "id": "3246d1686c073228"
  },
  {
   "cell_type": "code",
   "execution_count": null,
   "outputs": [],
   "source": [
    "itc19_dfs_res"
   ],
   "metadata": {
    "collapsed": false
   },
   "id": "9e141b3e85c984f2"
  },
  {
   "cell_type": "code",
   "execution_count": null,
   "outputs": [],
   "source": [
    "stats_file"
   ],
   "metadata": {
    "collapsed": false
   },
   "id": "994790013c0c365f"
  },
  {
   "cell_type": "code",
   "execution_count": null,
   "outputs": [],
   "source": [
    "read_experiment_stats(\"D:\\Desktop\\ITC2019\\output\\Depth_first_search with 10k max operations_itc2007_track3_20240331-185204\")"
   ],
   "metadata": {
    "collapsed": false
   },
   "id": "a659eb22d90dcf82"
  }
 ],
 "metadata": {
  "kernelspec": {
   "display_name": "Python 3",
   "language": "python",
   "name": "python3"
  },
  "language_info": {
   "codemirror_mode": {
    "name": "ipython",
    "version": 2
   },
   "file_extension": ".py",
   "mimetype": "text/x-python",
   "name": "python",
   "nbconvert_exporter": "python",
   "pygments_lexer": "ipython2",
   "version": "2.7.6"
  }
 },
 "nbformat": 4,
 "nbformat_minor": 5
}
