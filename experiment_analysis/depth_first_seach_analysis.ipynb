{
 "cells": [
  {
   "cell_type": "code",
   "execution_count": 1,
   "id": "initial_id",
   "metadata": {
    "collapsed": true,
    "ExecuteTime": {
     "end_time": "2024-04-29T11:41:45.526929100Z",
     "start_time": "2024-04-29T11:41:40.503627700Z"
    }
   },
   "outputs": [],
   "source": [
    "import json\n",
    "import os\n",
    "import pickle\n",
    "import re\n",
    "import time\n",
    "\n",
    "import numpy as np\n",
    "import pandas as pd\n",
    "import yaml\n",
    "from matplotlib import pyplot as plt\n",
    "from matplotlib.ticker import PercentFormatter\n",
    "\n",
    "from parse_input import parse_xml, parse_itc2007_curriculum_based, parse_itc2007_post_enrolment\n",
    "from penalty_calc import calculate_total_cost_including_student_conflicts\n",
    "from random_student_sectioning import RandomStudentSectioning\n",
    "from solution_search import SolutionSearch\n",
    "from solution_to_xml import generate_xml, output_itc2007_cb\n"
   ]
  },
  {
   "cell_type": "code",
   "execution_count": 2,
   "outputs": [],
   "source": [
    "\n",
    "show_graphs = False\n",
    "\n",
    "output_folder_path = f'output\\\\.analysis\\\\{time.strftime(\"%Y%m%d-%H%M%S\")}'\n",
    "stats_file_path = os.path.join(output_folder_path, 'stats.txt')\n",
    "os.makedirs(output_folder_path)\n",
    "stats_file = open(stats_file_path, 'x')\n",
    "assets_folder_path = os.path.join(output_folder_path, 'assets')\n",
    "os.makedirs(assets_folder_path)\n",
    "\n",
    "itc2007_track2_path = 'D:\\\\Desktop\\\\Datasets\\\\post'\n",
    "itc2007_track3_path = 'D:\\\\Desktop\\\\Datasets\\\\curriculum'\n",
    "itc2019_path = 'D:\\\\Desktop\\\\Datasets\\\\2019'"
   ],
   "metadata": {
    "collapsed": false,
    "ExecuteTime": {
     "end_time": "2024-04-29T11:41:45.544554400Z",
     "start_time": "2024-04-29T11:41:45.528932800Z"
    }
   },
   "id": "2d25c8c6eef2d7a"
  },
  {
   "cell_type": "code",
   "execution_count": 3,
   "outputs": [],
   "source": [
    "def get_all_files(path):\n",
    "    return [os.path.join(dirpath, file) for dirpath, _, filenames in os.walk(path) for file in filenames]"
   ],
   "metadata": {
    "collapsed": false,
    "ExecuteTime": {
     "end_time": "2024-04-29T11:41:45.551326800Z",
     "start_time": "2024-04-29T11:41:45.544554400Z"
    }
   },
   "id": "b0201f20438f79c3"
  },
  {
   "cell_type": "code",
   "execution_count": 4,
   "outputs": [],
   "source": [
    "itc2007_track2_files = get_all_files(itc2007_track2_path)\n",
    "itc2007_track3_files = get_all_files(itc2007_track3_path)\n",
    "itc2019_files = get_all_files(itc2019_path)"
   ],
   "metadata": {
    "collapsed": false,
    "ExecuteTime": {
     "end_time": "2024-04-29T11:41:45.597219100Z",
     "start_time": "2024-04-29T11:41:45.552319700Z"
    }
   },
   "id": "f8d89224b34bfbd0"
  },
  {
   "cell_type": "code",
   "execution_count": 5,
   "outputs": [],
   "source": [
    "def get_instance_by_dataset_and_instance_file_name(dataset, instance_file_name):\n",
    "    if dataset == 'itc2007_track2':\n",
    "        return next((file for file in itc2007_track2_files if instance_file_name in file), None)\n",
    "    elif dataset == 'itc2007_track3':\n",
    "        return next((file for file in itc2007_track3_files if instance_file_name in file), None)\n",
    "    elif dataset == 'itc2019':\n",
    "        return next((file for file in itc2019_files if instance_file_name + \".xml\" in\n",
    "                     file.split(\"\\\\\\\\\")[-1]), None)\n",
    "    else:\n",
    "        return None\n",
    "\n",
    "\n",
    "def parse_problem(dataset, instance_path):\n",
    "    if dataset == 'itc2007_track2':\n",
    "        return parse_itc2007_post_enrolment(instance_path)\n",
    "    elif dataset == 'itc2007_track3':\n",
    "        return parse_itc2007_curriculum_based(instance_path)\n",
    "    elif dataset == 'itc2019':\n",
    "        return parse_xml(instance_path)\n",
    "\n",
    "\n",
    "def save_solution(dataset, problem, solution_gene, output_folder, raw_room_ids=None, raw_course_ids_for_classes=None,\n",
    "                  student_classes=None):\n",
    "    if dataset == 'itc2007_track2':\n",
    "        pass\n",
    "        return os.path.join(output_folder, problem.name + '_solution.xml')\n",
    "    elif dataset == 'itc2007_track3':\n",
    "        output_itc2007_cb(problem, solution_gene, raw_room_ids, raw_course_ids_for_classes,\n",
    "                          os.path.join(output_folder, problem.name + '_solution.ctt'))\n",
    "        return os.path.join(output_folder, problem.name + '_solution.ctt')\n",
    "    elif dataset == 'itc2019':\n",
    "        generate_xml(problem, solution_gene, student_classes,\n",
    "                     os.path.join(output_folder, problem.name + '_solution.xml'))\n",
    "        return os.path.join(output_folder, problem.name + '_solution.xml')"
   ],
   "metadata": {
    "collapsed": false,
    "ExecuteTime": {
     "end_time": "2024-04-29T11:41:45.605955700Z",
     "start_time": "2024-04-29T11:41:45.603429700Z"
    }
   },
   "id": "3860d8ae56e87a72"
  },
  {
   "cell_type": "code",
   "execution_count": 6,
   "outputs": [],
   "source": [
    "def plot_percentage_placed_over_operation(file, operation_history, class_count, title):\n",
    "    fig, ax = plt.subplots()\n",
    "    ax.set_title(title)\n",
    "\n",
    "    y = [i['current_row'] for i in operation_history]\n",
    "    y_percent = [i / class_count for i in y]\n",
    "\n",
    "    ax.set_xlabel('Operation')\n",
    "    ax.set_ylabel('Classes placed (%)')\n",
    "\n",
    "    ax.yaxis.set_major_formatter(PercentFormatter(1))\n",
    "\n",
    "    ax.plot(y_percent)\n",
    "    if show_graphs:\n",
    "        plt.show()\n",
    "\n",
    "    if file:\n",
    "        fig.savefig(file + '.png')\n",
    "\n",
    "    plt.close(fig)"
   ],
   "metadata": {
    "collapsed": false,
    "ExecuteTime": {
     "end_time": "2024-04-29T11:41:45.612825900Z",
     "start_time": "2024-04-29T11:41:45.609300600Z"
    }
   },
   "id": "5c358a88b460d8cd"
  },
  {
   "cell_type": "code",
   "execution_count": 7,
   "outputs": [],
   "source": [
    "def read_experiment_stats(experiment_folder):\n",
    "    analysis_df = pd.DataFrame(list(os.listdir(experiment_folder)), columns=['folder'])\n",
    "\n",
    "    analysis_df['folder path'] = analysis_df.apply(lambda x: os.path.join(experiment_folder, x.folder), axis=1)\n",
    "\n",
    "    analysis_df['experiment_details'] = analysis_df.apply(\n",
    "        lambda x: pickle.load(open(os.path.join(x['folder path'], 'experiment_details.pkl'), 'rb')), axis=1)\n",
    "\n",
    "    analysis_df['instance_name'] = analysis_df.apply(lambda x: x.experiment_details.instance_name, axis=1)\n",
    "\n",
    "    analysis_df['instance_file'] = analysis_df.apply(\n",
    "        lambda x: get_instance_by_dataset_and_instance_file_name(x.experiment_details.dataset_name,\n",
    "                                                                 x.experiment_details.instance_file_name), axis=1)\n",
    "    if analysis_df['experiment_details'][0].dataset_name == 'itc2007_track3':\n",
    "        analysis_df['problem'], analysis_df['problem_stats'], analysis_df['raw_room_ids'], analysis_df[\n",
    "            'raw_course_ids_for_classes'] = zip(\n",
    "            *analysis_df.apply(lambda x: parse_problem(x.experiment_details.dataset_name, x['instance_file']), axis=1))\n",
    "    else:\n",
    "        analysis_df['problem'], analysis_df['problem_stats'] = zip(\n",
    "            *analysis_df.apply(lambda x: parse_problem(x.experiment_details.dataset_name, x['instance_file']), axis=1))\n",
    "\n",
    "    if 'depth_first_params' in analysis_df['experiment_details'][0].experiment_data or \\\n",
    "            'mac_depth_first_params' in analysis_df['experiment_details'][0].experiment_data:\n",
    "        analysis_df['dfs_results'] = analysis_df.apply(\n",
    "            lambda x: x.experiment_details.results_data['depth_first_search_results'], axis=1)\n",
    "\n",
    "        analysis_df['dfs_success'] = analysis_df.apply(lambda x: x.dfs_results['success'], axis=1)\n",
    "\n",
    "        analysis_df['dfs_operation_count'] = analysis_df.apply(lambda x: x.dfs_results['operation_count'],\n",
    "                                                               axis=1)\n",
    "\n",
    "        analysis_df['dfs_backtrack_count'] = analysis_df.apply(lambda x: x.dfs_results['backtrack_count'],\n",
    "                                                               axis=1)\n",
    "\n",
    "        analysis_df['dfs_time'] = analysis_df.apply(lambda x: x.dfs_results['time'],\n",
    "                                                    axis=1)\n",
    "\n",
    "        analysis_df['dfs_operation_history'] = analysis_df.apply(\n",
    "            lambda x: x.dfs_results['operation_history'], axis=1)\n",
    "\n",
    "    if 'ac3_params' in analysis_df['experiment_details'][0].experiment_data and \\\n",
    "            analysis_df['experiment_details'][0].experiment_data['ac3_params'] is not None:\n",
    "        analysis_df['ac3_results'] = analysis_df.apply(\n",
    "            lambda x: x.experiment_details.results_data['ac3_results'], axis=1)\n",
    "\n",
    "        analysis_df['ac3_success'] = analysis_df.apply(lambda x: x.ac3_results['ac3_return_value'], axis=1)\n",
    "\n",
    "        analysis_df['ac3_time'] = analysis_df.apply(lambda x: x.ac3_results['ac3_total_time'],\n",
    "                                                    axis=1)\n",
    "\n",
    "        analysis_df['ac3_init_time'] = analysis_df.apply(lambda x: x.ac3_results['ac3_init_time'],\n",
    "                                                         axis=1)\n",
    "\n",
    "        analysis_df['ac3_apply_time'] = analysis_df.apply(lambda x: x.ac3_results['ac3_apply_time'],\n",
    "                                                          axis=1)\n",
    "\n",
    "        # must recalculate options opened before ac3 because data was incorrectly saved when running the experiments\n",
    "\n",
    "        def count_options_opened_before_ac3(problem):\n",
    "            search = SolutionSearch(problem)\n",
    "            return np.count_nonzero(search.decision_table == 0)\n",
    "\n",
    "        analysis_df['ac3_fixed_options_open_before_ac3'] = analysis_df.apply(\n",
    "            lambda x: count_options_opened_before_ac3(x['problem']),\n",
    "            axis=1)\n",
    "\n",
    "        analysis_df['ac3_fixed_options_closed_by_ac3'] = analysis_df[\n",
    "                                                             'ac3_fixed_options_open_before_ac3'] - analysis_df.ac3_results.apply(\n",
    "            lambda x: x['options_open_after_ac3'])\n",
    "\n",
    "    analysis_df['solution_gene_file'] = (\n",
    "        analysis_df.apply(lambda x:\n",
    "                          os.path.join(x['folder path'], 'solution gene after depth first search.npy') if x[\n",
    "                              'dfs_success']\n",
    "                          else None, axis=1)\n",
    "    )\n",
    "\n",
    "    analysis_df['solution_gene'] = analysis_df.apply(lambda x:\n",
    "                                                     np.load(x['solution_gene_file']) if x['dfs_success']\n",
    "                                                     else None, axis=1)\n",
    "\n",
    "    if analysis_df['experiment_details'][0].dataset_name == 'itc2019':\n",
    "        analysis_df['student_classes'] = analysis_df.apply(lambda x: RandomStudentSectioning(x['problem']).apply(),\n",
    "                                                           axis=1)\n",
    "\n",
    "    analysis_df['cost'] = analysis_df.apply(lambda x:\n",
    "                                            calculate_total_cost_including_student_conflicts(x['problem'],\n",
    "                                                                                             x['solution_gene'],\n",
    "                                                                                             x.get('student_classes',\n",
    "                                                                                                   {})) if x[\n",
    "                                                'dfs_success']\n",
    "                                            else None, axis=1)\n",
    "\n",
    "    analysis_df['class_count'] = analysis_df.apply(lambda x: len(x['problem'].classes), axis=1)\n",
    "\n",
    "    _ = analysis_df.apply(\n",
    "        lambda x: plot_percentage_placed_over_operation(\n",
    "            os.path.join(x['folder path'], \"class_placed_percent_over_operation_graph\"),\n",
    "            x['dfs_operation_history'],\n",
    "            x['class_count'],\n",
    "            x['experiment_details'].name + \" \" + x['experiment_details'].dataset_name + ' - ' + x['instance_name'])\n",
    "        , axis=1\n",
    "    )\n",
    "\n",
    "    analysis_df['solution_path'] = analysis_df.apply(\n",
    "        lambda x: save_solution(x['experiment_details'].dataset_name, x['problem'], x['solution_gene'],\n",
    "                                x['folder path'], x.get('raw_room_ids', None),\n",
    "                                x.get('raw_course_ids_for_classes', None), x.get('student_classes', None))\n",
    "        if x['dfs_success'] else None, axis=1)\n",
    "\n",
    "    #remove problem column\n",
    "    analysis_df.drop(columns=['problem'], inplace=True)\n",
    "\n",
    "    return analysis_df"
   ],
   "metadata": {
    "collapsed": false,
    "ExecuteTime": {
     "end_time": "2024-04-29T11:41:45.670885300Z",
     "start_time": "2024-04-29T11:41:45.612825900Z"
    }
   },
   "id": "9fcbba801d25d271"
  },
  {
   "cell_type": "code",
   "execution_count": 8,
   "outputs": [],
   "source": [
    "itc07t2_dfs_res = read_experiment_stats(\n",
    "    \"D:\\Desktop\\done tests\\Depth_first_search with 10k max operations_itc2007_track2_20240320-001401\")\n",
    "\n",
    "itc07t2_ac3_res = read_experiment_stats(\n",
    "    \"D:\\Desktop\\done tests\\AC3 and depth_first_search with 10k max operations_itc2007_track2_20240321-171030\")\n",
    "\n",
    "itc07t2_dfs_random_res = read_experiment_stats(\n",
    "    \"D:\\Desktop\\done tests\\Depth_first_search (random option) with 10k max operations_itc2007_track2_20240401-225642\")\n",
    "\n",
    "itc07t2_mac_res = read_experiment_stats(\n",
    "    \"D:\\Desktop\\done tests\\MAC Depth_first_search with 5k max operations_itc2007_track2_20240413-043034\")\n",
    "\n",
    "itc07t2_mac_random_Res = read_experiment_stats(\n",
    "    \"D:\\Desktop\\done tests\\MAC Depth_first_search (random options) with 5k max backtracks_itc2007_track2_20240413-135711\")"
   ],
   "metadata": {
    "collapsed": false,
    "ExecuteTime": {
     "end_time": "2024-04-29T11:43:26.189088800Z",
     "start_time": "2024-04-29T11:41:45.673891500Z"
    }
   },
   "id": "6c8c7c44b7c938c0"
  },
  {
   "cell_type": "code",
   "execution_count": 9,
   "outputs": [],
   "source": [
    "itc07_t3_dfs_res = read_experiment_stats(\n",
    "    \"D:\\Desktop\\done tests\\Depth_first_search with 10k max operations_itc2007_track3_20240320-003204\")\n",
    "\n",
    "itc07t3_ac3_res = read_experiment_stats(\n",
    "    \"D:\\Desktop\\done tests\\AC3 and depth_first_search with 10k max operations_itc2007_track3_20240321-201025\")\n",
    "\n",
    "itc07t3_dfs_random_res = read_experiment_stats(\n",
    "    \"D:\\Desktop\\done tests\\Depth_first_search (random option) with 10k max operations_itc2007_track3_20240402-003252\")\n",
    "\n",
    "itc07t3_mac_res = read_experiment_stats(\n",
    "    \"D:\\Desktop\\done tests\\MAC Depth_first_search with 5k max operations_itc2007_track3_20240413-093047\")\n",
    "\n",
    "itc07t3_mac_random_res = read_experiment_stats(\n",
    "    \"D:\\Desktop\\done tests\\MAC Depth_first_search (random options) with 5k max backtracks_itc2007_track3_20240414-052518\")\n"
   ],
   "metadata": {
    "collapsed": false,
    "ExecuteTime": {
     "end_time": "2024-04-29T11:44:24.204461200Z",
     "start_time": "2024-04-29T11:43:26.191087500Z"
    }
   },
   "id": "9731751bd1644768"
  },
  {
   "cell_type": "code",
   "execution_count": 10,
   "outputs": [],
   "source": [
    "itc19_dfs_res = read_experiment_stats(\n",
    "    \"D:\\Desktop\\done tests\\Depth_first_search with 10k max operations_itc2019_20240320-003405\")\n",
    "\n",
    "itc19_dfs_random_res = read_experiment_stats(\n",
    "    \"D:\\Desktop\\done tests\\Depth_first_search (random option) with 10k max operations_itc2019_20240402-004018\")"
   ],
   "metadata": {
    "collapsed": false,
    "ExecuteTime": {
     "end_time": "2024-04-29T11:52:31.832436400Z",
     "start_time": "2024-04-29T11:44:24.205461700Z"
    }
   },
   "id": "15f75bf2ff314b5d"
  },
  {
   "cell_type": "code",
   "execution_count": 11,
   "outputs": [],
   "source": [
    "def count_successes(df):\n",
    "    return df['dfs_success'].sum()"
   ],
   "metadata": {
    "collapsed": false,
    "ExecuteTime": {
     "end_time": "2024-04-29T11:52:31.903158500Z",
     "start_time": "2024-04-29T11:52:31.897436200Z"
    }
   },
   "id": "87c6e55cdc22afc4"
  },
  {
   "cell_type": "code",
   "execution_count": 12,
   "outputs": [
    {
     "name": "stdout",
     "output_type": "stream",
     "text": [
      "successes for itc2007 track 2 dfs: 1 / 24 = 4.17%\n",
      "successes for itc2007 track 2 ac3: 1 / 24 = 4.17%\n",
      "successes for itc2007 track 2 dfs random: 4 / 120 = 3.33%\n",
      "successes for itc2007 track 2 mac: 1 / 24 = 4.17%\n",
      "successes for itc2007 track 2 mac random: 3 / 120 = 2.50%\n",
      "successes for itc2007 track 3 dfs: 18 / 21 = 85.71%\n",
      "successes for itc2007 track 3 ac3: 18 / 21 = 85.71%\n",
      "successes for itc2007 track 3 dfs random: 95 / 105 = 90.48%\n",
      "successes for itc2007 track 3 mac: 18 / 21 = 85.71%\n",
      "successes for itc2007 track 3 mac random: 99 / 105 = 94.29%\n",
      "successes for itc2019 dfs: 12 / 30 = 40.00%\n",
      "successes for itc2019 dfs random: 58 / 150 = 38.67%\n",
      "\n"
     ]
    }
   ],
   "source": [
    "stats_file.write(\n",
    "    f\"successes for itc2007 track 2 dfs: {count_successes(itc07t2_dfs_res)} / {len(itc07t2_dfs_res)} = {(count_successes(itc07t2_dfs_res) / len(itc07t2_dfs_res) * 100):.2f}%\")\n",
    "stats_file.write('\\n')\n",
    "\n",
    "stats_file.write(\n",
    "    f\"successes for itc2007 track 2 ac3: {count_successes(itc07t2_ac3_res)} / {len(itc07t2_ac3_res)} = {(count_successes(itc07t2_ac3_res) / len(itc07t2_ac3_res) * 100):.2f}%\")\n",
    "stats_file.write('\\n')\n",
    "\n",
    "stats_file.write(\n",
    "    f\"successes for itc2007 track 2 dfs random: {count_successes(itc07t2_dfs_random_res)} / {len(itc07t2_dfs_random_res)} = {(count_successes(itc07t2_dfs_random_res) / len(itc07t2_dfs_random_res) * 100):.2f}%\")\n",
    "stats_file.write('\\n')\n",
    "\n",
    "stats_file.write(\n",
    "    f\"successes for itc2007 track 2 mac: {count_successes(itc07t2_mac_res)} / {len(itc07t2_mac_res)} = {(count_successes(itc07t2_mac_res) / len(itc07t2_mac_res) * 100):.2f}%\")\n",
    "stats_file.write('\\n')\n",
    "\n",
    "stats_file.write(\n",
    "    f\"successes for itc2007 track 2 mac random: {count_successes(itc07t2_mac_random_Res)} / {len(itc07t2_mac_random_Res)} = {(count_successes(itc07t2_mac_random_Res) / len(itc07t2_mac_random_Res) * 100):.2f}%\")\n",
    "stats_file.write('\\n')\n",
    "\n",
    "stats_file.write(\n",
    "    f\"successes for itc2007 track 3 dfs: {count_successes(itc07_t3_dfs_res)} / {len(itc07_t3_dfs_res)} = {(count_successes(itc07_t3_dfs_res) / len(itc07_t3_dfs_res) * 100):.2f}%\")\n",
    "stats_file.write('\\n')\n",
    "\n",
    "stats_file.write(\n",
    "    f\"successes for itc2007 track 3 ac3: {count_successes(itc07t3_ac3_res)} / {len(itc07t3_ac3_res)} = {(count_successes(itc07t3_ac3_res) / len(itc07t3_ac3_res) * 100):.2f}%\")\n",
    "stats_file.write('\\n')\n",
    "\n",
    "stats_file.write(\n",
    "    f\"successes for itc2007 track 3 dfs random: {count_successes(itc07t3_dfs_random_res)} / {len(itc07t3_dfs_random_res)} = {(count_successes(itc07t3_dfs_random_res) / len(itc07t3_dfs_random_res) * 100):.2f}%\")\n",
    "stats_file.write('\\n')\n",
    "\n",
    "stats_file.write(\n",
    "    f\"successes for itc2007 track 3 mac: {count_successes(itc07t3_mac_res)} / {len(itc07t3_mac_res)} = {(count_successes(itc07t3_mac_res) / len(itc07t3_mac_res) * 100):.2f}%\")\n",
    "stats_file.write('\\n')\n",
    "\n",
    "stats_file.write(\n",
    "    f\"successes for itc2007 track 3 mac random: {count_successes(itc07t3_mac_random_res)} / {len(itc07t3_mac_random_res)} = {(count_successes(itc07t3_mac_random_res) / len(itc07t3_mac_random_res) * 100):.2f}%\")\n",
    "stats_file.write('\\n')\n",
    "\n",
    "stats_file.write(\n",
    "    f\"successes for itc2019 dfs: {count_successes(itc19_dfs_res)} / {len(itc19_dfs_res)} = {(count_successes(itc19_dfs_res) / len(itc19_dfs_res) * 100):.2f}%\")\n",
    "stats_file.write('\\n')\n",
    "\n",
    "stats_file.write(\n",
    "    f\"successes for itc2019 dfs random: {count_successes(itc19_dfs_random_res)} / {len(itc19_dfs_random_res)} = {(count_successes(itc19_dfs_random_res) / len(itc19_dfs_random_res) * 100):.2f}%\")\n",
    "stats_file.write('\\n')\n",
    "\n",
    "stats_file.write('\\n')\n",
    "stats_file.write('\\n')\n",
    "stats_file.flush()\n",
    "stats_file.close()\n",
    "\n",
    "with open(stats_file_path, 'r') as f:\n",
    "    print(f.read())"
   ],
   "metadata": {
    "collapsed": false,
    "ExecuteTime": {
     "end_time": "2024-04-29T11:52:32.092813300Z",
     "start_time": "2024-04-29T11:52:31.903158500Z"
    }
   },
   "id": "61956bcf9f124ef3"
  },
  {
   "cell_type": "code",
   "execution_count": 13,
   "outputs": [],
   "source": [
    "it07t2_dfs_succeeded = itc07t2_dfs_res.loc[itc07t2_dfs_res['dfs_success']]\n",
    "it07t2_ac3_succeeded = itc07t2_ac3_res.loc[itc07t2_ac3_res['dfs_success']]\n",
    "it07t2_mac_succeeded = itc07t2_mac_res.loc[itc07t2_mac_res['dfs_success']]\n",
    "it07t3_dfs_succeeded = itc07_t3_dfs_res.loc[itc07_t3_dfs_res['dfs_success']]\n",
    "it07t3_ac3_succeeded = itc07t3_ac3_res.loc[itc07t3_ac3_res['dfs_success']]\n",
    "it07t3_mac_succeeded = itc07t3_mac_res.loc[itc07t3_mac_res['dfs_success']]\n",
    "it19_dfs_succeeded = itc19_dfs_res.loc[itc19_dfs_res['dfs_success']]"
   ],
   "metadata": {
    "collapsed": false,
    "ExecuteTime": {
     "end_time": "2024-04-29T11:52:32.160781100Z",
     "start_time": "2024-04-29T11:52:32.102811900Z"
    }
   },
   "id": "a686c678648b155a"
  },
  {
   "cell_type": "code",
   "execution_count": 14,
   "outputs": [],
   "source": [
    "def plot_time_taken_successful_dfs_instances(df, title, file):\n",
    "    fig, ax = plt.subplots()\n",
    "    ax.set_title(title)\n",
    "\n",
    "    bars = plt.bar(df['instance_name'], df['dfs_time'])\n",
    "\n",
    "    #set x labels to vertical\n",
    "    plt.xticks(rotation=90)\n",
    "\n",
    "    plt.tight_layout()\n",
    "    if show_graphs:\n",
    "        plt.show()\n",
    "\n",
    "    fig.savefig(os.path.join(assets_folder_path, file + '.png'))\n",
    "\n",
    "    plt.close(fig)"
   ],
   "metadata": {
    "collapsed": false,
    "ExecuteTime": {
     "end_time": "2024-04-29T11:52:32.366174900Z",
     "start_time": "2024-04-29T11:52:32.218175Z"
    }
   },
   "id": "8c782e1251798fa4"
  },
  {
   "cell_type": "code",
   "execution_count": 15,
   "outputs": [],
   "source": [
    "def plot_time_taken_successful_mac_instances(df, title, file):\n",
    "    fig, ax = plt.subplots()\n",
    "    ax.set_title(title)\n",
    "\n",
    "    bars = plt.bar(df['instance_name'], df['dfs_time'])\n",
    "\n",
    "    #set x labels to vertical\n",
    "    plt.xticks(rotation=90)\n",
    "\n",
    "    plt.tight_layout()\n",
    "    if show_graphs:\n",
    "        plt.show()\n",
    "\n",
    "    fig.savefig(os.path.join(assets_folder_path, file + '.png'))\n",
    "\n",
    "    plt.close(fig)"
   ],
   "metadata": {
    "collapsed": false,
    "ExecuteTime": {
     "end_time": "2024-04-29T11:52:32.368176100Z",
     "start_time": "2024-04-29T11:52:32.220176700Z"
    }
   },
   "id": "dc62a9bc2c58ecfa"
  },
  {
   "cell_type": "code",
   "execution_count": 16,
   "outputs": [],
   "source": [
    "def plot_time_taken_successful_ac3_instances(df, title, file):\n",
    "    fig, ax = plt.subplots()\n",
    "    ax.set_title(title)\n",
    "\n",
    "    bars = plt.bar(df['instance_name'], df['dfs_time'], bottom=df['ac3_time'])\n",
    "    bars_ac3 = plt.bar(df['instance_name'], df['ac3_time'])\n",
    "\n",
    "    plt.legend(['ac3 time', 'dfs time'])\n",
    "\n",
    "    #set x labels to vertical\n",
    "    plt.xticks(rotation=90)\n",
    "\n",
    "    plt.tight_layout()\n",
    "    if show_graphs:\n",
    "        plt.show()\n",
    "\n",
    "    fig.savefig(os.path.join(assets_folder_path, file + '.png'))\n",
    "\n",
    "    plt.close(fig)"
   ],
   "metadata": {
    "collapsed": false,
    "ExecuteTime": {
     "end_time": "2024-04-29T11:52:32.368176100Z",
     "start_time": "2024-04-29T11:52:32.250176600Z"
    }
   },
   "id": "eeb62463fbd05d78"
  },
  {
   "cell_type": "code",
   "execution_count": 17,
   "outputs": [],
   "source": [
    "plot_time_taken_successful_dfs_instances(it07t2_dfs_succeeded,\n",
    "                                         'Time taken for successful instances\\nin itc2007 track 2 dfs',\n",
    "                                         'itc2007_track2_dfs_time')\n",
    "\n",
    "plot_time_taken_successful_dfs_instances(it07t3_dfs_succeeded,\n",
    "                                         'Time taken for successful instances\\nin itc2007 track 3 dfs',\n",
    "                                         'itc2007_track3_dfs_time')\n",
    "\n",
    "plot_time_taken_successful_dfs_instances(it19_dfs_succeeded, 'Time taken for successful instances\\nin itc2019 dfs',\n",
    "                                         'itc2019_dfs_time')"
   ],
   "metadata": {
    "collapsed": false,
    "ExecuteTime": {
     "end_time": "2024-04-29T11:52:32.848345800Z",
     "start_time": "2024-04-29T11:52:32.252174800Z"
    }
   },
   "id": "9efd90c58ee9f0ee"
  },
  {
   "cell_type": "code",
   "execution_count": 18,
   "outputs": [],
   "source": [
    "plot_time_taken_successful_ac3_instances(it07t2_ac3_succeeded,\n",
    "                                         'Time taken for successful instances\\nin itc2007 track 2 dfs vs ac3',\n",
    "                                         'itc2007_track2_dfs_vs_ac3_time')\n",
    "\n",
    "plot_time_taken_successful_ac3_instances(it07t3_ac3_succeeded,\n",
    "                                         'Time taken for successful instances\\nin itc2007 track 3 dfs vs ac3',\n",
    "                                         'itc2007_track3_dfs_vs_ac3_time')"
   ],
   "metadata": {
    "collapsed": false,
    "ExecuteTime": {
     "end_time": "2024-04-29T11:52:33.207219700Z",
     "start_time": "2024-04-29T11:52:32.849345300Z"
    }
   },
   "id": "43f4b823ba553923"
  },
  {
   "cell_type": "code",
   "execution_count": 19,
   "outputs": [],
   "source": [
    "plot_time_taken_successful_mac_instances(it07t2_mac_succeeded,\n",
    "                                         'Time taken for successful instances\\nin itc2007 track 2 mac',\n",
    "                                         'itc2007_track2_mac_time')\n",
    "\n",
    "plot_time_taken_successful_mac_instances(it07t3_mac_succeeded,\n",
    "                                            'Time taken for successful instances\\nin itc2007 track 3 mac',\n",
    "                                            'itc2007_track3_mac_time')"
   ],
   "metadata": {
    "collapsed": false,
    "ExecuteTime": {
     "end_time": "2024-04-29T11:52:33.459251600Z",
     "start_time": "2024-04-29T11:52:33.209220700Z"
    }
   },
   "id": "bfd3af6e0d95fc2b"
  },
  {
   "cell_type": "code",
   "execution_count": 20,
   "outputs": [],
   "source": [
    "def plot_options_closed_by_ac3(df, title, file):\n",
    "    fig, ax = plt.subplots()\n",
    "    ax.set_title(title)\n",
    "\n",
    "    color_list = ['green' if success else 'red' for success in df['dfs_success']]\n",
    "\n",
    "    bars = plt.bar(df['instance_name'],\n",
    "                   df['ac3_fixed_options_closed_by_ac3'] / df['ac3_fixed_options_open_before_ac3'] * 100,\n",
    "                   color=color_list)\n",
    "\n",
    "    #set x labels to vertical\n",
    "    plt.xticks(rotation=90)\n",
    "\n",
    "    plt.tight_layout()\n",
    "    if show_graphs:\n",
    "        plt.show()\n",
    "\n",
    "    fig.savefig(os.path.join(assets_folder_path, file + '.png'))\n",
    "\n",
    "    plt.close(fig)\n",
    "\n",
    "\n",
    "plot_options_closed_by_ac3(itc07t2_ac3_res, '% of options closed by ac3\\nin itc2007 track 2 ac3',\n",
    "                           'itc2007_track2_ac3_options_closed')\n",
    "\n",
    "plot_options_closed_by_ac3(itc07t3_ac3_res, '% of options closed by ac3\\nin itc2007 track 3 ac3',\n",
    "                           'itc2007_track3_ac3_options_closed')\n"
   ],
   "metadata": {
    "collapsed": false,
    "ExecuteTime": {
     "end_time": "2024-04-29T11:52:34.625576600Z",
     "start_time": "2024-04-29T11:52:33.463250700Z"
    }
   },
   "id": "3246d1686c073228"
  },
  {
   "cell_type": "code",
   "execution_count": 21,
   "outputs": [
    {
     "data": {
      "text/plain": "              folder                                        folder path  \\\n0          agh-fal17  D:\\Desktop\\done tests\\Depth_first_search with ...   \n1      agh-fis-spr17  D:\\Desktop\\done tests\\Depth_first_search with ...   \n2     agh-ggis-spr17  D:\\Desktop\\done tests\\Depth_first_search with ...   \n3     agh-ggos-spr17  D:\\Desktop\\done tests\\Depth_first_search with ...   \n4        agh-h-spr17  D:\\Desktop\\done tests\\Depth_first_search with ...   \n5          bet-fal17  D:\\Desktop\\done tests\\Depth_first_search with ...   \n6          bet-spr18  D:\\Desktop\\done tests\\Depth_first_search with ...   \n7          iku-fal17  D:\\Desktop\\done tests\\Depth_first_search with ...   \n8          iku-spr18  D:\\Desktop\\done tests\\Depth_first_search with ...   \n9         lums-fal17  D:\\Desktop\\done tests\\Depth_first_search with ...   \n10        lums-spr18  D:\\Desktop\\done tests\\Depth_first_search with ...   \n11        mary-fal18  D:\\Desktop\\done tests\\Depth_first_search with ...   \n12        mary-spr17  D:\\Desktop\\done tests\\Depth_first_search with ...   \n13     muni-fi-fal17  D:\\Desktop\\done tests\\Depth_first_search with ...   \n14     muni-fi-spr16  D:\\Desktop\\done tests\\Depth_first_search with ...   \n15     muni-fi-spr17  D:\\Desktop\\done tests\\Depth_first_search with ...   \n16   muni-fsps-spr17  D:\\Desktop\\done tests\\Depth_first_search with ...   \n17  muni-fsps-spr17c  D:\\Desktop\\done tests\\Depth_first_search with ...   \n18  muni-fspsx-fal17  D:\\Desktop\\done tests\\Depth_first_search with ...   \n19    muni-pdf-spr16  D:\\Desktop\\done tests\\Depth_first_search with ...   \n20   muni-pdf-spr16c  D:\\Desktop\\done tests\\Depth_first_search with ...   \n21   muni-pdfx-fal17  D:\\Desktop\\done tests\\Depth_first_search with ...   \n22         nbi-spr18  D:\\Desktop\\done tests\\Depth_first_search with ...   \n23       pu-d5-spr17  D:\\Desktop\\done tests\\Depth_first_search with ...   \n24       pu-d9-fal19  D:\\Desktop\\done tests\\Depth_first_search with ...   \n25      pu-llr-spr17  D:\\Desktop\\done tests\\Depth_first_search with ...   \n26     pu-proj-fal19  D:\\Desktop\\done tests\\Depth_first_search with ...   \n27          tg-fal17  D:\\Desktop\\done tests\\Depth_first_search with ...   \n28          tg-spr18  D:\\Desktop\\done tests\\Depth_first_search with ...   \n29        yach-fal17  D:\\Desktop\\done tests\\Depth_first_search with ...   \n\n                                   experiment_details     instance_name  \\\n0   <experiment_details.ExperimentDetails object a...         agh-fal17   \n1   <experiment_details.ExperimentDetails object a...     agh-fis-spr17   \n2   <experiment_details.ExperimentDetails object a...    agh-ggis-spr17   \n3   <experiment_details.ExperimentDetails object a...    agh-ggos-spr17   \n4   <experiment_details.ExperimentDetails object a...       agh-h-spr17   \n5   <experiment_details.ExperimentDetails object a...         bet-fal17   \n6   <experiment_details.ExperimentDetails object a...         bet-spr18   \n7   <experiment_details.ExperimentDetails object a...         iku-fal17   \n8   <experiment_details.ExperimentDetails object a...         iku-spr18   \n9   <experiment_details.ExperimentDetails object a...        lums-fal17   \n10  <experiment_details.ExperimentDetails object a...        lums-spr18   \n11  <experiment_details.ExperimentDetails object a...        mary-fal18   \n12  <experiment_details.ExperimentDetails object a...        mary-spr17   \n13  <experiment_details.ExperimentDetails object a...     muni-fi-fal17   \n14  <experiment_details.ExperimentDetails object a...     muni-fi-spr16   \n15  <experiment_details.ExperimentDetails object a...     muni-fi-spr17   \n16  <experiment_details.ExperimentDetails object a...   muni-fsps-spr17   \n17  <experiment_details.ExperimentDetails object a...  muni-fsps-spr17c   \n18  <experiment_details.ExperimentDetails object a...  muni-fspsx-fal17   \n19  <experiment_details.ExperimentDetails object a...    muni-pdf-spr16   \n20  <experiment_details.ExperimentDetails object a...   muni-pdf-spr16c   \n21  <experiment_details.ExperimentDetails object a...   muni-pdfx-fal17   \n22  <experiment_details.ExperimentDetails object a...         nbi-spr18   \n23  <experiment_details.ExperimentDetails object a...       pu-d5-spr17   \n24  <experiment_details.ExperimentDetails object a...       pu-d9-fal19   \n25  <experiment_details.ExperimentDetails object a...      pu-llr-spr17   \n26  <experiment_details.ExperimentDetails object a...     pu-proj-fal19   \n27  <experiment_details.ExperimentDetails object a...          tg-fal17   \n28  <experiment_details.ExperimentDetails object a...          tg-spr18   \n29  <experiment_details.ExperimentDetails object a...        yach-fal17   \n\n                                        instance_file  \\\n0       D:\\Desktop\\Datasets\\2019\\3.late\\agh-fal17.xml   \n1   D:\\Desktop\\Datasets\\2019\\1.early\\agh-fis-spr17...   \n2   D:\\Desktop\\Datasets\\2019\\1.early\\agh-ggis-spr1...   \n3   D:\\Desktop\\Datasets\\2019\\2.middle\\agh-ggos-spr...   \n4   D:\\Desktop\\Datasets\\2019\\2.middle\\agh-h-spr17.xml   \n5      D:\\Desktop\\Datasets\\2019\\1.early\\bet-fal17.xml   \n6       D:\\Desktop\\Datasets\\2019\\3.late\\bet-spr18.xml   \n7      D:\\Desktop\\Datasets\\2019\\1.early\\iku-fal17.xml   \n8       D:\\Desktop\\Datasets\\2019\\3.late\\iku-spr18.xml   \n9      D:\\Desktop\\Datasets\\2019\\3.late\\lums-fal17.xml   \n10   D:\\Desktop\\Datasets\\2019\\2.middle\\lums-spr18.xml   \n11     D:\\Desktop\\Datasets\\2019\\3.late\\mary-fal18.xml   \n12    D:\\Desktop\\Datasets\\2019\\1.early\\mary-spr17.xml   \n13  D:\\Desktop\\Datasets\\2019\\3.late\\muni-fi-fal17.xml   \n14  D:\\Desktop\\Datasets\\2019\\1.early\\muni-fi-spr16...   \n15  D:\\Desktop\\Datasets\\2019\\2.middle\\muni-fi-spr1...   \n16  D:\\Desktop\\Datasets\\2019\\1.early\\muni-fsps-spr...   \n17  D:\\Desktop\\Datasets\\2019\\2.middle\\muni-fsps-sp...   \n18  D:\\Desktop\\Datasets\\2019\\3.late\\muni-fspsx-fal...   \n19  D:\\Desktop\\Datasets\\2019\\2.middle\\muni-pdf-spr...   \n20  D:\\Desktop\\Datasets\\2019\\1.early\\muni-pdf-spr1...   \n21  D:\\Desktop\\Datasets\\2019\\3.late\\muni-pdfx-fal1...   \n22    D:\\Desktop\\Datasets\\2019\\2.middle\\nbi-spr18.xml   \n23  D:\\Desktop\\Datasets\\2019\\2.middle\\pu-d5-spr17.xml   \n24    D:\\Desktop\\Datasets\\2019\\3.late\\pu-d9-fal19.xml   \n25  D:\\Desktop\\Datasets\\2019\\1.early\\pu-llr-spr17.xml   \n26  D:\\Desktop\\Datasets\\2019\\2.middle\\pu-proj-fal1...   \n27      D:\\Desktop\\Datasets\\2019\\1.early\\tg-fal17.xml   \n28       D:\\Desktop\\Datasets\\2019\\3.late\\tg-spr18.xml   \n29   D:\\Desktop\\Datasets\\2019\\2.middle\\yach-fal17.xml   \n\n                                        problem_stats  \\\n0   {'name': 'agh-fal17', 'student_count': 6925, '...   \n1   {'name': 'agh-fis-spr17', 'student_count': 164...   \n2   {'name': 'agh-ggis-spr17', 'student_count': 21...   \n3   {'name': 'agh-ggos-spr17', 'student_count': 22...   \n4   {'name': 'agh-h-spr17', 'student_count': 1988,...   \n5   {'name': 'bet-fal17', 'student_count': 3018, '...   \n6   {'name': 'bet-spr18', 'student_count': 2921, '...   \n7   {'name': 'iku-fal17', 'student_count': 0, 'avg...   \n8   {'name': 'iku-spr18', 'student_count': 0, 'avg...   \n9   {'name': 'lums-fal17', 'student_count': 0, 'av...   \n10  {'name': 'lums-spr18', 'student_count': 0, 'av...   \n11  {'name': 'mary-fal18', 'student_count': 5051, ...   \n12  {'name': 'mary-spr17', 'student_count': 3666, ...   \n13  {'name': 'muni-fi-fal17', 'student_count': 168...   \n14  {'name': 'muni-fi-spr16', 'student_count': 154...   \n15  {'name': 'muni-fi-spr17', 'student_count': 146...   \n16  {'name': 'muni-fsps-spr17', 'student_count': 8...   \n17  {'name': 'muni-fsps-spr17c', 'student_count': ...   \n18  {'name': 'muni-fspsx-fal17', 'student_count': ...   \n19  {'name': 'muni-pdf-spr16', 'student_count': 34...   \n20  {'name': 'muni-pdf-spr16c', 'student_count': 2...   \n21  {'name': 'muni-pdfx-fal17', 'student_count': 5...   \n22  {'name': 'nbi-spr18', 'student_count': 2293, '...   \n23  {'name': 'pu-d5-spr17', 'student_count': 13497...   \n24  {'name': 'pu-d9-fal19', 'student_count': 35213...   \n25  {'name': 'pu-llr-spr17', 'student_count': 2701...   \n26  {'name': 'pu-proj-fal19', 'student_count': 384...   \n27  {'name': 'tg-fal17', 'student_count': 0, 'avg_...   \n28  {'name': 'tg-spr18', 'student_count': 0, 'avg_...   \n29  {'name': 'yach-fal17', 'student_count': 821, '...   \n\n                                          dfs_results  dfs_success  \\\n0   {'success': False, 'operation_count': 10000, '...        False   \n1   {'success': True, 'operation_count': 1403, 'ba...         True   \n2   {'success': False, 'operation_count': 10000, '...        False   \n3   {'success': False, 'operation_count': 10000, '...        False   \n4   {'success': False, 'operation_count': 10000, '...        False   \n5   {'success': True, 'operation_count': 7569, 'ba...         True   \n6   {'success': False, 'operation_count': 10000, '...        False   \n7   {'success': False, 'operation_count': 10000, '...        False   \n8   {'success': False, 'operation_count': 10000, '...        False   \n9   {'success': True, 'operation_count': 502, 'bac...         True   \n10  {'success': True, 'operation_count': 507, 'bac...         True   \n11  {'success': True, 'operation_count': 957, 'bac...         True   \n12  {'success': True, 'operation_count': 898, 'bac...         True   \n13  {'success': True, 'operation_count': 553, 'bac...         True   \n14  {'success': True, 'operation_count': 629, 'bac...         True   \n15  {'success': True, 'operation_count': 560, 'bac...         True   \n16  {'success': True, 'operation_count': 607, 'bac...         True   \n17  {'success': False, 'operation_count': 10000, '...        False   \n18  {'success': False, 'operation_count': 10000, '...        False   \n19  {'success': True, 'operation_count': 1679, 'ba...         True   \n20  {'success': False, 'operation_count': 10000, '...        False   \n21  {'success': False, 'operation_count': 10000, '...        False   \n22  {'success': True, 'operation_count': 790, 'bac...         True   \n23  {'success': False, 'operation_count': 10000, '...        False   \n24  {'success': False, 'operation_count': 10000, '...        False   \n25  {'success': False, 'operation_count': 10000, '...        False   \n26  {'success': False, 'operation_count': 10000, '...        False   \n27  {'success': False, 'operation_count': 10000, '...        False   \n28  {'success': False, 'operation_count': 10000, '...        False   \n29  {'success': False, 'operation_count': 10000, '...        False   \n\n    dfs_operation_count  dfs_backtrack_count     dfs_time  \\\n0                 10000                 4711  3150.146189   \n1                  1403                   82   568.491562   \n2                 10000                 4788   237.673114   \n3                 10000                 4761  1011.313490   \n4                 10000                 4945  1813.728514   \n5                  7569                 3293   333.179137   \n6                 10000                 4910   207.215608   \n7                 10000                 4388  1189.769057   \n8                 10000                 4464  1532.251770   \n9                   502                    0    16.667898   \n10                  507                   10    16.425936   \n11                  957                    3    12.142718   \n12                  898                    8    11.296227   \n13                  553                    9     5.451082   \n14                  629                   27     3.125370   \n15                  560                   22     5.893289   \n16                  607                   23     2.254887   \n17                10000                 4754   539.184501   \n18                10000                 4727   562.742017   \n19                 1679                   82    81.134940   \n20                10000                 4359  1283.096838   \n21                10000                 4495  2585.012778   \n22                  790                    4     8.211331   \n23                10000                 4872    42.615087   \n24                10000                 4387   423.300535   \n25                10000                 4759   117.415457   \n26                10000                 3180  4080.501578   \n27                10000                 4820   176.304364   \n28                10000                 4932   382.535847   \n29                10000                 4947    94.426362   \n\n                                dfs_operation_history  \\\n0   [{'current_row': 1, 'time': 0.5409755706787109...   \n1   [{'current_row': 1, 'time': 0.506655216217041}...   \n2   [{'current_row': 1, 'time': 0.0379271507263183...   \n3   [{'current_row': 1, 'time': 0.1105084419250488...   \n4   [{'current_row': 1, 'time': 0.175018310546875}...   \n5   [{'current_row': 1, 'time': 0.0280003547668457...   \n6   [{'current_row': 1, 'time': 0.0299990177154541...   \n7   [{'current_row': 1, 'time': 0.1750149726867675...   \n8   [{'current_row': 1, 'time': 0.2000176906585693...   \n9   [{'current_row': 1, 'time': 0.0975069999694824...   \n10  [{'current_row': 1, 'time': 0.0930063724517822...   \n11  [{'current_row': 1, 'time': 0.0149998664855957...   \n12  [{'current_row': 1, 'time': 0.0129997730255126...   \n13  [{'current_row': 1, 'time': 0.0050010681152343...   \n14  [{'current_row': 1, 'time': 0.0080003738403320...   \n15  [{'current_row': 1, 'time': 0.0095059871673583...   \n16  [{'current_row': 1, 'time': 0.0079998970031738...   \n17  [{'current_row': 1, 'time': 0.0259995460510253...   \n18  [{'current_row': 1, 'time': 0.0295085906982421...   \n19  [{'current_row': 1, 'time': 0.0784432888031005...   \n20  [{'current_row': 1, 'time': 0.2260193824768066...   \n21  [{'current_row': 1, 'time': 0.5020473003387451...   \n22  [{'current_row': 1, 'time': 0.0205049514770507...   \n23  [{'current_row': 1, 'time': 0.0090003013610839...   \n24  [{'current_row': 1, 'time': 0.0815076828002929...   \n25  [{'current_row': 1, 'time': 0.0215165615081787...   \n26  [{'current_row': 1, 'time': 0.6246433258056641...   \n27  [{'current_row': 1, 'time': 0.0975084304809570...   \n28  [{'current_row': 1, 'time': 0.0645086765289306...   \n29  [{'current_row': 1, 'time': 0.0150034427642822...   \n\n                                   solution_gene_file  \\\n0                                                None   \n1   D:\\Desktop\\done tests\\Depth_first_search with ...   \n2                                                None   \n3                                                None   \n4                                                None   \n5   D:\\Desktop\\done tests\\Depth_first_search with ...   \n6                                                None   \n7                                                None   \n8                                                None   \n9   D:\\Desktop\\done tests\\Depth_first_search with ...   \n10  D:\\Desktop\\done tests\\Depth_first_search with ...   \n11  D:\\Desktop\\done tests\\Depth_first_search with ...   \n12  D:\\Desktop\\done tests\\Depth_first_search with ...   \n13  D:\\Desktop\\done tests\\Depth_first_search with ...   \n14  D:\\Desktop\\done tests\\Depth_first_search with ...   \n15  D:\\Desktop\\done tests\\Depth_first_search with ...   \n16  D:\\Desktop\\done tests\\Depth_first_search with ...   \n17                                               None   \n18                                               None   \n19  D:\\Desktop\\done tests\\Depth_first_search with ...   \n20                                               None   \n21                                               None   \n22  D:\\Desktop\\done tests\\Depth_first_search with ...   \n23                                               None   \n24                                               None   \n25                                               None   \n26                                               None   \n27                                               None   \n28                                               None   \n29                                               None   \n\n                                        solution_gene  \\\n0                                                None   \n1   [[1, 165], [-1, 0], [-1, 0], [-1, 0], [-1, 0],...   \n2                                                None   \n3                                                None   \n4                                                None   \n5   [[-1, 0], [30, 2], [31, 5], [28, 10], [29, 5],...   \n6                                                None   \n7                                                None   \n8                                                None   \n9   [[5, 23], [5, 17], [5, 33], [13, 7], [6, 17], ...   \n10  [[21, 0], [21, 1], [6, 0], [19, 22], [14, 1], ...   \n11  [[8, 10], [9, 3], [9, 4], [9, 6], [4, 3], [2, ...   \n12  [[3, 12], [2, 1], [8, 4], [8, 6], [4, 2], [0, ...   \n13  [[0, 0], [0, 0], [0, 0], [2, 1], [0, 0], [1, 2...   \n14  [[0, 0], [-1, 0], [-1, 0], [-1, 0], [-1, 0], [...   \n15  [[0, 0], [1, 0], [4, 5], [3, 0], [0, 7], [1, 1...   \n16  [[0, 9], [0, 8], [0, 0], [2, 0], [1, 0], [-1, ...   \n17                                               None   \n18                                               None   \n19  [[0, 0], [0, 0], [-1, 0], [0, 0], [0, 0], [0, ...   \n20                                               None   \n21                                               None   \n22  [[0, 0], [0, 0], [0, 0], [0, 0], [0, 0], [3, 1...   \n23                                               None   \n24                                               None   \n25                                               None   \n26                                               None   \n27                                               None   \n28                                               None   \n29                                               None   \n\n                                      student_classes         cost  \\\n0   {1: [5081], 2: [5081], 3: [5081], 4: [5081], 5...         None   \n1   {1: [837, 838, 840, 839, 841, 843, 845, 844, 8...   (0, 50280)   \n2   {1: [201, 202, 205, 190], 2: [201, 202, 205, 1...         None   \n3   {1: [602, 580], 2: [602, 580], 3: [602, 580], ...         None   \n4   {1: [3], 2: [3], 3: [3], 4: [3], 5: [3], 6: [3...         None   \n5   {1: [982, 983, 981], 2: [895, 285, 286, 410, 4...  (0, 409830)   \n6   {1: [393, 396, 437, 439], 2: [395, 398, 437, 4...         None   \n7                                                  {}         None   \n8                                                  {}         None   \n9                                                  {}    (0, 2886)   \n10                                                 {}    (0, 1231)   \n11  {1: [302], 2: [301, 302], 3: [308, 302], 4: [3...   (0, 53127)   \n12  {1: [222, 489, 377, 776], 2: [874, 467], 3: [4...   (0, 66642)   \n13  {1: [80, 104, 498, 276, 27, 46], 2: [476], 3: ...   (0, 29054)   \n14  {1: [110, 111, 115, 125, 128, 193, 198, 325, 1...   (0, 25394)   \n15  {1: [20, 29, 42, 476, 58, 77], 2: [101, 102, 1...   (0, 24979)   \n16  {1: [408, 409, 410, 411, 412, 413, 414, 415, 4...  (0, 235104)   \n17  {1: [104, 105, 106, 107, 108, 109, 110, 111, 1...         None   \n18  {459: [302, 742, 743, 663, 666, 667, 668, 669,...         None   \n19  {1: [1428, 1430, 693, 1442], 2: [1428, 1430, 6...  (0, 386779)   \n20  {1: [1040, 1042, 1043, 1189, 1072, 1075], 2: [...         None   \n21  {413: [1859, 1877, 1147, 1148, 1153, 1154, 115...         None   \n22  {1: [220, 221, 222, 223, 224, 225, 226, 227, 2...  (0, 133256)   \n23  {1: [764, 768], 2: [667], 3: [634, 944], 4: [8...         None   \n24  {30769: [2588, 1898, 1906, 1909], 25192: [1089...         None   \n25  {1: [326, 856, 659, 490, 495], 2: [565, 562, 5...         None   \n26  {29418: [3751, 6976, 6979, 7469, 7002, 7022, 6...         None   \n27                                                 {}         None   \n28                                                 {}         None   \n29  {1: [59, 60, 61, 62, 63, 64, 65, 66, 67, 74, 7...         None   \n\n    class_count                                      solution_path  \n0          5081                                               None  \n1          1239  D:\\Desktop\\done tests\\Depth_first_search with ...  \n2          1852                                               None  \n3          1144                                               None  \n4           460                                               None  \n5           983  D:\\Desktop\\done tests\\Depth_first_search with ...  \n6          1083                                               None  \n7          2641                                               None  \n8          2782                                               None  \n9           502  D:\\Desktop\\done tests\\Depth_first_search with ...  \n10          487  D:\\Desktop\\done tests\\Depth_first_search with ...  \n11          951  D:\\Desktop\\done tests\\Depth_first_search with ...  \n12          882  D:\\Desktop\\done tests\\Depth_first_search with ...  \n13          535  D:\\Desktop\\done tests\\Depth_first_search with ...  \n14          575  D:\\Desktop\\done tests\\Depth_first_search with ...  \n15          516  D:\\Desktop\\done tests\\Depth_first_search with ...  \n16          561  D:\\Desktop\\done tests\\Depth_first_search with ...  \n17          650                                               None  \n18         1623                                               None  \n19         1515  D:\\Desktop\\done tests\\Depth_first_search with ...  \n20         2526                                               None  \n21         3717                                               None  \n22          782  D:\\Desktop\\done tests\\Depth_first_search with ...  \n23         1061                                               None  \n24         2798                                               None  \n25         1001                                               None  \n26         8813                                               None  \n27          711                                               None  \n28          676                                               None  \n29          417                                               None  ",
      "text/html": "<div>\n<style scoped>\n    .dataframe tbody tr th:only-of-type {\n        vertical-align: middle;\n    }\n\n    .dataframe tbody tr th {\n        vertical-align: top;\n    }\n\n    .dataframe thead th {\n        text-align: right;\n    }\n</style>\n<table border=\"1\" class=\"dataframe\">\n  <thead>\n    <tr style=\"text-align: right;\">\n      <th></th>\n      <th>folder</th>\n      <th>folder path</th>\n      <th>experiment_details</th>\n      <th>instance_name</th>\n      <th>instance_file</th>\n      <th>problem_stats</th>\n      <th>dfs_results</th>\n      <th>dfs_success</th>\n      <th>dfs_operation_count</th>\n      <th>dfs_backtrack_count</th>\n      <th>dfs_time</th>\n      <th>dfs_operation_history</th>\n      <th>solution_gene_file</th>\n      <th>solution_gene</th>\n      <th>student_classes</th>\n      <th>cost</th>\n      <th>class_count</th>\n      <th>solution_path</th>\n    </tr>\n  </thead>\n  <tbody>\n    <tr>\n      <th>0</th>\n      <td>agh-fal17</td>\n      <td>D:\\Desktop\\done tests\\Depth_first_search with ...</td>\n      <td>&lt;experiment_details.ExperimentDetails object a...</td>\n      <td>agh-fal17</td>\n      <td>D:\\Desktop\\Datasets\\2019\\3.late\\agh-fal17.xml</td>\n      <td>{'name': 'agh-fal17', 'student_count': 6925, '...</td>\n      <td>{'success': False, 'operation_count': 10000, '...</td>\n      <td>False</td>\n      <td>10000</td>\n      <td>4711</td>\n      <td>3150.146189</td>\n      <td>[{'current_row': 1, 'time': 0.5409755706787109...</td>\n      <td>None</td>\n      <td>None</td>\n      <td>{1: [5081], 2: [5081], 3: [5081], 4: [5081], 5...</td>\n      <td>None</td>\n      <td>5081</td>\n      <td>None</td>\n    </tr>\n    <tr>\n      <th>1</th>\n      <td>agh-fis-spr17</td>\n      <td>D:\\Desktop\\done tests\\Depth_first_search with ...</td>\n      <td>&lt;experiment_details.ExperimentDetails object a...</td>\n      <td>agh-fis-spr17</td>\n      <td>D:\\Desktop\\Datasets\\2019\\1.early\\agh-fis-spr17...</td>\n      <td>{'name': 'agh-fis-spr17', 'student_count': 164...</td>\n      <td>{'success': True, 'operation_count': 1403, 'ba...</td>\n      <td>True</td>\n      <td>1403</td>\n      <td>82</td>\n      <td>568.491562</td>\n      <td>[{'current_row': 1, 'time': 0.506655216217041}...</td>\n      <td>D:\\Desktop\\done tests\\Depth_first_search with ...</td>\n      <td>[[1, 165], [-1, 0], [-1, 0], [-1, 0], [-1, 0],...</td>\n      <td>{1: [837, 838, 840, 839, 841, 843, 845, 844, 8...</td>\n      <td>(0, 50280)</td>\n      <td>1239</td>\n      <td>D:\\Desktop\\done tests\\Depth_first_search with ...</td>\n    </tr>\n    <tr>\n      <th>2</th>\n      <td>agh-ggis-spr17</td>\n      <td>D:\\Desktop\\done tests\\Depth_first_search with ...</td>\n      <td>&lt;experiment_details.ExperimentDetails object a...</td>\n      <td>agh-ggis-spr17</td>\n      <td>D:\\Desktop\\Datasets\\2019\\1.early\\agh-ggis-spr1...</td>\n      <td>{'name': 'agh-ggis-spr17', 'student_count': 21...</td>\n      <td>{'success': False, 'operation_count': 10000, '...</td>\n      <td>False</td>\n      <td>10000</td>\n      <td>4788</td>\n      <td>237.673114</td>\n      <td>[{'current_row': 1, 'time': 0.0379271507263183...</td>\n      <td>None</td>\n      <td>None</td>\n      <td>{1: [201, 202, 205, 190], 2: [201, 202, 205, 1...</td>\n      <td>None</td>\n      <td>1852</td>\n      <td>None</td>\n    </tr>\n    <tr>\n      <th>3</th>\n      <td>agh-ggos-spr17</td>\n      <td>D:\\Desktop\\done tests\\Depth_first_search with ...</td>\n      <td>&lt;experiment_details.ExperimentDetails object a...</td>\n      <td>agh-ggos-spr17</td>\n      <td>D:\\Desktop\\Datasets\\2019\\2.middle\\agh-ggos-spr...</td>\n      <td>{'name': 'agh-ggos-spr17', 'student_count': 22...</td>\n      <td>{'success': False, 'operation_count': 10000, '...</td>\n      <td>False</td>\n      <td>10000</td>\n      <td>4761</td>\n      <td>1011.313490</td>\n      <td>[{'current_row': 1, 'time': 0.1105084419250488...</td>\n      <td>None</td>\n      <td>None</td>\n      <td>{1: [602, 580], 2: [602, 580], 3: [602, 580], ...</td>\n      <td>None</td>\n      <td>1144</td>\n      <td>None</td>\n    </tr>\n    <tr>\n      <th>4</th>\n      <td>agh-h-spr17</td>\n      <td>D:\\Desktop\\done tests\\Depth_first_search with ...</td>\n      <td>&lt;experiment_details.ExperimentDetails object a...</td>\n      <td>agh-h-spr17</td>\n      <td>D:\\Desktop\\Datasets\\2019\\2.middle\\agh-h-spr17.xml</td>\n      <td>{'name': 'agh-h-spr17', 'student_count': 1988,...</td>\n      <td>{'success': False, 'operation_count': 10000, '...</td>\n      <td>False</td>\n      <td>10000</td>\n      <td>4945</td>\n      <td>1813.728514</td>\n      <td>[{'current_row': 1, 'time': 0.175018310546875}...</td>\n      <td>None</td>\n      <td>None</td>\n      <td>{1: [3], 2: [3], 3: [3], 4: [3], 5: [3], 6: [3...</td>\n      <td>None</td>\n      <td>460</td>\n      <td>None</td>\n    </tr>\n    <tr>\n      <th>5</th>\n      <td>bet-fal17</td>\n      <td>D:\\Desktop\\done tests\\Depth_first_search with ...</td>\n      <td>&lt;experiment_details.ExperimentDetails object a...</td>\n      <td>bet-fal17</td>\n      <td>D:\\Desktop\\Datasets\\2019\\1.early\\bet-fal17.xml</td>\n      <td>{'name': 'bet-fal17', 'student_count': 3018, '...</td>\n      <td>{'success': True, 'operation_count': 7569, 'ba...</td>\n      <td>True</td>\n      <td>7569</td>\n      <td>3293</td>\n      <td>333.179137</td>\n      <td>[{'current_row': 1, 'time': 0.0280003547668457...</td>\n      <td>D:\\Desktop\\done tests\\Depth_first_search with ...</td>\n      <td>[[-1, 0], [30, 2], [31, 5], [28, 10], [29, 5],...</td>\n      <td>{1: [982, 983, 981], 2: [895, 285, 286, 410, 4...</td>\n      <td>(0, 409830)</td>\n      <td>983</td>\n      <td>D:\\Desktop\\done tests\\Depth_first_search with ...</td>\n    </tr>\n    <tr>\n      <th>6</th>\n      <td>bet-spr18</td>\n      <td>D:\\Desktop\\done tests\\Depth_first_search with ...</td>\n      <td>&lt;experiment_details.ExperimentDetails object a...</td>\n      <td>bet-spr18</td>\n      <td>D:\\Desktop\\Datasets\\2019\\3.late\\bet-spr18.xml</td>\n      <td>{'name': 'bet-spr18', 'student_count': 2921, '...</td>\n      <td>{'success': False, 'operation_count': 10000, '...</td>\n      <td>False</td>\n      <td>10000</td>\n      <td>4910</td>\n      <td>207.215608</td>\n      <td>[{'current_row': 1, 'time': 0.0299990177154541...</td>\n      <td>None</td>\n      <td>None</td>\n      <td>{1: [393, 396, 437, 439], 2: [395, 398, 437, 4...</td>\n      <td>None</td>\n      <td>1083</td>\n      <td>None</td>\n    </tr>\n    <tr>\n      <th>7</th>\n      <td>iku-fal17</td>\n      <td>D:\\Desktop\\done tests\\Depth_first_search with ...</td>\n      <td>&lt;experiment_details.ExperimentDetails object a...</td>\n      <td>iku-fal17</td>\n      <td>D:\\Desktop\\Datasets\\2019\\1.early\\iku-fal17.xml</td>\n      <td>{'name': 'iku-fal17', 'student_count': 0, 'avg...</td>\n      <td>{'success': False, 'operation_count': 10000, '...</td>\n      <td>False</td>\n      <td>10000</td>\n      <td>4388</td>\n      <td>1189.769057</td>\n      <td>[{'current_row': 1, 'time': 0.1750149726867675...</td>\n      <td>None</td>\n      <td>None</td>\n      <td>{}</td>\n      <td>None</td>\n      <td>2641</td>\n      <td>None</td>\n    </tr>\n    <tr>\n      <th>8</th>\n      <td>iku-spr18</td>\n      <td>D:\\Desktop\\done tests\\Depth_first_search with ...</td>\n      <td>&lt;experiment_details.ExperimentDetails object a...</td>\n      <td>iku-spr18</td>\n      <td>D:\\Desktop\\Datasets\\2019\\3.late\\iku-spr18.xml</td>\n      <td>{'name': 'iku-spr18', 'student_count': 0, 'avg...</td>\n      <td>{'success': False, 'operation_count': 10000, '...</td>\n      <td>False</td>\n      <td>10000</td>\n      <td>4464</td>\n      <td>1532.251770</td>\n      <td>[{'current_row': 1, 'time': 0.2000176906585693...</td>\n      <td>None</td>\n      <td>None</td>\n      <td>{}</td>\n      <td>None</td>\n      <td>2782</td>\n      <td>None</td>\n    </tr>\n    <tr>\n      <th>9</th>\n      <td>lums-fal17</td>\n      <td>D:\\Desktop\\done tests\\Depth_first_search with ...</td>\n      <td>&lt;experiment_details.ExperimentDetails object a...</td>\n      <td>lums-fal17</td>\n      <td>D:\\Desktop\\Datasets\\2019\\3.late\\lums-fal17.xml</td>\n      <td>{'name': 'lums-fal17', 'student_count': 0, 'av...</td>\n      <td>{'success': True, 'operation_count': 502, 'bac...</td>\n      <td>True</td>\n      <td>502</td>\n      <td>0</td>\n      <td>16.667898</td>\n      <td>[{'current_row': 1, 'time': 0.0975069999694824...</td>\n      <td>D:\\Desktop\\done tests\\Depth_first_search with ...</td>\n      <td>[[5, 23], [5, 17], [5, 33], [13, 7], [6, 17], ...</td>\n      <td>{}</td>\n      <td>(0, 2886)</td>\n      <td>502</td>\n      <td>D:\\Desktop\\done tests\\Depth_first_search with ...</td>\n    </tr>\n    <tr>\n      <th>10</th>\n      <td>lums-spr18</td>\n      <td>D:\\Desktop\\done tests\\Depth_first_search with ...</td>\n      <td>&lt;experiment_details.ExperimentDetails object a...</td>\n      <td>lums-spr18</td>\n      <td>D:\\Desktop\\Datasets\\2019\\2.middle\\lums-spr18.xml</td>\n      <td>{'name': 'lums-spr18', 'student_count': 0, 'av...</td>\n      <td>{'success': True, 'operation_count': 507, 'bac...</td>\n      <td>True</td>\n      <td>507</td>\n      <td>10</td>\n      <td>16.425936</td>\n      <td>[{'current_row': 1, 'time': 0.0930063724517822...</td>\n      <td>D:\\Desktop\\done tests\\Depth_first_search with ...</td>\n      <td>[[21, 0], [21, 1], [6, 0], [19, 22], [14, 1], ...</td>\n      <td>{}</td>\n      <td>(0, 1231)</td>\n      <td>487</td>\n      <td>D:\\Desktop\\done tests\\Depth_first_search with ...</td>\n    </tr>\n    <tr>\n      <th>11</th>\n      <td>mary-fal18</td>\n      <td>D:\\Desktop\\done tests\\Depth_first_search with ...</td>\n      <td>&lt;experiment_details.ExperimentDetails object a...</td>\n      <td>mary-fal18</td>\n      <td>D:\\Desktop\\Datasets\\2019\\3.late\\mary-fal18.xml</td>\n      <td>{'name': 'mary-fal18', 'student_count': 5051, ...</td>\n      <td>{'success': True, 'operation_count': 957, 'bac...</td>\n      <td>True</td>\n      <td>957</td>\n      <td>3</td>\n      <td>12.142718</td>\n      <td>[{'current_row': 1, 'time': 0.0149998664855957...</td>\n      <td>D:\\Desktop\\done tests\\Depth_first_search with ...</td>\n      <td>[[8, 10], [9, 3], [9, 4], [9, 6], [4, 3], [2, ...</td>\n      <td>{1: [302], 2: [301, 302], 3: [308, 302], 4: [3...</td>\n      <td>(0, 53127)</td>\n      <td>951</td>\n      <td>D:\\Desktop\\done tests\\Depth_first_search with ...</td>\n    </tr>\n    <tr>\n      <th>12</th>\n      <td>mary-spr17</td>\n      <td>D:\\Desktop\\done tests\\Depth_first_search with ...</td>\n      <td>&lt;experiment_details.ExperimentDetails object a...</td>\n      <td>mary-spr17</td>\n      <td>D:\\Desktop\\Datasets\\2019\\1.early\\mary-spr17.xml</td>\n      <td>{'name': 'mary-spr17', 'student_count': 3666, ...</td>\n      <td>{'success': True, 'operation_count': 898, 'bac...</td>\n      <td>True</td>\n      <td>898</td>\n      <td>8</td>\n      <td>11.296227</td>\n      <td>[{'current_row': 1, 'time': 0.0129997730255126...</td>\n      <td>D:\\Desktop\\done tests\\Depth_first_search with ...</td>\n      <td>[[3, 12], [2, 1], [8, 4], [8, 6], [4, 2], [0, ...</td>\n      <td>{1: [222, 489, 377, 776], 2: [874, 467], 3: [4...</td>\n      <td>(0, 66642)</td>\n      <td>882</td>\n      <td>D:\\Desktop\\done tests\\Depth_first_search with ...</td>\n    </tr>\n    <tr>\n      <th>13</th>\n      <td>muni-fi-fal17</td>\n      <td>D:\\Desktop\\done tests\\Depth_first_search with ...</td>\n      <td>&lt;experiment_details.ExperimentDetails object a...</td>\n      <td>muni-fi-fal17</td>\n      <td>D:\\Desktop\\Datasets\\2019\\3.late\\muni-fi-fal17.xml</td>\n      <td>{'name': 'muni-fi-fal17', 'student_count': 168...</td>\n      <td>{'success': True, 'operation_count': 553, 'bac...</td>\n      <td>True</td>\n      <td>553</td>\n      <td>9</td>\n      <td>5.451082</td>\n      <td>[{'current_row': 1, 'time': 0.0050010681152343...</td>\n      <td>D:\\Desktop\\done tests\\Depth_first_search with ...</td>\n      <td>[[0, 0], [0, 0], [0, 0], [2, 1], [0, 0], [1, 2...</td>\n      <td>{1: [80, 104, 498, 276, 27, 46], 2: [476], 3: ...</td>\n      <td>(0, 29054)</td>\n      <td>535</td>\n      <td>D:\\Desktop\\done tests\\Depth_first_search with ...</td>\n    </tr>\n    <tr>\n      <th>14</th>\n      <td>muni-fi-spr16</td>\n      <td>D:\\Desktop\\done tests\\Depth_first_search with ...</td>\n      <td>&lt;experiment_details.ExperimentDetails object a...</td>\n      <td>muni-fi-spr16</td>\n      <td>D:\\Desktop\\Datasets\\2019\\1.early\\muni-fi-spr16...</td>\n      <td>{'name': 'muni-fi-spr16', 'student_count': 154...</td>\n      <td>{'success': True, 'operation_count': 629, 'bac...</td>\n      <td>True</td>\n      <td>629</td>\n      <td>27</td>\n      <td>3.125370</td>\n      <td>[{'current_row': 1, 'time': 0.0080003738403320...</td>\n      <td>D:\\Desktop\\done tests\\Depth_first_search with ...</td>\n      <td>[[0, 0], [-1, 0], [-1, 0], [-1, 0], [-1, 0], [...</td>\n      <td>{1: [110, 111, 115, 125, 128, 193, 198, 325, 1...</td>\n      <td>(0, 25394)</td>\n      <td>575</td>\n      <td>D:\\Desktop\\done tests\\Depth_first_search with ...</td>\n    </tr>\n    <tr>\n      <th>15</th>\n      <td>muni-fi-spr17</td>\n      <td>D:\\Desktop\\done tests\\Depth_first_search with ...</td>\n      <td>&lt;experiment_details.ExperimentDetails object a...</td>\n      <td>muni-fi-spr17</td>\n      <td>D:\\Desktop\\Datasets\\2019\\2.middle\\muni-fi-spr1...</td>\n      <td>{'name': 'muni-fi-spr17', 'student_count': 146...</td>\n      <td>{'success': True, 'operation_count': 560, 'bac...</td>\n      <td>True</td>\n      <td>560</td>\n      <td>22</td>\n      <td>5.893289</td>\n      <td>[{'current_row': 1, 'time': 0.0095059871673583...</td>\n      <td>D:\\Desktop\\done tests\\Depth_first_search with ...</td>\n      <td>[[0, 0], [1, 0], [4, 5], [3, 0], [0, 7], [1, 1...</td>\n      <td>{1: [20, 29, 42, 476, 58, 77], 2: [101, 102, 1...</td>\n      <td>(0, 24979)</td>\n      <td>516</td>\n      <td>D:\\Desktop\\done tests\\Depth_first_search with ...</td>\n    </tr>\n    <tr>\n      <th>16</th>\n      <td>muni-fsps-spr17</td>\n      <td>D:\\Desktop\\done tests\\Depth_first_search with ...</td>\n      <td>&lt;experiment_details.ExperimentDetails object a...</td>\n      <td>muni-fsps-spr17</td>\n      <td>D:\\Desktop\\Datasets\\2019\\1.early\\muni-fsps-spr...</td>\n      <td>{'name': 'muni-fsps-spr17', 'student_count': 8...</td>\n      <td>{'success': True, 'operation_count': 607, 'bac...</td>\n      <td>True</td>\n      <td>607</td>\n      <td>23</td>\n      <td>2.254887</td>\n      <td>[{'current_row': 1, 'time': 0.0079998970031738...</td>\n      <td>D:\\Desktop\\done tests\\Depth_first_search with ...</td>\n      <td>[[0, 9], [0, 8], [0, 0], [2, 0], [1, 0], [-1, ...</td>\n      <td>{1: [408, 409, 410, 411, 412, 413, 414, 415, 4...</td>\n      <td>(0, 235104)</td>\n      <td>561</td>\n      <td>D:\\Desktop\\done tests\\Depth_first_search with ...</td>\n    </tr>\n    <tr>\n      <th>17</th>\n      <td>muni-fsps-spr17c</td>\n      <td>D:\\Desktop\\done tests\\Depth_first_search with ...</td>\n      <td>&lt;experiment_details.ExperimentDetails object a...</td>\n      <td>muni-fsps-spr17c</td>\n      <td>D:\\Desktop\\Datasets\\2019\\2.middle\\muni-fsps-sp...</td>\n      <td>{'name': 'muni-fsps-spr17c', 'student_count': ...</td>\n      <td>{'success': False, 'operation_count': 10000, '...</td>\n      <td>False</td>\n      <td>10000</td>\n      <td>4754</td>\n      <td>539.184501</td>\n      <td>[{'current_row': 1, 'time': 0.0259995460510253...</td>\n      <td>None</td>\n      <td>None</td>\n      <td>{1: [104, 105, 106, 107, 108, 109, 110, 111, 1...</td>\n      <td>None</td>\n      <td>650</td>\n      <td>None</td>\n    </tr>\n    <tr>\n      <th>18</th>\n      <td>muni-fspsx-fal17</td>\n      <td>D:\\Desktop\\done tests\\Depth_first_search with ...</td>\n      <td>&lt;experiment_details.ExperimentDetails object a...</td>\n      <td>muni-fspsx-fal17</td>\n      <td>D:\\Desktop\\Datasets\\2019\\3.late\\muni-fspsx-fal...</td>\n      <td>{'name': 'muni-fspsx-fal17', 'student_count': ...</td>\n      <td>{'success': False, 'operation_count': 10000, '...</td>\n      <td>False</td>\n      <td>10000</td>\n      <td>4727</td>\n      <td>562.742017</td>\n      <td>[{'current_row': 1, 'time': 0.0295085906982421...</td>\n      <td>None</td>\n      <td>None</td>\n      <td>{459: [302, 742, 743, 663, 666, 667, 668, 669,...</td>\n      <td>None</td>\n      <td>1623</td>\n      <td>None</td>\n    </tr>\n    <tr>\n      <th>19</th>\n      <td>muni-pdf-spr16</td>\n      <td>D:\\Desktop\\done tests\\Depth_first_search with ...</td>\n      <td>&lt;experiment_details.ExperimentDetails object a...</td>\n      <td>muni-pdf-spr16</td>\n      <td>D:\\Desktop\\Datasets\\2019\\2.middle\\muni-pdf-spr...</td>\n      <td>{'name': 'muni-pdf-spr16', 'student_count': 34...</td>\n      <td>{'success': True, 'operation_count': 1679, 'ba...</td>\n      <td>True</td>\n      <td>1679</td>\n      <td>82</td>\n      <td>81.134940</td>\n      <td>[{'current_row': 1, 'time': 0.0784432888031005...</td>\n      <td>D:\\Desktop\\done tests\\Depth_first_search with ...</td>\n      <td>[[0, 0], [0, 0], [-1, 0], [0, 0], [0, 0], [0, ...</td>\n      <td>{1: [1428, 1430, 693, 1442], 2: [1428, 1430, 6...</td>\n      <td>(0, 386779)</td>\n      <td>1515</td>\n      <td>D:\\Desktop\\done tests\\Depth_first_search with ...</td>\n    </tr>\n    <tr>\n      <th>20</th>\n      <td>muni-pdf-spr16c</td>\n      <td>D:\\Desktop\\done tests\\Depth_first_search with ...</td>\n      <td>&lt;experiment_details.ExperimentDetails object a...</td>\n      <td>muni-pdf-spr16c</td>\n      <td>D:\\Desktop\\Datasets\\2019\\1.early\\muni-pdf-spr1...</td>\n      <td>{'name': 'muni-pdf-spr16c', 'student_count': 2...</td>\n      <td>{'success': False, 'operation_count': 10000, '...</td>\n      <td>False</td>\n      <td>10000</td>\n      <td>4359</td>\n      <td>1283.096838</td>\n      <td>[{'current_row': 1, 'time': 0.2260193824768066...</td>\n      <td>None</td>\n      <td>None</td>\n      <td>{1: [1040, 1042, 1043, 1189, 1072, 1075], 2: [...</td>\n      <td>None</td>\n      <td>2526</td>\n      <td>None</td>\n    </tr>\n    <tr>\n      <th>21</th>\n      <td>muni-pdfx-fal17</td>\n      <td>D:\\Desktop\\done tests\\Depth_first_search with ...</td>\n      <td>&lt;experiment_details.ExperimentDetails object a...</td>\n      <td>muni-pdfx-fal17</td>\n      <td>D:\\Desktop\\Datasets\\2019\\3.late\\muni-pdfx-fal1...</td>\n      <td>{'name': 'muni-pdfx-fal17', 'student_count': 5...</td>\n      <td>{'success': False, 'operation_count': 10000, '...</td>\n      <td>False</td>\n      <td>10000</td>\n      <td>4495</td>\n      <td>2585.012778</td>\n      <td>[{'current_row': 1, 'time': 0.5020473003387451...</td>\n      <td>None</td>\n      <td>None</td>\n      <td>{413: [1859, 1877, 1147, 1148, 1153, 1154, 115...</td>\n      <td>None</td>\n      <td>3717</td>\n      <td>None</td>\n    </tr>\n    <tr>\n      <th>22</th>\n      <td>nbi-spr18</td>\n      <td>D:\\Desktop\\done tests\\Depth_first_search with ...</td>\n      <td>&lt;experiment_details.ExperimentDetails object a...</td>\n      <td>nbi-spr18</td>\n      <td>D:\\Desktop\\Datasets\\2019\\2.middle\\nbi-spr18.xml</td>\n      <td>{'name': 'nbi-spr18', 'student_count': 2293, '...</td>\n      <td>{'success': True, 'operation_count': 790, 'bac...</td>\n      <td>True</td>\n      <td>790</td>\n      <td>4</td>\n      <td>8.211331</td>\n      <td>[{'current_row': 1, 'time': 0.0205049514770507...</td>\n      <td>D:\\Desktop\\done tests\\Depth_first_search with ...</td>\n      <td>[[0, 0], [0, 0], [0, 0], [0, 0], [0, 0], [3, 1...</td>\n      <td>{1: [220, 221, 222, 223, 224, 225, 226, 227, 2...</td>\n      <td>(0, 133256)</td>\n      <td>782</td>\n      <td>D:\\Desktop\\done tests\\Depth_first_search with ...</td>\n    </tr>\n    <tr>\n      <th>23</th>\n      <td>pu-d5-spr17</td>\n      <td>D:\\Desktop\\done tests\\Depth_first_search with ...</td>\n      <td>&lt;experiment_details.ExperimentDetails object a...</td>\n      <td>pu-d5-spr17</td>\n      <td>D:\\Desktop\\Datasets\\2019\\2.middle\\pu-d5-spr17.xml</td>\n      <td>{'name': 'pu-d5-spr17', 'student_count': 13497...</td>\n      <td>{'success': False, 'operation_count': 10000, '...</td>\n      <td>False</td>\n      <td>10000</td>\n      <td>4872</td>\n      <td>42.615087</td>\n      <td>[{'current_row': 1, 'time': 0.0090003013610839...</td>\n      <td>None</td>\n      <td>None</td>\n      <td>{1: [764, 768], 2: [667], 3: [634, 944], 4: [8...</td>\n      <td>None</td>\n      <td>1061</td>\n      <td>None</td>\n    </tr>\n    <tr>\n      <th>24</th>\n      <td>pu-d9-fal19</td>\n      <td>D:\\Desktop\\done tests\\Depth_first_search with ...</td>\n      <td>&lt;experiment_details.ExperimentDetails object a...</td>\n      <td>pu-d9-fal19</td>\n      <td>D:\\Desktop\\Datasets\\2019\\3.late\\pu-d9-fal19.xml</td>\n      <td>{'name': 'pu-d9-fal19', 'student_count': 35213...</td>\n      <td>{'success': False, 'operation_count': 10000, '...</td>\n      <td>False</td>\n      <td>10000</td>\n      <td>4387</td>\n      <td>423.300535</td>\n      <td>[{'current_row': 1, 'time': 0.0815076828002929...</td>\n      <td>None</td>\n      <td>None</td>\n      <td>{30769: [2588, 1898, 1906, 1909], 25192: [1089...</td>\n      <td>None</td>\n      <td>2798</td>\n      <td>None</td>\n    </tr>\n    <tr>\n      <th>25</th>\n      <td>pu-llr-spr17</td>\n      <td>D:\\Desktop\\done tests\\Depth_first_search with ...</td>\n      <td>&lt;experiment_details.ExperimentDetails object a...</td>\n      <td>pu-llr-spr17</td>\n      <td>D:\\Desktop\\Datasets\\2019\\1.early\\pu-llr-spr17.xml</td>\n      <td>{'name': 'pu-llr-spr17', 'student_count': 2701...</td>\n      <td>{'success': False, 'operation_count': 10000, '...</td>\n      <td>False</td>\n      <td>10000</td>\n      <td>4759</td>\n      <td>117.415457</td>\n      <td>[{'current_row': 1, 'time': 0.0215165615081787...</td>\n      <td>None</td>\n      <td>None</td>\n      <td>{1: [326, 856, 659, 490, 495], 2: [565, 562, 5...</td>\n      <td>None</td>\n      <td>1001</td>\n      <td>None</td>\n    </tr>\n    <tr>\n      <th>26</th>\n      <td>pu-proj-fal19</td>\n      <td>D:\\Desktop\\done tests\\Depth_first_search with ...</td>\n      <td>&lt;experiment_details.ExperimentDetails object a...</td>\n      <td>pu-proj-fal19</td>\n      <td>D:\\Desktop\\Datasets\\2019\\2.middle\\pu-proj-fal1...</td>\n      <td>{'name': 'pu-proj-fal19', 'student_count': 384...</td>\n      <td>{'success': False, 'operation_count': 10000, '...</td>\n      <td>False</td>\n      <td>10000</td>\n      <td>3180</td>\n      <td>4080.501578</td>\n      <td>[{'current_row': 1, 'time': 0.6246433258056641...</td>\n      <td>None</td>\n      <td>None</td>\n      <td>{29418: [3751, 6976, 6979, 7469, 7002, 7022, 6...</td>\n      <td>None</td>\n      <td>8813</td>\n      <td>None</td>\n    </tr>\n    <tr>\n      <th>27</th>\n      <td>tg-fal17</td>\n      <td>D:\\Desktop\\done tests\\Depth_first_search with ...</td>\n      <td>&lt;experiment_details.ExperimentDetails object a...</td>\n      <td>tg-fal17</td>\n      <td>D:\\Desktop\\Datasets\\2019\\1.early\\tg-fal17.xml</td>\n      <td>{'name': 'tg-fal17', 'student_count': 0, 'avg_...</td>\n      <td>{'success': False, 'operation_count': 10000, '...</td>\n      <td>False</td>\n      <td>10000</td>\n      <td>4820</td>\n      <td>176.304364</td>\n      <td>[{'current_row': 1, 'time': 0.0975084304809570...</td>\n      <td>None</td>\n      <td>None</td>\n      <td>{}</td>\n      <td>None</td>\n      <td>711</td>\n      <td>None</td>\n    </tr>\n    <tr>\n      <th>28</th>\n      <td>tg-spr18</td>\n      <td>D:\\Desktop\\done tests\\Depth_first_search with ...</td>\n      <td>&lt;experiment_details.ExperimentDetails object a...</td>\n      <td>tg-spr18</td>\n      <td>D:\\Desktop\\Datasets\\2019\\3.late\\tg-spr18.xml</td>\n      <td>{'name': 'tg-spr18', 'student_count': 0, 'avg_...</td>\n      <td>{'success': False, 'operation_count': 10000, '...</td>\n      <td>False</td>\n      <td>10000</td>\n      <td>4932</td>\n      <td>382.535847</td>\n      <td>[{'current_row': 1, 'time': 0.0645086765289306...</td>\n      <td>None</td>\n      <td>None</td>\n      <td>{}</td>\n      <td>None</td>\n      <td>676</td>\n      <td>None</td>\n    </tr>\n    <tr>\n      <th>29</th>\n      <td>yach-fal17</td>\n      <td>D:\\Desktop\\done tests\\Depth_first_search with ...</td>\n      <td>&lt;experiment_details.ExperimentDetails object a...</td>\n      <td>yach-fal17</td>\n      <td>D:\\Desktop\\Datasets\\2019\\2.middle\\yach-fal17.xml</td>\n      <td>{'name': 'yach-fal17', 'student_count': 821, '...</td>\n      <td>{'success': False, 'operation_count': 10000, '...</td>\n      <td>False</td>\n      <td>10000</td>\n      <td>4947</td>\n      <td>94.426362</td>\n      <td>[{'current_row': 1, 'time': 0.0150034427642822...</td>\n      <td>None</td>\n      <td>None</td>\n      <td>{1: [59, 60, 61, 62, 63, 64, 65, 66, 67, 74, 7...</td>\n      <td>None</td>\n      <td>417</td>\n      <td>None</td>\n    </tr>\n  </tbody>\n</table>\n</div>"
     },
     "execution_count": 21,
     "metadata": {},
     "output_type": "execute_result"
    }
   ],
   "source": [
    "itc19_dfs_res"
   ],
   "metadata": {
    "collapsed": false,
    "ExecuteTime": {
     "end_time": "2024-04-29T11:52:37.296740Z",
     "start_time": "2024-04-29T11:52:34.646575300Z"
    }
   },
   "id": "9e141b3e85c984f2"
  },
  {
   "cell_type": "code",
   "execution_count": 22,
   "outputs": [
    {
     "data": {
      "text/plain": "    folder                                        folder path  \\\n0   comp01  D:\\Desktop\\done tests\\Depth_first_search with ...   \n1   comp02  D:\\Desktop\\done tests\\Depth_first_search with ...   \n2   comp03  D:\\Desktop\\done tests\\Depth_first_search with ...   \n3   comp04  D:\\Desktop\\done tests\\Depth_first_search with ...   \n4   comp05  D:\\Desktop\\done tests\\Depth_first_search with ...   \n5   comp06  D:\\Desktop\\done tests\\Depth_first_search with ...   \n6   comp07  D:\\Desktop\\done tests\\Depth_first_search with ...   \n7   comp08  D:\\Desktop\\done tests\\Depth_first_search with ...   \n8   comp09  D:\\Desktop\\done tests\\Depth_first_search with ...   \n9   comp10  D:\\Desktop\\done tests\\Depth_first_search with ...   \n10  comp11  D:\\Desktop\\done tests\\Depth_first_search with ...   \n11  comp12  D:\\Desktop\\done tests\\Depth_first_search with ...   \n12  comp13  D:\\Desktop\\done tests\\Depth_first_search with ...   \n13  comp14  D:\\Desktop\\done tests\\Depth_first_search with ...   \n14  comp15  D:\\Desktop\\done tests\\Depth_first_search with ...   \n15  comp16  D:\\Desktop\\done tests\\Depth_first_search with ...   \n16  comp17  D:\\Desktop\\done tests\\Depth_first_search with ...   \n17  comp18  D:\\Desktop\\done tests\\Depth_first_search with ...   \n18  comp19  D:\\Desktop\\done tests\\Depth_first_search with ...   \n19  comp20  D:\\Desktop\\done tests\\Depth_first_search with ...   \n20  comp21  D:\\Desktop\\done tests\\Depth_first_search with ...   \n\n                                   experiment_details instance_name  \\\n0   <experiment_details.ExperimentDetails object a...        comp01   \n1   <experiment_details.ExperimentDetails object a...        comp02   \n2   <experiment_details.ExperimentDetails object a...        comp03   \n3   <experiment_details.ExperimentDetails object a...        comp04   \n4   <experiment_details.ExperimentDetails object a...        comp05   \n5   <experiment_details.ExperimentDetails object a...        comp06   \n6   <experiment_details.ExperimentDetails object a...        comp07   \n7   <experiment_details.ExperimentDetails object a...        comp08   \n8   <experiment_details.ExperimentDetails object a...        comp09   \n9   <experiment_details.ExperimentDetails object a...        comp10   \n10  <experiment_details.ExperimentDetails object a...        comp11   \n11  <experiment_details.ExperimentDetails object a...        comp12   \n12  <experiment_details.ExperimentDetails object a...        comp13   \n13  <experiment_details.ExperimentDetails object a...        comp14   \n14  <experiment_details.ExperimentDetails object a...        comp15   \n15  <experiment_details.ExperimentDetails object a...        comp16   \n16  <experiment_details.ExperimentDetails object a...        comp17   \n17  <experiment_details.ExperimentDetails object a...        comp18   \n18  <experiment_details.ExperimentDetails object a...        comp19   \n19  <experiment_details.ExperimentDetails object a...        comp20   \n20  <experiment_details.ExperimentDetails object a...        comp21   \n\n                                instance_file  \\\n0   D:\\Desktop\\Datasets\\curriculum\\comp01.ctt   \n1   D:\\Desktop\\Datasets\\curriculum\\comp02.ctt   \n2   D:\\Desktop\\Datasets\\curriculum\\comp03.ctt   \n3   D:\\Desktop\\Datasets\\curriculum\\comp04.ctt   \n4   D:\\Desktop\\Datasets\\curriculum\\comp05.ctt   \n5   D:\\Desktop\\Datasets\\curriculum\\comp06.ctt   \n6   D:\\Desktop\\Datasets\\curriculum\\comp07.ctt   \n7   D:\\Desktop\\Datasets\\curriculum\\comp08.ctt   \n8   D:\\Desktop\\Datasets\\curriculum\\comp09.ctt   \n9   D:\\Desktop\\Datasets\\curriculum\\comp10.ctt   \n10  D:\\Desktop\\Datasets\\curriculum\\comp11.ctt   \n11  D:\\Desktop\\Datasets\\curriculum\\comp12.ctt   \n12  D:\\Desktop\\Datasets\\curriculum\\comp13.ctt   \n13  D:\\Desktop\\Datasets\\curriculum\\comp14.ctt   \n14  D:\\Desktop\\Datasets\\curriculum\\comp15.ctt   \n15  D:\\Desktop\\Datasets\\curriculum\\comp16.ctt   \n16  D:\\Desktop\\Datasets\\curriculum\\comp17.ctt   \n17  D:\\Desktop\\Datasets\\curriculum\\comp18.ctt   \n18  D:\\Desktop\\Datasets\\curriculum\\comp19.ctt   \n19  D:\\Desktop\\Datasets\\curriculum\\comp20.ctt   \n20  D:\\Desktop\\Datasets\\curriculum\\comp21.ctt   \n\n                                        problem_stats  \\\n0   {'name': 'Fis0506-1', 'course_count': 30, 'roo...   \n1   {'name': 'Ing0203-2', 'course_count': 82, 'roo...   \n2   {'name': 'Ing0304-1', 'course_count': 72, 'roo...   \n3   {'name': 'Ing0405-3', 'course_count': 79, 'roo...   \n4   {'name': 'Let0405-1', 'course_count': 54, 'roo...   \n5   {'name': 'Ing0506-1', 'course_count': 108, 'ro...   \n6   {'name': 'Ing0607-2', 'course_count': 131, 'ro...   \n7   {'name': 'Ing0607-3', 'course_count': 86, 'roo...   \n8   {'name': 'Ing0304-3', 'course_count': 76, 'roo...   \n9   {'name': 'Ing0405-2', 'course_count': 115, 'ro...   \n10  {'name': 'Fis0506-2', 'course_count': 30, 'roo...   \n11  {'name': 'Let0506-2', 'course_count': 88, 'roo...   \n12  {'name': 'Ing0506-3', 'course_count': 82, 'roo...   \n13  {'name': 'Ing0708-1', 'course_count': 85, 'roo...   \n14  {'name': 'Ing0203-1', 'course_count': 72, 'roo...   \n15  {'name': 'Ing0607-1', 'course_count': 108, 'ro...   \n16  {'name': 'Ing0405-1', 'course_count': 99, 'roo...   \n17  {'name': 'Let0304-1', 'course_count': 47, 'roo...   \n18  {'name': 'Ing0203-3', 'course_count': 74, 'roo...   \n19  {'name': 'Ing0506-2', 'course_count': 121, 'ro...   \n20  {'name': 'Ing0304-2', 'course_count': 94, 'roo...   \n\n                                         raw_room_ids  \\\n0                                  [B, C, E, F, G, S]   \n1   [36, 37, 38, 31, 27, B, D, E, F, G, A, L, 50, ...   \n2   [36, 37, 38, 31, 27, B, D, E, F, G, A, L, 50, ...   \n3   [25, 36, 37, 38, 31, 27, 51, B, D, F, G, A, L,...   \n4                     [10, 14, 15, C1, L, M, O, B, A]   \n5   [25, 36, 37, 38, 31, 27, 51, B, D, F, G, A, L,...   \n6   [25, 36, 37, 38, 34, 27, 51, B, D, F, G, A, L,...   \n7   [25, 36, 37, 38, 34, 27, 51, B, D, F, G, A, 50...   \n8   [25, 36, 37, 38, 31, 27, 51, B, D, E, F, H, A,...   \n9   [25, 36, 37, 38, 31, 27, 51, B, D, F, G, A, L,...   \n10                                 [C, F, G, O, LUF2]   \n11         [10, 14, 15, C1, H, L, M, O, DTM, HTM, VL]   \n12  [25, 36, 37, 38, 31, 27, 51, B, D, F, G, A, L,...   \n13  [25, 36, 37, 38, 34, 27, B, D, F, G, A, L, Dis...   \n14  [r36, r37, r38, r31, r27, rB, rD, rE, rF, rG, ...   \n15  [r25, r36, r37, r38, r34, r27, r51, rB, rD, rF...   \n16  [r25, r36, r37, r38, r31b, r27, r51, rB, rD, r...   \n17           [r1, r10, rC1, rC2, rL, rM, rN, rO, rVL]   \n18  [r36, r37, r38, r31, r27, rB, rD, rE, rF, rG, ...   \n19  [r25, r36, r37, r38, r31, r27, r51, rB, rD, rF...   \n20  [r25, r36, r37, r38, r31, r27, rB, rD, rE, rF,...   \n\n                           raw_course_ids_for_classes  \\\n0   [c0001, c0001, c0001, c0001, c0001, c0001, c00...   \n1   [c0131, c0131, c0131, c0211, c0211, c0211, c00...   \n2   [ChiGenAn, ChiGenAn, ChiGenAn, GeoAn, GeoAn, G...   \n3   [c0012, c0012, c0012, c0013, c0013, c0013, c00...   \n4   [LinTed1, AlfInf, LetIta1, LetIta1, LetIta1, F...   \n5   [c0006, c0006, c0006, c0011, c0011, c0011, c00...   \n6   [c0007, c0007, c0007, c0009, c0009, c0009, c00...   \n7   [c0012, c0012, c0012, c0013, c0013, c0013, c00...   \n8   [c0012, c0012, c0012, c0013, c0013, c0013, c00...   \n9   [c1001, c1001, c1001, c1022, c1022, c1022, c01...   \n10  [c0006, c0006, c0007, c0007, c0008, c0008, c00...   \n11  [AntCul, AntCul, ArcClaCS, ArcClaCS, ArcCla1, ...   \n12  [c0012, c0012, c0012, c0013, c0013, c0013, c00...   \n13  [c0772, c0772, c0772, c0793, c0793, c0793, c08...   \n14  [ChiGenAn, ChiGenAn, ChiGenAn, GeoAn, GeoAn, G...   \n15  [c0006, c0006, c0006, c0011, c0011, c0011, c00...   \n16  [c0006, c0006, c0006, c0011, c0011, c0011, c00...   \n17  [LET-STO-StoMed2, LET-STO-StoMed2, LET-STO-Sto...   \n18  [c0012, c0012, c0012, c0013, c0013, c0013, c00...   \n19  [c0007, c0007, c0007, c0009, c0009, c0009, c00...   \n20  [c0006, c0006, c0006, c0011, c0011, c0011, c00...   \n\n                                          dfs_results  dfs_success  \\\n0   {'success': True, 'operation_count': 160, 'bac...         True   \n1   {'success': False, 'operation_count': 10000, '...        False   \n2   {'success': True, 'operation_count': 251, 'bac...         True   \n3   {'success': True, 'operation_count': 286, 'bac...         True   \n4   {'success': False, 'operation_count': 10000, '...        False   \n5   {'success': True, 'operation_count': 361, 'bac...         True   \n6   {'success': True, 'operation_count': 434, 'bac...         True   \n7   {'success': True, 'operation_count': 324, 'bac...         True   \n8   {'success': True, 'operation_count': 279, 'bac...         True   \n9   {'success': True, 'operation_count': 370, 'bac...         True   \n10  {'success': True, 'operation_count': 162, 'bac...         True   \n11  {'success': True, 'operation_count': 218, 'bac...         True   \n12  {'success': True, 'operation_count': 308, 'bac...         True   \n13  {'success': True, 'operation_count': 275, 'bac...         True   \n14  {'success': True, 'operation_count': 251, 'bac...         True   \n15  {'success': True, 'operation_count': 366, 'bac...         True   \n16  {'success': True, 'operation_count': 339, 'bac...         True   \n17  {'success': True, 'operation_count': 138, 'bac...         True   \n18  {'success': False, 'operation_count': 10000, '...        False   \n19  {'success': True, 'operation_count': 390, 'bac...         True   \n20  {'success': True, 'operation_count': 327, 'bac...         True   \n\n    dfs_operation_count  dfs_backtrack_count   dfs_time  \\\n0                   160                    0   0.354529   \n1                 10000                 4953  30.177686   \n2                   251                    0   1.021645   \n3                   286                    0   1.401608   \n4                 10000                 4993  34.762075   \n5                   361                    0   2.211099   \n6                   434                    0   3.331126   \n7                   324                    0   1.765476   \n8                   279                    0   1.359354   \n9                   370                    0   2.345539   \n10                  162                    0   0.416032   \n11                  218                    0   0.778311   \n12                  308                    0   1.624666   \n13                  275                    0   1.203844   \n14                  251                    0   1.030096   \n15                  366                    0   2.482756   \n16                  339                    0   1.888710   \n17                  138                    0   0.303525   \n18                10000                 4927  22.219032   \n19                  390                    0   2.603070   \n20                  327                    0   1.868374   \n\n                                dfs_operation_history  \\\n0   [{'current_row': 1, 'time': 0.0050010681152343...   \n1   [{'current_row': 1, 'time': 0.0080001354217529...   \n2   [{'current_row': 1, 'time': 0.0079996585845947...   \n3   [{'current_row': 1, 'time': 0.0089998245239257...   \n4   [{'current_row': 1, 'time': 0.0070049762725830...   \n5   [{'current_row': 1, 'time': 0.0099995136260986...   \n6   [{'current_row': 1, 'time': 0.0159997940063476...   \n7   [{'current_row': 1, 'time': 0.0109999179840087...   \n8   [{'current_row': 1, 'time': 0.0089998245239257...   \n9   [{'current_row': 1, 'time': 0.0110001564025878...   \n10  [{'current_row': 1, 'time': 0.0049991607666015...   \n11  [{'current_row': 1, 'time': 0.0049996376037597...   \n12  [{'current_row': 1, 'time': 0.0110032558441162...   \n13  [{'current_row': 1, 'time': 0.0090003013610839...   \n14  [{'current_row': 1, 'time': 0.0089995861053466...   \n15  [{'current_row': 1, 'time': 0.0140004158020019...   \n16  [{'current_row': 1, 'time': 0.0095059871673583...   \n17  [{'current_row': 1, 'time': 0.0039997100830078...   \n18  [{'current_row': 1, 'time': 0.0069999694824218...   \n19  [{'current_row': 1, 'time': 0.0129997730255126...   \n20  [{'current_row': 1, 'time': 0.0089995861053466...   \n\n                                   solution_gene_file  \\\n0   D:\\Desktop\\done tests\\Depth_first_search with ...   \n1                                                None   \n2   D:\\Desktop\\done tests\\Depth_first_search with ...   \n3   D:\\Desktop\\done tests\\Depth_first_search with ...   \n4                                                None   \n5   D:\\Desktop\\done tests\\Depth_first_search with ...   \n6   D:\\Desktop\\done tests\\Depth_first_search with ...   \n7   D:\\Desktop\\done tests\\Depth_first_search with ...   \n8   D:\\Desktop\\done tests\\Depth_first_search with ...   \n9   D:\\Desktop\\done tests\\Depth_first_search with ...   \n10  D:\\Desktop\\done tests\\Depth_first_search with ...   \n11  D:\\Desktop\\done tests\\Depth_first_search with ...   \n12  D:\\Desktop\\done tests\\Depth_first_search with ...   \n13  D:\\Desktop\\done tests\\Depth_first_search with ...   \n14  D:\\Desktop\\done tests\\Depth_first_search with ...   \n15  D:\\Desktop\\done tests\\Depth_first_search with ...   \n16  D:\\Desktop\\done tests\\Depth_first_search with ...   \n17  D:\\Desktop\\done tests\\Depth_first_search with ...   \n18                                               None   \n19  D:\\Desktop\\done tests\\Depth_first_search with ...   \n20  D:\\Desktop\\done tests\\Depth_first_search with ...   \n\n                                        solution_gene       cost  class_count  \\\n0   [[0, 18], [0, 19], [0, 20], [0, 21], [0, 22], ...  (0, 1095)          160   \n1                                                None       None          283   \n2   [[7, 6], [7, 7], [7, 5], [5, 2], [5, 17], [6, ...  (0, 7260)          251   \n3   [[0, 15], [0, 17], [1, 2], [0, 12], [0, 13], [...  (0, 4835)          286   \n4                                                None       None          152   \n5   [[3, 13], [3, 14], [4, 0], [7, 16], [7, 17], [...  (0, 7853)          361   \n6   [[12, 16], [13, 3], [13, 7], [13, 20], [13, 23...  (0, 7640)          434   \n7   [[5, 4], [5, 5], [5, 6], [4, 15], [4, 16], [5,...  (0, 6892)          324   \n8   [[5, 22], [5, 20], [6, 10], [6, 2], [6, 3], [5...  (0, 6052)          279   \n9   [[5, 2], [5, 0], [5, 1], [10, 12], [10, 23], [...  (0, 6023)          370   \n10  [[0, 16], [0, 17], [0, 9], [0, 10], [1, 24], [...  (0, 1906)          162   \n11  [[3, 21], [2, 30], [4, 21], [5, 1], [4, 28], [...  (0, 3506)          218   \n12  [[2, 24], [4, 3], [4, 22], [1, 16], [2, 4], [2...  (0, 7608)          308   \n13  [[7, 7], [7, 19], [8, 5], [7, 17], [7, 23], [7...  (0, 5846)          275   \n14  [[7, 6], [7, 7], [7, 5], [5, 2], [5, 17], [6, ...  (0, 7260)          251   \n15  [[8, 18], [8, 16], [8, 1], [2, 11], [2, 13], [...  (0, 6046)          366   \n16  [[7, 15], [7, 16], [8, 0], [1, 10], [1, 11], [...  (0, 6135)          339   \n17  [[4, 19], [4, 20], [4, 21], [1, 22], [1, 23], ...  (0, 1216)          138   \n18                                               None       None          277   \n19  [[8, 13], [8, 14], [8, 16], [9, 0], [9, 2], [9...  (0, 8170)          390   \n20  [[8, 0], [8, 5], [8, 9], [3, 1], [3, 16], [3, ...  (0, 5018)          327   \n\n                                        solution_path  \n0   D:\\Desktop\\done tests\\Depth_first_search with ...  \n1                                                None  \n2   D:\\Desktop\\done tests\\Depth_first_search with ...  \n3   D:\\Desktop\\done tests\\Depth_first_search with ...  \n4                                                None  \n5   D:\\Desktop\\done tests\\Depth_first_search with ...  \n6   D:\\Desktop\\done tests\\Depth_first_search with ...  \n7   D:\\Desktop\\done tests\\Depth_first_search with ...  \n8   D:\\Desktop\\done tests\\Depth_first_search with ...  \n9   D:\\Desktop\\done tests\\Depth_first_search with ...  \n10  D:\\Desktop\\done tests\\Depth_first_search with ...  \n11  D:\\Desktop\\done tests\\Depth_first_search with ...  \n12  D:\\Desktop\\done tests\\Depth_first_search with ...  \n13  D:\\Desktop\\done tests\\Depth_first_search with ...  \n14  D:\\Desktop\\done tests\\Depth_first_search with ...  \n15  D:\\Desktop\\done tests\\Depth_first_search with ...  \n16  D:\\Desktop\\done tests\\Depth_first_search with ...  \n17  D:\\Desktop\\done tests\\Depth_first_search with ...  \n18                                               None  \n19  D:\\Desktop\\done tests\\Depth_first_search with ...  \n20  D:\\Desktop\\done tests\\Depth_first_search with ...  ",
      "text/html": "<div>\n<style scoped>\n    .dataframe tbody tr th:only-of-type {\n        vertical-align: middle;\n    }\n\n    .dataframe tbody tr th {\n        vertical-align: top;\n    }\n\n    .dataframe thead th {\n        text-align: right;\n    }\n</style>\n<table border=\"1\" class=\"dataframe\">\n  <thead>\n    <tr style=\"text-align: right;\">\n      <th></th>\n      <th>folder</th>\n      <th>folder path</th>\n      <th>experiment_details</th>\n      <th>instance_name</th>\n      <th>instance_file</th>\n      <th>problem_stats</th>\n      <th>raw_room_ids</th>\n      <th>raw_course_ids_for_classes</th>\n      <th>dfs_results</th>\n      <th>dfs_success</th>\n      <th>dfs_operation_count</th>\n      <th>dfs_backtrack_count</th>\n      <th>dfs_time</th>\n      <th>dfs_operation_history</th>\n      <th>solution_gene_file</th>\n      <th>solution_gene</th>\n      <th>cost</th>\n      <th>class_count</th>\n      <th>solution_path</th>\n    </tr>\n  </thead>\n  <tbody>\n    <tr>\n      <th>0</th>\n      <td>comp01</td>\n      <td>D:\\Desktop\\done tests\\Depth_first_search with ...</td>\n      <td>&lt;experiment_details.ExperimentDetails object a...</td>\n      <td>comp01</td>\n      <td>D:\\Desktop\\Datasets\\curriculum\\comp01.ctt</td>\n      <td>{'name': 'Fis0506-1', 'course_count': 30, 'roo...</td>\n      <td>[B, C, E, F, G, S]</td>\n      <td>[c0001, c0001, c0001, c0001, c0001, c0001, c00...</td>\n      <td>{'success': True, 'operation_count': 160, 'bac...</td>\n      <td>True</td>\n      <td>160</td>\n      <td>0</td>\n      <td>0.354529</td>\n      <td>[{'current_row': 1, 'time': 0.0050010681152343...</td>\n      <td>D:\\Desktop\\done tests\\Depth_first_search with ...</td>\n      <td>[[0, 18], [0, 19], [0, 20], [0, 21], [0, 22], ...</td>\n      <td>(0, 1095)</td>\n      <td>160</td>\n      <td>D:\\Desktop\\done tests\\Depth_first_search with ...</td>\n    </tr>\n    <tr>\n      <th>1</th>\n      <td>comp02</td>\n      <td>D:\\Desktop\\done tests\\Depth_first_search with ...</td>\n      <td>&lt;experiment_details.ExperimentDetails object a...</td>\n      <td>comp02</td>\n      <td>D:\\Desktop\\Datasets\\curriculum\\comp02.ctt</td>\n      <td>{'name': 'Ing0203-2', 'course_count': 82, 'roo...</td>\n      <td>[36, 37, 38, 31, 27, B, D, E, F, G, A, L, 50, ...</td>\n      <td>[c0131, c0131, c0131, c0211, c0211, c0211, c00...</td>\n      <td>{'success': False, 'operation_count': 10000, '...</td>\n      <td>False</td>\n      <td>10000</td>\n      <td>4953</td>\n      <td>30.177686</td>\n      <td>[{'current_row': 1, 'time': 0.0080001354217529...</td>\n      <td>None</td>\n      <td>None</td>\n      <td>None</td>\n      <td>283</td>\n      <td>None</td>\n    </tr>\n    <tr>\n      <th>2</th>\n      <td>comp03</td>\n      <td>D:\\Desktop\\done tests\\Depth_first_search with ...</td>\n      <td>&lt;experiment_details.ExperimentDetails object a...</td>\n      <td>comp03</td>\n      <td>D:\\Desktop\\Datasets\\curriculum\\comp03.ctt</td>\n      <td>{'name': 'Ing0304-1', 'course_count': 72, 'roo...</td>\n      <td>[36, 37, 38, 31, 27, B, D, E, F, G, A, L, 50, ...</td>\n      <td>[ChiGenAn, ChiGenAn, ChiGenAn, GeoAn, GeoAn, G...</td>\n      <td>{'success': True, 'operation_count': 251, 'bac...</td>\n      <td>True</td>\n      <td>251</td>\n      <td>0</td>\n      <td>1.021645</td>\n      <td>[{'current_row': 1, 'time': 0.0079996585845947...</td>\n      <td>D:\\Desktop\\done tests\\Depth_first_search with ...</td>\n      <td>[[7, 6], [7, 7], [7, 5], [5, 2], [5, 17], [6, ...</td>\n      <td>(0, 7260)</td>\n      <td>251</td>\n      <td>D:\\Desktop\\done tests\\Depth_first_search with ...</td>\n    </tr>\n    <tr>\n      <th>3</th>\n      <td>comp04</td>\n      <td>D:\\Desktop\\done tests\\Depth_first_search with ...</td>\n      <td>&lt;experiment_details.ExperimentDetails object a...</td>\n      <td>comp04</td>\n      <td>D:\\Desktop\\Datasets\\curriculum\\comp04.ctt</td>\n      <td>{'name': 'Ing0405-3', 'course_count': 79, 'roo...</td>\n      <td>[25, 36, 37, 38, 31, 27, 51, B, D, F, G, A, L,...</td>\n      <td>[c0012, c0012, c0012, c0013, c0013, c0013, c00...</td>\n      <td>{'success': True, 'operation_count': 286, 'bac...</td>\n      <td>True</td>\n      <td>286</td>\n      <td>0</td>\n      <td>1.401608</td>\n      <td>[{'current_row': 1, 'time': 0.0089998245239257...</td>\n      <td>D:\\Desktop\\done tests\\Depth_first_search with ...</td>\n      <td>[[0, 15], [0, 17], [1, 2], [0, 12], [0, 13], [...</td>\n      <td>(0, 4835)</td>\n      <td>286</td>\n      <td>D:\\Desktop\\done tests\\Depth_first_search with ...</td>\n    </tr>\n    <tr>\n      <th>4</th>\n      <td>comp05</td>\n      <td>D:\\Desktop\\done tests\\Depth_first_search with ...</td>\n      <td>&lt;experiment_details.ExperimentDetails object a...</td>\n      <td>comp05</td>\n      <td>D:\\Desktop\\Datasets\\curriculum\\comp05.ctt</td>\n      <td>{'name': 'Let0405-1', 'course_count': 54, 'roo...</td>\n      <td>[10, 14, 15, C1, L, M, O, B, A]</td>\n      <td>[LinTed1, AlfInf, LetIta1, LetIta1, LetIta1, F...</td>\n      <td>{'success': False, 'operation_count': 10000, '...</td>\n      <td>False</td>\n      <td>10000</td>\n      <td>4993</td>\n      <td>34.762075</td>\n      <td>[{'current_row': 1, 'time': 0.0070049762725830...</td>\n      <td>None</td>\n      <td>None</td>\n      <td>None</td>\n      <td>152</td>\n      <td>None</td>\n    </tr>\n    <tr>\n      <th>5</th>\n      <td>comp06</td>\n      <td>D:\\Desktop\\done tests\\Depth_first_search with ...</td>\n      <td>&lt;experiment_details.ExperimentDetails object a...</td>\n      <td>comp06</td>\n      <td>D:\\Desktop\\Datasets\\curriculum\\comp06.ctt</td>\n      <td>{'name': 'Ing0506-1', 'course_count': 108, 'ro...</td>\n      <td>[25, 36, 37, 38, 31, 27, 51, B, D, F, G, A, L,...</td>\n      <td>[c0006, c0006, c0006, c0011, c0011, c0011, c00...</td>\n      <td>{'success': True, 'operation_count': 361, 'bac...</td>\n      <td>True</td>\n      <td>361</td>\n      <td>0</td>\n      <td>2.211099</td>\n      <td>[{'current_row': 1, 'time': 0.0099995136260986...</td>\n      <td>D:\\Desktop\\done tests\\Depth_first_search with ...</td>\n      <td>[[3, 13], [3, 14], [4, 0], [7, 16], [7, 17], [...</td>\n      <td>(0, 7853)</td>\n      <td>361</td>\n      <td>D:\\Desktop\\done tests\\Depth_first_search with ...</td>\n    </tr>\n    <tr>\n      <th>6</th>\n      <td>comp07</td>\n      <td>D:\\Desktop\\done tests\\Depth_first_search with ...</td>\n      <td>&lt;experiment_details.ExperimentDetails object a...</td>\n      <td>comp07</td>\n      <td>D:\\Desktop\\Datasets\\curriculum\\comp07.ctt</td>\n      <td>{'name': 'Ing0607-2', 'course_count': 131, 'ro...</td>\n      <td>[25, 36, 37, 38, 34, 27, 51, B, D, F, G, A, L,...</td>\n      <td>[c0007, c0007, c0007, c0009, c0009, c0009, c00...</td>\n      <td>{'success': True, 'operation_count': 434, 'bac...</td>\n      <td>True</td>\n      <td>434</td>\n      <td>0</td>\n      <td>3.331126</td>\n      <td>[{'current_row': 1, 'time': 0.0159997940063476...</td>\n      <td>D:\\Desktop\\done tests\\Depth_first_search with ...</td>\n      <td>[[12, 16], [13, 3], [13, 7], [13, 20], [13, 23...</td>\n      <td>(0, 7640)</td>\n      <td>434</td>\n      <td>D:\\Desktop\\done tests\\Depth_first_search with ...</td>\n    </tr>\n    <tr>\n      <th>7</th>\n      <td>comp08</td>\n      <td>D:\\Desktop\\done tests\\Depth_first_search with ...</td>\n      <td>&lt;experiment_details.ExperimentDetails object a...</td>\n      <td>comp08</td>\n      <td>D:\\Desktop\\Datasets\\curriculum\\comp08.ctt</td>\n      <td>{'name': 'Ing0607-3', 'course_count': 86, 'roo...</td>\n      <td>[25, 36, 37, 38, 34, 27, 51, B, D, F, G, A, 50...</td>\n      <td>[c0012, c0012, c0012, c0013, c0013, c0013, c00...</td>\n      <td>{'success': True, 'operation_count': 324, 'bac...</td>\n      <td>True</td>\n      <td>324</td>\n      <td>0</td>\n      <td>1.765476</td>\n      <td>[{'current_row': 1, 'time': 0.0109999179840087...</td>\n      <td>D:\\Desktop\\done tests\\Depth_first_search with ...</td>\n      <td>[[5, 4], [5, 5], [5, 6], [4, 15], [4, 16], [5,...</td>\n      <td>(0, 6892)</td>\n      <td>324</td>\n      <td>D:\\Desktop\\done tests\\Depth_first_search with ...</td>\n    </tr>\n    <tr>\n      <th>8</th>\n      <td>comp09</td>\n      <td>D:\\Desktop\\done tests\\Depth_first_search with ...</td>\n      <td>&lt;experiment_details.ExperimentDetails object a...</td>\n      <td>comp09</td>\n      <td>D:\\Desktop\\Datasets\\curriculum\\comp09.ctt</td>\n      <td>{'name': 'Ing0304-3', 'course_count': 76, 'roo...</td>\n      <td>[25, 36, 37, 38, 31, 27, 51, B, D, E, F, H, A,...</td>\n      <td>[c0012, c0012, c0012, c0013, c0013, c0013, c00...</td>\n      <td>{'success': True, 'operation_count': 279, 'bac...</td>\n      <td>True</td>\n      <td>279</td>\n      <td>0</td>\n      <td>1.359354</td>\n      <td>[{'current_row': 1, 'time': 0.0089998245239257...</td>\n      <td>D:\\Desktop\\done tests\\Depth_first_search with ...</td>\n      <td>[[5, 22], [5, 20], [6, 10], [6, 2], [6, 3], [5...</td>\n      <td>(0, 6052)</td>\n      <td>279</td>\n      <td>D:\\Desktop\\done tests\\Depth_first_search with ...</td>\n    </tr>\n    <tr>\n      <th>9</th>\n      <td>comp10</td>\n      <td>D:\\Desktop\\done tests\\Depth_first_search with ...</td>\n      <td>&lt;experiment_details.ExperimentDetails object a...</td>\n      <td>comp10</td>\n      <td>D:\\Desktop\\Datasets\\curriculum\\comp10.ctt</td>\n      <td>{'name': 'Ing0405-2', 'course_count': 115, 'ro...</td>\n      <td>[25, 36, 37, 38, 31, 27, 51, B, D, F, G, A, L,...</td>\n      <td>[c1001, c1001, c1001, c1022, c1022, c1022, c01...</td>\n      <td>{'success': True, 'operation_count': 370, 'bac...</td>\n      <td>True</td>\n      <td>370</td>\n      <td>0</td>\n      <td>2.345539</td>\n      <td>[{'current_row': 1, 'time': 0.0110001564025878...</td>\n      <td>D:\\Desktop\\done tests\\Depth_first_search with ...</td>\n      <td>[[5, 2], [5, 0], [5, 1], [10, 12], [10, 23], [...</td>\n      <td>(0, 6023)</td>\n      <td>370</td>\n      <td>D:\\Desktop\\done tests\\Depth_first_search with ...</td>\n    </tr>\n    <tr>\n      <th>10</th>\n      <td>comp11</td>\n      <td>D:\\Desktop\\done tests\\Depth_first_search with ...</td>\n      <td>&lt;experiment_details.ExperimentDetails object a...</td>\n      <td>comp11</td>\n      <td>D:\\Desktop\\Datasets\\curriculum\\comp11.ctt</td>\n      <td>{'name': 'Fis0506-2', 'course_count': 30, 'roo...</td>\n      <td>[C, F, G, O, LUF2]</td>\n      <td>[c0006, c0006, c0007, c0007, c0008, c0008, c00...</td>\n      <td>{'success': True, 'operation_count': 162, 'bac...</td>\n      <td>True</td>\n      <td>162</td>\n      <td>0</td>\n      <td>0.416032</td>\n      <td>[{'current_row': 1, 'time': 0.0049991607666015...</td>\n      <td>D:\\Desktop\\done tests\\Depth_first_search with ...</td>\n      <td>[[0, 16], [0, 17], [0, 9], [0, 10], [1, 24], [...</td>\n      <td>(0, 1906)</td>\n      <td>162</td>\n      <td>D:\\Desktop\\done tests\\Depth_first_search with ...</td>\n    </tr>\n    <tr>\n      <th>11</th>\n      <td>comp12</td>\n      <td>D:\\Desktop\\done tests\\Depth_first_search with ...</td>\n      <td>&lt;experiment_details.ExperimentDetails object a...</td>\n      <td>comp12</td>\n      <td>D:\\Desktop\\Datasets\\curriculum\\comp12.ctt</td>\n      <td>{'name': 'Let0506-2', 'course_count': 88, 'roo...</td>\n      <td>[10, 14, 15, C1, H, L, M, O, DTM, HTM, VL]</td>\n      <td>[AntCul, AntCul, ArcClaCS, ArcClaCS, ArcCla1, ...</td>\n      <td>{'success': True, 'operation_count': 218, 'bac...</td>\n      <td>True</td>\n      <td>218</td>\n      <td>0</td>\n      <td>0.778311</td>\n      <td>[{'current_row': 1, 'time': 0.0049996376037597...</td>\n      <td>D:\\Desktop\\done tests\\Depth_first_search with ...</td>\n      <td>[[3, 21], [2, 30], [4, 21], [5, 1], [4, 28], [...</td>\n      <td>(0, 3506)</td>\n      <td>218</td>\n      <td>D:\\Desktop\\done tests\\Depth_first_search with ...</td>\n    </tr>\n    <tr>\n      <th>12</th>\n      <td>comp13</td>\n      <td>D:\\Desktop\\done tests\\Depth_first_search with ...</td>\n      <td>&lt;experiment_details.ExperimentDetails object a...</td>\n      <td>comp13</td>\n      <td>D:\\Desktop\\Datasets\\curriculum\\comp13.ctt</td>\n      <td>{'name': 'Ing0506-3', 'course_count': 82, 'roo...</td>\n      <td>[25, 36, 37, 38, 31, 27, 51, B, D, F, G, A, L,...</td>\n      <td>[c0012, c0012, c0012, c0013, c0013, c0013, c00...</td>\n      <td>{'success': True, 'operation_count': 308, 'bac...</td>\n      <td>True</td>\n      <td>308</td>\n      <td>0</td>\n      <td>1.624666</td>\n      <td>[{'current_row': 1, 'time': 0.0110032558441162...</td>\n      <td>D:\\Desktop\\done tests\\Depth_first_search with ...</td>\n      <td>[[2, 24], [4, 3], [4, 22], [1, 16], [2, 4], [2...</td>\n      <td>(0, 7608)</td>\n      <td>308</td>\n      <td>D:\\Desktop\\done tests\\Depth_first_search with ...</td>\n    </tr>\n    <tr>\n      <th>13</th>\n      <td>comp14</td>\n      <td>D:\\Desktop\\done tests\\Depth_first_search with ...</td>\n      <td>&lt;experiment_details.ExperimentDetails object a...</td>\n      <td>comp14</td>\n      <td>D:\\Desktop\\Datasets\\curriculum\\comp14.ctt</td>\n      <td>{'name': 'Ing0708-1', 'course_count': 85, 'roo...</td>\n      <td>[25, 36, 37, 38, 34, 27, B, D, F, G, A, L, Dis...</td>\n      <td>[c0772, c0772, c0772, c0793, c0793, c0793, c08...</td>\n      <td>{'success': True, 'operation_count': 275, 'bac...</td>\n      <td>True</td>\n      <td>275</td>\n      <td>0</td>\n      <td>1.203844</td>\n      <td>[{'current_row': 1, 'time': 0.0090003013610839...</td>\n      <td>D:\\Desktop\\done tests\\Depth_first_search with ...</td>\n      <td>[[7, 7], [7, 19], [8, 5], [7, 17], [7, 23], [7...</td>\n      <td>(0, 5846)</td>\n      <td>275</td>\n      <td>D:\\Desktop\\done tests\\Depth_first_search with ...</td>\n    </tr>\n    <tr>\n      <th>14</th>\n      <td>comp15</td>\n      <td>D:\\Desktop\\done tests\\Depth_first_search with ...</td>\n      <td>&lt;experiment_details.ExperimentDetails object a...</td>\n      <td>comp15</td>\n      <td>D:\\Desktop\\Datasets\\curriculum\\comp15.ctt</td>\n      <td>{'name': 'Ing0203-1', 'course_count': 72, 'roo...</td>\n      <td>[r36, r37, r38, r31, r27, rB, rD, rE, rF, rG, ...</td>\n      <td>[ChiGenAn, ChiGenAn, ChiGenAn, GeoAn, GeoAn, G...</td>\n      <td>{'success': True, 'operation_count': 251, 'bac...</td>\n      <td>True</td>\n      <td>251</td>\n      <td>0</td>\n      <td>1.030096</td>\n      <td>[{'current_row': 1, 'time': 0.0089995861053466...</td>\n      <td>D:\\Desktop\\done tests\\Depth_first_search with ...</td>\n      <td>[[7, 6], [7, 7], [7, 5], [5, 2], [5, 17], [6, ...</td>\n      <td>(0, 7260)</td>\n      <td>251</td>\n      <td>D:\\Desktop\\done tests\\Depth_first_search with ...</td>\n    </tr>\n    <tr>\n      <th>15</th>\n      <td>comp16</td>\n      <td>D:\\Desktop\\done tests\\Depth_first_search with ...</td>\n      <td>&lt;experiment_details.ExperimentDetails object a...</td>\n      <td>comp16</td>\n      <td>D:\\Desktop\\Datasets\\curriculum\\comp16.ctt</td>\n      <td>{'name': 'Ing0607-1', 'course_count': 108, 'ro...</td>\n      <td>[r25, r36, r37, r38, r34, r27, r51, rB, rD, rF...</td>\n      <td>[c0006, c0006, c0006, c0011, c0011, c0011, c00...</td>\n      <td>{'success': True, 'operation_count': 366, 'bac...</td>\n      <td>True</td>\n      <td>366</td>\n      <td>0</td>\n      <td>2.482756</td>\n      <td>[{'current_row': 1, 'time': 0.0140004158020019...</td>\n      <td>D:\\Desktop\\done tests\\Depth_first_search with ...</td>\n      <td>[[8, 18], [8, 16], [8, 1], [2, 11], [2, 13], [...</td>\n      <td>(0, 6046)</td>\n      <td>366</td>\n      <td>D:\\Desktop\\done tests\\Depth_first_search with ...</td>\n    </tr>\n    <tr>\n      <th>16</th>\n      <td>comp17</td>\n      <td>D:\\Desktop\\done tests\\Depth_first_search with ...</td>\n      <td>&lt;experiment_details.ExperimentDetails object a...</td>\n      <td>comp17</td>\n      <td>D:\\Desktop\\Datasets\\curriculum\\comp17.ctt</td>\n      <td>{'name': 'Ing0405-1', 'course_count': 99, 'roo...</td>\n      <td>[r25, r36, r37, r38, r31b, r27, r51, rB, rD, r...</td>\n      <td>[c0006, c0006, c0006, c0011, c0011, c0011, c00...</td>\n      <td>{'success': True, 'operation_count': 339, 'bac...</td>\n      <td>True</td>\n      <td>339</td>\n      <td>0</td>\n      <td>1.888710</td>\n      <td>[{'current_row': 1, 'time': 0.0095059871673583...</td>\n      <td>D:\\Desktop\\done tests\\Depth_first_search with ...</td>\n      <td>[[7, 15], [7, 16], [8, 0], [1, 10], [1, 11], [...</td>\n      <td>(0, 6135)</td>\n      <td>339</td>\n      <td>D:\\Desktop\\done tests\\Depth_first_search with ...</td>\n    </tr>\n    <tr>\n      <th>17</th>\n      <td>comp18</td>\n      <td>D:\\Desktop\\done tests\\Depth_first_search with ...</td>\n      <td>&lt;experiment_details.ExperimentDetails object a...</td>\n      <td>comp18</td>\n      <td>D:\\Desktop\\Datasets\\curriculum\\comp18.ctt</td>\n      <td>{'name': 'Let0304-1', 'course_count': 47, 'roo...</td>\n      <td>[r1, r10, rC1, rC2, rL, rM, rN, rO, rVL]</td>\n      <td>[LET-STO-StoMed2, LET-STO-StoMed2, LET-STO-Sto...</td>\n      <td>{'success': True, 'operation_count': 138, 'bac...</td>\n      <td>True</td>\n      <td>138</td>\n      <td>0</td>\n      <td>0.303525</td>\n      <td>[{'current_row': 1, 'time': 0.0039997100830078...</td>\n      <td>D:\\Desktop\\done tests\\Depth_first_search with ...</td>\n      <td>[[4, 19], [4, 20], [4, 21], [1, 22], [1, 23], ...</td>\n      <td>(0, 1216)</td>\n      <td>138</td>\n      <td>D:\\Desktop\\done tests\\Depth_first_search with ...</td>\n    </tr>\n    <tr>\n      <th>18</th>\n      <td>comp19</td>\n      <td>D:\\Desktop\\done tests\\Depth_first_search with ...</td>\n      <td>&lt;experiment_details.ExperimentDetails object a...</td>\n      <td>comp19</td>\n      <td>D:\\Desktop\\Datasets\\curriculum\\comp19.ctt</td>\n      <td>{'name': 'Ing0203-3', 'course_count': 74, 'roo...</td>\n      <td>[r36, r37, r38, r31, r27, rB, rD, rE, rF, rG, ...</td>\n      <td>[c0012, c0012, c0012, c0013, c0013, c0013, c00...</td>\n      <td>{'success': False, 'operation_count': 10000, '...</td>\n      <td>False</td>\n      <td>10000</td>\n      <td>4927</td>\n      <td>22.219032</td>\n      <td>[{'current_row': 1, 'time': 0.0069999694824218...</td>\n      <td>None</td>\n      <td>None</td>\n      <td>None</td>\n      <td>277</td>\n      <td>None</td>\n    </tr>\n    <tr>\n      <th>19</th>\n      <td>comp20</td>\n      <td>D:\\Desktop\\done tests\\Depth_first_search with ...</td>\n      <td>&lt;experiment_details.ExperimentDetails object a...</td>\n      <td>comp20</td>\n      <td>D:\\Desktop\\Datasets\\curriculum\\comp20.ctt</td>\n      <td>{'name': 'Ing0506-2', 'course_count': 121, 'ro...</td>\n      <td>[r25, r36, r37, r38, r31, r27, r51, rB, rD, rF...</td>\n      <td>[c0007, c0007, c0007, c0009, c0009, c0009, c00...</td>\n      <td>{'success': True, 'operation_count': 390, 'bac...</td>\n      <td>True</td>\n      <td>390</td>\n      <td>0</td>\n      <td>2.603070</td>\n      <td>[{'current_row': 1, 'time': 0.0129997730255126...</td>\n      <td>D:\\Desktop\\done tests\\Depth_first_search with ...</td>\n      <td>[[8, 13], [8, 14], [8, 16], [9, 0], [9, 2], [9...</td>\n      <td>(0, 8170)</td>\n      <td>390</td>\n      <td>D:\\Desktop\\done tests\\Depth_first_search with ...</td>\n    </tr>\n    <tr>\n      <th>20</th>\n      <td>comp21</td>\n      <td>D:\\Desktop\\done tests\\Depth_first_search with ...</td>\n      <td>&lt;experiment_details.ExperimentDetails object a...</td>\n      <td>comp21</td>\n      <td>D:\\Desktop\\Datasets\\curriculum\\comp21.ctt</td>\n      <td>{'name': 'Ing0304-2', 'course_count': 94, 'roo...</td>\n      <td>[r25, r36, r37, r38, r31, r27, rB, rD, rE, rF,...</td>\n      <td>[c0006, c0006, c0006, c0011, c0011, c0011, c00...</td>\n      <td>{'success': True, 'operation_count': 327, 'bac...</td>\n      <td>True</td>\n      <td>327</td>\n      <td>0</td>\n      <td>1.868374</td>\n      <td>[{'current_row': 1, 'time': 0.0089995861053466...</td>\n      <td>D:\\Desktop\\done tests\\Depth_first_search with ...</td>\n      <td>[[8, 0], [8, 5], [8, 9], [3, 1], [3, 16], [3, ...</td>\n      <td>(0, 5018)</td>\n      <td>327</td>\n      <td>D:\\Desktop\\done tests\\Depth_first_search with ...</td>\n    </tr>\n  </tbody>\n</table>\n</div>"
     },
     "execution_count": 22,
     "metadata": {},
     "output_type": "execute_result"
    }
   ],
   "source": [
    "itc07_t3_dfs_res"
   ],
   "metadata": {
    "collapsed": false,
    "ExecuteTime": {
     "end_time": "2024-04-29T11:52:38.653315500Z",
     "start_time": "2024-04-29T11:52:37.291740700Z"
    }
   },
   "id": "f78da2f435fb2a0c"
  },
  {
   "cell_type": "code",
   "execution_count": 23,
   "outputs": [
    {
     "name": "stderr",
     "output_type": "stream",
     "text": [
      "C:\\Users\\ADMIN\\AppData\\Local\\Temp\\ipykernel_20216\\110844462.py:31: SettingWithCopyWarning: \n",
      "A value is trying to be set on a copy of a slice from a DataFrame.\n",
      "Try using .loc[row_indexer,col_indexer] = value instead\n",
      "\n",
      "See the caveats in the documentation: https://pandas.pydata.org/pandas-docs/stable/user_guide/indexing.html#returning-a-view-versus-a-copy\n",
      "  it07t3_dfs_succeeded.loc[:, 'validator_cost'] = it07t3_dfs_succeeded.apply(\n"
     ]
    }
   ],
   "source": [
    "# for each instance, pass through the validator and check if the solution is valid by compiling and running the required cpp file\n",
    "\n",
    "\n",
    "def validate_itc2007_track3(problem_path, solution_path, results_path):\n",
    "    import subprocess\n",
    "\n",
    "    validator_exe = 'D:\\\\Desktop\\\\itc validators\\\\2007cb\\\\x64\\\\Release\\\\2007cb.exe'\n",
    "    command = [validator_exe, problem_path, solution_path]\n",
    "\n",
    "    process = subprocess.run(command, capture_output=True)\n",
    "\n",
    "    output_data = process.stdout\n",
    "\n",
    "    with open(results_path, 'w') as f:\n",
    "        f.write(output_data.decode())\n",
    "\n",
    "    # Check the return code\n",
    "    if process.returncode != 0:\n",
    "        print(f\"Command failed with exit code {process.returncode}\")\n",
    "\n",
    "    output_string = output_data.decode()\n",
    "\n",
    "    hard_lines = re.findall(r'\\(hard\\) : (\\d+)', output_string)\n",
    "    hard_constraint_violations = np.sum([int(line) for line in hard_lines])\n",
    "\n",
    "    soft_constraint_violations = int(re.search(r'Total Cost = (\\d+)', output_string).group(1))\n",
    "\n",
    "    return hard_constraint_violations, soft_constraint_violations\n",
    "\n",
    "\n",
    "it07t3_dfs_succeeded.loc[:, 'validator_cost'] = it07t3_dfs_succeeded.apply(\n",
    "    lambda x: validate_itc2007_track3(x['instance_file'], x['solution_path'],\n",
    "                                      os.path.join(x['folder path'], 'validation_results.txt')), axis=1)"
   ],
   "metadata": {
    "collapsed": false,
    "ExecuteTime": {
     "end_time": "2024-04-29T11:52:44.228359900Z",
     "start_time": "2024-04-29T11:52:38.621314700Z"
    }
   },
   "id": "541e9543de0e3685"
  },
  {
   "cell_type": "code",
   "execution_count": 24,
   "outputs": [
    {
     "name": "stderr",
     "output_type": "stream",
     "text": [
      "C:\\Users\\ADMIN\\AppData\\Local\\Temp\\ipykernel_20216\\4123709496.py:42: SettingWithCopyWarning: \n",
      "A value is trying to be set on a copy of a slice from a DataFrame.\n",
      "Try using .loc[row_indexer,col_indexer] = value instead\n",
      "\n",
      "See the caveats in the documentation: https://pandas.pydata.org/pandas-docs/stable/user_guide/indexing.html#returning-a-view-versus-a-copy\n",
      "  it19_dfs_succeeded['validator_cost'] = it19_dfs_succeeded.apply(\n"
     ]
    },
    {
     "data": {
      "text/plain": "      instance_name         cost validator_cost\n1     agh-fis-spr17   (0, 50280)     (0, 50280)\n5         bet-fal17  (0, 409830)    (0, 409830)\n9        lums-fal17    (0, 2886)      (0, 2886)\n10       lums-spr18    (0, 1231)      (0, 1231)\n11       mary-fal18   (0, 53127)     (0, 53127)\n12       mary-spr17   (0, 66642)     (0, 66642)\n13    muni-fi-fal17   (0, 29054)     (0, 29054)\n14    muni-fi-spr16   (0, 25394)     (0, 25394)\n15    muni-fi-spr17   (0, 24979)     (0, 24979)\n16  muni-fsps-spr17  (0, 235104)    (0, 235104)\n19   muni-pdf-spr16  (0, 386779)    (0, 386779)\n22        nbi-spr18  (0, 133256)    (0, 133256)",
      "text/html": "<div>\n<style scoped>\n    .dataframe tbody tr th:only-of-type {\n        vertical-align: middle;\n    }\n\n    .dataframe tbody tr th {\n        vertical-align: top;\n    }\n\n    .dataframe thead th {\n        text-align: right;\n    }\n</style>\n<table border=\"1\" class=\"dataframe\">\n  <thead>\n    <tr style=\"text-align: right;\">\n      <th></th>\n      <th>instance_name</th>\n      <th>cost</th>\n      <th>validator_cost</th>\n    </tr>\n  </thead>\n  <tbody>\n    <tr>\n      <th>1</th>\n      <td>agh-fis-spr17</td>\n      <td>(0, 50280)</td>\n      <td>(0, 50280)</td>\n    </tr>\n    <tr>\n      <th>5</th>\n      <td>bet-fal17</td>\n      <td>(0, 409830)</td>\n      <td>(0, 409830)</td>\n    </tr>\n    <tr>\n      <th>9</th>\n      <td>lums-fal17</td>\n      <td>(0, 2886)</td>\n      <td>(0, 2886)</td>\n    </tr>\n    <tr>\n      <th>10</th>\n      <td>lums-spr18</td>\n      <td>(0, 1231)</td>\n      <td>(0, 1231)</td>\n    </tr>\n    <tr>\n      <th>11</th>\n      <td>mary-fal18</td>\n      <td>(0, 53127)</td>\n      <td>(0, 53127)</td>\n    </tr>\n    <tr>\n      <th>12</th>\n      <td>mary-spr17</td>\n      <td>(0, 66642)</td>\n      <td>(0, 66642)</td>\n    </tr>\n    <tr>\n      <th>13</th>\n      <td>muni-fi-fal17</td>\n      <td>(0, 29054)</td>\n      <td>(0, 29054)</td>\n    </tr>\n    <tr>\n      <th>14</th>\n      <td>muni-fi-spr16</td>\n      <td>(0, 25394)</td>\n      <td>(0, 25394)</td>\n    </tr>\n    <tr>\n      <th>15</th>\n      <td>muni-fi-spr17</td>\n      <td>(0, 24979)</td>\n      <td>(0, 24979)</td>\n    </tr>\n    <tr>\n      <th>16</th>\n      <td>muni-fsps-spr17</td>\n      <td>(0, 235104)</td>\n      <td>(0, 235104)</td>\n    </tr>\n    <tr>\n      <th>19</th>\n      <td>muni-pdf-spr16</td>\n      <td>(0, 386779)</td>\n      <td>(0, 386779)</td>\n    </tr>\n    <tr>\n      <th>22</th>\n      <td>nbi-spr18</td>\n      <td>(0, 133256)</td>\n      <td>(0, 133256)</td>\n    </tr>\n  </tbody>\n</table>\n</div>"
     },
     "execution_count": 24,
     "metadata": {},
     "output_type": "execute_result"
    }
   ],
   "source": [
    "#read yaml file\n",
    "\n",
    "\n",
    "def validate_itc2019(problem_path, solution_path, results_path):\n",
    "    # send an api request similar to the following\n",
    "    #curl \\\n",
    "    #-u email:password \\\n",
    "    #-H \"Content-Type:text/xml;charset=UTF-8\" \\\n",
    "    #-d @solution.xml \\\n",
    "    #https://www.itc2019.org/itc2019-validator\n",
    "\n",
    "    with open('itc2019creds.yaml', 'r') as file:\n",
    "        credentials = yaml.safe_load(file)\n",
    "\n",
    "    import requests\n",
    "\n",
    "    with open(solution_path, 'rb') as f:\n",
    "        solution_data = f.read()\n",
    "\n",
    "    url = 'https://www.itc2019.org/itc2019-validator'\n",
    "\n",
    "    headers = {\n",
    "        'Content-Type': 'text/xml;charset=UTF-8'\n",
    "    }\n",
    "\n",
    "    response = requests.post(url, headers=headers, data=solution_data,\n",
    "                             auth=(credentials['email'], credentials['password']))\n",
    "\n",
    "    with open(results_path, 'w') as f:\n",
    "        f.write(response.text)\n",
    "\n",
    "    data = json.loads(response.text)\n",
    "\n",
    "    result = data.get('result')\n",
    "    soft = data.get('totalCost', {}).get('value', -1)\n",
    "\n",
    "    hard = 0 if result == 'OK' else 999999999\n",
    "\n",
    "    return hard, soft\n",
    "\n",
    "\n",
    "it19_dfs_succeeded['validator_cost'] = it19_dfs_succeeded.apply(\n",
    "    lambda x: validate_itc2019(x['instance_file'], x['solution_path'],\n",
    "                               os.path.join(x['folder path'], 'validation_results.txt')), axis=1)\n",
    "\n",
    "it19_dfs_succeeded[['instance_name', 'cost', 'validator_cost']]"
   ],
   "metadata": {
    "collapsed": false,
    "ExecuteTime": {
     "end_time": "2024-04-29T11:53:13.354668200Z",
     "start_time": "2024-04-29T11:52:44.227357900Z"
    }
   },
   "id": "7c98ca99a6a43bbb"
  },
  {
   "cell_type": "code",
   "execution_count": 29,
   "outputs": [
    {
     "data": {
      "text/plain": "   instance_name  dfs_success  class_count       cost\n0         comp01         True          160  (0, 1095)\n1         comp02        False          283       None\n2         comp03         True          251  (0, 7260)\n3         comp04         True          286  (0, 4835)\n4         comp05        False          152       None\n5         comp06         True          361  (0, 7853)\n6         comp07         True          434  (0, 7640)\n7         comp08         True          324  (0, 6892)\n8         comp09         True          279  (0, 6052)\n9         comp10         True          370  (0, 6023)\n10        comp11         True          162  (0, 1906)\n11        comp12         True          218  (0, 3506)\n12        comp13         True          308  (0, 7608)\n13        comp14         True          275  (0, 5846)\n14        comp15         True          251  (0, 7260)\n15        comp16         True          366  (0, 6046)\n16        comp17         True          339  (0, 6135)\n17        comp18         True          138  (0, 1216)\n18        comp19        False          277       None\n19        comp20         True          390  (0, 8170)\n20        comp21         True          327  (0, 5018)",
      "text/html": "<div>\n<style scoped>\n    .dataframe tbody tr th:only-of-type {\n        vertical-align: middle;\n    }\n\n    .dataframe tbody tr th {\n        vertical-align: top;\n    }\n\n    .dataframe thead th {\n        text-align: right;\n    }\n</style>\n<table border=\"1\" class=\"dataframe\">\n  <thead>\n    <tr style=\"text-align: right;\">\n      <th></th>\n      <th>instance_name</th>\n      <th>dfs_success</th>\n      <th>class_count</th>\n      <th>cost</th>\n    </tr>\n  </thead>\n  <tbody>\n    <tr>\n      <th>0</th>\n      <td>comp01</td>\n      <td>True</td>\n      <td>160</td>\n      <td>(0, 1095)</td>\n    </tr>\n    <tr>\n      <th>1</th>\n      <td>comp02</td>\n      <td>False</td>\n      <td>283</td>\n      <td>None</td>\n    </tr>\n    <tr>\n      <th>2</th>\n      <td>comp03</td>\n      <td>True</td>\n      <td>251</td>\n      <td>(0, 7260)</td>\n    </tr>\n    <tr>\n      <th>3</th>\n      <td>comp04</td>\n      <td>True</td>\n      <td>286</td>\n      <td>(0, 4835)</td>\n    </tr>\n    <tr>\n      <th>4</th>\n      <td>comp05</td>\n      <td>False</td>\n      <td>152</td>\n      <td>None</td>\n    </tr>\n    <tr>\n      <th>5</th>\n      <td>comp06</td>\n      <td>True</td>\n      <td>361</td>\n      <td>(0, 7853)</td>\n    </tr>\n    <tr>\n      <th>6</th>\n      <td>comp07</td>\n      <td>True</td>\n      <td>434</td>\n      <td>(0, 7640)</td>\n    </tr>\n    <tr>\n      <th>7</th>\n      <td>comp08</td>\n      <td>True</td>\n      <td>324</td>\n      <td>(0, 6892)</td>\n    </tr>\n    <tr>\n      <th>8</th>\n      <td>comp09</td>\n      <td>True</td>\n      <td>279</td>\n      <td>(0, 6052)</td>\n    </tr>\n    <tr>\n      <th>9</th>\n      <td>comp10</td>\n      <td>True</td>\n      <td>370</td>\n      <td>(0, 6023)</td>\n    </tr>\n    <tr>\n      <th>10</th>\n      <td>comp11</td>\n      <td>True</td>\n      <td>162</td>\n      <td>(0, 1906)</td>\n    </tr>\n    <tr>\n      <th>11</th>\n      <td>comp12</td>\n      <td>True</td>\n      <td>218</td>\n      <td>(0, 3506)</td>\n    </tr>\n    <tr>\n      <th>12</th>\n      <td>comp13</td>\n      <td>True</td>\n      <td>308</td>\n      <td>(0, 7608)</td>\n    </tr>\n    <tr>\n      <th>13</th>\n      <td>comp14</td>\n      <td>True</td>\n      <td>275</td>\n      <td>(0, 5846)</td>\n    </tr>\n    <tr>\n      <th>14</th>\n      <td>comp15</td>\n      <td>True</td>\n      <td>251</td>\n      <td>(0, 7260)</td>\n    </tr>\n    <tr>\n      <th>15</th>\n      <td>comp16</td>\n      <td>True</td>\n      <td>366</td>\n      <td>(0, 6046)</td>\n    </tr>\n    <tr>\n      <th>16</th>\n      <td>comp17</td>\n      <td>True</td>\n      <td>339</td>\n      <td>(0, 6135)</td>\n    </tr>\n    <tr>\n      <th>17</th>\n      <td>comp18</td>\n      <td>True</td>\n      <td>138</td>\n      <td>(0, 1216)</td>\n    </tr>\n    <tr>\n      <th>18</th>\n      <td>comp19</td>\n      <td>False</td>\n      <td>277</td>\n      <td>None</td>\n    </tr>\n    <tr>\n      <th>19</th>\n      <td>comp20</td>\n      <td>True</td>\n      <td>390</td>\n      <td>(0, 8170)</td>\n    </tr>\n    <tr>\n      <th>20</th>\n      <td>comp21</td>\n      <td>True</td>\n      <td>327</td>\n      <td>(0, 5018)</td>\n    </tr>\n  </tbody>\n</table>\n</div>"
     },
     "execution_count": 29,
     "metadata": {},
     "output_type": "execute_result"
    }
   ],
   "source": [
    "itc07_t3_dfs_res[['instance_name','dfs_success','class_count','cost']]"
   ],
   "metadata": {
    "collapsed": false,
    "ExecuteTime": {
     "end_time": "2024-04-29T12:41:13.888315500Z",
     "start_time": "2024-04-29T12:41:13.795216500Z"
    }
   },
   "id": "7417787219a642b8"
  },
  {
   "cell_type": "code",
   "execution_count": null,
   "outputs": [],
   "source": [],
   "metadata": {
    "collapsed": false
   },
   "id": "b294a7949f8548d5"
  }
 ],
 "metadata": {
  "kernelspec": {
   "display_name": "Python 3",
   "language": "python",
   "name": "python3"
  },
  "language_info": {
   "codemirror_mode": {
    "name": "ipython",
    "version": 2
   },
   "file_extension": ".py",
   "mimetype": "text/x-python",
   "name": "python",
   "nbconvert_exporter": "python",
   "pygments_lexer": "ipython2",
   "version": "2.7.6"
  }
 },
 "nbformat": 4,
 "nbformat_minor": 5
}
