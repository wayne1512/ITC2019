{
 "cells": [
  {
   "cell_type": "code",
   "execution_count": 1,
   "id": "initial_id",
   "metadata": {
    "collapsed": true,
    "ExecuteTime": {
     "end_time": "2024-03-07T22:28:18.108923Z",
     "start_time": "2024-03-07T22:28:14.913061600Z"
    }
   },
   "outputs": [],
   "source": [
    "import os\n",
    "import pickle\n",
    "\n",
    "import numpy as np\n",
    "import pandas as pd\n",
    "\n",
    "from experiment_details import ExperimentDetails\n",
    "from parse_input import parse_xml, parse_itc2007_curriculum_based, parse_itc2007_post_enrolment\n",
    "from penalty_calc import calculate_total_cost\n"
   ]
  },
  {
   "cell_type": "code",
   "execution_count": 2,
   "outputs": [],
   "source": [
    "experiment_folder = 'D:\\Desktop\\ITC2019\\output\\itc2019_depth_first_search_test_20240307-232305'\n",
    "\n",
    "itc2007_track2_path = 'D:\\\\Desktop\\\\Datasets\\\\post'\n",
    "itc2007_track3_path = 'D:\\\\Desktop\\\\Datasets\\\\curriculum'\n",
    "itc2019_path = 'D:\\\\Desktop\\\\Datasets\\\\2019'"
   ],
   "metadata": {
    "collapsed": false,
    "ExecuteTime": {
     "end_time": "2024-03-07T22:28:18.151690800Z",
     "start_time": "2024-03-07T22:28:18.111005800Z"
    }
   },
   "id": "2d25c8c6eef2d7a"
  },
  {
   "cell_type": "code",
   "execution_count": 3,
   "outputs": [],
   "source": [
    "def get_all_files(path):\n",
    "    return [os.path.join(dirpath, file) for dirpath, _, filenames in os.walk(path) for file in filenames]    "
   ],
   "metadata": {
    "collapsed": false,
    "ExecuteTime": {
     "end_time": "2024-03-07T22:28:18.151690800Z",
     "start_time": "2024-03-07T22:28:18.145737700Z"
    }
   },
   "id": "b0201f20438f79c3"
  },
  {
   "cell_type": "code",
   "execution_count": 4,
   "outputs": [],
   "source": [
    "itc2007_track2_files = get_all_files(itc2007_track2_path)\n",
    "itc2007_track3_files = get_all_files(itc2007_track3_path)\n",
    "itc2019_files = get_all_files(itc2019_path)"
   ],
   "metadata": {
    "collapsed": false,
    "ExecuteTime": {
     "end_time": "2024-03-07T22:28:18.192140Z",
     "start_time": "2024-03-07T22:28:18.145737700Z"
    }
   },
   "id": "f8d89224b34bfbd0"
  },
  {
   "cell_type": "code",
   "execution_count": 5,
   "outputs": [],
   "source": [
    "def get_instance_by_dataset_and_instance_file_name(dataset, instance_file_name):\n",
    "    if dataset == 'itc2007_track2':\n",
    "        return next((file for file in itc2007_track2_files if instance_file_name in file), None)\n",
    "    elif dataset == 'itc2007_track3':\n",
    "        return next((file for file in itc2007_track3_files if instance_file_name in file), None)\n",
    "    elif dataset == 'itc2019':\n",
    "        return next((file for file in itc2019_files if instance_file_name in file), None)\n",
    "    else:\n",
    "        return None\n",
    "    \n",
    "def parse_problem (dataset,instance_path):\n",
    "    if dataset == 'itc2007_track2':\n",
    "        return parse_itc2007_post_enrolment(instance_path)\n",
    "    elif dataset == 'itc2007_track3':\n",
    "        return parse_itc2007_curriculum_based(instance_path)\n",
    "    elif dataset == 'itc2019':\n",
    "        return parse_xml(instance_path)"
   ],
   "metadata": {
    "collapsed": false,
    "ExecuteTime": {
     "end_time": "2024-03-07T22:28:18.208773100Z",
     "start_time": "2024-03-07T22:28:18.208773100Z"
    }
   },
   "id": "3860d8ae56e87a72"
  },
  {
   "cell_type": "code",
   "execution_count": 6,
   "outputs": [],
   "source": [
    "analysis_df = pd.DataFrame(list(os.listdir(experiment_folder)),columns=['folder'])"
   ],
   "metadata": {
    "collapsed": false,
    "ExecuteTime": {
     "start_time": "2024-03-07T22:28:18.235770800Z"
    }
   },
   "id": "8db903a70d74c849"
  },
  {
   "cell_type": "code",
   "execution_count": 7,
   "outputs": [
    {
     "data": {
      "text/plain": "          folder                                        folder path\n0  agh-fis-spr17  D:\\Desktop\\ITC2019\\output\\itc2019_depth_first_...",
      "text/html": "<div>\n<style scoped>\n    .dataframe tbody tr th:only-of-type {\n        vertical-align: middle;\n    }\n\n    .dataframe tbody tr th {\n        vertical-align: top;\n    }\n\n    .dataframe thead th {\n        text-align: right;\n    }\n</style>\n<table border=\"1\" class=\"dataframe\">\n  <thead>\n    <tr style=\"text-align: right;\">\n      <th></th>\n      <th>folder</th>\n      <th>folder path</th>\n    </tr>\n  </thead>\n  <tbody>\n    <tr>\n      <th>0</th>\n      <td>agh-fis-spr17</td>\n      <td>D:\\Desktop\\ITC2019\\output\\itc2019_depth_first_...</td>\n    </tr>\n  </tbody>\n</table>\n</div>"
     },
     "execution_count": 7,
     "metadata": {},
     "output_type": "execute_result"
    }
   ],
   "source": [
    "analysis_df['folder path']=analysis_df.apply(lambda x: os.path.join(experiment_folder,x.folder),axis=1) \n",
    "\n",
    "analysis_df"
   ],
   "metadata": {
    "collapsed": false,
    "ExecuteTime": {
     "end_time": "2024-03-07T22:28:18.257980Z",
     "start_time": "2024-03-07T22:28:18.237774300Z"
    }
   },
   "id": "169f3eb81899739d"
  },
  {
   "cell_type": "code",
   "execution_count": 8,
   "outputs": [
    {
     "data": {
      "text/plain": "          folder                                        folder path  \\\n0  agh-fis-spr17  D:\\Desktop\\ITC2019\\output\\itc2019_depth_first_...   \n\n                                  experiment_details  \n0  <experiment_details.ExperimentDetails object a...  ",
      "text/html": "<div>\n<style scoped>\n    .dataframe tbody tr th:only-of-type {\n        vertical-align: middle;\n    }\n\n    .dataframe tbody tr th {\n        vertical-align: top;\n    }\n\n    .dataframe thead th {\n        text-align: right;\n    }\n</style>\n<table border=\"1\" class=\"dataframe\">\n  <thead>\n    <tr style=\"text-align: right;\">\n      <th></th>\n      <th>folder</th>\n      <th>folder path</th>\n      <th>experiment_details</th>\n    </tr>\n  </thead>\n  <tbody>\n    <tr>\n      <th>0</th>\n      <td>agh-fis-spr17</td>\n      <td>D:\\Desktop\\ITC2019\\output\\itc2019_depth_first_...</td>\n      <td>&lt;experiment_details.ExperimentDetails object a...</td>\n    </tr>\n  </tbody>\n</table>\n</div>"
     },
     "execution_count": 8,
     "metadata": {},
     "output_type": "execute_result"
    }
   ],
   "source": [
    "analysis_df['experiment_details'] = analysis_df.apply(lambda x: pickle.load(open(os.path.join(x['folder path'],'experiment_details.pkl'), 'rb')),axis=1)\n",
    "\n",
    "analysis_df"
   ],
   "metadata": {
    "collapsed": false,
    "ExecuteTime": {
     "end_time": "2024-03-07T22:28:18.267251600Z",
     "start_time": "2024-03-07T22:28:18.256976800Z"
    }
   },
   "id": "14b4095556ae0329"
  },
  {
   "cell_type": "code",
   "execution_count": 9,
   "outputs": [
    {
     "data": {
      "text/plain": "          folder                                        folder path  \\\n0  agh-fis-spr17  D:\\Desktop\\ITC2019\\output\\itc2019_depth_first_...   \n\n                                  experiment_details  instance_name  \n0  <experiment_details.ExperimentDetails object a...  agh-fis-spr17  ",
      "text/html": "<div>\n<style scoped>\n    .dataframe tbody tr th:only-of-type {\n        vertical-align: middle;\n    }\n\n    .dataframe tbody tr th {\n        vertical-align: top;\n    }\n\n    .dataframe thead th {\n        text-align: right;\n    }\n</style>\n<table border=\"1\" class=\"dataframe\">\n  <thead>\n    <tr style=\"text-align: right;\">\n      <th></th>\n      <th>folder</th>\n      <th>folder path</th>\n      <th>experiment_details</th>\n      <th>instance_name</th>\n    </tr>\n  </thead>\n  <tbody>\n    <tr>\n      <th>0</th>\n      <td>agh-fis-spr17</td>\n      <td>D:\\Desktop\\ITC2019\\output\\itc2019_depth_first_...</td>\n      <td>&lt;experiment_details.ExperimentDetails object a...</td>\n      <td>agh-fis-spr17</td>\n    </tr>\n  </tbody>\n</table>\n</div>"
     },
     "execution_count": 9,
     "metadata": {},
     "output_type": "execute_result"
    }
   ],
   "source": [
    "analysis_df['instance_name'] = analysis_df.apply(lambda x: x.experiment_details.instance_name,axis=1)\n",
    "\n",
    "analysis_df"
   ],
   "metadata": {
    "collapsed": false,
    "ExecuteTime": {
     "end_time": "2024-03-07T22:28:18.274746500Z",
     "start_time": "2024-03-07T22:28:18.265255Z"
    }
   },
   "id": "c4a2a2731b07eb78"
  },
  {
   "cell_type": "code",
   "execution_count": 10,
   "outputs": [
    {
     "data": {
      "text/plain": "          folder                                        folder path  \\\n0  agh-fis-spr17  D:\\Desktop\\ITC2019\\output\\itc2019_depth_first_...   \n\n                                  experiment_details  instance_name  \\\n0  <experiment_details.ExperimentDetails object a...  agh-fis-spr17   \n\n                                       instance_file  \n0  D:\\Desktop\\Datasets\\2019\\1.early\\agh-fis-spr17...  ",
      "text/html": "<div>\n<style scoped>\n    .dataframe tbody tr th:only-of-type {\n        vertical-align: middle;\n    }\n\n    .dataframe tbody tr th {\n        vertical-align: top;\n    }\n\n    .dataframe thead th {\n        text-align: right;\n    }\n</style>\n<table border=\"1\" class=\"dataframe\">\n  <thead>\n    <tr style=\"text-align: right;\">\n      <th></th>\n      <th>folder</th>\n      <th>folder path</th>\n      <th>experiment_details</th>\n      <th>instance_name</th>\n      <th>instance_file</th>\n    </tr>\n  </thead>\n  <tbody>\n    <tr>\n      <th>0</th>\n      <td>agh-fis-spr17</td>\n      <td>D:\\Desktop\\ITC2019\\output\\itc2019_depth_first_...</td>\n      <td>&lt;experiment_details.ExperimentDetails object a...</td>\n      <td>agh-fis-spr17</td>\n      <td>D:\\Desktop\\Datasets\\2019\\1.early\\agh-fis-spr17...</td>\n    </tr>\n  </tbody>\n</table>\n</div>"
     },
     "execution_count": 10,
     "metadata": {},
     "output_type": "execute_result"
    }
   ],
   "source": [
    "analysis_df['instance_file'] = analysis_df.apply(lambda x: get_instance_by_dataset_and_instance_file_name(x.experiment_details.dataset_name, x.experiment_details.instance_file_name), axis=1)\n",
    "\n",
    "analysis_df"
   ],
   "metadata": {
    "collapsed": false,
    "ExecuteTime": {
     "end_time": "2024-03-07T22:28:18.309987300Z",
     "start_time": "2024-03-07T22:28:18.272745800Z"
    }
   },
   "id": "7ecc46c62584b6ad"
  },
  {
   "cell_type": "code",
   "execution_count": 11,
   "outputs": [
    {
     "data": {
      "text/plain": "          folder                                        folder path  \\\n0  agh-fis-spr17  D:\\Desktop\\ITC2019\\output\\itc2019_depth_first_...   \n\n                                  experiment_details  instance_name  \\\n0  <experiment_details.ExperimentDetails object a...  agh-fis-spr17   \n\n                                       instance_file  \\\n0  D:\\Desktop\\Datasets\\2019\\1.early\\agh-fis-spr17...   \n\n                                             problem  \\\n0  <models.input.problem.Problem object at 0x0000...   \n\n                                       problem_stats  \n0  {'name': 'agh-fis-spr17', 'student_count': 164...  ",
      "text/html": "<div>\n<style scoped>\n    .dataframe tbody tr th:only-of-type {\n        vertical-align: middle;\n    }\n\n    .dataframe tbody tr th {\n        vertical-align: top;\n    }\n\n    .dataframe thead th {\n        text-align: right;\n    }\n</style>\n<table border=\"1\" class=\"dataframe\">\n  <thead>\n    <tr style=\"text-align: right;\">\n      <th></th>\n      <th>folder</th>\n      <th>folder path</th>\n      <th>experiment_details</th>\n      <th>instance_name</th>\n      <th>instance_file</th>\n      <th>problem</th>\n      <th>problem_stats</th>\n    </tr>\n  </thead>\n  <tbody>\n    <tr>\n      <th>0</th>\n      <td>agh-fis-spr17</td>\n      <td>D:\\Desktop\\ITC2019\\output\\itc2019_depth_first_...</td>\n      <td>&lt;experiment_details.ExperimentDetails object a...</td>\n      <td>agh-fis-spr17</td>\n      <td>D:\\Desktop\\Datasets\\2019\\1.early\\agh-fis-spr17...</td>\n      <td>&lt;models.input.problem.Problem object at 0x0000...</td>\n      <td>{'name': 'agh-fis-spr17', 'student_count': 164...</td>\n    </tr>\n  </tbody>\n</table>\n</div>"
     },
     "execution_count": 11,
     "metadata": {},
     "output_type": "execute_result"
    }
   ],
   "source": [
    "analysis_df['problem'],analysis_df['problem_stats'] = zip(*analysis_df.apply(lambda x: parse_problem(x.experiment_details.dataset_name, x['instance_file']),axis=1))\n",
    "analysis_df"
   ],
   "metadata": {
    "collapsed": false,
    "ExecuteTime": {
     "end_time": "2024-03-07T22:28:20.652999600Z",
     "start_time": "2024-03-07T22:28:18.284991200Z"
    }
   },
   "id": "1f2af79a85aa961a"
  },
  {
   "cell_type": "code",
   "execution_count": 12,
   "outputs": [
    {
     "data": {
      "text/plain": "          folder                                        folder path  \\\n0  agh-fis-spr17  D:\\Desktop\\ITC2019\\output\\itc2019_depth_first_...   \n\n                                  experiment_details  instance_name  \\\n0  <experiment_details.ExperimentDetails object a...  agh-fis-spr17   \n\n                                       instance_file  \\\n0  D:\\Desktop\\Datasets\\2019\\1.early\\agh-fis-spr17...   \n\n                                             problem  \\\n0  <models.input.problem.Problem object at 0x0000...   \n\n                                       problem_stats  success  \\\n0  {'name': 'agh-fis-spr17', 'student_count': 164...    False   \n\n   operation_count  backtrack_count       time  \\\n0               10                0  11.811445   \n\n                                   operation_history  \n0  [{'current_row': 1, 'time': 1.118422508239746}...  ",
      "text/html": "<div>\n<style scoped>\n    .dataframe tbody tr th:only-of-type {\n        vertical-align: middle;\n    }\n\n    .dataframe tbody tr th {\n        vertical-align: top;\n    }\n\n    .dataframe thead th {\n        text-align: right;\n    }\n</style>\n<table border=\"1\" class=\"dataframe\">\n  <thead>\n    <tr style=\"text-align: right;\">\n      <th></th>\n      <th>folder</th>\n      <th>folder path</th>\n      <th>experiment_details</th>\n      <th>instance_name</th>\n      <th>instance_file</th>\n      <th>problem</th>\n      <th>problem_stats</th>\n      <th>success</th>\n      <th>operation_count</th>\n      <th>backtrack_count</th>\n      <th>time</th>\n      <th>operation_history</th>\n    </tr>\n  </thead>\n  <tbody>\n    <tr>\n      <th>0</th>\n      <td>agh-fis-spr17</td>\n      <td>D:\\Desktop\\ITC2019\\output\\itc2019_depth_first_...</td>\n      <td>&lt;experiment_details.ExperimentDetails object a...</td>\n      <td>agh-fis-spr17</td>\n      <td>D:\\Desktop\\Datasets\\2019\\1.early\\agh-fis-spr17...</td>\n      <td>&lt;models.input.problem.Problem object at 0x0000...</td>\n      <td>{'name': 'agh-fis-spr17', 'student_count': 164...</td>\n      <td>False</td>\n      <td>10</td>\n      <td>0</td>\n      <td>11.811445</td>\n      <td>[{'current_row': 1, 'time': 1.118422508239746}...</td>\n    </tr>\n  </tbody>\n</table>\n</div>"
     },
     "execution_count": 12,
     "metadata": {},
     "output_type": "execute_result"
    }
   ],
   "source": [
    "analysis_df['success'] = analysis_df.apply(lambda x: x.experiment_details.results_data['success'],axis=1)\n",
    "\n",
    "analysis_df['operation_count'] = analysis_df.apply(lambda x: x.experiment_details.results_data['operation_count'],axis=1)\n",
    "\n",
    "analysis_df['backtrack_count'] = analysis_df.apply(lambda x: x.experiment_details.results_data['backtrack_count'],axis=1)\n",
    "\n",
    "analysis_df['time'] = analysis_df.apply(lambda x: x.experiment_details.results_data['time'],axis=1)\n",
    "\n",
    "analysis_df['operation_history'] = analysis_df.apply(lambda x: x.experiment_details.results_data['operation_history'],axis=1)\n",
    "\n",
    "analysis_df"
   ],
   "metadata": {
    "collapsed": false,
    "ExecuteTime": {
     "end_time": "2024-03-07T22:28:20.691548700Z",
     "start_time": "2024-03-07T22:28:20.652999600Z"
    }
   },
   "id": "7e798574cb7ecffe"
  },
  {
   "cell_type": "code",
   "execution_count": 13,
   "outputs": [
    {
     "data": {
      "text/plain": "          folder                                        folder path  \\\n0  agh-fis-spr17  D:\\Desktop\\ITC2019\\output\\itc2019_depth_first_...   \n\n                                  experiment_details  instance_name  \\\n0  <experiment_details.ExperimentDetails object a...  agh-fis-spr17   \n\n                                       instance_file  \\\n0  D:\\Desktop\\Datasets\\2019\\1.early\\agh-fis-spr17...   \n\n                                             problem  \\\n0  <models.input.problem.Problem object at 0x0000...   \n\n                                       problem_stats  success  \\\n0  {'name': 'agh-fis-spr17', 'student_count': 164...    False   \n\n   operation_count  backtrack_count       time  \\\n0               10                0  11.811445   \n\n                                   operation_history solution_gene_file  \\\n0  [{'current_row': 1, 'time': 1.118422508239746}...               None   \n\n  solution_gene  cost  \n0          None  None  ",
      "text/html": "<div>\n<style scoped>\n    .dataframe tbody tr th:only-of-type {\n        vertical-align: middle;\n    }\n\n    .dataframe tbody tr th {\n        vertical-align: top;\n    }\n\n    .dataframe thead th {\n        text-align: right;\n    }\n</style>\n<table border=\"1\" class=\"dataframe\">\n  <thead>\n    <tr style=\"text-align: right;\">\n      <th></th>\n      <th>folder</th>\n      <th>folder path</th>\n      <th>experiment_details</th>\n      <th>instance_name</th>\n      <th>instance_file</th>\n      <th>problem</th>\n      <th>problem_stats</th>\n      <th>success</th>\n      <th>operation_count</th>\n      <th>backtrack_count</th>\n      <th>time</th>\n      <th>operation_history</th>\n      <th>solution_gene_file</th>\n      <th>solution_gene</th>\n      <th>cost</th>\n    </tr>\n  </thead>\n  <tbody>\n    <tr>\n      <th>0</th>\n      <td>agh-fis-spr17</td>\n      <td>D:\\Desktop\\ITC2019\\output\\itc2019_depth_first_...</td>\n      <td>&lt;experiment_details.ExperimentDetails object a...</td>\n      <td>agh-fis-spr17</td>\n      <td>D:\\Desktop\\Datasets\\2019\\1.early\\agh-fis-spr17...</td>\n      <td>&lt;models.input.problem.Problem object at 0x0000...</td>\n      <td>{'name': 'agh-fis-spr17', 'student_count': 164...</td>\n      <td>False</td>\n      <td>10</td>\n      <td>0</td>\n      <td>11.811445</td>\n      <td>[{'current_row': 1, 'time': 1.118422508239746}...</td>\n      <td>None</td>\n      <td>None</td>\n      <td>None</td>\n    </tr>\n  </tbody>\n</table>\n</div>"
     },
     "execution_count": 13,
     "metadata": {},
     "output_type": "execute_result"
    }
   ],
   "source": [
    "analysis_df['solution_gene_file'] = (\n",
    "    analysis_df.apply(lambda x: \n",
    "        os.path.join(x['folder path'],'solution gene.npy') if x['success']\n",
    "        else None,axis=1)\n",
    ")\n",
    "                                                      \n",
    "analysis_df['solution_gene'] = analysis_df.apply(lambda x: \n",
    "    np.load(x['solution_gene_file']) if x['success']\n",
    "    else None,axis=1)\n",
    "\n",
    "analysis_df['cost'] = analysis_df.apply(lambda x: \n",
    "    calculate_total_cost(x['problem'],x['solution_gene']) if x['success']\n",
    "    else None,axis=1)\n",
    "\n",
    "analysis_df\n"
   ],
   "metadata": {
    "collapsed": false,
    "ExecuteTime": {
     "end_time": "2024-03-07T22:28:20.711547Z",
     "start_time": "2024-03-07T22:28:20.686935900Z"
    }
   },
   "id": "a650f3565150abde"
  },
  {
   "cell_type": "code",
   "execution_count": 13,
   "outputs": [],
   "source": [],
   "metadata": {
    "collapsed": false,
    "ExecuteTime": {
     "end_time": "2024-03-07T22:28:20.712548200Z",
     "start_time": "2024-03-07T22:28:20.692550600Z"
    }
   },
   "id": "6c8c7c44b7c938c0"
  }
 ],
 "metadata": {
  "kernelspec": {
   "display_name": "Python 3",
   "language": "python",
   "name": "python3"
  },
  "language_info": {
   "codemirror_mode": {
    "name": "ipython",
    "version": 2
   },
   "file_extension": ".py",
   "mimetype": "text/x-python",
   "name": "python",
   "nbconvert_exporter": "python",
   "pygments_lexer": "ipython2",
   "version": "2.7.6"
  }
 },
 "nbformat": 4,
 "nbformat_minor": 5
}
