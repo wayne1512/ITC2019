{
 "cells": [
  {
   "cell_type": "code",
   "execution_count": 1,
   "outputs": [],
   "source": [
    "import os\n",
    "import time\n",
    "\n",
    "import numpy as np\n",
    "\n",
    "from depth_first_search_solver import DepthFirstSearchSolver\n",
    "from parse_input import parse_itc2007_post_enrolment, parse_itc2007_curriculum_based, parse_xml\n",
    "from solution_search import SolutionSearch\n",
    "from util import random_gene, get_gene_maximums\n"
   ],
   "metadata": {
    "collapsed": false,
    "ExecuteTime": {
     "end_time": "2024-04-18T21:25:24.169430700Z",
     "start_time": "2024-04-18T21:25:23.699658900Z"
    }
   },
   "id": "3fac391237998398"
  },
  {
   "cell_type": "code",
   "execution_count": 2,
   "outputs": [],
   "source": [
    "itc2007_track2_path = '.\\\\Datasets\\\\post'\n",
    "itc2007_track3_path = '.\\\\Datasets\\\\curriculum'\n",
    "itc2019_path = '.\\\\Datasets\\\\2019'\n",
    "\n",
    "def get_all_files(path):\n",
    "    return [os.path.join(dirpath, file) for dirpath, _, filenames in os.walk(path) for file in filenames]   \n",
    "\n",
    "itc2007_track2_files = get_all_files(itc2007_track2_path)\n",
    "itc2007_track3_files = get_all_files(itc2007_track3_path)\n",
    "itc2019_files = get_all_files(itc2019_path)\n",
    "\n",
    "def parse_problem (dataset,instance_path):\n",
    "    if dataset == 'itc2007_track2':\n",
    "        return parse_itc2007_post_enrolment(instance_path)\n",
    "    elif dataset == 'itc2007_track3':\n",
    "        return parse_itc2007_curriculum_based(instance_path)\n",
    "    elif dataset == 'itc2019':\n",
    "        return parse_xml(instance_path)"
   ],
   "metadata": {
    "collapsed": false,
    "ExecuteTime": {
     "end_time": "2024-04-18T21:25:24.175322400Z",
     "start_time": "2024-04-18T21:25:24.170432800Z"
    }
   },
   "id": "f963d814fc37dc15"
  },
  {
   "cell_type": "code",
   "execution_count": 3,
   "outputs": [],
   "source": [
    "def generate_random_population(dataset, instance_path, population_size, save_path):\n",
    "    problem = parse_problem(dataset, instance_path)[0]\n",
    "    genes = [random_gene(get_gene_maximums(problem.classes)) for _ in range(population_size)]\n",
    "    \n",
    "    np.save(save_path, genes)\n",
    "    "
   ],
   "metadata": {
    "collapsed": false,
    "ExecuteTime": {
     "end_time": "2024-04-18T21:25:24.178754800Z",
     "start_time": "2024-04-18T21:25:24.177235100Z"
    }
   },
   "id": "b1c09279c027e04"
  },
  {
   "cell_type": "code",
   "execution_count": 4,
   "outputs": [],
   "source": [
    "def generate_valid_population(dataset, instance_path, population_size, save_path,time_path):\n",
    "    problem = parse_problem(dataset, instance_path)[0]\n",
    "    genes = []\n",
    "    times = []\n",
    "    \n",
    "    max_attempts_before_first_success = 5\n",
    "    max_attempts = 200\n",
    "    failed_attempts = 0\n",
    "    \n",
    "    while len(genes) < population_size and failed_attempts < max_attempts:\n",
    "        \n",
    "        if len(genes) == 0 and failed_attempts == max_attempts_before_first_success:\n",
    "            break\n",
    "        \n",
    "        start_time = time.time()\n",
    "        search = SolutionSearch(problem)\n",
    "        solver = DepthFirstSearchSolver(search)\n",
    "        solution = solver.solve(max_backtracks=2000,randomize_option=True)\n",
    "        end_time = time.time()\n",
    "        \n",
    "        if solution['success']:\n",
    "            genes.append(search.get_result_as_gene())\n",
    "        else:\n",
    "            failed_attempts += 1\n",
    "            \n",
    "        times.append((end_time - start_time,solution['success']))\n",
    "                \n",
    "    \n",
    "    if len(genes) < population_size:\n",
    "        print(f\"Failed to generate valid population for {instance_path}\")\n",
    "    else:\n",
    "        np.save(save_path, genes)\n",
    "        np.savetxt(time_path, times,delimiter=',')"
   ],
   "metadata": {
    "collapsed": false,
    "ExecuteTime": {
     "end_time": "2024-04-18T21:25:24.186582400Z",
     "start_time": "2024-04-18T21:25:24.179755500Z"
    }
   },
   "id": "a1e1a25b0d609f78"
  },
  {
   "cell_type": "code",
   "execution_count": 5,
   "outputs": [
    {
     "name": "stdout",
     "output_type": "stream",
     "text": [
      "done\n",
      "save_path_random output\\initial populations_random_20240418-232524\n"
     ]
    }
   ],
   "source": [
    "save_path_random = f'output\\\\initial populations_random_{time.strftime(\"%Y%m%d-%H%M%S\")}'\n",
    "size = 100\n",
    "\n",
    "os.mkdir(save_path_random)\n",
    "os.mkdir(os.path.join(save_path_random, 'itc2007 track 2'))\n",
    "os.mkdir(os.path.join(save_path_random, 'itc2007 track 3'))\n",
    "os.mkdir(os.path.join(save_path_random, 'itc2019'))\n",
    "\n",
    "for file in itc2007_track2_files:    \n",
    "    generate_random_population('itc2007_track2', file, size, os.path.join(save_path_random, 'itc2007 track 2', file.split('\\\\')[-1].split('.')[0] + \".npy\"))\n",
    "    \n",
    "for file in itc2007_track3_files:    \n",
    "    generate_random_population('itc2007_track3', file, size, os.path.join(save_path_random, 'itc2007 track 3', file.split('\\\\')[-1].split('.')[0] + \".npy\"))\n",
    "    \n",
    "for file in itc2019_files:\n",
    "    generate_random_population('itc2019', file, size, os.path.join(save_path_random, 'itc2019', file.split('\\\\')[-1].split('.')[0] + \".npy\"))\n",
    "    \n",
    "\n",
    "    \n",
    "print('done')\n",
    "print('save_path_random',save_path_random)"
   ],
   "metadata": {
    "collapsed": false,
    "ExecuteTime": {
     "end_time": "2024-04-18T21:26:10.101466700Z",
     "start_time": "2024-04-18T21:25:24.190580800Z"
    }
   },
   "id": "2410f73ad9dfc665"
  },
  {
   "cell_type": "code",
   "execution_count": 6,
   "outputs": [
    {
     "name": "stdout",
     "output_type": "stream",
     "text": [
      "Failed to generate valid population for .\\Datasets\\post\\comp-2007-2-1.tim\n",
      "Failed to generate valid population for .\\Datasets\\post\\comp-2007-2-10.tim\n",
      "Failed to generate valid population for .\\Datasets\\post\\comp-2007-2-11.tim\n",
      "Failed to generate valid population for .\\Datasets\\post\\comp-2007-2-12.tim\n",
      "Failed to generate valid population for .\\Datasets\\post\\comp-2007-2-13.tim\n",
      "Failed to generate valid population for .\\Datasets\\post\\comp-2007-2-14.tim\n",
      "Failed to generate valid population for .\\Datasets\\post\\comp-2007-2-15.tim\n",
      "Failed to generate valid population for .\\Datasets\\post\\comp-2007-2-16.tim\n",
      "Failed to generate valid population for .\\Datasets\\post\\comp-2007-2-18.tim\n",
      "Failed to generate valid population for .\\Datasets\\post\\comp-2007-2-19.tim\n",
      "Failed to generate valid population for .\\Datasets\\post\\comp-2007-2-2.tim\n",
      "Failed to generate valid population for .\\Datasets\\post\\comp-2007-2-20.tim\n",
      "Failed to generate valid population for .\\Datasets\\post\\comp-2007-2-21.tim\n",
      "Failed to generate valid population for .\\Datasets\\post\\comp-2007-2-22.tim\n",
      "Failed to generate valid population for .\\Datasets\\post\\comp-2007-2-23.tim\n",
      "Failed to generate valid population for .\\Datasets\\post\\comp-2007-2-24.tim\n",
      "Failed to generate valid population for .\\Datasets\\post\\comp-2007-2-3.tim\n",
      "Failed to generate valid population for .\\Datasets\\post\\comp-2007-2-4.tim\n",
      "Failed to generate valid population for .\\Datasets\\post\\comp-2007-2-5.tim\n",
      "Failed to generate valid population for .\\Datasets\\post\\comp-2007-2-6.tim\n",
      "Failed to generate valid population for .\\Datasets\\post\\comp-2007-2-7.tim\n",
      "Failed to generate valid population for .\\Datasets\\post\\comp-2007-2-8.tim\n",
      "Failed to generate valid population for .\\Datasets\\post\\comp-2007-2-9.tim\n",
      "Failed to generate valid population for .\\Datasets\\curriculum\\comp05.ctt\n"
     ]
    },
    {
     "ename": "KeyboardInterrupt",
     "evalue": "",
     "output_type": "error",
     "traceback": [
      "\u001B[1;31m---------------------------------------------------------------------------\u001B[0m",
      "\u001B[1;31mKeyboardInterrupt\u001B[0m                         Traceback (most recent call last)",
      "Cell \u001B[1;32mIn[6], line 15\u001B[0m\n\u001B[0;32m     12\u001B[0m     generate_valid_population(\u001B[38;5;124m'\u001B[39m\u001B[38;5;124mitc2007_track3\u001B[39m\u001B[38;5;124m'\u001B[39m, file, size, os\u001B[38;5;241m.\u001B[39mpath\u001B[38;5;241m.\u001B[39mjoin(save_path_valid, \u001B[38;5;124m'\u001B[39m\u001B[38;5;124mitc2007 track 3\u001B[39m\u001B[38;5;124m'\u001B[39m, file\u001B[38;5;241m.\u001B[39msplit(\u001B[38;5;124m'\u001B[39m\u001B[38;5;130;01m\\\\\u001B[39;00m\u001B[38;5;124m'\u001B[39m)[\u001B[38;5;241m-\u001B[39m\u001B[38;5;241m1\u001B[39m]\u001B[38;5;241m.\u001B[39msplit(\u001B[38;5;124m'\u001B[39m\u001B[38;5;124m.\u001B[39m\u001B[38;5;124m'\u001B[39m)[\u001B[38;5;241m0\u001B[39m] \u001B[38;5;241m+\u001B[39m \u001B[38;5;124m\"\u001B[39m\u001B[38;5;124m.npy\u001B[39m\u001B[38;5;124m\"\u001B[39m),os\u001B[38;5;241m.\u001B[39mpath\u001B[38;5;241m.\u001B[39mjoin(save_path_valid, \u001B[38;5;124m'\u001B[39m\u001B[38;5;124mitc2007 track 3\u001B[39m\u001B[38;5;124m'\u001B[39m, file\u001B[38;5;241m.\u001B[39msplit(\u001B[38;5;124m'\u001B[39m\u001B[38;5;130;01m\\\\\u001B[39;00m\u001B[38;5;124m'\u001B[39m)[\u001B[38;5;241m-\u001B[39m\u001B[38;5;241m1\u001B[39m]\u001B[38;5;241m.\u001B[39msplit(\u001B[38;5;124m'\u001B[39m\u001B[38;5;124m.\u001B[39m\u001B[38;5;124m'\u001B[39m)[\u001B[38;5;241m0\u001B[39m] \u001B[38;5;241m+\u001B[39m \u001B[38;5;124m\"\u001B[39m\u001B[38;5;124m time.txt\u001B[39m\u001B[38;5;124m\"\u001B[39m))\n\u001B[0;32m     14\u001B[0m \u001B[38;5;28;01mfor\u001B[39;00m file \u001B[38;5;129;01min\u001B[39;00m itc2019_files:\n\u001B[1;32m---> 15\u001B[0m     \u001B[43mgenerate_valid_population\u001B[49m\u001B[43m(\u001B[49m\u001B[38;5;124;43m'\u001B[39;49m\u001B[38;5;124;43mitc2019\u001B[39;49m\u001B[38;5;124;43m'\u001B[39;49m\u001B[43m,\u001B[49m\u001B[43m \u001B[49m\u001B[43mfile\u001B[49m\u001B[43m,\u001B[49m\u001B[43m \u001B[49m\u001B[43msize\u001B[49m\u001B[43m,\u001B[49m\u001B[43m \u001B[49m\u001B[43mos\u001B[49m\u001B[38;5;241;43m.\u001B[39;49m\u001B[43mpath\u001B[49m\u001B[38;5;241;43m.\u001B[39;49m\u001B[43mjoin\u001B[49m\u001B[43m(\u001B[49m\u001B[43msave_path_valid\u001B[49m\u001B[43m,\u001B[49m\u001B[43m \u001B[49m\u001B[38;5;124;43m'\u001B[39;49m\u001B[38;5;124;43mitc2019\u001B[39;49m\u001B[38;5;124;43m'\u001B[39;49m\u001B[43m,\u001B[49m\u001B[43m \u001B[49m\u001B[43mfile\u001B[49m\u001B[38;5;241;43m.\u001B[39;49m\u001B[43msplit\u001B[49m\u001B[43m(\u001B[49m\u001B[38;5;124;43m'\u001B[39;49m\u001B[38;5;130;43;01m\\\\\u001B[39;49;00m\u001B[38;5;124;43m'\u001B[39;49m\u001B[43m)\u001B[49m\u001B[43m[\u001B[49m\u001B[38;5;241;43m-\u001B[39;49m\u001B[38;5;241;43m1\u001B[39;49m\u001B[43m]\u001B[49m\u001B[38;5;241;43m.\u001B[39;49m\u001B[43msplit\u001B[49m\u001B[43m(\u001B[49m\u001B[38;5;124;43m'\u001B[39;49m\u001B[38;5;124;43m.\u001B[39;49m\u001B[38;5;124;43m'\u001B[39;49m\u001B[43m)\u001B[49m\u001B[43m[\u001B[49m\u001B[38;5;241;43m0\u001B[39;49m\u001B[43m]\u001B[49m\u001B[43m \u001B[49m\u001B[38;5;241;43m+\u001B[39;49m\u001B[43m \u001B[49m\u001B[38;5;124;43m\"\u001B[39;49m\u001B[38;5;124;43m.npy\u001B[39;49m\u001B[38;5;124;43m\"\u001B[39;49m\u001B[43m)\u001B[49m\u001B[43m,\u001B[49m\u001B[43mos\u001B[49m\u001B[38;5;241;43m.\u001B[39;49m\u001B[43mpath\u001B[49m\u001B[38;5;241;43m.\u001B[39;49m\u001B[43mjoin\u001B[49m\u001B[43m(\u001B[49m\u001B[43msave_path_valid\u001B[49m\u001B[43m,\u001B[49m\u001B[43m \u001B[49m\u001B[38;5;124;43m'\u001B[39;49m\u001B[38;5;124;43mitc2019\u001B[39;49m\u001B[38;5;124;43m'\u001B[39;49m\u001B[43m,\u001B[49m\u001B[43m \u001B[49m\u001B[43mfile\u001B[49m\u001B[38;5;241;43m.\u001B[39;49m\u001B[43msplit\u001B[49m\u001B[43m(\u001B[49m\u001B[38;5;124;43m'\u001B[39;49m\u001B[38;5;130;43;01m\\\\\u001B[39;49;00m\u001B[38;5;124;43m'\u001B[39;49m\u001B[43m)\u001B[49m\u001B[43m[\u001B[49m\u001B[38;5;241;43m-\u001B[39;49m\u001B[38;5;241;43m1\u001B[39;49m\u001B[43m]\u001B[49m\u001B[38;5;241;43m.\u001B[39;49m\u001B[43msplit\u001B[49m\u001B[43m(\u001B[49m\u001B[38;5;124;43m'\u001B[39;49m\u001B[38;5;124;43m.\u001B[39;49m\u001B[38;5;124;43m'\u001B[39;49m\u001B[43m)\u001B[49m\u001B[43m[\u001B[49m\u001B[38;5;241;43m0\u001B[39;49m\u001B[43m]\u001B[49m\u001B[43m \u001B[49m\u001B[38;5;241;43m+\u001B[39;49m\u001B[43m \u001B[49m\u001B[38;5;124;43m\"\u001B[39;49m\u001B[38;5;124;43m time.txt\u001B[39;49m\u001B[38;5;124;43m\"\u001B[39;49m\u001B[43m)\u001B[49m\u001B[43m)\u001B[49m\n\u001B[0;32m     17\u001B[0m \u001B[38;5;28mprint\u001B[39m(\u001B[38;5;124m'\u001B[39m\u001B[38;5;124mdone\u001B[39m\u001B[38;5;124m'\u001B[39m)    \n\u001B[0;32m     18\u001B[0m \u001B[38;5;28mprint\u001B[39m(\u001B[38;5;124m'\u001B[39m\u001B[38;5;124msave_path_valid\u001B[39m\u001B[38;5;124m'\u001B[39m,save_path_valid)\n",
      "Cell \u001B[1;32mIn[4], line 16\u001B[0m, in \u001B[0;36mgenerate_valid_population\u001B[1;34m(dataset, instance_path, population_size, save_path, time_path)\u001B[0m\n\u001B[0;32m     13\u001B[0m     \u001B[38;5;28;01mbreak\u001B[39;00m\n\u001B[0;32m     15\u001B[0m start_time \u001B[38;5;241m=\u001B[39m time\u001B[38;5;241m.\u001B[39mtime()\n\u001B[1;32m---> 16\u001B[0m search \u001B[38;5;241m=\u001B[39m \u001B[43mSolutionSearch\u001B[49m\u001B[43m(\u001B[49m\u001B[43mproblem\u001B[49m\u001B[43m)\u001B[49m\n\u001B[0;32m     17\u001B[0m solver \u001B[38;5;241m=\u001B[39m DepthFirstSearchSolver(search)\n\u001B[0;32m     18\u001B[0m solution \u001B[38;5;241m=\u001B[39m solver\u001B[38;5;241m.\u001B[39msolve(max_backtracks\u001B[38;5;241m=\u001B[39m\u001B[38;5;241m2000\u001B[39m,randomize_option\u001B[38;5;241m=\u001B[39m\u001B[38;5;28;01mTrue\u001B[39;00m)\n",
      "File \u001B[1;32mD:\\Desktop\\ITC2019\\solution_search.py:15\u001B[0m, in \u001B[0;36mSolutionSearch.__init__\u001B[1;34m(self, problem)\u001B[0m\n\u001B[0;32m     12\u001B[0m \u001B[38;5;28mself\u001B[39m\u001B[38;5;241m.\u001B[39mclasses \u001B[38;5;241m=\u001B[39m problem\u001B[38;5;241m.\u001B[39mclasses\u001B[38;5;241m.\u001B[39mcopy()\n\u001B[0;32m     13\u001B[0m \u001B[38;5;28mself\u001B[39m\u001B[38;5;241m.\u001B[39mproblem \u001B[38;5;241m=\u001B[39m problem\n\u001B[1;32m---> 15\u001B[0m \u001B[38;5;28;43mself\u001B[39;49m\u001B[38;5;241;43m.\u001B[39;49m\u001B[43msetup_decision_table\u001B[49m\u001B[43m(\u001B[49m\u001B[43m)\u001B[49m\n",
      "File \u001B[1;32mD:\\Desktop\\ITC2019\\solution_search.py:35\u001B[0m, in \u001B[0;36mSolutionSearch.setup_decision_table\u001B[1;34m(self)\u001B[0m\n\u001B[0;32m     32\u001B[0m room \u001B[38;5;241m=\u001B[39m \u001B[38;5;28mlist\u001B[39m(\u001B[38;5;28mfilter\u001B[39m(\u001B[38;5;28;01mlambda\u001B[39;00m r: r\u001B[38;5;241m.\u001B[39mid \u001B[38;5;241m==\u001B[39m room_id, \u001B[38;5;28mself\u001B[39m\u001B[38;5;241m.\u001B[39mproblem\u001B[38;5;241m.\u001B[39mrooms))[\u001B[38;5;241m0\u001B[39m]\n\u001B[0;32m     34\u001B[0m \u001B[38;5;66;03m# list of time options, True if room is unavailable at this time\u001B[39;00m\n\u001B[1;32m---> 35\u001B[0m time_mask \u001B[38;5;241m=\u001B[39m \u001B[43m[\u001B[49m\u001B[38;5;28;43mself\u001B[39;49m\u001B[38;5;241;43m.\u001B[39;49m\u001B[43mis_room_unavailable_during_timeslot\u001B[49m\u001B[43m(\u001B[49m\u001B[43mroom\u001B[49m\u001B[43m,\u001B[49m\u001B[43m \u001B[49m\u001B[43mtime_option\u001B[49m\u001B[43m)\u001B[49m\u001B[43m \u001B[49m\u001B[38;5;28;43;01mfor\u001B[39;49;00m\u001B[43m \u001B[49m\u001B[43mtime_option\u001B[49m\u001B[43m \u001B[49m\u001B[38;5;129;43;01min\u001B[39;49;00m\n\u001B[0;32m     36\u001B[0m \u001B[43m             \u001B[49m\u001B[43mchecking_class\u001B[49m\u001B[38;5;241;43m.\u001B[39;49m\u001B[43mtime_options\u001B[49m\u001B[43m]\u001B[49m\n\u001B[0;32m     38\u001B[0m unflattened_class_choices[room_option_idx, :][time_mask] \u001B[38;5;241m=\u001B[39m \u001B[38;5;241m-\u001B[39m\u001B[38;5;241m1\u001B[39m\n",
      "File \u001B[1;32mD:\\Desktop\\ITC2019\\solution_search.py:35\u001B[0m, in \u001B[0;36m<listcomp>\u001B[1;34m(.0)\u001B[0m\n\u001B[0;32m     32\u001B[0m room \u001B[38;5;241m=\u001B[39m \u001B[38;5;28mlist\u001B[39m(\u001B[38;5;28mfilter\u001B[39m(\u001B[38;5;28;01mlambda\u001B[39;00m r: r\u001B[38;5;241m.\u001B[39mid \u001B[38;5;241m==\u001B[39m room_id, \u001B[38;5;28mself\u001B[39m\u001B[38;5;241m.\u001B[39mproblem\u001B[38;5;241m.\u001B[39mrooms))[\u001B[38;5;241m0\u001B[39m]\n\u001B[0;32m     34\u001B[0m \u001B[38;5;66;03m# list of time options, True if room is unavailable at this time\u001B[39;00m\n\u001B[1;32m---> 35\u001B[0m time_mask \u001B[38;5;241m=\u001B[39m [\u001B[38;5;28;43mself\u001B[39;49m\u001B[38;5;241;43m.\u001B[39;49m\u001B[43mis_room_unavailable_during_timeslot\u001B[49m\u001B[43m(\u001B[49m\u001B[43mroom\u001B[49m\u001B[43m,\u001B[49m\u001B[43m \u001B[49m\u001B[43mtime_option\u001B[49m\u001B[43m)\u001B[49m \u001B[38;5;28;01mfor\u001B[39;00m time_option \u001B[38;5;129;01min\u001B[39;00m\n\u001B[0;32m     36\u001B[0m              checking_class\u001B[38;5;241m.\u001B[39mtime_options]\n\u001B[0;32m     38\u001B[0m unflattened_class_choices[room_option_idx, :][time_mask] \u001B[38;5;241m=\u001B[39m \u001B[38;5;241m-\u001B[39m\u001B[38;5;241m1\u001B[39m\n",
      "File \u001B[1;32mD:\\Desktop\\ITC2019\\solution_search.py:50\u001B[0m, in \u001B[0;36mSolutionSearch.is_room_unavailable_during_timeslot\u001B[1;34m(self, room, time_option)\u001B[0m\n\u001B[0;32m     45\u001B[0m     unavailability_timeslots \u001B[38;5;241m=\u001B[39m unavailability\u001B[38;5;241m.\u001B[39mget_timeslots_mask(\u001B[38;5;28mself\u001B[39m\u001B[38;5;241m.\u001B[39mproblem\u001B[38;5;241m.\u001B[39mnrWeeks,\n\u001B[0;32m     46\u001B[0m                                                                  \u001B[38;5;28mself\u001B[39m\u001B[38;5;241m.\u001B[39mproblem\u001B[38;5;241m.\u001B[39mnrDays,\n\u001B[0;32m     47\u001B[0m                                                                  \u001B[38;5;28mself\u001B[39m\u001B[38;5;241m.\u001B[39mproblem\u001B[38;5;241m.\u001B[39mslotsPerDay)\n\u001B[0;32m     49\u001B[0m     overlaps \u001B[38;5;241m=\u001B[39m time_option_timeslots \u001B[38;5;241m&\u001B[39m unavailability_timeslots\n\u001B[1;32m---> 50\u001B[0m     \u001B[38;5;28;01mif\u001B[39;00m \u001B[43mnp\u001B[49m\u001B[38;5;241;43m.\u001B[39;49m\u001B[43mcount_nonzero\u001B[49m\u001B[43m(\u001B[49m\u001B[43moverlaps\u001B[49m\u001B[43m)\u001B[49m \u001B[38;5;241m>\u001B[39m \u001B[38;5;241m0\u001B[39m:\n\u001B[0;32m     51\u001B[0m         \u001B[38;5;28;01mreturn\u001B[39;00m \u001B[38;5;28;01mTrue\u001B[39;00m\n\u001B[0;32m     53\u001B[0m \u001B[38;5;28;01mreturn\u001B[39;00m \u001B[38;5;28;01mFalse\u001B[39;00m\n",
      "File \u001B[1;32mD:\\Desktop\\ITC2019\\venv\\Lib\\site-packages\\numpy\\core\\numeric.py:476\u001B[0m, in \u001B[0;36mcount_nonzero\u001B[1;34m(a, axis, keepdims)\u001B[0m\n\u001B[0;32m    417\u001B[0m \u001B[38;5;250m\u001B[39m\u001B[38;5;124;03m\"\"\"\u001B[39;00m\n\u001B[0;32m    418\u001B[0m \u001B[38;5;124;03mCounts the number of non-zero values in the array ``a``.\u001B[39;00m\n\u001B[0;32m    419\u001B[0m \n\u001B[1;32m   (...)\u001B[0m\n\u001B[0;32m    473\u001B[0m \u001B[38;5;124;03m       [3]])\u001B[39;00m\n\u001B[0;32m    474\u001B[0m \u001B[38;5;124;03m\"\"\"\u001B[39;00m\n\u001B[0;32m    475\u001B[0m \u001B[38;5;28;01mif\u001B[39;00m axis \u001B[38;5;129;01mis\u001B[39;00m \u001B[38;5;28;01mNone\u001B[39;00m \u001B[38;5;129;01mand\u001B[39;00m \u001B[38;5;129;01mnot\u001B[39;00m keepdims:\n\u001B[1;32m--> 476\u001B[0m     \u001B[38;5;28;01mreturn\u001B[39;00m multiarray\u001B[38;5;241m.\u001B[39mcount_nonzero(a)\n\u001B[0;32m    478\u001B[0m a \u001B[38;5;241m=\u001B[39m asanyarray(a)\n\u001B[0;32m    480\u001B[0m \u001B[38;5;66;03m# TODO: this works around .astype(bool) not working properly (gh-9847)\u001B[39;00m\n",
      "\u001B[1;31mKeyboardInterrupt\u001B[0m: "
     ]
    }
   ],
   "source": [
    "save_path_valid = f'output\\\\initial populations_valid_{time.strftime(\"%Y%m%d-%H%M%S\")}'\n",
    "\n",
    "os.mkdir(save_path_valid)\n",
    "os.mkdir(os.path.join(save_path_valid, 'itc2007 track 2'))\n",
    "os.mkdir(os.path.join(save_path_valid, 'itc2007 track 3'))\n",
    "os.mkdir(os.path.join(save_path_valid, 'itc2019'))\n",
    "\n",
    "for file in itc2007_track2_files:    \n",
    "    generate_valid_population('itc2007_track2', file, size, os.path.join(save_path_valid, 'itc2007 track 2', file.split('\\\\')[-1].split('.')[0] + \".npy\"),os.path.join(save_path_valid, 'itc2007 track 2', file.split('\\\\')[-1].split('.')[0] + \" time.txt\"))\n",
    "    \n",
    "for file in itc2007_track3_files:\n",
    "    generate_valid_population('itc2007_track3', file, size, os.path.join(save_path_valid, 'itc2007 track 3', file.split('\\\\')[-1].split('.')[0] + \".npy\"),os.path.join(save_path_valid, 'itc2007 track 3', file.split('\\\\')[-1].split('.')[0] + \" time.txt\"))\n",
    "    \n",
    "for file in itc2019_files:\n",
    "    generate_valid_population('itc2019', file, size, os.path.join(save_path_valid, 'itc2019', file.split('\\\\')[-1].split('.')[0] + \".npy\"),os.path.join(save_path_valid, 'itc2019', file.split('\\\\')[-1].split('.')[0] + \" time.txt\"))\n",
    "\n",
    "print('done')    \n",
    "print('save_path_valid',save_path_valid)\n"
   ],
   "metadata": {
    "collapsed": false,
    "ExecuteTime": {
     "end_time": "2024-04-19T12:04:30.987337300Z",
     "start_time": "2024-04-18T21:26:10.105467500Z"
    }
   },
   "id": "22b9bc00d832be1c"
  },
  {
   "cell_type": "code",
   "execution_count": null,
   "outputs": [],
   "source": [],
   "metadata": {
    "collapsed": false,
    "ExecuteTime": {
     "start_time": "2024-04-19T12:04:30.994351600Z"
    }
   },
   "id": "6451371808e50f44"
  }
 ],
 "metadata": {
  "kernelspec": {
   "display_name": "Python 3",
   "language": "python",
   "name": "python3"
  },
  "language_info": {
   "codemirror_mode": {
    "name": "ipython",
    "version": 2
   },
   "file_extension": ".py",
   "mimetype": "text/x-python",
   "name": "python",
   "nbconvert_exporter": "python",
   "pygments_lexer": "ipython2",
   "version": "2.7.6"
  }
 },
 "nbformat": 4,
 "nbformat_minor": 5
}
