{
 "cells": [
  {
   "cell_type": "code",
   "execution_count": null,
   "outputs": [],
   "source": [
    "import os\n",
    "import time\n",
    "\n",
    "import numpy as np\n",
    "\n",
    "from depth_first_search_solver import DepthFirstSearchSolver\n",
    "from parse_input import parse_itc2007_post_enrolment, parse_itc2007_curriculum_based, parse_xml\n",
    "from solution_search import SolutionSearch\n",
    "from util import random_gene, get_gene_maximums\n"
   ],
   "metadata": {
    "collapsed": false
   },
   "id": "3fac391237998398"
  },
  {
   "cell_type": "code",
   "execution_count": null,
   "outputs": [],
   "source": [
    "itc2007_track2_path = '.\\\\Datasets\\\\post'\n",
    "itc2007_track3_path = '.\\\\Datasets\\\\curriculum'\n",
    "itc2019_path = '.\\\\Datasets\\\\2019'\n",
    "\n",
    "def get_all_files(path):\n",
    "    return [os.path.join(dirpath, file) for dirpath, _, filenames in os.walk(path) for file in filenames]   \n",
    "\n",
    "itc2007_track2_files = get_all_files(itc2007_track2_path)\n",
    "itc2007_track3_files = get_all_files(itc2007_track3_path)\n",
    "itc2019_files = get_all_files(itc2019_path)\n",
    "\n",
    "def parse_problem (dataset,instance_path):\n",
    "    if dataset == 'itc2007_track2':\n",
    "        return parse_itc2007_post_enrolment(instance_path)\n",
    "    elif dataset == 'itc2007_track3':\n",
    "        return parse_itc2007_curriculum_based(instance_path)\n",
    "    elif dataset == 'itc2019':\n",
    "        return parse_xml(instance_path)"
   ],
   "metadata": {
    "collapsed": false
   },
   "id": "f963d814fc37dc15"
  },
  {
   "cell_type": "code",
   "execution_count": null,
   "outputs": [],
   "source": [
    "def generate_random_population(dataset, instance_path, population_size, save_path):\n",
    "    problem = parse_problem(dataset, instance_path)[0]\n",
    "    genes = [random_gene(get_gene_maximums(problem.classes)) for _ in range(population_size)]\n",
    "    \n",
    "    np.save(save_path, genes)\n",
    "    "
   ],
   "metadata": {
    "collapsed": false
   },
   "id": "b1c09279c027e04"
  },
  {
   "cell_type": "code",
   "execution_count": null,
   "outputs": [],
   "source": [
    "def generate_valid_population(dataset, instance_path, population_size, save_path,time_path):\n",
    "    problem = parse_problem(dataset, instance_path)[0]\n",
    "    genes = []\n",
    "    times = []\n",
    "    \n",
    "    max_attempts_before_first_success = 1\n",
    "    max_attempts = 200\n",
    "    failed_attempts = 0\n",
    "    \n",
    "    while len(genes) < population_size and failed_attempts < max_attempts:\n",
    "        \n",
    "        if len(genes) == 0 and failed_attempts == max_attempts_before_first_success:\n",
    "            break\n",
    "        \n",
    "        start_time = time.time()\n",
    "        search = SolutionSearch(problem)\n",
    "        solver = DepthFirstSearchSolver(search)\n",
    "        solution = solver.solve(max_backtracks=2000)\n",
    "        end_time = time.time()\n",
    "        \n",
    "        if solution['success']:\n",
    "            genes.append(search.get_result_as_gene())\n",
    "        else:\n",
    "            failed_attempts += 1\n",
    "            \n",
    "        times.append((end_time - start_time,solution['success']))\n",
    "                \n",
    "    \n",
    "    if len(genes) < population_size:\n",
    "        print(f\"Failed to generate valid population for {instance_path}\")\n",
    "    else:\n",
    "        np.save(save_path, genes)\n",
    "        np.savetxt(time_path, times,delimiter=',')"
   ],
   "metadata": {
    "collapsed": false
   },
   "id": "a1e1a25b0d609f78"
  },
  {
   "cell_type": "code",
   "execution_count": null,
   "outputs": [],
   "source": [
    "save_path_random = f'output\\\\initial populations_random_{time.strftime(\"%Y%m%d-%H%M%S\")}'\n",
    "size = 100\n",
    "\n",
    "os.mkdir(save_path_random)\n",
    "os.mkdir(os.path.join(save_path_random, 'itc2007 track 2'))\n",
    "os.mkdir(os.path.join(save_path_random, 'itc2007 track 3'))\n",
    "os.mkdir(os.path.join(save_path_random, 'itc2019'))\n",
    "\n",
    "for file in itc2007_track2_files:    \n",
    "    generate_random_population('itc2007_track2', file, size, os.path.join(save_path_random, 'itc2007 track 2', file.split('\\\\')[-1].split('.')[0] + \".npy\"))\n",
    "    \n",
    "for file in itc2007_track3_files:    \n",
    "    generate_random_population('itc2007_track3', file, size, os.path.join(save_path_random, 'itc2007 track 3', file.split('\\\\')[-1].split('.')[0] + \".npy\"))\n",
    "    \n",
    "for file in itc2019_files:\n",
    "    generate_random_population('itc2019', file, size, os.path.join(save_path_random, 'itc2019', file.split('\\\\')[-1].split('.')[0] + \".npy\"))\n",
    "    \n",
    "\n",
    "    \n",
    "print('done')\n",
    "print('save_path_random',save_path_random)"
   ],
   "metadata": {
    "collapsed": false
   },
   "id": "2410f73ad9dfc665"
  },
  {
   "cell_type": "code",
   "execution_count": null,
   "outputs": [],
   "source": [
    "save_path_valid = f'output\\\\initial populations_valid_{time.strftime(\"%Y%m%d-%H%M%S\")}'\n",
    "\n",
    "os.mkdir(save_path_valid)\n",
    "os.mkdir(os.path.join(save_path_valid, 'itc2007 track 2'))\n",
    "os.mkdir(os.path.join(save_path_valid, 'itc2007 track 3'))\n",
    "os.mkdir(os.path.join(save_path_valid, 'itc2019'))\n",
    "\n",
    "for file in itc2007_track2_files:    \n",
    "    generate_valid_population('itc2007_track2', file, size, os.path.join(save_path_valid, 'itc2007 track 2', file.split('\\\\')[-1].split('.')[0] + \".npy\"),os.path.join(save_path_valid, 'itc2007 track 2', file.split('\\\\')[-1].split('.')[0] + \" time.txt\"))\n",
    "    \n",
    "for file in itc2007_track3_files:\n",
    "    generate_valid_population('itc2007_track3', file, size, os.path.join(save_path_valid, 'itc2007 track 3', file.split('\\\\')[-1].split('.')[0] + \".npy\"),os.path.join(save_path_valid, 'itc2007 track 3', file.split('\\\\')[-1].split('.')[0] + \" time.txt\"))\n",
    "    \n",
    "for file in itc2019_files:\n",
    "    generate_valid_population('itc2019', file, size, os.path.join(save_path_valid, 'itc2019', file.split('\\\\')[-1].split('.')[0] + \".npy\"),os.path.join(save_path_valid, 'itc2019', file.split('\\\\')[-1].split('.')[0] + \" time.txt\"))\n",
    "\n",
    "print('done')    \n",
    "print('save_path_valid',save_path_valid)\n"
   ],
   "metadata": {
    "collapsed": false
   },
   "id": "22b9bc00d832be1c"
  },
  {
   "cell_type": "code",
   "execution_count": null,
   "outputs": [],
   "source": [],
   "metadata": {
    "collapsed": false
   },
   "id": "6451371808e50f44"
  }
 ],
 "metadata": {
  "kernelspec": {
   "display_name": "Python 3",
   "language": "python",
   "name": "python3"
  },
  "language_info": {
   "codemirror_mode": {
    "name": "ipython",
    "version": 2
   },
   "file_extension": ".py",
   "mimetype": "text/x-python",
   "name": "python",
   "nbconvert_exporter": "python",
   "pygments_lexer": "ipython2",
   "version": "2.7.6"
  }
 },
 "nbformat": 4,
 "nbformat_minor": 5
}
