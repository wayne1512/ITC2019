{
 "cells": [
  {
   "cell_type": "code",
   "execution_count": 35,
   "id": "initial_id",
   "metadata": {
    "collapsed": true,
    "ExecuteTime": {
     "end_time": "2023-10-05T22:32:39.188021400Z",
     "start_time": "2023-10-05T22:32:39.179023200Z"
    }
   },
   "outputs": [],
   "source": [
    "import os\n",
    "\n",
    "import numpy as np\n"
   ]
  },
  {
   "cell_type": "code",
   "execution_count": null,
   "outputs": [],
   "source": [
    "generations = 50\n",
    "pop_size = 64\n",
    "\n",
    "def execute_test():\n",
    "    for i in range(generations):\n",
    "        for j in range (pop_size):\n",
    "            a = np.random.rand(5000,2)\n",
    "            save(i,j,a)"
   ],
   "metadata": {
    "collapsed": false
   },
   "id": "fff6e4e8f772803b"
  },
  {
   "cell_type": "code",
   "execution_count": null,
   "outputs": [],
   "source": [
    "folder = \"output/test/\"\n",
    "file = os.path.join(folder,\"excel.xlsx\")\n",
    "if not os.path.exists(folder):\n",
    "    os.makedirs(folder)\n",
    "\n",
    "import pandas as pd\n",
    "\n",
    "writer = pd.ExcelWriter(file)\n",
    "\n",
    "def save(gen,i,a):\n",
    "    df = pd.DataFrame(a,columns=['hard','soft'])\n",
    "    df.to_excel(writer,\"costs {0}_{1}\".format(gen,i))\n",
    "    \n",
    "execute_test()\n",
    "\n",
    "writer.close()\n"
   ],
   "metadata": {
    "collapsed": false
   },
   "id": "a008de11298e399e"
  },
  {
   "cell_type": "code",
   "execution_count": null,
   "outputs": [],
   "source": [
    "folder = \"output/test/\"\n",
    "if not os.path.exists(folder):\n",
    "    os.makedirs(folder)\n",
    "\n",
    "import pandas as pd\n",
    "\n",
    "writer = pd.ExcelWriter(file)\n",
    "\n",
    "def save(gen,i,a):\n",
    "    file = os.path.join(folder,\"costs {0}_{1}.csv\".format(gen,i))\n",
    "    np.savetxt(file,a,delimiter=',')\n",
    "    \n",
    "execute_test()"
   ],
   "metadata": {
    "collapsed": false
   },
   "id": "612f0efb313f692e"
  },
  {
   "cell_type": "code",
   "execution_count": null,
   "outputs": [],
   "source": [],
   "metadata": {
    "collapsed": false
   },
   "id": "7ca029adaa9aa658"
  }
 ],
 "metadata": {
  "kernelspec": {
   "display_name": "Python 3",
   "language": "python",
   "name": "python3"
  },
  "language_info": {
   "codemirror_mode": {
    "name": "ipython",
    "version": 2
   },
   "file_extension": ".py",
   "mimetype": "text/x-python",
   "name": "python",
   "nbconvert_exporter": "python",
   "pygments_lexer": "ipython2",
   "version": "2.7.6"
  }
 },
 "nbformat": 4,
 "nbformat_minor": 5
}
