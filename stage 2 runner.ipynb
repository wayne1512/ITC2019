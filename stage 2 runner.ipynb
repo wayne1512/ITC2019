{
 "cells": [
  {
   "cell_type": "code",
   "execution_count": 1,
   "outputs": [],
   "source": [
    "import os\n",
    "import time\n",
    "\n",
    "from parse_input import parse_itc2007_post_enrolment, parse_itc2007_curriculum_based, parse_xml\n",
    "from random_student_sectioning import RandomStudentSectioning\n",
    "from solution_to_xml import output_itc2007_cb, generate_xml\n",
    "from timetable_solver import TimetableSolver\n"
   ],
   "metadata": {
    "collapsed": false,
    "ExecuteTime": {
     "end_time": "2024-05-01T21:35:16.712859800Z",
     "start_time": "2024-05-01T21:35:15.748299500Z"
    }
   },
   "id": "3fac391237998398"
  },
  {
   "cell_type": "code",
   "execution_count": 2,
   "outputs": [],
   "source": [
    "itc2007_track2_path = '.\\\\Datasets\\\\post'\n",
    "itc2007_track3_path = '.\\\\Datasets\\\\curriculum'\n",
    "itc2019_path = '.\\\\Datasets\\\\2019'\n",
    "\n",
    "def get_all_files(path):\n",
    "    return [os.path.join(dirpath, file) for dirpath, _, filenames in os.walk(path) for file in filenames]   \n",
    "\n",
    "itc2007_track2_files = get_all_files(itc2007_track2_path)\n",
    "itc2007_track3_files = get_all_files(itc2007_track3_path)\n",
    "itc2019_files = get_all_files(itc2019_path)\n",
    "\n",
    "def filter_files_by_name(files, queries):\n",
    "    # check if filename matches query\n",
    "    return [file for file in files if file.split('\\\\')[-1].split('.')[0] in queries]\n",
    "\n",
    "def parse_problem (dataset,instance_path):\n",
    "    if dataset == 'itc2007_track2':\n",
    "        return parse_itc2007_post_enrolment(instance_path)\n",
    "    elif dataset == 'itc2007_track3':\n",
    "        return parse_itc2007_curriculum_based(instance_path)\n",
    "    elif dataset == 'itc2019':\n",
    "        return parse_xml(instance_path)"
   ],
   "metadata": {
    "collapsed": false,
    "ExecuteTime": {
     "end_time": "2024-05-01T21:35:16.722656100Z",
     "start_time": "2024-05-01T21:35:16.716861600Z"
    }
   },
   "id": "f963d814fc37dc15"
  },
  {
   "cell_type": "code",
   "execution_count": 3,
   "outputs": [],
   "source": [
    "graph_interval = 1\n",
    "\n",
    "def run_experiment_for_dataset(dataset,files, experiment_name, repetitions, ga_params):\n",
    "    \n",
    "    output_path = f'output/{experiment_name}_{dataset}_{time.strftime(\"%Y%m%d-%H%M%S\")}'\n",
    "    os.makedirs(output_path)\n",
    "    \n",
    "    for file in files:\n",
    "        for rep in range(repetitions):\n",
    "            \n",
    "            subfolder_path = os.path.join(output_path,file.split('\\\\')[-1].split('.')[0]+\"_rep \"+str(rep+1))\n",
    "            os.mkdir(subfolder_path)\n",
    "            \n",
    "            start_time = time.time()\n",
    "            \n",
    "            print(f'Processing {file} ({rep+1}/{repetitions})...')\n",
    "            problem_tuple = parse_problem(dataset, file)\n",
    "            problem = problem_tuple[0]\n",
    "            timetable_solver = TimetableSolver(problem,checkpoint_dir=os.path.join(subfolder_path,'checkpoint'),graphs_dir=os.path.join(subfolder_path,'graphs'),graphs_interval=graph_interval,**ga_params)\n",
    "            \n",
    "            timetable_solver.run()\n",
    "            \n",
    "            \n",
    "            stats_file = open(os.path.join(subfolder_path,'stats.txt'), 'w')\n",
    "            \n",
    "            \n",
    "            best_solution,best_cost = timetable_solver.get_best_solution()\n",
    "            \n",
    "            stats_file.write(f'Best solution cost: {best_cost}\\n')\n",
    "            \n",
    "            end_time = time.time()\n",
    "            stats_file.write(f'Execution time: {end_time-start_time} seconds\\n')\n",
    "            \n",
    "            stats_file.write(f'Population init time: {timetable_solver.init_population_construction_times}')\n",
    "            \n",
    "            history = timetable_solver.fitness_history\n",
    "            history.to_csv(os.path.join(subfolder_path,'history.csv'))\n",
    "            \n",
    "            if dataset == 'itc2007_track3':\n",
    "                output_itc2007_cb(problem,best_solution,problem_tuple[2],problem_tuple[3],os.path.join(subfolder_path,'output.sol'))\n",
    "            if dataset == 'itc2019':\n",
    "                ss = RandomStudentSectioning(problem)\n",
    "                student_classes = ss.apply()\n",
    "                generate_xml(problem,best_solution,student_classes,os.path.join(subfolder_path,'output.xml'))\n",
    "            \n",
    "            \n",
    "            stats_file.close()"
   ],
   "metadata": {
    "collapsed": false,
    "ExecuteTime": {
     "end_time": "2024-05-01T21:35:16.733070700Z",
     "start_time": "2024-05-01T21:35:16.723658400Z"
    }
   },
   "id": "6451371808e50f44"
  },
  {
   "cell_type": "markdown",
   "source": [
    "# random or dfs construction and 1k generations with ls"
   ],
   "metadata": {
    "collapsed": false
   },
   "id": "be4c9ae4c1c90d43"
  },
  {
   "cell_type": "code",
   "execution_count": null,
   "outputs": [],
   "source": [
    "# run_experiment_for_dataset('itc2019',itc2019_files[0:10], 'itc2019(1 of 3) with random construction and 1k generations with ls', 1, {'population_size': 50, 'no_of_generations': 1000, 'first_population_method': \"random\",'crossover_chance': 0.7, 'crossover_ratio': 0.5, 'mutation_chance': 0.7,'local_search':True})\n",
    "# \n",
    "# run_experiment_for_dataset('itc2019',itc2019_files[0:10] , 'itc2019(1 of 3) with dfs construction and 1k generations with ls', 1, {'population_size': 50, 'no_of_generations': 1000, 'first_population_method': \"dfs\",'crossover_chance': 0.7, 'crossover_ratio': 0.5, 'mutation_chance': 0.7,'local_search':True})"
   ],
   "metadata": {
    "collapsed": false
   },
   "id": "be8390879e8ef49a"
  },
  {
   "cell_type": "code",
   "execution_count": null,
   "outputs": [],
   "source": [
    "# run_experiment_for_dataset('itc2019',itc2019_files[10:20], 'itc2019(2 of 3) with random construction and 1k generations with ls', 1, {'population_size': 50, 'no_of_generations': 1000, 'first_population_method': \"random\",'crossover_chance': 0.7, 'crossover_ratio': 0.5, 'mutation_chance': 0.7,'local_search':True})\n",
    "# \n",
    "# run_experiment_for_dataset('itc2019',itc2019_files[10:20] , 'itc2019(2 of 3) with dfs construction and 1k generations with ls', 1, {'population_size': 50, 'no_of_generations': 1000, 'first_population_method': \"dfs\",'crossover_chance': 0.7, 'crossover_ratio': 0.5, 'mutation_chance': 0.7,'local_search':True})"
   ],
   "metadata": {
    "collapsed": false
   },
   "id": "4457f7f6b67b6cd7"
  },
  {
   "cell_type": "code",
   "execution_count": null,
   "outputs": [],
   "source": [
    "# run_experiment_for_dataset('itc2019',itc2019_files[20:30], 'itc2019(3 of 3) with random construction and 1k generations with ls', 1, {'population_size': 50, 'no_of_generations': 1000, 'first_population_method': \"random\",'crossover_chance': 0.7, 'crossover_ratio': 0.5, 'mutation_chance': 0.7,'local_search':True})\n",
    "# \n",
    "# run_experiment_for_dataset('itc2019',itc2019_files[20:30] , 'itc2019(3 of 3) with dfs construction and 1k generations with ls', 1, {'population_size': 50, 'no_of_generations': 1000, 'first_population_method': \"dfs\",'crossover_chance': 0.7, 'crossover_ratio': 0.5, 'mutation_chance': 0.7,'local_search':True})"
   ],
   "metadata": {
    "collapsed": false
   },
   "id": "8e509b92ab801cd2"
  },
  {
   "cell_type": "code",
   "execution_count": null,
   "outputs": [],
   "source": [
    "# run_experiment_for_dataset('itc2007_track2',itc2007_track2_files, 'itc2007 track2 with random construction and 1k generations with ls', 1, {'population_size': 50, 'no_of_generations': 1000, 'first_population_method': \"random\",'crossover_chance': 0.7, 'crossover_ratio': 0.5, 'mutation_chance': 0.7,'local_search':True})\n",
    "# \n",
    "# run_experiment_for_dataset('itc2007_track2',itc2007_track2_files , 'itc2007 track2 with dfs construction and 1k generations with ls', 1, {'population_size': 50, 'no_of_generations': 1000, 'first_population_method': \"dfs\",'crossover_chance': 0.7, 'crossover_ratio': 0.5, 'mutation_chance': 0.7,'local_search':True})"
   ],
   "metadata": {
    "collapsed": false
   },
   "id": "43163397ecfa7c96"
  },
  {
   "cell_type": "code",
   "execution_count": null,
   "outputs": [],
   "source": [
    "# run_experiment_for_dataset('itc2007_track3',itc2007_track3_files, 'itc2007 track3 with random construction and 1k generations with ls', 1, {'population_size': 50, 'no_of_generations': 1000, 'first_population_method': \"random\",'crossover_chance': 0.7, 'crossover_ratio': 0.5, 'mutation_chance': 0.7,'local_search':True})\n",
    "# \n",
    "# run_experiment_for_dataset('itc2007_track3',itc2007_track3_files , 'itc2007 track3 with dfs construction and 1k generations with ls', 1, {'population_size': 50, 'no_of_generations': 1000, 'first_population_method': \"dfs\",'crossover_chance': 0.7, 'crossover_ratio': 0.5, 'mutation_chance': 0.7,'local_search':True})"
   ],
   "metadata": {
    "collapsed": false
   },
   "id": "22a79d8263a579b9"
  },
  {
   "cell_type": "markdown",
   "source": [
    "# select datasets only"
   ],
   "metadata": {
    "collapsed": false
   },
   "id": "3d59d0c449718873"
  },
  {
   "cell_type": "code",
   "execution_count": 5,
   "outputs": [],
   "source": [
    "select_2019_datasets = filter_files_by_name(itc2019_files,['lums-spr18', 'lums-fal17', 'muni-fi-spr17', 'muni-fi-fal17', 'muni-fsps-spr17'])\n",
    "\n",
    "select_t2_datasets = filter_files_by_name(itc2007_track2_files,['comp-2007-2-17'])\n",
    "\n",
    "select_t3_datasets = filter_files_by_name(itc2007_track3_files,['comp18', 'comp01' 'comp11', 'comp12', 'comp03', 'comp15', 'comp14'])"
   ],
   "metadata": {
    "collapsed": false,
    "ExecuteTime": {
     "end_time": "2024-05-01T21:35:27.365719700Z",
     "start_time": "2024-05-01T21:35:27.358257300Z"
    }
   },
   "id": "2d37e3171a9fb3ef"
  },
  {
   "cell_type": "markdown",
   "source": [
    "## LS"
   ],
   "metadata": {
    "collapsed": false
   },
   "id": "ba2fb95d29822ea2"
  },
  {
   "cell_type": "code",
   "execution_count": null,
   "outputs": [],
   "source": [
    "# run_experiment_for_dataset('itc2007_track2',select_t2_datasets , 'select itc2007 track 2 with valid dfs construction and 150 generations with ls', 1, {'population_size': 50, 'no_of_generations': 150, 'first_population_method': \"dfs\",'crossover_chance': 0.7, 'crossover_ratio': 0.5, 'mutation_chance': 0.7,'local_search':True})"
   ],
   "metadata": {
    "collapsed": false
   },
   "id": "7425d594c7766c43"
  },
  {
   "cell_type": "code",
   "execution_count": null,
   "outputs": [],
   "source": [
    "# run_experiment_for_dataset('itc2007_track3',select_t3_datasets , 'select itc2007 track 3 with valid dfs construction and 150 generations with ls', 1, {'population_size': 50, 'no_of_generations': 150, 'first_population_method': \"dfs\",'crossover_chance': 0.7, 'crossover_ratio': 0.5, 'mutation_chance': 0.7,'local_search':True})\n"
   ],
   "metadata": {
    "collapsed": false
   },
   "id": "b9cb057cddc15de5"
  },
  {
   "cell_type": "code",
   "execution_count": null,
   "outputs": [],
   "source": [
    "# run_experiment_for_dataset('itc2019',select_2019_datasets , 'select itc2019 2 with valid dfs construction and 150 generations with ls', 1, {'population_size': 50, 'no_of_generations': 150, 'first_population_method': \"dfs\",'crossover_chance': 0.7, 'crossover_ratio': 0.5, 'mutation_chance': 0.7,'local_search':True})"
   ],
   "metadata": {
    "collapsed": false
   },
   "id": "d83ecf28802fd278"
  },
  {
   "cell_type": "markdown",
   "source": [
    "## ILS"
   ],
   "metadata": {
    "collapsed": false
   },
   "id": "8f5fcef3fed98b5b"
  },
  {
   "cell_type": "code",
   "execution_count": null,
   "outputs": [],
   "source": [
    "run_experiment_for_dataset('itc2007_track2',select_t2_datasets , 'select itc2007 track 2 with valid dfs construction and 150 generations with ils', 1, {'population_size': 50, 'no_of_generations': 150, 'first_population_method': \"dfs\",'crossover_chance': 0.7, 'crossover_ratio': 0.5, 'mutation_chance': 0.7,'iterated_local_search':True})"
   ],
   "metadata": {
    "collapsed": false
   },
   "id": "fb084ea061162cc"
  },
  {
   "cell_type": "code",
   "execution_count": 6,
   "outputs": [
    {
     "name": "stdout",
     "output_type": "stream",
     "text": [
      "Processing .\\Datasets\\curriculum\\comp03.ctt (1/1)...\n",
      "Local search ended with 302 hard constraints not satisfied\n",
      "New best cost found: (302, 6483)\n",
      "Local search ended with 295 hard constraints not satisfied\n",
      "New best cost found: (295, 6386)\n",
      "Local search ended with 304 hard constraints not satisfied\n",
      "No better solution found, perturbating...\n",
      "Local search ended with 289 hard constraints not satisfied\n",
      "New best cost found: (289, 6379)\n",
      "Local search ended with 278 hard constraints not satisfied\n",
      "New best cost found: (278, 6460)\n"
     ]
    },
    {
     "ename": "KeyboardInterrupt",
     "evalue": "",
     "output_type": "error",
     "traceback": [
      "\u001B[1;31m---------------------------------------------------------------------------\u001B[0m",
      "\u001B[1;31mKeyboardInterrupt\u001B[0m                         Traceback (most recent call last)",
      "Cell \u001B[1;32mIn[6], line 1\u001B[0m\n\u001B[1;32m----> 1\u001B[0m \u001B[43mrun_experiment_for_dataset\u001B[49m\u001B[43m(\u001B[49m\u001B[38;5;124;43m'\u001B[39;49m\u001B[38;5;124;43mitc2007_track3\u001B[39;49m\u001B[38;5;124;43m'\u001B[39;49m\u001B[43m,\u001B[49m\u001B[43mselect_t3_datasets\u001B[49m\u001B[43m \u001B[49m\u001B[43m,\u001B[49m\u001B[43m \u001B[49m\u001B[38;5;124;43m'\u001B[39;49m\u001B[38;5;124;43mselect itc2007 track 3 with valid dfs construction and 150 generations with ils\u001B[39;49m\u001B[38;5;124;43m'\u001B[39;49m\u001B[43m,\u001B[49m\u001B[43m \u001B[49m\u001B[38;5;241;43m1\u001B[39;49m\u001B[43m,\u001B[49m\u001B[43m \u001B[49m\u001B[43m{\u001B[49m\u001B[38;5;124;43m'\u001B[39;49m\u001B[38;5;124;43mpopulation_size\u001B[39;49m\u001B[38;5;124;43m'\u001B[39;49m\u001B[43m:\u001B[49m\u001B[43m \u001B[49m\u001B[38;5;241;43m50\u001B[39;49m\u001B[43m,\u001B[49m\u001B[43m \u001B[49m\u001B[38;5;124;43m'\u001B[39;49m\u001B[38;5;124;43mno_of_generations\u001B[39;49m\u001B[38;5;124;43m'\u001B[39;49m\u001B[43m:\u001B[49m\u001B[43m \u001B[49m\u001B[38;5;241;43m150\u001B[39;49m\u001B[43m,\u001B[49m\u001B[43m \u001B[49m\u001B[38;5;124;43m'\u001B[39;49m\u001B[38;5;124;43mfirst_population_method\u001B[39;49m\u001B[38;5;124;43m'\u001B[39;49m\u001B[43m:\u001B[49m\u001B[43m \u001B[49m\u001B[38;5;124;43m\"\u001B[39;49m\u001B[38;5;124;43mrandom\u001B[39;49m\u001B[38;5;124;43m\"\u001B[39;49m\u001B[43m,\u001B[49m\u001B[38;5;124;43m'\u001B[39;49m\u001B[38;5;124;43mcrossover_chance\u001B[39;49m\u001B[38;5;124;43m'\u001B[39;49m\u001B[43m:\u001B[49m\u001B[43m \u001B[49m\u001B[38;5;241;43m0.7\u001B[39;49m\u001B[43m,\u001B[49m\u001B[43m \u001B[49m\u001B[38;5;124;43m'\u001B[39;49m\u001B[38;5;124;43mcrossover_ratio\u001B[39;49m\u001B[38;5;124;43m'\u001B[39;49m\u001B[43m:\u001B[49m\u001B[43m \u001B[49m\u001B[38;5;241;43m0.5\u001B[39;49m\u001B[43m,\u001B[49m\u001B[43m \u001B[49m\u001B[38;5;124;43m'\u001B[39;49m\u001B[38;5;124;43mmutation_chance\u001B[39;49m\u001B[38;5;124;43m'\u001B[39;49m\u001B[43m:\u001B[49m\u001B[43m \u001B[49m\u001B[38;5;241;43m0.7\u001B[39;49m\u001B[43m,\u001B[49m\u001B[38;5;124;43m'\u001B[39;49m\u001B[38;5;124;43miterated_local_search\u001B[39;49m\u001B[38;5;124;43m'\u001B[39;49m\u001B[43m:\u001B[49m\u001B[38;5;28;43;01mTrue\u001B[39;49;00m\u001B[43m}\u001B[49m\u001B[43m)\u001B[49m\n",
      "Cell \u001B[1;32mIn[3], line 21\u001B[0m, in \u001B[0;36mrun_experiment_for_dataset\u001B[1;34m(dataset, files, experiment_name, repetitions, ga_params)\u001B[0m\n\u001B[0;32m     18\u001B[0m problem \u001B[38;5;241m=\u001B[39m problem_tuple[\u001B[38;5;241m0\u001B[39m]\n\u001B[0;32m     19\u001B[0m timetable_solver \u001B[38;5;241m=\u001B[39m TimetableSolver(problem,checkpoint_dir\u001B[38;5;241m=\u001B[39mos\u001B[38;5;241m.\u001B[39mpath\u001B[38;5;241m.\u001B[39mjoin(subfolder_path,\u001B[38;5;124m'\u001B[39m\u001B[38;5;124mcheckpoint\u001B[39m\u001B[38;5;124m'\u001B[39m),graphs_dir\u001B[38;5;241m=\u001B[39mos\u001B[38;5;241m.\u001B[39mpath\u001B[38;5;241m.\u001B[39mjoin(subfolder_path,\u001B[38;5;124m'\u001B[39m\u001B[38;5;124mgraphs\u001B[39m\u001B[38;5;124m'\u001B[39m),graphs_interval\u001B[38;5;241m=\u001B[39mgraph_interval,\u001B[38;5;241m*\u001B[39m\u001B[38;5;241m*\u001B[39mga_params)\n\u001B[1;32m---> 21\u001B[0m \u001B[43mtimetable_solver\u001B[49m\u001B[38;5;241;43m.\u001B[39;49m\u001B[43mrun\u001B[49m\u001B[43m(\u001B[49m\u001B[43m)\u001B[49m\n\u001B[0;32m     24\u001B[0m stats_file \u001B[38;5;241m=\u001B[39m \u001B[38;5;28mopen\u001B[39m(os\u001B[38;5;241m.\u001B[39mpath\u001B[38;5;241m.\u001B[39mjoin(subfolder_path,\u001B[38;5;124m'\u001B[39m\u001B[38;5;124mstats.txt\u001B[39m\u001B[38;5;124m'\u001B[39m), \u001B[38;5;124m'\u001B[39m\u001B[38;5;124mw\u001B[39m\u001B[38;5;124m'\u001B[39m)\n\u001B[0;32m     27\u001B[0m best_solution,best_cost \u001B[38;5;241m=\u001B[39m timetable_solver\u001B[38;5;241m.\u001B[39mget_best_solution()\n",
      "File \u001B[1;32mD:\\Desktop\\ITC2019\\timetable_solver.py:93\u001B[0m, in \u001B[0;36mTimetableSolver.run\u001B[1;34m(self)\u001B[0m\n\u001B[0;32m     91\u001B[0m         \u001B[38;5;28;01mreturn\u001B[39;00m\n\u001B[0;32m     92\u001B[0m \u001B[38;5;28;01melse\u001B[39;00m:\n\u001B[1;32m---> 93\u001B[0m     \u001B[38;5;28;43mself\u001B[39;49m\u001B[38;5;241;43m.\u001B[39;49m\u001B[43mgenerate_new_population\u001B[49m\u001B[43m(\u001B[49m\u001B[43m)\u001B[49m\n\u001B[0;32m     95\u001B[0m \u001B[38;5;28;01mif\u001B[39;00m \u001B[38;5;28mself\u001B[39m\u001B[38;5;241m.\u001B[39mgeneration \u001B[38;5;241m%\u001B[39m \u001B[38;5;28mself\u001B[39m\u001B[38;5;241m.\u001B[39mgraphs_interval \u001B[38;5;241m==\u001B[39m \u001B[38;5;241m0\u001B[39m \u001B[38;5;129;01mor\u001B[39;00m \u001B[38;5;28mself\u001B[39m\u001B[38;5;241m.\u001B[39mgeneration \u001B[38;5;241m==\u001B[39m \u001B[38;5;28mself\u001B[39m\u001B[38;5;241m.\u001B[39mno_of_generations \u001B[38;5;241m-\u001B[39m \u001B[38;5;241m1\u001B[39m:\n\u001B[0;32m     96\u001B[0m     \u001B[38;5;28mself\u001B[39m\u001B[38;5;241m.\u001B[39mupdate_graphs()\n",
      "File \u001B[1;32mD:\\Desktop\\ITC2019\\timetable_solver.py:196\u001B[0m, in \u001B[0;36mTimetableSolver.generate_new_population\u001B[1;34m(self)\u001B[0m\n\u001B[0;32m    191\u001B[0m     child, cost_of_child \u001B[38;5;241m=\u001B[39m local_search(child, \u001B[38;5;28mself\u001B[39m\u001B[38;5;241m.\u001B[39mmaximum_genes, \u001B[38;5;28mself\u001B[39m\u001B[38;5;241m.\u001B[39mproblem,\n\u001B[0;32m    192\u001B[0m                                         graph_dir\u001B[38;5;241m=\u001B[39m\n\u001B[0;32m    193\u001B[0m                                         os\u001B[38;5;241m.\u001B[39mpath\u001B[38;5;241m.\u001B[39mjoin(\u001B[38;5;28mself\u001B[39m\u001B[38;5;241m.\u001B[39mgraphs_dir, \u001B[38;5;124mf\u001B[39m\u001B[38;5;124m\"\u001B[39m\u001B[38;5;124mlocal_search_\u001B[39m\u001B[38;5;132;01m{\u001B[39;00m\u001B[38;5;28mself\u001B[39m\u001B[38;5;241m.\u001B[39mgeneration\u001B[38;5;132;01m}\u001B[39;00m\u001B[38;5;124m\"\u001B[39m))\n\u001B[0;32m    195\u001B[0m \u001B[38;5;28;01mif\u001B[39;00m \u001B[38;5;28mself\u001B[39m\u001B[38;5;241m.\u001B[39miterated_local_search \u001B[38;5;129;01mis\u001B[39;00m \u001B[38;5;129;01mnot\u001B[39;00m \u001B[38;5;28;01mNone\u001B[39;00m \u001B[38;5;129;01mand\u001B[39;00m \u001B[38;5;28mself\u001B[39m\u001B[38;5;241m.\u001B[39miterated_local_search:\n\u001B[1;32m--> 196\u001B[0m     child, cost_of_child \u001B[38;5;241m=\u001B[39m \u001B[43miterated_local_search\u001B[49m\u001B[43m(\u001B[49m\u001B[43mchild\u001B[49m\u001B[43m,\u001B[49m\u001B[43m \u001B[49m\u001B[38;5;28;43mself\u001B[39;49m\u001B[38;5;241;43m.\u001B[39;49m\u001B[43mmaximum_genes\u001B[49m\u001B[43m,\u001B[49m\u001B[43m \u001B[49m\u001B[38;5;28;43mself\u001B[39;49m\u001B[38;5;241;43m.\u001B[39;49m\u001B[43mproblem\u001B[49m\u001B[43m,\u001B[49m\n\u001B[0;32m    197\u001B[0m \u001B[43m                                                 \u001B[49m\u001B[43mgraph_dir\u001B[49m\u001B[38;5;241;43m=\u001B[39;49m\n\u001B[0;32m    198\u001B[0m \u001B[43m                                                 \u001B[49m\u001B[43mos\u001B[49m\u001B[38;5;241;43m.\u001B[39;49m\u001B[43mpath\u001B[49m\u001B[38;5;241;43m.\u001B[39;49m\u001B[43mjoin\u001B[49m\u001B[43m(\u001B[49m\u001B[38;5;28;43mself\u001B[39;49m\u001B[38;5;241;43m.\u001B[39;49m\u001B[43mgraphs_dir\u001B[49m\u001B[43m,\u001B[49m\n\u001B[0;32m    199\u001B[0m \u001B[43m                                                              \u001B[49m\u001B[38;5;124;43mf\u001B[39;49m\u001B[38;5;124;43m\"\u001B[39;49m\u001B[38;5;124;43miterated_local_search_\u001B[39;49m\u001B[38;5;132;43;01m{\u001B[39;49;00m\u001B[38;5;28;43mself\u001B[39;49m\u001B[38;5;241;43m.\u001B[39;49m\u001B[43mgeneration\u001B[49m\u001B[38;5;132;43;01m}\u001B[39;49;00m\u001B[38;5;124;43m\"\u001B[39;49m\u001B[43m)\u001B[49m\u001B[43m)\u001B[49m\n\u001B[0;32m    201\u001B[0m cost_of_child \u001B[38;5;241m=\u001B[39m calculate_total_cost(\u001B[38;5;28mself\u001B[39m\u001B[38;5;241m.\u001B[39mproblem, child)\n\u001B[0;32m    203\u001B[0m worst_cost_index \u001B[38;5;241m=\u001B[39m np\u001B[38;5;241m.\u001B[39mlexsort((np\u001B[38;5;241m.\u001B[39marray(\u001B[38;5;28mself\u001B[39m\u001B[38;5;241m.\u001B[39mcosts)[:, \u001B[38;5;241m1\u001B[39m], np\u001B[38;5;241m.\u001B[39marray(\u001B[38;5;28mself\u001B[39m\u001B[38;5;241m.\u001B[39mcosts)[:, \u001B[38;5;241m0\u001B[39m]))[\u001B[38;5;241m-\u001B[39m\u001B[38;5;241m1\u001B[39m]\n",
      "File \u001B[1;32m_pydevd_bundle\\pydevd_cython_win32_311_64.pyx:1179\u001B[0m, in \u001B[0;36m_pydevd_bundle.pydevd_cython_win32_311_64.SafeCallWrapper.__call__\u001B[1;34m()\u001B[0m\n",
      "File \u001B[1;32m_pydevd_bundle\\pydevd_cython_win32_311_64.pyx:620\u001B[0m, in \u001B[0;36m_pydevd_bundle.pydevd_cython_win32_311_64.PyDBFrame.trace_dispatch\u001B[1;34m()\u001B[0m\n",
      "File \u001B[1;32m_pydevd_bundle\\pydevd_cython_win32_311_64.pyx:1095\u001B[0m, in \u001B[0;36m_pydevd_bundle.pydevd_cython_win32_311_64.PyDBFrame.trace_dispatch\u001B[1;34m()\u001B[0m\n",
      "File \u001B[1;32m_pydevd_bundle\\pydevd_cython_win32_311_64.pyx:1088\u001B[0m, in \u001B[0;36m_pydevd_bundle.pydevd_cython_win32_311_64.PyDBFrame.trace_dispatch\u001B[1;34m()\u001B[0m\n",
      "File \u001B[1;32m_pydevd_bundle\\pydevd_cython_win32_311_64.pyx:317\u001B[0m, in \u001B[0;36m_pydevd_bundle.pydevd_cython_win32_311_64.PyDBFrame.do_wait_suspend\u001B[1;34m()\u001B[0m\n",
      "File \u001B[1;32m~\\AppData\\Local\\Programs\\PyCharm Professional 2\\plugins\\python\\helpers\\pydev\\pydevd.py:1160\u001B[0m, in \u001B[0;36mPyDB.do_wait_suspend\u001B[1;34m(self, thread, frame, event, arg, send_suspend_message, is_unhandled_exception)\u001B[0m\n\u001B[0;32m   1157\u001B[0m         from_this_thread\u001B[38;5;241m.\u001B[39mappend(frame_id)\n\u001B[0;32m   1159\u001B[0m \u001B[38;5;28;01mwith\u001B[39;00m \u001B[38;5;28mself\u001B[39m\u001B[38;5;241m.\u001B[39m_threads_suspended_single_notification\u001B[38;5;241m.\u001B[39mnotify_thread_suspended(thread_id, stop_reason):\n\u001B[1;32m-> 1160\u001B[0m     \u001B[38;5;28;43mself\u001B[39;49m\u001B[38;5;241;43m.\u001B[39;49m\u001B[43m_do_wait_suspend\u001B[49m\u001B[43m(\u001B[49m\u001B[43mthread\u001B[49m\u001B[43m,\u001B[49m\u001B[43m \u001B[49m\u001B[43mframe\u001B[49m\u001B[43m,\u001B[49m\u001B[43m \u001B[49m\u001B[43mevent\u001B[49m\u001B[43m,\u001B[49m\u001B[43m \u001B[49m\u001B[43marg\u001B[49m\u001B[43m,\u001B[49m\u001B[43m \u001B[49m\u001B[43msuspend_type\u001B[49m\u001B[43m,\u001B[49m\u001B[43m \u001B[49m\u001B[43mfrom_this_thread\u001B[49m\u001B[43m)\u001B[49m\n",
      "File \u001B[1;32m~\\AppData\\Local\\Programs\\PyCharm Professional 2\\plugins\\python\\helpers\\pydev\\pydevd.py:1175\u001B[0m, in \u001B[0;36mPyDB._do_wait_suspend\u001B[1;34m(self, thread, frame, event, arg, suspend_type, from_this_thread)\u001B[0m\n\u001B[0;32m   1172\u001B[0m             \u001B[38;5;28mself\u001B[39m\u001B[38;5;241m.\u001B[39m_call_mpl_hook()\n\u001B[0;32m   1174\u001B[0m         \u001B[38;5;28mself\u001B[39m\u001B[38;5;241m.\u001B[39mprocess_internal_commands()\n\u001B[1;32m-> 1175\u001B[0m         time\u001B[38;5;241m.\u001B[39msleep(\u001B[38;5;241m0.01\u001B[39m)\n\u001B[0;32m   1177\u001B[0m \u001B[38;5;28mself\u001B[39m\u001B[38;5;241m.\u001B[39mcancel_async_evaluation(get_current_thread_id(thread), \u001B[38;5;28mstr\u001B[39m(\u001B[38;5;28mid\u001B[39m(frame)))\n\u001B[0;32m   1179\u001B[0m \u001B[38;5;66;03m# process any stepping instructions\u001B[39;00m\n",
      "\u001B[1;31mKeyboardInterrupt\u001B[0m: "
     ]
    }
   ],
   "source": [
    "run_experiment_for_dataset('itc2007_track3',select_t3_datasets , 'select itc2007 track 3 with valid dfs construction and 150 generations with ils', 1, {'population_size': 50, 'no_of_generations': 150, 'first_population_method': \"dfs\",'crossover_chance': 0.7, 'crossover_ratio': 0.5, 'mutation_chance': 0.7,'iterated_local_search':True})\n"
   ],
   "metadata": {
    "collapsed": false,
    "ExecuteTime": {
     "end_time": "2024-05-01T21:39:55.202268600Z",
     "start_time": "2024-05-01T21:35:29.559493700Z"
    }
   },
   "id": "ae9672a77a75875"
  },
  {
   "cell_type": "code",
   "execution_count": null,
   "outputs": [],
   "source": [
    "run_experiment_for_dataset('itc2019',select_2019_datasets , 'select itc2019 2 with valid dfs construction and 150 generations with ils', 1, {'population_size': 50, 'no_of_generations': 150, 'first_population_method': \"dfs\",'crossover_chance': 0.7, 'crossover_ratio': 0.5, 'mutation_chance': 0.7,'iterated_local_search':True})"
   ],
   "metadata": {
    "collapsed": false
   },
   "id": "efff776d61f6e299"
  }
 ],
 "metadata": {
  "kernelspec": {
   "display_name": "Python 3",
   "language": "python",
   "name": "python3"
  },
  "language_info": {
   "codemirror_mode": {
    "name": "ipython",
    "version": 2
   },
   "file_extension": ".py",
   "mimetype": "text/x-python",
   "name": "python",
   "nbconvert_exporter": "python",
   "pygments_lexer": "ipython2",
   "version": "2.7.6"
  }
 },
 "nbformat": 4,
 "nbformat_minor": 5
}
