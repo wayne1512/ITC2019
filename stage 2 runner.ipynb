{
 "cells": [
  {
   "cell_type": "code",
   "execution_count": null,
   "outputs": [],
   "source": [
    "import os\n",
    "import time\n",
    "\n",
    "from parse_input import parse_itc2007_post_enrolment, parse_itc2007_curriculum_based, parse_xml\n",
    "from random_student_sectioning import RandomStudentSectioning\n",
    "from solution_to_xml import output_itc2007_cb, generate_xml\n",
    "from timetable_solver import TimetableSolver\n"
   ],
   "metadata": {
    "collapsed": false
   },
   "id": "3fac391237998398"
  },
  {
   "cell_type": "code",
   "execution_count": null,
   "outputs": [],
   "source": [
    "itc2007_track2_path = '.\\\\Datasets\\\\post'\n",
    "itc2007_track3_path = '.\\\\Datasets\\\\curriculum'\n",
    "itc2019_path = '.\\\\Datasets\\\\2019'\n",
    "\n",
    "def get_all_files(path):\n",
    "    return [os.path.join(dirpath, file) for dirpath, _, filenames in os.walk(path) for file in filenames]   \n",
    "\n",
    "itc2007_track2_files = get_all_files(itc2007_track2_path)\n",
    "itc2007_track3_files = get_all_files(itc2007_track3_path)\n",
    "itc2019_files = get_all_files(itc2019_path)\n",
    "\n",
    "def filter_files_by_name(files, queries):\n",
    "    # check if filename matches query\n",
    "    return [file for file in files if file.split('\\\\')[-1].split('.')[0] in queries]\n",
    "\n",
    "def parse_problem (dataset,instance_path):\n",
    "    if dataset == 'itc2007_track2':\n",
    "        return parse_itc2007_post_enrolment(instance_path)\n",
    "    elif dataset == 'itc2007_track3':\n",
    "        return parse_itc2007_curriculum_based(instance_path)\n",
    "    elif dataset == 'itc2019':\n",
    "        return parse_xml(instance_path)"
   ],
   "metadata": {
    "collapsed": false
   },
   "id": "f963d814fc37dc15"
  },
  {
   "cell_type": "code",
   "execution_count": null,
   "outputs": [],
   "source": [
    "graph_interval = 1\n",
    "\n",
    "def run_experiment_for_dataset(dataset,files, experiment_name, repetitions, ga_params):\n",
    "    \n",
    "    output_path = f'output/{experiment_name}_{dataset}_{time.strftime(\"%Y%m%d-%H%M%S\")}'\n",
    "    os.makedirs(output_path)\n",
    "    \n",
    "    for file in files:\n",
    "        for rep in range(repetitions):\n",
    "            \n",
    "            subfolder_path = os.path.join(output_path,file.split('\\\\')[-1].split('.')[0]+\"_rep \"+str(rep+1))\n",
    "            os.mkdir(subfolder_path)\n",
    "            \n",
    "            start_time = time.time()\n",
    "            \n",
    "            print(f'Processing {file} ({rep+1}/{repetitions})...')\n",
    "            problem_tuple = parse_problem(dataset, file)\n",
    "            problem = problem_tuple[0]\n",
    "            timetable_solver = TimetableSolver(problem,checkpoint_dir=os.path.join(subfolder_path,'checkpoint'),graphs_dir=os.path.join(subfolder_path,'graphs'),graphs_interval=graph_interval,**ga_params)\n",
    "            \n",
    "            timetable_solver.run()\n",
    "            \n",
    "            \n",
    "            stats_file = open(os.path.join(subfolder_path,'stats.txt'), 'w')\n",
    "            \n",
    "            \n",
    "            best_solution,best_cost = timetable_solver.get_best_solution()\n",
    "            \n",
    "            stats_file.write(f'Best solution cost: {best_cost}\\n')\n",
    "            \n",
    "            end_time = time.time()\n",
    "            stats_file.write(f'Execution time: {end_time-start_time} seconds\\n')\n",
    "            \n",
    "            stats_file.write(f'Population init time: {timetable_solver.init_population_construction_times}')\n",
    "            \n",
    "            history = timetable_solver.fitness_history\n",
    "            history.to_csv(os.path.join(subfolder_path,'history.csv'))\n",
    "            \n",
    "            if dataset == 'itc2007_track3':\n",
    "                output_itc2007_cb(problem,best_solution,problem_tuple[2],problem_tuple[3],os.path.join(subfolder_path,'output.sol'))\n",
    "            if dataset == 'itc2019':\n",
    "                ss = RandomStudentSectioning(problem)\n",
    "                student_classes = ss.apply()\n",
    "                generate_xml(problem,best_solution,student_classes,os.path.join(subfolder_path,'output.xml'))\n",
    "            \n",
    "            \n",
    "            stats_file.close()"
   ],
   "metadata": {
    "collapsed": false
   },
   "id": "6451371808e50f44"
  },
  {
   "cell_type": "markdown",
   "source": [
    "# random or dfs construction and 1k generations with ls"
   ],
   "metadata": {
    "collapsed": false
   },
   "id": "be4c9ae4c1c90d43"
  },
  {
   "cell_type": "code",
   "execution_count": null,
   "outputs": [],
   "source": [
    "# run_experiment_for_dataset('itc2019',itc2019_files[0:10], 'itc2019(1 of 3) with random construction and 1k generations with ls', 1, {'population_size': 50, 'no_of_generations': 1000, 'first_population_method': \"random\",'crossover_chance': 0.7, 'crossover_ratio': 0.5, 'mutation_chance': 0.7,'local_search':True})\n",
    "# \n",
    "# run_experiment_for_dataset('itc2019',itc2019_files[0:10] , 'itc2019(1 of 3) with dfs construction and 1k generations with ls', 1, {'population_size': 50, 'no_of_generations': 1000, 'first_population_method': \"dfs\",'crossover_chance': 0.7, 'crossover_ratio': 0.5, 'mutation_chance': 0.7,'local_search':True})"
   ],
   "metadata": {
    "collapsed": false
   },
   "id": "be8390879e8ef49a"
  },
  {
   "cell_type": "code",
   "execution_count": null,
   "outputs": [],
   "source": [
    "# run_experiment_for_dataset('itc2019',itc2019_files[10:20], 'itc2019(2 of 3) with random construction and 1k generations with ls', 1, {'population_size': 50, 'no_of_generations': 1000, 'first_population_method': \"random\",'crossover_chance': 0.7, 'crossover_ratio': 0.5, 'mutation_chance': 0.7,'local_search':True})\n",
    "# \n",
    "# run_experiment_for_dataset('itc2019',itc2019_files[10:20] , 'itc2019(2 of 3) with dfs construction and 1k generations with ls', 1, {'population_size': 50, 'no_of_generations': 1000, 'first_population_method': \"dfs\",'crossover_chance': 0.7, 'crossover_ratio': 0.5, 'mutation_chance': 0.7,'local_search':True})"
   ],
   "metadata": {
    "collapsed": false
   },
   "id": "4457f7f6b67b6cd7"
  },
  {
   "cell_type": "code",
   "execution_count": null,
   "outputs": [],
   "source": [
    "# run_experiment_for_dataset('itc2019',itc2019_files[20:30], 'itc2019(3 of 3) with random construction and 1k generations with ls', 1, {'population_size': 50, 'no_of_generations': 1000, 'first_population_method': \"random\",'crossover_chance': 0.7, 'crossover_ratio': 0.5, 'mutation_chance': 0.7,'local_search':True})\n",
    "# \n",
    "# run_experiment_for_dataset('itc2019',itc2019_files[20:30] , 'itc2019(3 of 3) with dfs construction and 1k generations with ls', 1, {'population_size': 50, 'no_of_generations': 1000, 'first_population_method': \"dfs\",'crossover_chance': 0.7, 'crossover_ratio': 0.5, 'mutation_chance': 0.7,'local_search':True})"
   ],
   "metadata": {
    "collapsed": false
   },
   "id": "8e509b92ab801cd2"
  },
  {
   "cell_type": "code",
   "execution_count": null,
   "outputs": [],
   "source": [
    "# run_experiment_for_dataset('itc2007_track2',itc2007_track2_files, 'itc2007 track2 with random construction and 1k generations with ls', 1, {'population_size': 50, 'no_of_generations': 1000, 'first_population_method': \"random\",'crossover_chance': 0.7, 'crossover_ratio': 0.5, 'mutation_chance': 0.7,'local_search':True})\n",
    "# \n",
    "# run_experiment_for_dataset('itc2007_track2',itc2007_track2_files , 'itc2007 track2 with dfs construction and 1k generations with ls', 1, {'population_size': 50, 'no_of_generations': 1000, 'first_population_method': \"dfs\",'crossover_chance': 0.7, 'crossover_ratio': 0.5, 'mutation_chance': 0.7,'local_search':True})"
   ],
   "metadata": {
    "collapsed": false
   },
   "id": "43163397ecfa7c96"
  },
  {
   "cell_type": "code",
   "execution_count": null,
   "outputs": [],
   "source": [
    "# run_experiment_for_dataset('itc2007_track3',itc2007_track3_files, 'itc2007 track3 with random construction and 1k generations with ls', 1, {'population_size': 50, 'no_of_generations': 1000, 'first_population_method': \"random\",'crossover_chance': 0.7, 'crossover_ratio': 0.5, 'mutation_chance': 0.7,'local_search':True})\n",
    "# \n",
    "# run_experiment_for_dataset('itc2007_track3',itc2007_track3_files , 'itc2007 track3 with dfs construction and 1k generations with ls', 1, {'population_size': 50, 'no_of_generations': 1000, 'first_population_method': \"dfs\",'crossover_chance': 0.7, 'crossover_ratio': 0.5, 'mutation_chance': 0.7,'local_search':True})"
   ],
   "metadata": {
    "collapsed": false
   },
   "id": "22a79d8263a579b9"
  },
  {
   "cell_type": "markdown",
   "source": [
    "# select datasets only"
   ],
   "metadata": {
    "collapsed": false
   },
   "id": "3d59d0c449718873"
  },
  {
   "cell_type": "code",
   "execution_count": null,
   "outputs": [],
   "source": [
    "select_2019_datasets = filter_files_by_name(itc2019_files,['lums-spr18', 'lums-fal17', 'muni-fi-spr17', 'muni-fi-fal17', 'muni-fsps-spr17'])\n",
    "\n",
    "select_t2_datasets = filter_files_by_name(itc2007_track2_files,['comp-2007-2-17'])\n",
    "\n",
    "select_t3_datasets = filter_files_by_name(itc2007_track3_files,['comp18', 'comp01' 'comp11', 'comp12', 'comp03', 'comp15', 'comp14'])"
   ],
   "metadata": {
    "collapsed": false
   },
   "id": "2d37e3171a9fb3ef"
  },
  {
   "cell_type": "markdown",
   "source": [
    "## LS"
   ],
   "metadata": {
    "collapsed": false
   },
   "id": "ba2fb95d29822ea2"
  },
  {
   "cell_type": "code",
   "execution_count": null,
   "outputs": [],
   "source": [
    "# run_experiment_for_dataset('itc2007_track2',select_t2_datasets , 'select itc2007 track 2 with valid dfs construction and 150 generations with ls', 1, {'population_size': 50, 'no_of_generations': 150, 'first_population_method': \"dfs\",'crossover_chance': 0.7, 'crossover_ratio': 0.5, 'mutation_chance': 0.7,'local_search':True})"
   ],
   "metadata": {
    "collapsed": false
   },
   "id": "7425d594c7766c43"
  },
  {
   "cell_type": "code",
   "execution_count": null,
   "outputs": [],
   "source": [
    "# run_experiment_for_dataset('itc2007_track3',select_t3_datasets , 'select itc2007 track 3 with valid dfs construction and 150 generations with ls', 1, {'population_size': 50, 'no_of_generations': 150, 'first_population_method': \"dfs\",'crossover_chance': 0.7, 'crossover_ratio': 0.5, 'mutation_chance': 0.7,'local_search':True})\n"
   ],
   "metadata": {
    "collapsed": false
   },
   "id": "b9cb057cddc15de5"
  },
  {
   "cell_type": "code",
   "execution_count": null,
   "outputs": [],
   "source": [
    "# run_experiment_for_dataset('itc2019',select_2019_datasets , 'select itc2019 2 with valid dfs construction and 150 generations with ls', 1, {'population_size': 50, 'no_of_generations': 150, 'first_population_method': \"dfs\",'crossover_chance': 0.7, 'crossover_ratio': 0.5, 'mutation_chance': 0.7,'local_search':True})"
   ],
   "metadata": {
    "collapsed": false
   },
   "id": "d83ecf28802fd278"
  },
  {
   "cell_type": "markdown",
   "source": [
    "## ILS"
   ],
   "metadata": {
    "collapsed": false
   },
   "id": "8f5fcef3fed98b5b"
  },
  {
   "cell_type": "code",
   "execution_count": null,
   "outputs": [],
   "source": [
    "# run_experiment_for_dataset('itc2007_track2',select_t2_datasets , 'select itc2007 track 2 with valid dfs construction and 150 generations with ils', 1, {'population_size': 50, 'no_of_generations': 150, 'first_population_method': \"dfs\",'crossover_chance': 0.7, 'crossover_ratio': 0.5, 'mutation_chance': 0.7,'iterated_local_search':True})"
   ],
   "metadata": {
    "collapsed": false
   },
   "id": "fb084ea061162cc"
  },
  {
   "cell_type": "code",
   "execution_count": null,
   "outputs": [],
   "source": [
    "# run_experiment_for_dataset('itc2007_track3',select_t3_datasets , 'select itc2007 track 3 with valid dfs construction and 150 generations with ils', 1, {'population_size': 50, 'no_of_generations': 150, 'first_population_method': \"dfs\",'crossover_chance': 0.7, 'crossover_ratio': 0.5, 'mutation_chance': 0.7,'iterated_local_search':True})\n"
   ],
   "metadata": {
    "collapsed": false
   },
   "id": "ae9672a77a75875"
  },
  {
   "cell_type": "code",
   "execution_count": null,
   "outputs": [],
   "source": [
    "# run_experiment_for_dataset('itc2019',select_2019_datasets , 'select itc2019 2 with valid dfs construction and 150 generations with ils', 1, {'population_size': 50, 'no_of_generations': 150, 'first_population_method': \"dfs\",'crossover_chance': 0.7, 'crossover_ratio': 0.5, 'mutation_chance': 0.7,'iterated_local_search':True})"
   ],
   "metadata": {
    "collapsed": false
   },
   "id": "efff776d61f6e299"
  },
  {
   "cell_type": "markdown",
   "source": [
    "# GSGA"
   ],
   "metadata": {
    "collapsed": false
   },
   "id": "3ee339dfe835e6c7"
  },
  {
   "cell_type": "code",
   "execution_count": null,
   "outputs": [],
   "source": [
    "run_experiment_for_dataset('itc2007_track2',select_t2_datasets , 'select with valid dfs construction and 150 generations with gsga', 1, {'population_size': 50, 'no_of_generations': 150, 'first_population_method': \"dfs\",'crossover_chance': 0.8, 'crossover_ratio': 0.5, 'mutation_chance': 0.5,'guided_search':True,'local_search':True})"
   ],
   "metadata": {
    "collapsed": false
   },
   "id": "453631bbeed1e04d"
  },
  {
   "cell_type": "code",
   "execution_count": null,
   "outputs": [],
   "source": [
    "run_experiment_for_dataset('itc2007_track3',select_t3_datasets , 'select with valid dfs construction and 150 generations with gsga', 1, {'population_size': 50, 'no_of_generations': 150, 'first_population_method': \"dfs\",'crossover_chance': 0.8, 'crossover_ratio': 0.5, 'mutation_chance': 0.5,'guided_search':True,'local_search':True})"
   ],
   "metadata": {
    "collapsed": false
   },
   "id": "228ae3665d58873d"
  },
  {
   "cell_type": "code",
   "execution_count": null,
   "outputs": [],
   "source": [
    "run_experiment_for_dataset('itc2019',select_2019_datasets , 'select with valid dfs construction and 150 generations with gsga', 1, {'population_size': 50, 'no_of_generations': 150, 'first_population_method': \"dfs\",'crossover_chance': 0.8, 'crossover_ratio': 0.5, 'mutation_chance': 0.5,'guided_search':True,'local_search':True})"
   ],
   "metadata": {
    "collapsed": false
   },
   "id": "7ebda340a3c0ff51"
  }
 ],
 "metadata": {
  "kernelspec": {
   "display_name": "Python 3",
   "language": "python",
   "name": "python3"
  },
  "language_info": {
   "codemirror_mode": {
    "name": "ipython",
    "version": 2
   },
   "file_extension": ".py",
   "mimetype": "text/x-python",
   "name": "python",
   "nbconvert_exporter": "python",
   "pygments_lexer": "ipython2",
   "version": "2.7.6"
  }
 },
 "nbformat": 4,
 "nbformat_minor": 5
}
