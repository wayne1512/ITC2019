{
 "cells": [
  {
   "cell_type": "code",
   "execution_count": 1,
   "outputs": [],
   "source": [
    "import os\n",
    "import time\n",
    "\n",
    "import numpy as np\n",
    "\n",
    "from parse_input import parse_itc2007_post_enrolment, parse_itc2007_curriculum_based, parse_xml\n",
    "from timetable_solver import TimetableSolver\n"
   ],
   "metadata": {
    "collapsed": false,
    "ExecuteTime": {
     "end_time": "2024-04-19T16:24:44.602692Z",
     "start_time": "2024-04-19T16:24:39.045577700Z"
    }
   },
   "id": "3fac391237998398"
  },
  {
   "cell_type": "code",
   "execution_count": 2,
   "outputs": [],
   "source": [
    "itc2007_track2_path = '.\\\\Datasets\\\\post'\n",
    "itc2007_track3_path = '.\\\\Datasets\\\\curriculum'\n",
    "itc2019_path = '.\\\\Datasets\\\\2019'\n",
    "\n",
    "def get_all_files(path):\n",
    "    return [os.path.join(dirpath, file) for dirpath, _, filenames in os.walk(path) for file in filenames]   \n",
    "\n",
    "itc2007_track2_files = get_all_files(itc2007_track2_path)\n",
    "itc2007_track3_files = get_all_files(itc2007_track3_path)\n",
    "itc2019_files = get_all_files(itc2019_path)\n",
    "\n",
    "def parse_problem (dataset,instance_path):\n",
    "    if dataset == 'itc2007_track2':\n",
    "        return parse_itc2007_post_enrolment(instance_path)\n",
    "    elif dataset == 'itc2007_track3':\n",
    "        return parse_itc2007_curriculum_based(instance_path)\n",
    "    elif dataset == 'itc2019':\n",
    "        return parse_xml(instance_path)"
   ],
   "metadata": {
    "collapsed": false,
    "ExecuteTime": {
     "end_time": "2024-04-19T16:24:44.623689300Z",
     "start_time": "2024-04-19T16:24:44.602692Z"
    }
   },
   "id": "f963d814fc37dc15"
  },
  {
   "cell_type": "code",
   "execution_count": 3,
   "outputs": [],
   "source": [
    "graph_interval = 1\n",
    "\n",
    "def run_experiment_for_dataset(dataset, experiment_name, repetitions, ga_params):\n",
    "    \n",
    "    output_path = f'output/{experiment_name}_{dataset}_{time.strftime(\"%Y%m%d-%H%M%S\")}'\n",
    "    os.makedirs(output_path)\n",
    "    \n",
    "    files = itc2007_track2_files if dataset == 'itc2007_track2' else itc2007_track3_files if dataset == 'itc2007_track3' else itc2019_files\n",
    "    \n",
    "    for file in files:\n",
    "        for rep in range(repetitions):\n",
    "            \n",
    "            subfolder_path = os.path.join(output_path,file.split('\\\\')[-1].split('.')[0]+\"_rep \"+str(rep+1))\n",
    "            os.mkdir(subfolder_path)\n",
    "            \n",
    "            start_time = time.time()\n",
    "            \n",
    "            print(f'Processing {file} ({rep+1}/{repetitions})...')\n",
    "            problem_tuple = parse_problem(dataset, file)\n",
    "            problem = problem_tuple[0]\n",
    "            timetable_solver = TimetableSolver(problem,checkpoint_dir=os.path.join(subfolder_path,'checkpoint'),graphs_dir=os.path.join(subfolder_path,'graphs'),graphs_interval=graph_interval,**ga_params)\n",
    "            \n",
    "            \n",
    "            timetable_solver.run()\n",
    "            \n",
    "            \n",
    "            stats_file = open(os.path.join(subfolder_path,'stats.txt'), 'w')\n",
    "            \n",
    "            \n",
    "            best_solution,best_cost = timetable_solver.get_best_solution()\n",
    "            \n",
    "            stats_file.write(f'Best solution cost: {best_cost}\\n')\n",
    "            \n",
    "            end_time = time.time()\n",
    "            stats_file.write(f'Execution time: {end_time-start_time} seconds\\n')\n",
    "            \n",
    "            stats_file.close()"
   ],
   "metadata": {
    "collapsed": false,
    "ExecuteTime": {
     "end_time": "2024-04-19T16:24:44.630586500Z",
     "start_time": "2024-04-19T16:24:44.623689300Z"
    }
   },
   "id": "6451371808e50f44"
  },
  {
   "cell_type": "code",
   "execution_count": 5,
   "outputs": [
    {
     "name": "stdout",
     "output_type": "stream",
     "text": [
      "Processing .\\Datasets\\2019\\1.early\\agh-fis-spr17.xml (1/1)...\n",
      "Class 1 was moved making the new cost: (835, 16473)\n",
      "Class 7 was moved making the new cost: (833, 16473)\n",
      "Class 9 was moved making the new cost: (832, 16473)\n",
      "Class 11 was moved making the new cost: (831, 16473)\n",
      "Class 14 was moved making the new cost: (830, 16473)\n",
      "Class 16 was moved making the new cost: (829, 16473)\n",
      "Class 19 was moved making the new cost: (828, 16481)\n",
      "Class 20 was moved making the new cost: (827, 16485)\n",
      "Class 21 was moved making the new cost: (822, 16485)\n",
      "Class 22 was moved making the new cost: (821, 16453)\n",
      "Class 23 was moved making the new cost: (820, 16453)\n",
      "Class 24 was moved making the new cost: (818, 16453)\n",
      "Class 25 was moved making the new cost: (817, 16453)\n",
      "Class 26 was moved making the new cost: (816, 16453)\n",
      "Class 28 was moved making the new cost: (815, 16453)\n",
      "Class 29 was moved making the new cost: (814, 16450)\n",
      "Class 31 was moved making the new cost: (813, 16462)\n",
      "Class 33 was moved making the new cost: (812, 16462)\n",
      "Class 34 was moved making the new cost: (811, 16459)\n",
      "Class 40 was moved making the new cost: (810, 16459)\n",
      "Class 42 was moved making the new cost: (809, 16459)\n",
      "Class 43 was moved making the new cost: (808, 16458)\n",
      "Class 44 was moved making the new cost: (806, 16458)\n",
      "Class 46 was moved making the new cost: (805, 16457)\n",
      "Class 48 was moved making the new cost: (804, 16461)\n",
      "Class 50 was moved making the new cost: (803, 16462)\n",
      "Class 51 was moved making the new cost: (802, 16466)\n",
      "Class 52 was moved making the new cost: (801, 16470)\n",
      "Class 53 was moved making the new cost: (798, 16474)\n",
      "Class 54 was moved making the new cost: (796, 16474)\n",
      "Class 55 was moved making the new cost: (795, 16474)\n",
      "Class 56 was moved making the new cost: (794, 16474)\n",
      "Class 57 was moved making the new cost: (793, 16474)\n",
      "Class 58 was moved making the new cost: (792, 16478)\n",
      "Class 59 was moved making the new cost: (789, 16478)\n",
      "Class 60 was moved making the new cost: (788, 16477)\n",
      "Class 61 was moved making the new cost: (787, 16477)\n",
      "Class 62 was moved making the new cost: (786, 16457)\n",
      "Class 66 was moved making the new cost: (785, 16457)\n",
      "Class 67 was moved making the new cost: (784, 16457)\n",
      "Class 68 was moved making the new cost: (783, 16457)\n",
      "Class 69 was moved making the new cost: (782, 16453)\n",
      "Class 70 was moved making the new cost: (781, 16453)\n",
      "Class 71 was moved making the new cost: (778, 16453)\n",
      "Class 73 was moved making the new cost: (777, 16450)\n",
      "Class 75 was moved making the new cost: (776, 16450)\n",
      "Class 76 was moved making the new cost: (775, 16450)\n",
      "Class 78 was moved making the new cost: (774, 16450)\n",
      "Class 79 was moved making the new cost: (773, 16449)\n",
      "Class 80 was moved making the new cost: (772, 16449)\n",
      "Class 93 was moved making the new cost: (770, 16453)\n",
      "Class 94 was moved making the new cost: (769, 16453)\n",
      "Class 95 was moved making the new cost: (768, 16433)\n",
      "Class 96 was moved making the new cost: (767, 16433)\n",
      "Class 98 was moved making the new cost: (766, 16430)\n",
      "Class 99 was moved making the new cost: (765, 16430)\n",
      "Class 100 was moved making the new cost: (764, 16434)\n",
      "Class 101 was moved making the new cost: (763, 16468)\n",
      "Class 104 was moved making the new cost: (762, 16468)\n",
      "Class 105 was moved making the new cost: (761, 16471)\n",
      "Class 106 was moved making the new cost: (760, 16471)\n",
      "Class 107 was moved making the new cost: (759, 16467)\n",
      "Class 108 was moved making the new cost: (758, 16470)\n",
      "Class 109 was moved making the new cost: (757, 16470)\n",
      "Class 111 was moved making the new cost: (756, 16470)\n",
      "Class 112 was moved making the new cost: (755, 16470)\n",
      "Class 113 was moved making the new cost: (754, 16474)\n",
      "Class 114 was moved making the new cost: (753, 16474)\n",
      "Class 116 was moved making the new cost: (752, 16478)\n",
      "Class 117 was moved making the new cost: (751, 16478)\n",
      "Class 119 was moved making the new cost: (750, 16475)\n",
      "Class 120 was moved making the new cost: (749, 16469)\n",
      "Class 121 was moved making the new cost: (748, 16473)\n",
      "Class 122 was moved making the new cost: (747, 16472)\n",
      "Class 123 was moved making the new cost: (746, 16472)\n",
      "Class 124 was moved making the new cost: (745, 16582)\n",
      "Class 125 was moved making the new cost: (744, 16582)\n",
      "Class 126 was moved making the new cost: (742, 16578)\n",
      "Class 128 was moved making the new cost: (741, 16581)\n",
      "Class 130 was moved making the new cost: (740, 16581)\n",
      "Class 132 was moved making the new cost: (738, 16581)\n"
     ]
    },
    {
     "ename": "KeyboardInterrupt",
     "evalue": "",
     "output_type": "error",
     "traceback": [
      "\u001B[1;31m---------------------------------------------------------------------------\u001B[0m",
      "\u001B[1;31mKeyboardInterrupt\u001B[0m                         Traceback (most recent call last)",
      "Cell \u001B[1;32mIn[5], line 1\u001B[0m\n\u001B[1;32m----> 1\u001B[0m \u001B[43mrun_experiment_for_dataset\u001B[49m\u001B[43m(\u001B[49m\u001B[38;5;124;43m'\u001B[39;49m\u001B[38;5;124;43mitc2019\u001B[39;49m\u001B[38;5;124;43m'\u001B[39;49m\u001B[43m,\u001B[49m\u001B[43m \u001B[49m\u001B[38;5;124;43m'\u001B[39;49m\u001B[38;5;124;43mitc2007_track3 with random construction and 1k generations\u001B[39;49m\u001B[38;5;124;43m'\u001B[39;49m\u001B[43m,\u001B[49m\u001B[43m \u001B[49m\u001B[38;5;241;43m1\u001B[39;49m\u001B[43m,\u001B[49m\u001B[43m \u001B[49m\u001B[43m{\u001B[49m\u001B[38;5;124;43m'\u001B[39;49m\u001B[38;5;124;43mpopulation_size\u001B[39;49m\u001B[38;5;124;43m'\u001B[39;49m\u001B[43m:\u001B[49m\u001B[43m \u001B[49m\u001B[38;5;241;43m50\u001B[39;49m\u001B[43m,\u001B[49m\u001B[43m \u001B[49m\u001B[38;5;124;43m'\u001B[39;49m\u001B[38;5;124;43mno_of_generations\u001B[39;49m\u001B[38;5;124;43m'\u001B[39;49m\u001B[43m:\u001B[49m\u001B[43m \u001B[49m\u001B[38;5;241;43m100\u001B[39;49m\u001B[43m,\u001B[49m\u001B[43m \u001B[49m\u001B[38;5;124;43m'\u001B[39;49m\u001B[38;5;124;43mfirst_population_method\u001B[39;49m\u001B[38;5;124;43m'\u001B[39;49m\u001B[43m:\u001B[49m\u001B[43m \u001B[49m\u001B[38;5;124;43m\"\u001B[39;49m\u001B[38;5;124;43mrandom\u001B[39;49m\u001B[38;5;124;43m\"\u001B[39;49m\u001B[43m,\u001B[49m\u001B[43m \u001B[49m\u001B[38;5;124;43m'\u001B[39;49m\u001B[38;5;124;43mcrossover_ratio\u001B[39;49m\u001B[38;5;124;43m'\u001B[39;49m\u001B[43m:\u001B[49m\u001B[43m \u001B[49m\u001B[38;5;241;43m0.8\u001B[39;49m\u001B[43m,\u001B[49m\u001B[43m \u001B[49m\u001B[38;5;124;43m'\u001B[39;49m\u001B[38;5;124;43mmutation_chance\u001B[39;49m\u001B[38;5;124;43m'\u001B[39;49m\u001B[43m:\u001B[49m\u001B[43m \u001B[49m\u001B[38;5;241;43m0.2\u001B[39;49m\u001B[43m,\u001B[49m\u001B[38;5;124;43m'\u001B[39;49m\u001B[38;5;124;43mlocal_search\u001B[39;49m\u001B[38;5;124;43m'\u001B[39;49m\u001B[43m:\u001B[49m\u001B[38;5;28;43;01mTrue\u001B[39;49;00m\u001B[43m}\u001B[49m\u001B[43m)\u001B[49m\n\u001B[0;32m      3\u001B[0m run_experiment_for_dataset(\u001B[38;5;124m'\u001B[39m\u001B[38;5;124mitc2019\u001B[39m\u001B[38;5;124m'\u001B[39m, \u001B[38;5;124m'\u001B[39m\u001B[38;5;124mitc2007_track3 with dfs construction and 1k generations\u001B[39m\u001B[38;5;124m'\u001B[39m, \u001B[38;5;241m1\u001B[39m, {\u001B[38;5;124m'\u001B[39m\u001B[38;5;124mpopulation_size\u001B[39m\u001B[38;5;124m'\u001B[39m: \u001B[38;5;241m50\u001B[39m, \u001B[38;5;124m'\u001B[39m\u001B[38;5;124mno_of_generations\u001B[39m\u001B[38;5;124m'\u001B[39m: \u001B[38;5;241m100\u001B[39m, \u001B[38;5;124m'\u001B[39m\u001B[38;5;124mfirst_population_method\u001B[39m\u001B[38;5;124m'\u001B[39m: \u001B[38;5;124m\"\u001B[39m\u001B[38;5;124mdfs\u001B[39m\u001B[38;5;124m\"\u001B[39m, \u001B[38;5;124m'\u001B[39m\u001B[38;5;124mcrossover_ratio\u001B[39m\u001B[38;5;124m'\u001B[39m: \u001B[38;5;241m0.8\u001B[39m, \u001B[38;5;124m'\u001B[39m\u001B[38;5;124mmutation_chance\u001B[39m\u001B[38;5;124m'\u001B[39m: \u001B[38;5;241m0.2\u001B[39m,\u001B[38;5;124m'\u001B[39m\u001B[38;5;124mlocal_search\u001B[39m\u001B[38;5;124m'\u001B[39m:\u001B[38;5;28;01mTrue\u001B[39;00m})\n",
      "Cell \u001B[1;32mIn[3], line 24\u001B[0m, in \u001B[0;36mrun_experiment_for_dataset\u001B[1;34m(dataset, experiment_name, repetitions, ga_params)\u001B[0m\n\u001B[0;32m     20\u001B[0m problem \u001B[38;5;241m=\u001B[39m problem_tuple[\u001B[38;5;241m0\u001B[39m]\n\u001B[0;32m     21\u001B[0m timetable_solver \u001B[38;5;241m=\u001B[39m TimetableSolver(problem,checkpoint_dir\u001B[38;5;241m=\u001B[39mos\u001B[38;5;241m.\u001B[39mpath\u001B[38;5;241m.\u001B[39mjoin(subfolder_path,\u001B[38;5;124m'\u001B[39m\u001B[38;5;124mcheckpoint\u001B[39m\u001B[38;5;124m'\u001B[39m),graphs_dir\u001B[38;5;241m=\u001B[39mos\u001B[38;5;241m.\u001B[39mpath\u001B[38;5;241m.\u001B[39mjoin(subfolder_path,\u001B[38;5;124m'\u001B[39m\u001B[38;5;124mgraphs\u001B[39m\u001B[38;5;124m'\u001B[39m),graphs_interval\u001B[38;5;241m=\u001B[39mgraph_interval,\u001B[38;5;241m*\u001B[39m\u001B[38;5;241m*\u001B[39mga_params)\n\u001B[1;32m---> 24\u001B[0m \u001B[43mtimetable_solver\u001B[49m\u001B[38;5;241;43m.\u001B[39;49m\u001B[43mrun\u001B[49m\u001B[43m(\u001B[49m\u001B[43m)\u001B[49m\n\u001B[0;32m     27\u001B[0m stats_file \u001B[38;5;241m=\u001B[39m \u001B[38;5;28mopen\u001B[39m(os\u001B[38;5;241m.\u001B[39mpath\u001B[38;5;241m.\u001B[39mjoin(subfolder_path,\u001B[38;5;124m'\u001B[39m\u001B[38;5;124mstats.txt\u001B[39m\u001B[38;5;124m'\u001B[39m), \u001B[38;5;124m'\u001B[39m\u001B[38;5;124mw\u001B[39m\u001B[38;5;124m'\u001B[39m)\n\u001B[0;32m     30\u001B[0m best_solution,best_cost \u001B[38;5;241m=\u001B[39m timetable_solver\u001B[38;5;241m.\u001B[39mget_best_solution()\n",
      "File \u001B[1;32mD:\\Desktop\\ITC2019\\timetable_solver.py:87\u001B[0m, in \u001B[0;36mTimetableSolver.run\u001B[1;34m(self)\u001B[0m\n\u001B[0;32m     85\u001B[0m         \u001B[38;5;28;01mreturn\u001B[39;00m\n\u001B[0;32m     86\u001B[0m \u001B[38;5;28;01melse\u001B[39;00m:\n\u001B[1;32m---> 87\u001B[0m     \u001B[38;5;28;43mself\u001B[39;49m\u001B[38;5;241;43m.\u001B[39;49m\u001B[43mgenerate_new_population\u001B[49m\u001B[43m(\u001B[49m\u001B[43m)\u001B[49m\n\u001B[0;32m     89\u001B[0m \u001B[38;5;28;01mif\u001B[39;00m \u001B[38;5;28mself\u001B[39m\u001B[38;5;241m.\u001B[39mgeneration \u001B[38;5;241m%\u001B[39m \u001B[38;5;28mself\u001B[39m\u001B[38;5;241m.\u001B[39mgraphs_interval \u001B[38;5;241m==\u001B[39m \u001B[38;5;241m0\u001B[39m \u001B[38;5;129;01mor\u001B[39;00m \u001B[38;5;28mself\u001B[39m\u001B[38;5;241m.\u001B[39mgeneration \u001B[38;5;241m==\u001B[39m \u001B[38;5;28mself\u001B[39m\u001B[38;5;241m.\u001B[39mno_of_generations \u001B[38;5;241m-\u001B[39m \u001B[38;5;241m1\u001B[39m:\n\u001B[0;32m     90\u001B[0m     \u001B[38;5;28mself\u001B[39m\u001B[38;5;241m.\u001B[39mupdate_graphs()\n",
      "File \u001B[1;32mD:\\Desktop\\ITC2019\\timetable_solver.py:180\u001B[0m, in \u001B[0;36mTimetableSolver.generate_new_population\u001B[1;34m(self)\u001B[0m\n\u001B[0;32m    177\u001B[0m child \u001B[38;5;241m=\u001B[39m \u001B[38;5;28mself\u001B[39m\u001B[38;5;241m.\u001B[39mmutation\u001B[38;5;241m.\u001B[39mmutate(child, \u001B[38;5;28mself\u001B[39m\u001B[38;5;241m.\u001B[39mmaximum_genes)\n\u001B[0;32m    179\u001B[0m \u001B[38;5;28;01mif\u001B[39;00m \u001B[38;5;28mself\u001B[39m\u001B[38;5;241m.\u001B[39mlocal_search \u001B[38;5;129;01mis\u001B[39;00m \u001B[38;5;129;01mnot\u001B[39;00m \u001B[38;5;28;01mNone\u001B[39;00m \u001B[38;5;129;01mand\u001B[39;00m \u001B[38;5;28mself\u001B[39m\u001B[38;5;241m.\u001B[39mlocal_search:\n\u001B[1;32m--> 180\u001B[0m     child, cost_of_child \u001B[38;5;241m=\u001B[39m \u001B[43mlocal_search\u001B[49m\u001B[43m(\u001B[49m\u001B[43mchild\u001B[49m\u001B[43m,\u001B[49m\u001B[43m \u001B[49m\u001B[38;5;28;43mself\u001B[39;49m\u001B[38;5;241;43m.\u001B[39;49m\u001B[43mmaximum_genes\u001B[49m\u001B[43m,\u001B[49m\u001B[43m \u001B[49m\u001B[38;5;28;43mself\u001B[39;49m\u001B[38;5;241;43m.\u001B[39;49m\u001B[43mproblem\u001B[49m\u001B[43m,\u001B[49m\n\u001B[0;32m    181\u001B[0m \u001B[43m                                        \u001B[49m\u001B[43mgraph_dir\u001B[49m\u001B[38;5;241;43m=\u001B[39;49m\n\u001B[0;32m    182\u001B[0m \u001B[43m                                        \u001B[49m\u001B[43mos\u001B[49m\u001B[38;5;241;43m.\u001B[39;49m\u001B[43mpath\u001B[49m\u001B[38;5;241;43m.\u001B[39;49m\u001B[43mjoin\u001B[49m\u001B[43m(\u001B[49m\u001B[38;5;28;43mself\u001B[39;49m\u001B[38;5;241;43m.\u001B[39;49m\u001B[43mgraphs_dir\u001B[49m\u001B[43m,\u001B[49m\u001B[38;5;124;43mf\u001B[39;49m\u001B[38;5;124;43m\"\u001B[39;49m\u001B[38;5;124;43mlocal_search_\u001B[39;49m\u001B[38;5;132;43;01m{\u001B[39;49;00m\u001B[38;5;28;43mself\u001B[39;49m\u001B[38;5;241;43m.\u001B[39;49m\u001B[43mgeneration\u001B[49m\u001B[38;5;132;43;01m}\u001B[39;49;00m\u001B[38;5;124;43m\"\u001B[39;49m\u001B[43m)\u001B[49m\u001B[43m)\u001B[49m\n\u001B[0;32m    183\u001B[0m cost_of_child \u001B[38;5;241m=\u001B[39m calculate_total_cost(\u001B[38;5;28mself\u001B[39m\u001B[38;5;241m.\u001B[39mproblem, child)\n\u001B[0;32m    185\u001B[0m worst_cost_index \u001B[38;5;241m=\u001B[39m np\u001B[38;5;241m.\u001B[39mlexsort((np\u001B[38;5;241m.\u001B[39marray(\u001B[38;5;28mself\u001B[39m\u001B[38;5;241m.\u001B[39mcosts)[:, \u001B[38;5;241m1\u001B[39m], np\u001B[38;5;241m.\u001B[39marray(\u001B[38;5;28mself\u001B[39m\u001B[38;5;241m.\u001B[39mcosts)[:, \u001B[38;5;241m0\u001B[39m]))[\u001B[38;5;241m-\u001B[39m\u001B[38;5;241m1\u001B[39m]\n",
      "File \u001B[1;32mD:\\Desktop\\ITC2019\\genetic_operators\\misc\\local_search.py:119\u001B[0m, in \u001B[0;36mlocal_search\u001B[1;34m(gene, max_gene, problem, max_moves, graph_dir)\u001B[0m\n\u001B[0;32m    116\u001B[0m new_gene[i, \u001B[38;5;241m1\u001B[39m] \u001B[38;5;241m=\u001B[39m (gene[i, \u001B[38;5;241m1\u001B[39m] \u001B[38;5;241m+\u001B[39m \u001B[38;5;241m1\u001B[39m \u001B[38;5;241m+\u001B[39m k) \u001B[38;5;241m%\u001B[39m (max_gene[i, \u001B[38;5;241m1\u001B[39m] \u001B[38;5;241m+\u001B[39m \u001B[38;5;241m1\u001B[39m)\n\u001B[0;32m    118\u001B[0m new_gene_editable_cost \u001B[38;5;241m=\u001B[39m edit_cost(editable_cost, new_gene, [i])\n\u001B[1;32m--> 119\u001B[0m new_gene_cost \u001B[38;5;241m=\u001B[39m \u001B[43mnew_gene_editable_cost\u001B[49m\u001B[38;5;241;43m.\u001B[39;49m\u001B[43mcalculate_total\u001B[49m\u001B[43m(\u001B[49m\u001B[43m)\u001B[49m\n\u001B[0;32m    121\u001B[0m \u001B[38;5;28;01mif\u001B[39;00m new_gene_cost[\u001B[38;5;241m0\u001B[39m] \u001B[38;5;241m<\u001B[39m cost[\u001B[38;5;241m0\u001B[39m]:\n\u001B[0;32m    122\u001B[0m     gene \u001B[38;5;241m=\u001B[39m new_gene\u001B[38;5;241m.\u001B[39mcopy()\n",
      "File \u001B[1;32mD:\\Desktop\\ITC2019\\penalty_calc.py:152\u001B[0m, in \u001B[0;36mEditablePenaltyCalculation.calculate_total\u001B[1;34m(self)\u001B[0m\n\u001B[0;32m    151\u001B[0m \u001B[38;5;28;01mdef\u001B[39;00m \u001B[38;5;21mcalculate_total\u001B[39m(\u001B[38;5;28mself\u001B[39m):\n\u001B[1;32m--> 152\u001B[0m     room_penalties_cost \u001B[38;5;241m=\u001B[39m \u001B[43msum_of_costs\u001B[49m\u001B[43m(\u001B[49m\u001B[38;5;28;43mself\u001B[39;49m\u001B[38;5;241;43m.\u001B[39;49m\u001B[43mroom_penalties\u001B[49m\u001B[43m)\u001B[49m\n\u001B[0;32m    153\u001B[0m     room_penalties_cost \u001B[38;5;241m=\u001B[39m (room_penalties_cost[\u001B[38;5;241m0\u001B[39m], room_penalties_cost[\u001B[38;5;241m1\u001B[39m] \u001B[38;5;241m*\u001B[39m \u001B[38;5;28mself\u001B[39m\u001B[38;5;241m.\u001B[39mproblem\u001B[38;5;241m.\u001B[39moptimization\u001B[38;5;241m.\u001B[39mroom)\n\u001B[0;32m    155\u001B[0m     time_penalties_cost \u001B[38;5;241m=\u001B[39m sum_of_costs(\u001B[38;5;28mself\u001B[39m\u001B[38;5;241m.\u001B[39mtime_penalties)\n",
      "File \u001B[1;32mD:\\Desktop\\ITC2019\\util.py:38\u001B[0m, in \u001B[0;36msum_of_costs\u001B[1;34m(n)\u001B[0m\n\u001B[0;32m     37\u001B[0m \u001B[38;5;28;01mdef\u001B[39;00m \u001B[38;5;21msum_of_costs\u001B[39m(n):\n\u001B[1;32m---> 38\u001B[0m     \u001B[38;5;28;01mreturn\u001B[39;00m \u001B[38;5;28mtuple\u001B[39m(\u001B[43mnp\u001B[49m\u001B[38;5;241;43m.\u001B[39;49m\u001B[43marray\u001B[49m\u001B[43m(\u001B[49m\u001B[43mn\u001B[49m\u001B[43m)\u001B[49m\u001B[38;5;241;43m.\u001B[39;49m\u001B[43msum\u001B[49m\u001B[43m(\u001B[49m\u001B[38;5;241;43m0\u001B[39;49m\u001B[43m)\u001B[49m)\n",
      "File \u001B[1;32mD:\\Desktop\\ITC2019\\venv\\Lib\\site-packages\\numpy\\core\\_methods.py:49\u001B[0m, in \u001B[0;36m_sum\u001B[1;34m(a, axis, dtype, out, keepdims, initial, where)\u001B[0m\n\u001B[0;32m     47\u001B[0m \u001B[38;5;28;01mdef\u001B[39;00m \u001B[38;5;21m_sum\u001B[39m(a, axis\u001B[38;5;241m=\u001B[39m\u001B[38;5;28;01mNone\u001B[39;00m, dtype\u001B[38;5;241m=\u001B[39m\u001B[38;5;28;01mNone\u001B[39;00m, out\u001B[38;5;241m=\u001B[39m\u001B[38;5;28;01mNone\u001B[39;00m, keepdims\u001B[38;5;241m=\u001B[39m\u001B[38;5;28;01mFalse\u001B[39;00m,\n\u001B[0;32m     48\u001B[0m          initial\u001B[38;5;241m=\u001B[39m_NoValue, where\u001B[38;5;241m=\u001B[39m\u001B[38;5;28;01mTrue\u001B[39;00m):\n\u001B[1;32m---> 49\u001B[0m     \u001B[38;5;28;01mreturn\u001B[39;00m \u001B[43mumr_sum\u001B[49m\u001B[43m(\u001B[49m\u001B[43ma\u001B[49m\u001B[43m,\u001B[49m\u001B[43m \u001B[49m\u001B[43maxis\u001B[49m\u001B[43m,\u001B[49m\u001B[43m \u001B[49m\u001B[43mdtype\u001B[49m\u001B[43m,\u001B[49m\u001B[43m \u001B[49m\u001B[43mout\u001B[49m\u001B[43m,\u001B[49m\u001B[43m \u001B[49m\u001B[43mkeepdims\u001B[49m\u001B[43m,\u001B[49m\u001B[43m \u001B[49m\u001B[43minitial\u001B[49m\u001B[43m,\u001B[49m\u001B[43m \u001B[49m\u001B[43mwhere\u001B[49m\u001B[43m)\u001B[49m\n",
      "\u001B[1;31mKeyboardInterrupt\u001B[0m: "
     ]
    },
    {
     "data": {
      "text/plain": "<Figure size 640x480 with 1 Axes>",
      "image/png": "[encoded data removed]"
     },
     "metadata": {},
     "output_type": "display_data"
    },
    {
     "data": {
      "text/plain": "<Figure size 640x480 with 2 Axes>",
      "image/png": "[encoded data removed]"
     },
     "metadata": {},
     "output_type": "display_data"
    }
   ],
   "source": [
    "run_experiment_for_dataset('itc2019', 'itc2007_track3 with random construction and 1k generations', 1, {'population_size': 50, 'no_of_generations': 100, 'first_population_method': \"random\", 'crossover_ratio': 0.8, 'mutation_chance': 0.2,'local_search':True})\n",
    "\n",
    "run_experiment_for_dataset('itc2019', 'itc2007_track3 with dfs construction and 1k generations', 1, {'population_size': 50, 'no_of_generations': 100, 'first_population_method': \"dfs\", 'crossover_ratio': 0.8, 'mutation_chance': 0.2,'local_search':True})"
   ],
   "metadata": {
    "collapsed": false,
    "ExecuteTime": {
     "end_time": "2024-04-19T19:47:48.813204400Z",
     "start_time": "2024-04-19T19:15:03.305377500Z"
    }
   },
   "id": "be8390879e8ef49a"
  },
  {
   "cell_type": "code",
   "execution_count": null,
   "outputs": [],
   "source": [],
   "metadata": {
    "collapsed": false,
    "ExecuteTime": {
     "end_time": "2024-04-19T16:56:49.032022500Z",
     "start_time": "2024-04-19T16:56:49.032022500Z"
    }
   },
   "id": "3a2807a74a0c7e48"
  }
 ],
 "metadata": {
  "kernelspec": {
   "display_name": "Python 3",
   "language": "python",
   "name": "python3"
  },
  "language_info": {
   "codemirror_mode": {
    "name": "ipython",
    "version": 2
   },
   "file_extension": ".py",
   "mimetype": "text/x-python",
   "name": "python",
   "nbconvert_exporter": "python",
   "pygments_lexer": "ipython2",
   "version": "2.7.6"
  }
 },
 "nbformat": 4,
 "nbformat_minor": 5
}
