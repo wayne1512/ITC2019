{
 "cells": [
  {
   "cell_type": "code",
   "execution_count": null,
   "id": "initial_id",
   "metadata": {
    "collapsed": true
   },
   "outputs": [],
   "source": [
    "import os\n",
    "import time\n",
    "\n",
    "import matplotlib.pyplot as plt\n",
    "import pandas as pd\n",
    "import numpy as np\n",
    "import pickle\n",
    "\n",
    "import solution_search\n",
    "from ac4 import AC4\n",
    "from costCalcuation.distributions.create_distribtion_helper import create_helper_for_distribution\n",
    "from depth_first_search_solver import DepthFirstSearchSolver\n",
    "from experiment_details import ExperimentDetails\n",
    "from parse_input import parse_xml, parse_itc2007_curriculum_based, parse_itc2007_post_enrolment\n",
    "from solution_search import SolutionSearch\n",
    "from costCalcuation.distributions.create_distribtion_helper import create_helper_for_distribution\n",
    "\n",
    "\n"
   ]
  },
  {
   "cell_type": "code",
   "execution_count": null,
   "outputs": [],
   "source": [
    "itc2007_track2_path = '.\\\\Datasets\\\\post'\n",
    "itc2007_track3_path = '.\\\\Datasets\\\\curriculum'\n",
    "itc2019_path = '.\\\\Datasets\\\\2019'"
   ],
   "metadata": {
    "collapsed": false
   },
   "id": "7b1339187b73dd08"
  },
  {
   "cell_type": "code",
   "execution_count": null,
   "outputs": [],
   "source": [
    "def get_all_files(path):\n",
    "    return [os.path.join(dirpath, file) for dirpath, _, filenames in os.walk(path) for file in filenames]    "
   ],
   "metadata": {
    "collapsed": false
   },
   "id": "e1c47b36588bd122"
  },
  {
   "cell_type": "code",
   "execution_count": null,
   "outputs": [],
   "source": [
    "itc2007_track2_files = get_all_files(itc2007_track2_path)\n",
    "itc2007_track3_files = get_all_files(itc2007_track3_path)\n",
    "itc2019_files = get_all_files(itc2019_path)"
   ],
   "metadata": {
    "collapsed": false
   },
   "id": "2b980a6854d41fdb"
  },
  {
   "cell_type": "markdown",
   "source": [
    "# Get statistics"
   ],
   "metadata": {
    "collapsed": false
   },
   "id": "9774beffaeb401d2"
  },
  {
   "cell_type": "markdown",
   "source": [
    "## Statistics for ITC2019"
   ],
   "metadata": {
    "collapsed": false
   },
   "id": "e8035c67a0069d04"
  },
  {
   "cell_type": "code",
   "execution_count": null,
   "outputs": [],
   "source": [
    "problems_and_stats = [parse_xml(file) for file in itc2019_files]\n",
    "stats = [problem[1] for problem in problems_and_stats]\n",
    "\n",
    "df = pd.DataFrame(stats)\n",
    "\n",
    "df.index += 1\n",
    "df.reset_index(inplace=True,names='index')\n",
    "\n",
    "os.makedirs('output/stats', exist_ok=True)\n",
    "df.to_csv('output/stats/itc2019_stats.csv',index=False)\n"
   ],
   "metadata": {
    "collapsed": false
   },
   "id": "ec7a06104067db80"
  },
  {
   "cell_type": "markdown",
   "source": [
    "## Statistics for ITC2007 Track 2"
   ],
   "metadata": {
    "collapsed": false
   },
   "id": "128c9e9b77ed0388"
  },
  {
   "cell_type": "code",
   "execution_count": null,
   "outputs": [],
   "source": [
    "problems_and_stats = [parse_itc2007_post_enrolment(file) for file in itc2007_track2_files]\n",
    "stats = [problem[1] for problem in problems_and_stats]\n",
    "\n",
    "df = pd.DataFrame(stats)\n",
    "\n",
    "\n",
    "#make index 1 based and name them as their file names ex. 1,2,...\n",
    "df.index += 1\n",
    "df.reset_index(inplace=True,names='name')\n",
    "\n",
    "df.index += 1\n",
    "df.reset_index(inplace=True,names='index')\n",
    "\n",
    "os.makedirs('output/stats', exist_ok=True)\n",
    "df.to_csv('output/stats/itc2007_track2_stats.csv',index=False)"
   ],
   "metadata": {
    "collapsed": false
   },
   "id": "b306dd26d38259f4"
  },
  {
   "cell_type": "markdown",
   "source": [
    "## Statistics for ITC2007 Track 3"
   ],
   "metadata": {
    "collapsed": false
   },
   "id": "bb7522cf1f4032f4"
  },
  {
   "cell_type": "code",
   "execution_count": null,
   "outputs": [],
   "source": [
    "problems_and_stats = [parse_itc2007_curriculum_based(file) for file in itc2007_track3_files]\n",
    "stats = [problem[1] for problem in problems_and_stats]\n",
    "\n",
    "df = pd.DataFrame(stats)\n",
    "\n",
    "\n",
    "df.index += 1\n",
    "df.reset_index(inplace=True,names='index')\n",
    "\n",
    "os.makedirs('output/stats', exist_ok=True)\n",
    "df.to_csv('output/stats/itc2007_track3_stats.csv',index=False)\n"
   ],
   "metadata": {
    "collapsed": false
   },
   "id": "42fc4703727af919"
  },
  {
   "cell_type": "markdown",
   "source": [
    "# Construction using depth first search"
   ],
   "metadata": {
    "collapsed": false
   },
   "id": "d322f8791c3cacd9"
  },
  {
   "cell_type": "code",
   "execution_count": null,
   "outputs": [],
   "source": [
    "def plot_row_over_operation(file,operation_history , title):\n",
    "    fig,ax = plt.subplots()\n",
    "    ax.set_title(title)\n",
    "    \n",
    "    y = [i['current_row'] for i in operation_history]\n",
    "    \n",
    "    ax.set_xlabel('Operation')\n",
    "    ax.set_ylabel('Classes placed')\n",
    "    \n",
    "    ax.plot(y)\n",
    "    plt.show()\n",
    "    \n",
    "    if file:\n",
    "        fig.savefig(file + '.png')\n",
    "    \n",
    "    \n",
    "    \n",
    "def plot_row_over_time(file, operation_history , title):\n",
    "    fig,ax = plt.subplots()\n",
    "    ax.set_title(title)\n",
    "    \n",
    "    time = [i['time'] for i in operation_history]\n",
    "    row = [i['current_row'] for i in operation_history]\n",
    "    \n",
    "    ax.set_xlabel('Time')\n",
    "    ax.set_ylabel('Classes placed')\n",
    "    ax.plot(time,row)\n",
    "\n",
    "    plt.show()\n",
    "    \n",
    "    if file:\n",
    "        fig.savefig(file + '.png')\n",
    "    "
   ],
   "metadata": {
    "collapsed": false
   },
   "id": "e29fbf550ce72c9"
  },
  {
   "cell_type": "code",
   "execution_count": null,
   "outputs": [],
   "source": [
    "def parse_problem (dataset,instance_path):\n",
    "    if dataset == 'itc2007_track2':\n",
    "        return parse_itc2007_post_enrolment(instance_path)\n",
    "    elif dataset == 'itc2007_track3':\n",
    "        return parse_itc2007_curriculum_based(instance_path)\n",
    "    elif dataset == 'itc2019':\n",
    "        return parse_xml(instance_path)\n",
    "\n",
    "\n",
    "def run_experiment(experiment_name, problem_files, dataset, ac4_params=None, depth_first_params=None):\n",
    "    \n",
    "    folder = f'output/{experiment_name}_{dataset}_{time.strftime(\"%Y%m%d-%H%M%S\")}'\n",
    "    os.mkdir(folder)\n",
    "    \n",
    "    print(f'experiment results will be saved in {folder}')\n",
    "    \n",
    "    for f in problem_files:\n",
    "        date = time.time()\n",
    "        problem = parse_problem(dataset,f)[0]        \n",
    "        sub_folder = os.path.join(folder, f.split('\\\\')[-1].split('.')[0])\n",
    "        os.mkdir(sub_folder)\n",
    "        \n",
    "        res = {}\n",
    "        \n",
    "        search = None\n",
    "        if ac4_params is not None or depth_first_params is not None:\n",
    "            solution_search_init_start_time = time.time()\n",
    "            search = SolutionSearch(problem)\n",
    "            solution_search_init_end_time = time.time()\n",
    "            res['solution_search_init_time'] = solution_search_init_end_time - solution_search_init_start_time            \n",
    "            \n",
    "        \n",
    "        if ac4_params is not None:\n",
    "            \n",
    "            ac4_res = {}\n",
    "            \n",
    "            ac4_start_time = time.time()\n",
    "            ac4 = AC4(search)            \n",
    "            ac4_res['ac4_init_time'] = time.time() - ac4_start_time\n",
    "            \n",
    "            ac4_apply_start_time = time.time()\n",
    "            ac4_return_value = ac4.apply(debugLevel=1,**ac4_params)\n",
    "            ac4_end_time = time.time()\n",
    "            ac4_res['ac4_apply_time'] = ac4_end_time - ac4_apply_start_time\n",
    "            \n",
    "            ac4_res['ac4_total_time'] = ac4_end_time - ac4_start_time\n",
    "            \n",
    "            options_open_before_ac4 = np.count_nonzero(search.decision_table == 0)\n",
    "            options_open_after_ac4 = np.count_nonzero(search.decision_table == 0)\n",
    "            options_closed_by_ac4 = options_open_before_ac4 - options_open_after_ac4\n",
    "            \n",
    "            ac4_res['options_open_before_ac4'] = options_open_before_ac4\n",
    "            ac4_res['options_open_after_ac4'] = options_open_after_ac4\n",
    "            ac4_res['options_closed_by_ac4'] = options_closed_by_ac4\n",
    "            ac4_res['ac4_return_value'] = ac4_return_value\n",
    "            \n",
    "            if ac4_return_value:\n",
    "                pickle.dump(search.decision_table, open(os.path.join(sub_folder, 'decision_table_after_ac4.pkl'), 'wb'))\n",
    "                \n",
    "            res['ac4_results'] = ac4_res\n",
    "            \n",
    "        if depth_first_params is not None:\n",
    "            solver = DepthFirstSearchSolver(search)            \n",
    "            depth_first_res = solver.solve(debug_level=1,**depth_first_params)\n",
    "            \n",
    "            if depth_first_res['success']:\n",
    "                np.save(os.path.join(sub_folder, 'solution gene after depth first search.npy'), search.get_result_as_gene())\n",
    "            \n",
    "            \n",
    "            instance_file_name = f.split('\\\\')[-1].split('.')[0]\n",
    "            instance_name = problem.name if dataset == 'itc2019' else instance_file_name\n",
    "            \n",
    "            plot_row_over_operation(os.path.join(sub_folder, 'row_over_operation_graph.png'), depth_first_res['operation_history'], f\"{experiment_name}\\n{dataset} - {instance_name}\")\n",
    "            plot_row_over_time(os.path.join(sub_folder, 'row_over_time_graph.png'),depth_first_res['operation_history'], f\"{experiment_name}\\n{dataset} - {instance_name}\")\n",
    "            \n",
    "            res['depth_first_search_results'] = depth_first_res\n",
    "        \n",
    "        \n",
    "        experiment_details = ExperimentDetails(\n",
    "            name=experiment_name,\n",
    "            instance_name=instance_name,\n",
    "            instance_file_name = instance_file_name,\n",
    "            dataset_name=dataset,\n",
    "            date=date,\n",
    "            results_data=res,\n",
    "            experiment_data={\n",
    "                'ac4_params': ac4_params,\n",
    "                'depth_first_params': depth_first_params\n",
    "            }\n",
    "        )\n",
    "        \n",
    "        pickle.dump(experiment_details, open(os.path.join(sub_folder, 'experiment_details.pkl'), 'wb'))\n",
    "        "
   ],
   "metadata": {
    "collapsed": false
   },
   "id": "1c8cbd7b62f19875"
  },
  {
   "cell_type": "code",
   "execution_count": null,
   "outputs": [],
   "source": [
    "# folder = 'output/itc2007_track2_depth_first_search_test_'+time.strftime(\"%Y%m%d-%H%M%S\")\n",
    "# os.mkdir(folder)\n",
    "# \n",
    "# for f in itc2007_track2_files:\n",
    "#     \n",
    "#     sub_folder = os.path.join(folder, f.split('\\\\')[-1].split('.')[0])\n",
    "#     os.mkdir(sub_folder)\n",
    "#     \n",
    "#     date = time.time()\n",
    "#     \n",
    "#     problem = parse_itc2007_post_enrolment(f)[0]\n",
    "#     search = SolutionSearch(problem)\n",
    "#     solver = DepthFirstSearchSolver(search)\n",
    "#     res = solver.solve(max_operations=10000)\n",
    "#     \n",
    "#     experiment_details = ExperimentDetails(\n",
    "#         name='depth_first_search with 10k max operations',\n",
    "#         instance_name=f.split('\\\\')[-1].split('.')[0],\n",
    "#         instance_file_name = f.split('\\\\')[-1].split('.')[0],\n",
    "#         dataset_name='itc2007_track2',\n",
    "#         date=date,\n",
    "#         results_data=res,\n",
    "#         experiment_data={\n",
    "#             \"solver\": 'depth_first_search',\n",
    "#             \"max_operations\": 10000\n",
    "#         }\n",
    "#     )\n",
    "#     \n",
    "#     pickle.dump(experiment_details, open(os.path.join(sub_folder, 'experiment_details.pkl'), 'wb'))\n",
    "#     \n",
    "#     if res['success']:\n",
    "#         np.save(os.path.join(sub_folder, 'solution gene.npy'), search.get_result_as_gene())\n",
    "#     \n",
    "#     plot_row_over_operation(os.path.join(sub_folder, 'row_over_operation_graph.png'), res['operation_history'], 'Depth first search max 10k operations for itc2007_track2 - ' + experiment_details.instance_name)\n",
    "#     \n",
    "#     plot_row_over_time(os.path.join(sub_folder, 'row_over_time_graph.png'),res['operation_history'], 'Depth first search max 10k operations for itc2007_track2 - ' + experiment_details.instance_name)\n",
    "#     "
   ],
   "metadata": {
    "collapsed": false
   },
   "id": "e21c44b3028f15cb"
  },
  {
   "cell_type": "markdown",
   "source": [
    "## Depth first search with 10k operations"
   ],
   "metadata": {
    "collapsed": false
   },
   "id": "f47cf29ebf08e1aa"
  },
  {
   "cell_type": "code",
   "execution_count": null,
   "outputs": [],
   "source": [
    "# folder = 'output/itc2007_track3_depth_first_search_test_'+time.strftime(\"%Y%m%d-%H%M%S\")\n",
    "# os.mkdir(folder)\n",
    "# \n",
    "# for f in itc2007_track3_files:\n",
    "#     \n",
    "#     \n",
    "#     \n",
    "#     date = time.time()\n",
    "#     \n",
    "#     problem = parse_itc2007_curriculum_based(f)[0]\n",
    "#     search = SolutionSearch(problem)\n",
    "#     solver = DepthFirstSearchSolver(search)\n",
    "#     res = solver.solve(max_operations=10000)\n",
    "#     \n",
    "#     sub_folder = os.path.join(folder, problem.name)\n",
    "#     os.mkdir(sub_folder)\n",
    "#     \n",
    "#     experiment_details = ExperimentDetails(\n",
    "#         name='depth_first_search with 10k max operations',\n",
    "#         instance_name=problem.name,\n",
    "#         instance_file_name = f.split('\\\\')[-1].split('.')[0],\n",
    "#         dataset_name='itc2007_track3',\n",
    "#         date=date,\n",
    "#         results_data=res,\n",
    "#         experiment_data={\n",
    "#             \"solver\": 'depth_first_search',\n",
    "#             \"max_operations\": 10000\n",
    "#         }\n",
    "#     )\n",
    "#     \n",
    "#     pickle.dump(experiment_details, open(os.path.join(sub_folder, 'experiment_details.pkl'), 'wb'))\n",
    "#     \n",
    "#     if res['success']:\n",
    "#         np.save(os.path.join(sub_folder, 'solution gene.npy'), search.get_result_as_gene())\n",
    "#     \n",
    "#     plot_row_over_operation(os.path.join(sub_folder, 'row_over_operation_graph.png'), res['operation_history'], 'Depth first search max 10k operations for itc2007_track3 - ' + experiment_details.instance_name)\n",
    "#     \n",
    "#     plot_row_over_time(os.path.join(sub_folder, 'row_over_time_graph.png'),res['operation_history'], 'Depth first search max 10k operations for itc2007_track3 - ' + experiment_details.instance_name)\n",
    "#     "
   ],
   "metadata": {
    "collapsed": false
   },
   "id": "a6a5c8d36d1dab1c"
  },
  {
   "cell_type": "code",
   "execution_count": null,
   "outputs": [],
   "source": [
    "# folder = 'output/itc2019_depth_first_search_test_'+time.strftime(\"%Y%m%d-%H%M%S\")\n",
    "# os.mkdir(folder)\n",
    "# \n",
    "# for f in itc2019_files[5:6]:\n",
    "# #for f in ['D:\\\\Desktop\\\\Datasets\\\\test\\\\2019maxblock.xml']: \n",
    "#     date = time.time()\n",
    "#     \n",
    "#     problem = parse_xml(f)[0]\n",
    "#     search = SolutionSearch(problem)\n",
    "#     solver = DepthFirstSearchSolver(search)\n",
    "# \n",
    "#     try:\n",
    "#         res = solver.solve(max_operations=10000)\n",
    "#     except Exception as e:\n",
    "#         res = {'success': False, 'error': str(e)}\n",
    "#     \n",
    "#     sub_folder = os.path.join(folder, problem.name)\n",
    "#     os.mkdir(sub_folder)\n",
    "#     \n",
    "#     experiment_details = ExperimentDetails(\n",
    "#         name='depth_first_search with 10k max operations',\n",
    "#         instance_name=problem.name,\n",
    "#         instance_file_name = f.split('\\\\')[-1].split('.')[0],\n",
    "#         dataset_name='itc2019',\n",
    "#         date=date,\n",
    "#         results_data=res,\n",
    "#         experiment_data={\n",
    "#             \"solver\": 'depth_first_search',\n",
    "#             \"max_operations\": 10000\n",
    "#         }\n",
    "#     )\n",
    "#     \n",
    "#     pickle.dump(experiment_details, open(os.path.join(sub_folder, 'experiment_details.pkl'), 'wb'))\n",
    "#     \n",
    "#     if res['success']:\n",
    "#         np.save(os.path.join(sub_folder, 'solution gene.npy'), search.get_result_as_gene())\n",
    "#     \n",
    "#     plot_row_over_operation(os.path.join(sub_folder, 'row_over_operation_graph.png'), res['operation_history'], 'Depth first search max 10k operations for itc2019 - ' + experiment_details.instance_name)\n",
    "#     \n",
    "#     plot_row_over_time(os.path.join(sub_folder, 'row_over_time_graph.png'),res['operation_history'], 'Depth first search max 10k operations for itc2019 - ' + experiment_details.instance_name)\n",
    "#     "
   ],
   "metadata": {
    "collapsed": false
   },
   "id": "bf4431ffd65811bd"
  },
  {
   "cell_type": "markdown",
   "source": [
    "## AC4 followed by Depth first search with 10k operations"
   ],
   "metadata": {
    "collapsed": false
   },
   "id": "4a345731df8bddd4"
  },
  {
   "cell_type": "code",
   "execution_count": null,
   "outputs": [],
   "source": [
    "# folder = 'output/itc2007_track2_depth_first_search_test_'+time.strftime(\"%Y%m%d-%H%M%S\")\n",
    "# os.mkdir(folder)\n",
    "# \n",
    "# for f in itc2007_track2_files:\n",
    "#     \n",
    "#     sub_folder = os.path.join(folder, f.split('\\\\')[-1].split('.')[0])\n",
    "#     os.mkdir(sub_folder)\n",
    "#     \n",
    "#     date = time.time()\n",
    "#     \n",
    "#     problem = parse_itc2007_post_enrolment(f)[0]\n",
    "#     search = SolutionSearch(problem)\n",
    "#     \n",
    "#     options_open_before_ac4 = np.count_nonzero(search.decision_table == 0)\n",
    "#     \n",
    "#     ac4_start_time = time.time()    \n",
    "#     ac4 = AC4(search)\n",
    "#     ac4.apply()    \n",
    "#     ac4_end_time = time.time()\n",
    "#     \n",
    "#     options_open_after_ac4 = np.count_nonzero(search.decision_table == 0)\n",
    "#     \n",
    "#     solver = DepthFirstSearchSolver(search)\n",
    "#     res = solver.solve(max_operations=10000)\n",
    "#     \n",
    "#     res['ac4_results'] = {\n",
    "#         'options_open_before_ac4': options_open_before_ac4,\n",
    "#         'options_open_after_ac4': options_open_after_ac4,\n",
    "#         'options_closed_by_ac4': options_open_before_ac4 - options_open_after_ac4,\n",
    "#         'ac4_time': ac4_end_time - ac4_start_time\n",
    "#     }\n",
    "#     \n",
    "#     experiment_details = ExperimentDetails(\n",
    "#         name='AC4 and depth_first_search with 10k max operations',\n",
    "#         instance_name=f.split('\\\\')[-1].split('.')[0],\n",
    "#         instance_file_name = f.split('\\\\')[-1].split('.')[0],\n",
    "#         dataset_name='itc2007_track2',\n",
    "#         date=date,\n",
    "#         results_data=res,\n",
    "#         experiment_data={\n",
    "#             \"solver\": 'AC4 + depth_first_search',\n",
    "#             \"max_operations\": 10000\n",
    "#         }\n",
    "#     )\n",
    "#     \n",
    "#     pickle.dump(experiment_details, open(os.path.join(sub_folder, 'experiment_details.pkl'), 'wb'))\n",
    "#     \n",
    "#     if res['success']:\n",
    "#         np.save(os.path.join(sub_folder, 'solution gene.npy'), search.get_result_as_gene())\n",
    "#     \n",
    "#     plot_row_over_operation(os.path.join(sub_folder, 'row_over_operation_graph.png'), res['operation_history'], 'Depth first search max 10k operations for itc2007_track2 - ' + experiment_details.instance_name)\n",
    "#     \n",
    "#     plot_row_over_time(os.path.join(sub_folder, 'row_over_time_graph.png'),res['operation_history'], 'Depth first search max 10k operations for itc2007_track2 - ' + experiment_details.instance_name)\n",
    "#     "
   ],
   "metadata": {
    "collapsed": false
   },
   "id": "4211e3ec14eb55dd"
  },
  {
   "cell_type": "code",
   "execution_count": null,
   "outputs": [],
   "source": [
    "# folder = 'output/itc2007_track3_depth_first_search_test_'+time.strftime(\"%Y%m%d-%H%M%S\")\n",
    "# os.mkdir(folder)\n",
    "# \n",
    "# for f in itc2007_track3_files:\n",
    "#     \n",
    "#     date = time.time()\n",
    "#     \n",
    "#     problem = parse_itc2007_curriculum_based(f)[0]\n",
    "#     search = SolutionSearch(problem)\n",
    "#     \n",
    "#     options_open_before_ac4 = np.count_nonzero(search.decision_table == 0)\n",
    "#     \n",
    "#     ac4_start_time = time.time()    \n",
    "#     ac4 = AC4(search)\n",
    "#     ac4.apply()    \n",
    "#     ac4_end_time = time.time()\n",
    "#     \n",
    "#     options_open_after_ac4 = np.count_nonzero(search.decision_table == 0)\n",
    "#     \n",
    "#     solver = DepthFirstSearchSolver(search)\n",
    "#     res = solver.solve(max_operations=10000)\n",
    "#     \n",
    "#     res['ac4_results'] = {\n",
    "#         'options_open_before_ac4': options_open_before_ac4,\n",
    "#         'options_open_after_ac4': options_open_after_ac4,\n",
    "#         'options_closed_by_ac4': options_open_before_ac4 - options_open_after_ac4,\n",
    "#         'ac4_time': ac4_end_time - ac4_start_time\n",
    "#     }\n",
    "#     res = solver.solve(max_operations=10000)\n",
    "#     \n",
    "#     sub_folder = os.path.join(folder, problem.name)\n",
    "#     os.mkdir(sub_folder)\n",
    "#     \n",
    "#     experiment_details = ExperimentDetails(\n",
    "#         name='AC4 and depth_first_search with 10k max operations',\n",
    "#         instance_name=problem.name,\n",
    "#         instance_file_name = f.split('\\\\')[-1].split('.')[0],\n",
    "#         dataset_name='itc2007_track3',\n",
    "#         date=date,\n",
    "#         results_data=res,\n",
    "#         experiment_data={\n",
    "#             \"solver\": 'AC4 + depth_first_search',\n",
    "#             \"max_operations\": 10000\n",
    "#         }\n",
    "#     )\n",
    "#     \n",
    "#     pickle.dump(experiment_details, open(os.path.join(sub_folder, 'experiment_details.pkl'), 'wb'))\n",
    "#     \n",
    "#     if res['success']:\n",
    "#         np.save(os.path.join(sub_folder, 'solution gene.npy'), search.get_result_as_gene())\n",
    "#     \n",
    "#     plot_row_over_operation(os.path.join(sub_folder, 'row_over_operation_graph.png'), res['operation_history'], 'Depth first search max 10k operations for itc2007_track3 - ' + experiment_details.instance_name)\n",
    "#     \n",
    "#     plot_row_over_time(os.path.join(sub_folder, 'row_over_time_graph.png'),res['operation_history'], 'Depth first search max 10k operations for itc2007_track3 - ' + experiment_details.instance_name)\n",
    "#     "
   ],
   "metadata": {
    "collapsed": false
   },
   "id": "8826cb863cab000"
  },
  {
   "cell_type": "code",
   "execution_count": null,
   "outputs": [],
   "source": [
    "# folder = 'output/itc2019_depth_first_search_test_'+time.strftime(\"%Y%m%d-%H%M%S\")\n",
    "# os.mkdir(folder)\n",
    "# \n",
    "# for f in itc2019_files[5:6]:\n",
    "# #for f in ['D:\\\\Desktop\\\\Datasets\\\\test\\\\2019maxblock.xml']: \n",
    "#     date = time.time()\n",
    "# \n",
    "#     problem = parse_xml(f)[0]\n",
    "#     search = SolutionSearch(problem)\n",
    "# \n",
    "#     options_open_before_ac4 = np.count_nonzero(search.decision_table == 0)\n",
    "# \n",
    "#     ac4_start_time = time.time()    \n",
    "#     ac4 = AC4(search)\n",
    "#     ac4.apply()    \n",
    "#     ac4_end_time = time.time()\n",
    "# \n",
    "#     options_open_after_ac4 = np.count_nonzero(search.decision_table == 0)\n",
    "# \n",
    "#     solver = DepthFirstSearchSolver(search)\n",
    "# \n",
    "#     try:\n",
    "#         res = solver.solve(max_operations=10000)\n",
    "#     except Exception as e:\n",
    "#         res = {'success': False, 'error': str(e)}\n",
    "# \n",
    "#     res['ac4_results'] = {\n",
    "#         'options_open_before_ac4': options_open_before_ac4,\n",
    "#         'options_open_after_ac4': options_open_after_ac4,\n",
    "#         'options_closed_by_ac4': options_open_before_ac4 - options_open_after_ac4,\n",
    "#         'ac4_time': ac4_end_time - ac4_start_time\n",
    "#     }\n",
    "# \n",
    "#     sub_folder = os.path.join(folder, problem.name)\n",
    "#     os.mkdir(sub_folder)\n",
    "# \n",
    "#     experiment_details = ExperimentDetails(\n",
    "#         name='AC4 and depth_first_search with 10k max operations',\n",
    "#         instance_name=problem.name,\n",
    "#         instance_file_name = f.split('\\\\')[-1].split('.')[0],\n",
    "#         dataset_name='itc2019',\n",
    "#         date=date,\n",
    "#         results_data=res,\n",
    "#         experiment_data={\n",
    "#             \"solver\": 'AC4 + depth_first_search',\n",
    "#             \"max_operations\": 10000\n",
    "#         }\n",
    "#     )\n",
    "# \n",
    "#     pickle.dump(experiment_details, open(os.path.join(sub_folder, 'experiment_details.pkl'), 'wb'))\n",
    "# \n",
    "#     if res['success']:\n",
    "#         np.save(os.path.join(sub_folder, 'solution gene.npy'), search.get_result_as_gene())\n",
    "# \n",
    "#     plot_row_over_operation(os.path.join(sub_folder, 'row_over_operation_graph.png'), res['operation_history'], 'Depth first search max 10k operations for itc2019 - ' + experiment_details.instance_name)\n",
    "# \n",
    "#     plot_row_over_time(os.path.join(sub_folder, 'row_over_time_graph.png'),res['operation_history'], 'Depth first search max 10k operations for itc2019 - ' + experiment_details.instance_name)\n"
   ],
   "metadata": {
    "collapsed": false
   },
   "id": "7e22d464a2d342ea"
  },
  {
   "cell_type": "code",
   "execution_count": 6,
   "outputs": [
    {
     "name": "stdout",
     "output_type": "stream",
     "text": [
      "experiment results will be saved in output/Depth_first_search with 10k max operations_itc2007_track2_20240318-191742\n",
      "proceeded from 0 to 1\n",
      "proceeded from 100 to 101\n",
      "Unexpected exception formatting exception. Falling back to standard exception\n"
     ]
    },
    {
     "name": "stderr",
     "output_type": "stream",
     "text": [
      "Traceback (most recent call last):\n",
      "  File \"D:\\Desktop\\ITC2019\\venv\\Lib\\site-packages\\IPython\\core\\interactiveshell.py\", line 3526, in run_code\n",
      "    exec(code_obj, self.user_global_ns, self.user_ns)\n",
      "  File \"C:\\Users\\ADMIN\\AppData\\Local\\Temp\\ipykernel_1368\\437385567.py\", line 1, in <module>\n",
      "    run_experiment('Depth_first_search with 10k max operations', itc2007_track2_files, 'itc2007_track2', ac4_params=None, depth_first_params={'max_operations': 10000})\n",
      "  File \"C:\\Users\\ADMIN\\AppData\\Local\\Temp\\ipykernel_1368\\1240316058.py\", line 64, in run_experiment\n",
      "    depth_first_res = solver.solve(debug_level=1,**depth_first_params)\n",
      "                      ^^^^^^^^^^^^^^^^^^^^^^^^^^^^^^^^^^^^^^^^^^^^^^^^\n",
      "  File \"D:\\Desktop\\ITC2019\\depth_first_search_solver.py\", line 81, in solve\n",
      "    self.close_downwards_options(current_row, current_option)\n",
      "  File \"D:\\Desktop\\ITC2019\\depth_first_search_solver.py\", line 20, in close_downwards_options\n",
      "    d.distribution_helper.close_downwards_option(self.solution_search, current_row, current_option, mask)\n",
      "  File \"D:\\Desktop\\ITC2019\\costCalcuation\\distributions\\base_distribution_helper.py\", line -1, in close_downwards_option\n",
      "KeyboardInterrupt\n",
      "\n",
      "During handling of the above exception, another exception occurred:\n",
      "\n",
      "Traceback (most recent call last):\n",
      "  File \"D:\\Desktop\\ITC2019\\venv\\Lib\\site-packages\\IPython\\core\\interactiveshell.py\", line 2120, in showtraceback\n",
      "    stb = self.InteractiveTB.structured_traceback(\n",
      "          ^^^^^^^^^^^^^^^^^^^^^^^^^^^^^^^^^^^^^^^^\n",
      "  File \"D:\\Desktop\\ITC2019\\venv\\Lib\\site-packages\\IPython\\core\\ultratb.py\", line 1435, in structured_traceback\n",
      "    return FormattedTB.structured_traceback(\n",
      "           ^^^^^^^^^^^^^^^^^^^^^^^^^^^^^^^^^\n",
      "  File \"D:\\Desktop\\ITC2019\\venv\\Lib\\site-packages\\IPython\\core\\ultratb.py\", line 1326, in structured_traceback\n",
      "    return VerboseTB.structured_traceback(\n",
      "           ^^^^^^^^^^^^^^^^^^^^^^^^^^^^^^^\n",
      "  File \"D:\\Desktop\\ITC2019\\venv\\Lib\\site-packages\\IPython\\core\\ultratb.py\", line 1173, in structured_traceback\n",
      "    formatted_exception = self.format_exception_as_a_whole(etype, evalue, etb, number_of_lines_of_context,\n",
      "                          ^^^^^^^^^^^^^^^^^^^^^^^^^^^^^^^^^^^^^^^^^^^^^^^^^^^^^^^^^^^^^^^^^^^^^^^^^^^^^^^^\n",
      "  File \"D:\\Desktop\\ITC2019\\venv\\Lib\\site-packages\\IPython\\core\\ultratb.py\", line 1088, in format_exception_as_a_whole\n",
      "    frames.append(self.format_record(record))\n",
      "                  ^^^^^^^^^^^^^^^^^^^^^^^^^^\n",
      "  File \"D:\\Desktop\\ITC2019\\venv\\Lib\\site-packages\\IPython\\core\\ultratb.py\", line 970, in format_record\n",
      "    frame_info.lines, Colors, self.has_colors, lvals\n",
      "    ^^^^^^^^^^^^^^^^\n",
      "  File \"D:\\Desktop\\ITC2019\\venv\\Lib\\site-packages\\IPython\\core\\ultratb.py\", line 792, in lines\n",
      "    return self._sd.lines\n",
      "           ^^^^^^^^^^^^^^\n",
      "  File \"D:\\Desktop\\ITC2019\\venv\\Lib\\site-packages\\stack_data\\utils.py\", line 144, in cached_property_wrapper\n",
      "    value = obj.__dict__[self.func.__name__] = self.func(obj)\n",
      "                                               ^^^^^^^^^^^^^^\n",
      "  File \"D:\\Desktop\\ITC2019\\venv\\Lib\\site-packages\\stack_data\\core.py\", line 734, in lines\n",
      "    pieces = self.included_pieces\n",
      "             ^^^^^^^^^^^^^^^^^^^^\n",
      "  File \"D:\\Desktop\\ITC2019\\venv\\Lib\\site-packages\\stack_data\\utils.py\", line 144, in cached_property_wrapper\n",
      "    value = obj.__dict__[self.func.__name__] = self.func(obj)\n",
      "                                               ^^^^^^^^^^^^^^\n",
      "  File \"D:\\Desktop\\ITC2019\\venv\\Lib\\site-packages\\stack_data\\core.py\", line 681, in included_pieces\n",
      "    pos = scope_pieces.index(self.executing_piece)\n",
      "                             ^^^^^^^^^^^^^^^^^^^^\n",
      "  File \"D:\\Desktop\\ITC2019\\venv\\Lib\\site-packages\\stack_data\\utils.py\", line 144, in cached_property_wrapper\n",
      "    value = obj.__dict__[self.func.__name__] = self.func(obj)\n",
      "                                               ^^^^^^^^^^^^^^\n",
      "  File \"D:\\Desktop\\ITC2019\\venv\\Lib\\site-packages\\stack_data\\core.py\", line 660, in executing_piece\n",
      "    return only(\n",
      "           ^^^^^\n",
      "  File \"D:\\Desktop\\ITC2019\\venv\\Lib\\site-packages\\executing\\executing.py\", line 190, in only\n",
      "    raise NotOneValueFound('Expected one value, found 0')\n",
      "executing.executing.NotOneValueFound: Expected one value, found 0\n"
     ]
    }
   ],
   "source": [
    "run_experiment('Depth_first_search with 10k max operations', itc2007_track2_files, 'itc2007_track2', ac4_params=None, depth_first_params={'max_operations': 10000})"
   ],
   "metadata": {
    "collapsed": false,
    "ExecuteTime": {
     "end_time": "2024-03-18T18:17:57.113360500Z",
     "start_time": "2024-03-18T18:17:42.157978300Z"
    }
   },
   "id": "c8c9c41570dae0ee"
  },
  {
   "cell_type": "code",
   "execution_count": null,
   "outputs": [],
   "source": [
    "run_experiment('Depth_first_search with 10k max operations', itc2007_track3_files, 'itc2007_track3', ac4_params=None, depth_first_params={'max_operations': 10000})"
   ],
   "metadata": {
    "collapsed": false
   },
   "id": "fe4f54a28cb20d29"
  },
  {
   "cell_type": "code",
   "execution_count": null,
   "outputs": [],
   "source": [
    "run_experiment('Depth_first_search with 10k max operations', itc2019_files, 'itc2019', ac4_params=None, depth_first_params={'max_operations': 10000})"
   ],
   "metadata": {
    "collapsed": false
   },
   "id": "e64ddb8db6dc4304"
  },
  {
   "cell_type": "code",
   "execution_count": null,
   "outputs": [],
   "source": [
    "run_experiment('AC4 and depth_first_search with 10k max operations', itc2007_track2_files, 'itc2007_track2', ac4_params={}, depth_first_params={'max_operations': 10000})"
   ],
   "metadata": {
    "collapsed": false
   },
   "id": "20601a94e4e324e7"
  },
  {
   "cell_type": "code",
   "execution_count": 7,
   "outputs": [
    {
     "name": "stdout",
     "output_type": "stream",
     "text": [
      "experiment results will be saved in output/AC4 and depth_first_search with 10k max operations_itc2007_track3_20240318-191805\n",
      "initializing AC4 support structures for row: Vi 0\n",
      "initializing AC4 support structures for row: Vi 1\n"
     ]
    },
    {
     "ename": "KeyboardInterrupt",
     "evalue": "",
     "output_type": "error",
     "traceback": [
      "\u001B[1;31m---------------------------------------------------------------------------\u001B[0m",
      "\u001B[1;31mKeyboardInterrupt\u001B[0m                         Traceback (most recent call last)",
      "Cell \u001B[1;32mIn[7], line 1\u001B[0m\n\u001B[1;32m----> 1\u001B[0m \u001B[43mrun_experiment\u001B[49m\u001B[43m(\u001B[49m\u001B[38;5;124;43m'\u001B[39;49m\u001B[38;5;124;43mAC4 and depth_first_search with 10k max operations\u001B[39;49m\u001B[38;5;124;43m'\u001B[39;49m\u001B[43m,\u001B[49m\u001B[43m \u001B[49m\u001B[43mitc2007_track3_files\u001B[49m\u001B[43m,\u001B[49m\u001B[43m \u001B[49m\u001B[38;5;124;43m'\u001B[39;49m\u001B[38;5;124;43mitc2007_track3\u001B[39;49m\u001B[38;5;124;43m'\u001B[39;49m\u001B[43m,\u001B[49m\u001B[43m \u001B[49m\u001B[43mac4_params\u001B[49m\u001B[38;5;241;43m=\u001B[39;49m\u001B[43m{\u001B[49m\u001B[43m}\u001B[49m\u001B[43m,\u001B[49m\u001B[43m \u001B[49m\u001B[43mdepth_first_params\u001B[49m\u001B[38;5;241;43m=\u001B[39;49m\u001B[43m{\u001B[49m\u001B[38;5;124;43m'\u001B[39;49m\u001B[38;5;124;43mmax_operations\u001B[39;49m\u001B[38;5;124;43m'\u001B[39;49m\u001B[43m:\u001B[49m\u001B[43m \u001B[49m\u001B[38;5;241;43m10000\u001B[39;49m\u001B[43m}\u001B[49m\u001B[43m)\u001B[49m\n",
      "Cell \u001B[1;32mIn[5], line 42\u001B[0m, in \u001B[0;36mrun_experiment\u001B[1;34m(experiment_name, problem_files, dataset, ac4_params, depth_first_params)\u001B[0m\n\u001B[0;32m     39\u001B[0m ac4_res[\u001B[38;5;124m'\u001B[39m\u001B[38;5;124mac4_init_time\u001B[39m\u001B[38;5;124m'\u001B[39m] \u001B[38;5;241m=\u001B[39m time\u001B[38;5;241m.\u001B[39mtime() \u001B[38;5;241m-\u001B[39m ac4_start_time\n\u001B[0;32m     41\u001B[0m ac4_apply_start_time \u001B[38;5;241m=\u001B[39m time\u001B[38;5;241m.\u001B[39mtime()\n\u001B[1;32m---> 42\u001B[0m ac4_return_value \u001B[38;5;241m=\u001B[39m \u001B[43mac4\u001B[49m\u001B[38;5;241;43m.\u001B[39;49m\u001B[43mapply\u001B[49m\u001B[43m(\u001B[49m\u001B[43mdebugLevel\u001B[49m\u001B[38;5;241;43m=\u001B[39;49m\u001B[38;5;241;43m1\u001B[39;49m\u001B[43m,\u001B[49m\u001B[38;5;241;43m*\u001B[39;49m\u001B[38;5;241;43m*\u001B[39;49m\u001B[43mac4_params\u001B[49m\u001B[43m)\u001B[49m\n\u001B[0;32m     43\u001B[0m ac4_end_time \u001B[38;5;241m=\u001B[39m time\u001B[38;5;241m.\u001B[39mtime()\n\u001B[0;32m     44\u001B[0m ac4_res[\u001B[38;5;124m'\u001B[39m\u001B[38;5;124mac4_apply_time\u001B[39m\u001B[38;5;124m'\u001B[39m] \u001B[38;5;241m=\u001B[39m ac4_end_time \u001B[38;5;241m-\u001B[39m ac4_apply_start_time\n",
      "File \u001B[1;32mD:\\Desktop\\ITC2019\\ac4.py:91\u001B[0m, in \u001B[0;36mAC4.apply\u001B[1;34m(self, debugLevel)\u001B[0m\n\u001B[0;32m     89\u001B[0m total \u001B[38;5;241m=\u001B[39m \u001B[38;5;241m0\u001B[39m\n\u001B[0;32m     90\u001B[0m \u001B[38;5;28;01mfor\u001B[39;00m Vj_option \u001B[38;5;129;01min\u001B[39;00m \u001B[38;5;28mrange\u001B[39m(\u001B[38;5;28mself\u001B[39m\u001B[38;5;241m.\u001B[39msolution_search\u001B[38;5;241m.\u001B[39moptions_per_class[Vj]):\n\u001B[1;32m---> 91\u001B[0m     \u001B[38;5;28;01mif\u001B[39;00m \u001B[38;5;28;43mself\u001B[39;49m\u001B[38;5;241;43m.\u001B[39;49m\u001B[43msupports\u001B[49m\u001B[43m(\u001B[49m\u001B[43mVi\u001B[49m\u001B[43m,\u001B[49m\u001B[43m \u001B[49m\u001B[43mVj\u001B[49m\u001B[43m,\u001B[49m\u001B[43m \u001B[49m\u001B[43mVi_option\u001B[49m\u001B[43m,\u001B[49m\u001B[43m \u001B[49m\u001B[43mVj_option\u001B[49m\u001B[43m)\u001B[49m:\n\u001B[0;32m     92\u001B[0m         total \u001B[38;5;241m+\u001B[39m\u001B[38;5;241m=\u001B[39m \u001B[38;5;241m1\u001B[39m\n\u001B[0;32m     93\u001B[0m         \u001B[38;5;28mself\u001B[39m\u001B[38;5;241m.\u001B[39msupport_set[Vj][Vj_option]\u001B[38;5;241m.\u001B[39mappend((Vi, Vi_option))\n",
      "File \u001B[1;32mD:\\Desktop\\ITC2019\\ac4.py:61\u001B[0m, in \u001B[0;36mAC4.supports\u001B[1;34m(self, class_row_i, class_row_j, class_row_i_option, class_row_j_option)\u001B[0m\n\u001B[0;32m     59\u001B[0m \u001B[38;5;28;01mdef\u001B[39;00m \u001B[38;5;21msupports\u001B[39m(\u001B[38;5;28mself\u001B[39m, class_row_i, class_row_j, class_row_i_option, class_row_j_option):\n\u001B[0;32m     60\u001B[0m     \u001B[38;5;28;01mfor\u001B[39;00m constraint \u001B[38;5;129;01min\u001B[39;00m \u001B[38;5;28mself\u001B[39m\u001B[38;5;241m.\u001B[39mconstraints[class_row_i][class_row_j]:\n\u001B[1;32m---> 61\u001B[0m         \u001B[38;5;28;01mif\u001B[39;00m \u001B[38;5;129;01mnot\u001B[39;00m \u001B[43mconstraint\u001B[49m\u001B[43m(\u001B[49m\u001B[38;5;28;43mself\u001B[39;49m\u001B[43m,\u001B[49m\u001B[43m \u001B[49m\u001B[43mclass_row_i\u001B[49m\u001B[43m,\u001B[49m\u001B[43m \u001B[49m\u001B[43mclass_row_j\u001B[49m\u001B[43m,\u001B[49m\u001B[43m \u001B[49m\u001B[43mclass_row_i_option\u001B[49m\u001B[43m,\u001B[49m\u001B[43m \u001B[49m\u001B[43mclass_row_j_option\u001B[49m\u001B[43m)\u001B[49m:\n\u001B[0;32m     62\u001B[0m             \u001B[38;5;28;01mreturn\u001B[39;00m \u001B[38;5;28;01mFalse\u001B[39;00m  \u001B[38;5;66;03m# if one of the constraints is not satisfied, return False\u001B[39;00m\n\u001B[0;32m     63\u001B[0m     \u001B[38;5;28;01mreturn\u001B[39;00m \u001B[38;5;28;01mTrue\u001B[39;00m\n",
      "File \u001B[1;32mD:\\Desktop\\ITC2019\\costCalcuation\\distributions\\not_overlap_distribution_helper.py:47\u001B[0m, in \u001B[0;36mNotOverlapDistributionHelper.check_ac4_constraints\u001B[1;34m(self, ac4, class_row_i, class_row_j, class_row_i_option, class_row_j_option)\u001B[0m\n\u001B[0;32m     46\u001B[0m \u001B[38;5;28;01mdef\u001B[39;00m \u001B[38;5;21mcheck_ac4_constraints\u001B[39m(\u001B[38;5;28mself\u001B[39m, ac4, class_row_i, class_row_j, class_row_i_option, class_row_j_option):\n\u001B[1;32m---> 47\u001B[0m     time_i \u001B[38;5;241m=\u001B[39m \u001B[43mget_room_and_time_chosen\u001B[49m\u001B[43m(\u001B[49m\u001B[43mac4\u001B[49m\u001B[38;5;241;43m.\u001B[39;49m\u001B[43msolution_search\u001B[49m\u001B[43m,\u001B[49m\u001B[43m \u001B[49m\u001B[43mclass_row_i\u001B[49m\u001B[43m,\u001B[49m\u001B[43m \u001B[49m\u001B[43mclass_row_i_option\u001B[49m\u001B[43m)\u001B[49m[\u001B[38;5;241m1\u001B[39m]\n\u001B[0;32m     48\u001B[0m     time_j \u001B[38;5;241m=\u001B[39m get_room_and_time_chosen(ac4\u001B[38;5;241m.\u001B[39msolution_search, class_row_j, class_row_j_option)[\u001B[38;5;241m1\u001B[39m]\n\u001B[0;32m     50\u001B[0m     \u001B[38;5;28;01mreturn\u001B[39;00m (\n\u001B[0;32m     51\u001B[0m             time_i\u001B[38;5;241m.\u001B[39mstart \u001B[38;5;241m>\u001B[39m\u001B[38;5;241m=\u001B[39m (time_j\u001B[38;5;241m.\u001B[39mstart \u001B[38;5;241m+\u001B[39m time_j\u001B[38;5;241m.\u001B[39mlength)\n\u001B[0;32m     52\u001B[0m             \u001B[38;5;129;01mor\u001B[39;00m\n\u001B[1;32m   (...)\u001B[0m\n\u001B[0;32m     55\u001B[0m             \u001B[38;5;129;01mor\u001B[39;00m \u001B[38;5;129;01mnot\u001B[39;00m np\u001B[38;5;241m.\u001B[39many(np\u001B[38;5;241m.\u001B[39mlogical_and(time_i\u001B[38;5;241m.\u001B[39mweeks, time_j\u001B[38;5;241m.\u001B[39mweeks))\n\u001B[0;32m     56\u001B[0m     )\n",
      "File \u001B[1;32mD:\\Desktop\\ITC2019\\costCalcuation\\distributions\\base_distribution_helper.py:16\u001B[0m, in \u001B[0;36mget_room_and_time_chosen\u001B[1;34m(solution_search, class_index, option_index)\u001B[0m\n\u001B[0;32m     12\u001B[0m \u001B[38;5;28;01mif\u001B[39;00m \u001B[38;5;28mlen\u001B[39m(clazz\u001B[38;5;241m.\u001B[39mroom_options) \u001B[38;5;241m==\u001B[39m \u001B[38;5;241m0\u001B[39m:\n\u001B[0;32m     13\u001B[0m     \u001B[38;5;28;01mreturn\u001B[39;00m \u001B[38;5;28;01mNone\u001B[39;00m, clazz\u001B[38;5;241m.\u001B[39mtime_options[option_index]\n\u001B[0;32m     15\u001B[0m current_room_option_idx, current_time_option_idx \u001B[38;5;241m=\u001B[39m \\\n\u001B[1;32m---> 16\u001B[0m     \u001B[43mnp\u001B[49m\u001B[38;5;241;43m.\u001B[39;49m\u001B[43munravel_index\u001B[49m\u001B[43m(\u001B[49m\u001B[43moption_index\u001B[49m\u001B[43m,\u001B[49m\u001B[43m \u001B[49m\u001B[43m(\u001B[49m\u001B[38;5;28;43mlen\u001B[39;49m\u001B[43m(\u001B[49m\u001B[43mclazz\u001B[49m\u001B[38;5;241;43m.\u001B[39;49m\u001B[43mroom_options\u001B[49m\u001B[43m)\u001B[49m\u001B[43m,\u001B[49m\u001B[43m \u001B[49m\u001B[38;5;28;43mlen\u001B[39;49m\u001B[43m(\u001B[49m\u001B[43mclazz\u001B[49m\u001B[38;5;241;43m.\u001B[39;49m\u001B[43mtime_options\u001B[49m\u001B[43m)\u001B[49m\u001B[43m)\u001B[49m\u001B[43m)\u001B[49m\n\u001B[0;32m     18\u001B[0m \u001B[38;5;28;01mreturn\u001B[39;00m clazz\u001B[38;5;241m.\u001B[39mroom_options[current_room_option_idx], clazz\u001B[38;5;241m.\u001B[39mtime_options[current_time_option_idx]\n",
      "\u001B[1;31mKeyboardInterrupt\u001B[0m: "
     ]
    }
   ],
   "source": [
    "run_experiment('AC4 and depth_first_search with 10k max operations', itc2007_track3_files, 'itc2007_track3', ac4_params={}, depth_first_params={'max_operations': 10000})"
   ],
   "metadata": {
    "collapsed": false,
    "ExecuteTime": {
     "end_time": "2024-03-18T18:18:42.073890500Z",
     "start_time": "2024-03-18T18:18:05.044284500Z"
    }
   },
   "id": "e4601191ea129e4c"
  },
  {
   "cell_type": "code",
   "execution_count": null,
   "outputs": [],
   "source": [
    "run_experiment('AC4 and depth_first_search with 10k max operations', itc2019_files, 'itc2019', ac4_params={}, depth_first_params={'max_operations': 10000})"
   ],
   "metadata": {
    "collapsed": false
   },
   "id": "76e1fafe618cec14"
  },
  {
   "cell_type": "code",
   "execution_count": null,
   "outputs": [],
   "source": [],
   "metadata": {
    "collapsed": false
   },
   "id": "510961bd221c516a"
  }
 ],
 "metadata": {
  "kernelspec": {
   "display_name": "Python 3",
   "language": "python",
   "name": "python3"
  },
  "language_info": {
   "codemirror_mode": {
    "name": "ipython",
    "version": 2
   },
   "file_extension": ".py",
   "mimetype": "text/x-python",
   "name": "python",
   "nbconvert_exporter": "python",
   "pygments_lexer": "ipython2",
   "version": "2.7.6"
  }
 },
 "nbformat": 4,
 "nbformat_minor": 5
}
