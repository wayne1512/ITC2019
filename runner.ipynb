{
 "cells": [
  {
   "cell_type": "code",
   "execution_count": null,
   "id": "initial_id",
   "metadata": {
    "collapsed": true
   },
   "outputs": [],
   "source": [
    "import os\n",
    "import time\n",
    "\n",
    "import matplotlib.pyplot as plt\n",
    "import pandas as pd\n",
    "import numpy as np\n",
    "import pickle\n",
    "\n",
    "import solution_search\n",
    "from ac4 import AC4\n",
    "from costCalcuation.distributions.create_distribtion_helper import create_helper_for_distribution\n",
    "from depth_first_search_solver import DepthFirstSearchSolver\n",
    "from experiment_details import ExperimentDetails\n",
    "from parse_input import parse_xml, parse_itc2007_curriculum_based, parse_itc2007_post_enrolment\n",
    "from solution_search import SolutionSearch\n",
    "from costCalcuation.distributions.create_distribtion_helper import create_helper_for_distribution\n",
    "\n",
    "\n"
   ]
  },
  {
   "cell_type": "code",
   "execution_count": null,
   "outputs": [],
   "source": [
    "itc2007_track2_path = 'D:\\\\Desktop\\\\Datasets\\\\post'\n",
    "itc2007_track3_path = 'D:\\\\Desktop\\\\Datasets\\\\curriculum'\n",
    "itc2019_path = 'D:\\\\Desktop\\\\Datasets\\\\2019'"
   ],
   "metadata": {
    "collapsed": false
   },
   "id": "7b1339187b73dd08"
  },
  {
   "cell_type": "code",
   "execution_count": null,
   "outputs": [],
   "source": [
    "def get_all_files(path):\n",
    "    return [os.path.join(dirpath, file) for dirpath, _, filenames in os.walk(path) for file in filenames]    "
   ],
   "metadata": {
    "collapsed": false
   },
   "id": "e1c47b36588bd122"
  },
  {
   "cell_type": "code",
   "execution_count": null,
   "outputs": [],
   "source": [
    "itc2007_track2_files = get_all_files(itc2007_track2_path)\n",
    "itc2007_track3_files = get_all_files(itc2007_track3_path)\n",
    "itc2019_files = get_all_files(itc2019_path)"
   ],
   "metadata": {
    "collapsed": false
   },
   "id": "2b980a6854d41fdb"
  },
  {
   "cell_type": "markdown",
   "source": [
    "# Get statistics"
   ],
   "metadata": {
    "collapsed": false
   },
   "id": "9774beffaeb401d2"
  },
  {
   "cell_type": "markdown",
   "source": [
    "## Statistics for ITC2019"
   ],
   "metadata": {
    "collapsed": false
   },
   "id": "e8035c67a0069d04"
  },
  {
   "cell_type": "code",
   "execution_count": null,
   "outputs": [],
   "source": [
    "problems_and_stats = [parse_xml(file) for file in itc2019_files]\n",
    "stats = [problem[1] for problem in problems_and_stats]\n",
    "\n",
    "df = pd.DataFrame(stats)\n",
    "\n",
    "df.index += 1\n",
    "df.reset_index(inplace=True,names='index')\n",
    "\n",
    "os.makedirs('output/stats', exist_ok=True)\n",
    "df.to_csv('output/stats/itc2019_stats.csv',index=False)\n"
   ],
   "metadata": {
    "collapsed": false
   },
   "id": "ec7a06104067db80"
  },
  {
   "cell_type": "markdown",
   "source": [
    "## Statistics for ITC2007 Track 2"
   ],
   "metadata": {
    "collapsed": false
   },
   "id": "128c9e9b77ed0388"
  },
  {
   "cell_type": "code",
   "execution_count": null,
   "outputs": [],
   "source": [
    "problems_and_stats = [parse_itc2007_post_enrolment(file) for file in itc2007_track2_files]\n",
    "stats = [problem[1] for problem in problems_and_stats]\n",
    "\n",
    "df = pd.DataFrame(stats)\n",
    "\n",
    "\n",
    "#make index 1 based and name them as their file names ex. 1,2,...\n",
    "df.index += 1\n",
    "df.reset_index(inplace=True,names='name')\n",
    "\n",
    "df.index += 1\n",
    "df.reset_index(inplace=True,names='index')\n",
    "\n",
    "os.makedirs('output/stats', exist_ok=True)\n",
    "df.to_csv('output/stats/itc2007_track2_stats.csv',index=False)"
   ],
   "metadata": {
    "collapsed": false
   },
   "id": "b306dd26d38259f4"
  },
  {
   "cell_type": "markdown",
   "source": [
    "## Statistics for ITC2007 Track 3"
   ],
   "metadata": {
    "collapsed": false
   },
   "id": "bb7522cf1f4032f4"
  },
  {
   "cell_type": "code",
   "execution_count": null,
   "outputs": [],
   "source": [
    "problems_and_stats = [parse_itc2007_curriculum_based(file) for file in itc2007_track3_files]\n",
    "stats = [problem[1] for problem in problems_and_stats]\n",
    "\n",
    "df = pd.DataFrame(stats)\n",
    "\n",
    "\n",
    "df.index += 1\n",
    "df.reset_index(inplace=True,names='index')\n",
    "\n",
    "os.makedirs('output/stats', exist_ok=True)\n",
    "df.to_csv('output/stats/itc2007_track3_stats.csv',index=False)\n"
   ],
   "metadata": {
    "collapsed": false
   },
   "id": "42fc4703727af919"
  },
  {
   "cell_type": "markdown",
   "source": [
    "# Construction using depth first search"
   ],
   "metadata": {
    "collapsed": false
   },
   "id": "d322f8791c3cacd9"
  },
  {
   "cell_type": "code",
   "execution_count": null,
   "outputs": [],
   "source": [
    "def plot_row_over_operation(file,operation_history , title):\n",
    "    fig,ax = plt.subplots()\n",
    "    ax.set_title(title)\n",
    "    \n",
    "    y = [i['current_row'] for i in operation_history]\n",
    "    \n",
    "    ax.set_xlabel('Operation')\n",
    "    ax.set_ylabel('Classes placed')\n",
    "    \n",
    "    ax.plot(y)\n",
    "    plt.show()\n",
    "    \n",
    "    if file:\n",
    "        fig.savefig(file + '.png')\n",
    "    \n",
    "    \n",
    "    \n",
    "def plot_row_over_time(file, operation_history , title):\n",
    "    fig,ax = plt.subplots()\n",
    "    ax.set_title(title)\n",
    "    \n",
    "    time = [i['time'] for i in operation_history]\n",
    "    row = [i['current_row'] for i in operation_history]\n",
    "    \n",
    "    ax.set_xlabel('Time')\n",
    "    ax.set_ylabel('Classes placed')\n",
    "    ax.plot(time,row)\n",
    "\n",
    "    plt.show()\n",
    "    \n",
    "    if file:\n",
    "        fig.savefig(file + '.png')\n",
    "    "
   ],
   "metadata": {
    "collapsed": false
   },
   "id": "e29fbf550ce72c9"
  },
  {
   "cell_type": "code",
   "execution_count": null,
   "outputs": [],
   "source": [
    "def parse_problem (dataset,instance_path):\n",
    "    if dataset == 'itc2007_track2':\n",
    "        return parse_itc2007_post_enrolment(instance_path)\n",
    "    elif dataset == 'itc2007_track3':\n",
    "        return parse_itc2007_curriculum_based(instance_path)\n",
    "    elif dataset == 'itc2019':\n",
    "        return parse_xml(instance_path)\n",
    "\n",
    "\n",
    "def run_experiment(experiment_name, problem_files, dataset, ac4_params=None, depth_first_params=None):\n",
    "    \n",
    "    folder = f'output/{experiment_name}_{dataset}_{time.strftime(\"%Y%m%d-%H%M%S\")}'\n",
    "    os.mkdir(folder)\n",
    "    \n",
    "    print(f'experiment results will be saved in {folder}')\n",
    "    \n",
    "    for f in problem_files:\n",
    "        date = time.time()\n",
    "        problem = parse_problem(dataset,f)[0]        \n",
    "        sub_folder = os.path.join(folder, f.split('\\\\')[-1].split('.')[0])\n",
    "        os.mkdir(sub_folder)\n",
    "        \n",
    "        res = {}\n",
    "        \n",
    "        search = None\n",
    "        if ac4_params or depth_first_params:\n",
    "            solution_search_init_start_time = time.time()\n",
    "            search = SolutionSearch(problem)\n",
    "            solution_search_init_end_time = time.time()\n",
    "            res['solution_search_init_time'] = solution_search_init_end_time - solution_search_init_start_time            \n",
    "            \n",
    "        \n",
    "        if ac4_params:\n",
    "            \n",
    "            ac4_res = {}\n",
    "            \n",
    "            ac4_start_time = time.time()\n",
    "            ac4 = AC4(search)            \n",
    "            ac4_res['ac4_init_time'] = time.time() - ac4_start_time\n",
    "            \n",
    "            ac4_apply_start_time = time.time()\n",
    "            ac4_return_value = ac4.apply(**ac4_params)\n",
    "            ac4_end_time = time.time()\n",
    "            ac4_res['ac4_apply_time'] = ac4_end_time - ac4_apply_start_time\n",
    "            \n",
    "            ac4_res['ac4_total_time'] = ac4_end_time - ac4_start_time\n",
    "            \n",
    "            options_open_before_ac4 = np.count_nonzero(search.decision_table == 0)\n",
    "            options_open_after_ac4 = np.count_nonzero(search.decision_table == 0)\n",
    "            options_closed_by_ac4 = options_open_before_ac4 - options_open_after_ac4\n",
    "            \n",
    "            ac4_res['options_open_before_ac4'] = options_open_before_ac4\n",
    "            ac4_res['options_open_after_ac4'] = options_open_after_ac4\n",
    "            ac4_res['options_closed_by_ac4'] = options_closed_by_ac4\n",
    "            ac4_res['ac4_return_value'] = ac4_return_value\n",
    "            \n",
    "            if ac4_return_value:\n",
    "                pickle.dump(search.decision_table, open(os.path.join(sub_folder, 'decision_table_after_ac4.pkl'), 'wb'))\n",
    "                \n",
    "            res['ac4_results'] = ac4_res\n",
    "            \n",
    "        if depth_first_params:\n",
    "            solver = DepthFirstSearchSolver(search)            \n",
    "            depth_first_res = solver.solve(**depth_first_params)\n",
    "            \n",
    "            if depth_first_res['success']:\n",
    "                np.save(os.path.join(sub_folder, 'solution gene after depth first search.npy'), search.get_result_as_gene())\n",
    "            \n",
    "            \n",
    "            instance_file_name = f.split('\\\\')[-1].split('.')[0]\n",
    "            instance_name = problem.name if dataset == 'itc2019' else instance_file_name\n",
    "            \n",
    "            plot_row_over_operation(os.path.join(sub_folder, 'row_over_operation_graph.png'), depth_first_res['operation_history'], f\"{experiment_name} - {dataset} - {instance_name}\")\n",
    "            plot_row_over_time(os.path.join(sub_folder, 'row_over_time_graph.png'),depth_first_res['operation_history'], f\"{experiment_name} - {dataset} - {instance_name}\")\n",
    "            \n",
    "            res['depth_first_search_results'] = depth_first_res\n",
    "        \n",
    "        \n",
    "        experiment_details = ExperimentDetails(\n",
    "            name=experiment_name,\n",
    "            instance_name=instance_name,\n",
    "            instance_file_name = instance_file_name,\n",
    "            dataset_name=dataset,\n",
    "            date=date,\n",
    "            results_data=res,\n",
    "            experiment_data={\n",
    "                'ac4_params': ac4_params,\n",
    "                'depth_first_params': depth_first_params\n",
    "            }\n",
    "        )\n",
    "        \n",
    "        pickle.dump(experiment_details, open(os.path.join(sub_folder, 'experiment_details.pkl'), 'wb'))\n",
    "        "
   ],
   "metadata": {
    "collapsed": false
   },
   "id": "1c8cbd7b62f19875"
  },
  {
   "cell_type": "code",
   "execution_count": null,
   "outputs": [],
   "source": [
    "# folder = 'output/itc2007_track2_depth_first_search_test_'+time.strftime(\"%Y%m%d-%H%M%S\")\n",
    "# os.mkdir(folder)\n",
    "# \n",
    "# for f in itc2007_track2_files:\n",
    "#     \n",
    "#     sub_folder = os.path.join(folder, f.split('\\\\')[-1].split('.')[0])\n",
    "#     os.mkdir(sub_folder)\n",
    "#     \n",
    "#     date = time.time()\n",
    "#     \n",
    "#     problem = parse_itc2007_post_enrolment(f)[0]\n",
    "#     search = SolutionSearch(problem)\n",
    "#     solver = DepthFirstSearchSolver(search)\n",
    "#     res = solver.solve(max_operations=10000)\n",
    "#     \n",
    "#     experiment_details = ExperimentDetails(\n",
    "#         name='depth_first_search with 10k max operations',\n",
    "#         instance_name=f.split('\\\\')[-1].split('.')[0],\n",
    "#         instance_file_name = f.split('\\\\')[-1].split('.')[0],\n",
    "#         dataset_name='itc2007_track2',\n",
    "#         date=date,\n",
    "#         results_data=res,\n",
    "#         experiment_data={\n",
    "#             \"solver\": 'depth_first_search',\n",
    "#             \"max_operations\": 10000\n",
    "#         }\n",
    "#     )\n",
    "#     \n",
    "#     pickle.dump(experiment_details, open(os.path.join(sub_folder, 'experiment_details.pkl'), 'wb'))\n",
    "#     \n",
    "#     if res['success']:\n",
    "#         np.save(os.path.join(sub_folder, 'solution gene.npy'), search.get_result_as_gene())\n",
    "#     \n",
    "#     plot_row_over_operation(os.path.join(sub_folder, 'row_over_operation_graph.png'), res['operation_history'], 'Depth first search max 10k operations for itc2007_track2 - ' + experiment_details.instance_name)\n",
    "#     \n",
    "#     plot_row_over_time(os.path.join(sub_folder, 'row_over_time_graph.png'),res['operation_history'], 'Depth first search max 10k operations for itc2007_track2 - ' + experiment_details.instance_name)\n",
    "#     "
   ],
   "metadata": {
    "collapsed": false
   },
   "id": "e21c44b3028f15cb"
  },
  {
   "cell_type": "markdown",
   "source": [
    "## Depth first search with 10k operations"
   ],
   "metadata": {
    "collapsed": false
   },
   "id": "f47cf29ebf08e1aa"
  },
  {
   "cell_type": "code",
   "execution_count": null,
   "outputs": [],
   "source": [
    "# folder = 'output/itc2007_track3_depth_first_search_test_'+time.strftime(\"%Y%m%d-%H%M%S\")\n",
    "# os.mkdir(folder)\n",
    "# \n",
    "# for f in itc2007_track3_files:\n",
    "#     \n",
    "#     \n",
    "#     \n",
    "#     date = time.time()\n",
    "#     \n",
    "#     problem = parse_itc2007_curriculum_based(f)[0]\n",
    "#     search = SolutionSearch(problem)\n",
    "#     solver = DepthFirstSearchSolver(search)\n",
    "#     res = solver.solve(max_operations=10000)\n",
    "#     \n",
    "#     sub_folder = os.path.join(folder, problem.name)\n",
    "#     os.mkdir(sub_folder)\n",
    "#     \n",
    "#     experiment_details = ExperimentDetails(\n",
    "#         name='depth_first_search with 10k max operations',\n",
    "#         instance_name=problem.name,\n",
    "#         instance_file_name = f.split('\\\\')[-1].split('.')[0],\n",
    "#         dataset_name='itc2007_track3',\n",
    "#         date=date,\n",
    "#         results_data=res,\n",
    "#         experiment_data={\n",
    "#             \"solver\": 'depth_first_search',\n",
    "#             \"max_operations\": 10000\n",
    "#         }\n",
    "#     )\n",
    "#     \n",
    "#     pickle.dump(experiment_details, open(os.path.join(sub_folder, 'experiment_details.pkl'), 'wb'))\n",
    "#     \n",
    "#     if res['success']:\n",
    "#         np.save(os.path.join(sub_folder, 'solution gene.npy'), search.get_result_as_gene())\n",
    "#     \n",
    "#     plot_row_over_operation(os.path.join(sub_folder, 'row_over_operation_graph.png'), res['operation_history'], 'Depth first search max 10k operations for itc2007_track3 - ' + experiment_details.instance_name)\n",
    "#     \n",
    "#     plot_row_over_time(os.path.join(sub_folder, 'row_over_time_graph.png'),res['operation_history'], 'Depth first search max 10k operations for itc2007_track3 - ' + experiment_details.instance_name)\n",
    "#     "
   ],
   "metadata": {
    "collapsed": false
   },
   "id": "a6a5c8d36d1dab1c"
  },
  {
   "cell_type": "code",
   "execution_count": null,
   "outputs": [],
   "source": [
    "# folder = 'output/itc2019_depth_first_search_test_'+time.strftime(\"%Y%m%d-%H%M%S\")\n",
    "# os.mkdir(folder)\n",
    "# \n",
    "# for f in itc2019_files[5:6]:\n",
    "# #for f in ['D:\\\\Desktop\\\\Datasets\\\\test\\\\2019maxblock.xml']: \n",
    "#     date = time.time()\n",
    "#     \n",
    "#     problem = parse_xml(f)[0]\n",
    "#     search = SolutionSearch(problem)\n",
    "#     solver = DepthFirstSearchSolver(search)\n",
    "# \n",
    "#     try:\n",
    "#         res = solver.solve(max_operations=10000)\n",
    "#     except Exception as e:\n",
    "#         res = {'success': False, 'error': str(e)}\n",
    "#     \n",
    "#     sub_folder = os.path.join(folder, problem.name)\n",
    "#     os.mkdir(sub_folder)\n",
    "#     \n",
    "#     experiment_details = ExperimentDetails(\n",
    "#         name='depth_first_search with 10k max operations',\n",
    "#         instance_name=problem.name,\n",
    "#         instance_file_name = f.split('\\\\')[-1].split('.')[0],\n",
    "#         dataset_name='itc2019',\n",
    "#         date=date,\n",
    "#         results_data=res,\n",
    "#         experiment_data={\n",
    "#             \"solver\": 'depth_first_search',\n",
    "#             \"max_operations\": 10000\n",
    "#         }\n",
    "#     )\n",
    "#     \n",
    "#     pickle.dump(experiment_details, open(os.path.join(sub_folder, 'experiment_details.pkl'), 'wb'))\n",
    "#     \n",
    "#     if res['success']:\n",
    "#         np.save(os.path.join(sub_folder, 'solution gene.npy'), search.get_result_as_gene())\n",
    "#     \n",
    "#     plot_row_over_operation(os.path.join(sub_folder, 'row_over_operation_graph.png'), res['operation_history'], 'Depth first search max 10k operations for itc2019 - ' + experiment_details.instance_name)\n",
    "#     \n",
    "#     plot_row_over_time(os.path.join(sub_folder, 'row_over_time_graph.png'),res['operation_history'], 'Depth first search max 10k operations for itc2019 - ' + experiment_details.instance_name)\n",
    "#     "
   ],
   "metadata": {
    "collapsed": false
   },
   "id": "bf4431ffd65811bd"
  },
  {
   "cell_type": "markdown",
   "source": [
    "## AC4 followed by Depth first search with 10k operations"
   ],
   "metadata": {
    "collapsed": false
   },
   "id": "4a345731df8bddd4"
  },
  {
   "cell_type": "code",
   "execution_count": null,
   "outputs": [],
   "source": [
    "# folder = 'output/itc2007_track2_depth_first_search_test_'+time.strftime(\"%Y%m%d-%H%M%S\")\n",
    "# os.mkdir(folder)\n",
    "# \n",
    "# for f in itc2007_track2_files:\n",
    "#     \n",
    "#     sub_folder = os.path.join(folder, f.split('\\\\')[-1].split('.')[0])\n",
    "#     os.mkdir(sub_folder)\n",
    "#     \n",
    "#     date = time.time()\n",
    "#     \n",
    "#     problem = parse_itc2007_post_enrolment(f)[0]\n",
    "#     search = SolutionSearch(problem)\n",
    "#     \n",
    "#     options_open_before_ac4 = np.count_nonzero(search.decision_table == 0)\n",
    "#     \n",
    "#     ac4_start_time = time.time()    \n",
    "#     ac4 = AC4(search)\n",
    "#     ac4.apply()    \n",
    "#     ac4_end_time = time.time()\n",
    "#     \n",
    "#     options_open_after_ac4 = np.count_nonzero(search.decision_table == 0)\n",
    "#     \n",
    "#     solver = DepthFirstSearchSolver(search)\n",
    "#     res = solver.solve(max_operations=10000)\n",
    "#     \n",
    "#     res['ac4_results'] = {\n",
    "#         'options_open_before_ac4': options_open_before_ac4,\n",
    "#         'options_open_after_ac4': options_open_after_ac4,\n",
    "#         'options_closed_by_ac4': options_open_before_ac4 - options_open_after_ac4,\n",
    "#         'ac4_time': ac4_end_time - ac4_start_time\n",
    "#     }\n",
    "#     \n",
    "#     experiment_details = ExperimentDetails(\n",
    "#         name='AC4 and depth_first_search with 10k max operations',\n",
    "#         instance_name=f.split('\\\\')[-1].split('.')[0],\n",
    "#         instance_file_name = f.split('\\\\')[-1].split('.')[0],\n",
    "#         dataset_name='itc2007_track2',\n",
    "#         date=date,\n",
    "#         results_data=res,\n",
    "#         experiment_data={\n",
    "#             \"solver\": 'AC4 + depth_first_search',\n",
    "#             \"max_operations\": 10000\n",
    "#         }\n",
    "#     )\n",
    "#     \n",
    "#     pickle.dump(experiment_details, open(os.path.join(sub_folder, 'experiment_details.pkl'), 'wb'))\n",
    "#     \n",
    "#     if res['success']:\n",
    "#         np.save(os.path.join(sub_folder, 'solution gene.npy'), search.get_result_as_gene())\n",
    "#     \n",
    "#     plot_row_over_operation(os.path.join(sub_folder, 'row_over_operation_graph.png'), res['operation_history'], 'Depth first search max 10k operations for itc2007_track2 - ' + experiment_details.instance_name)\n",
    "#     \n",
    "#     plot_row_over_time(os.path.join(sub_folder, 'row_over_time_graph.png'),res['operation_history'], 'Depth first search max 10k operations for itc2007_track2 - ' + experiment_details.instance_name)\n",
    "#     "
   ],
   "metadata": {
    "collapsed": false
   },
   "id": "4211e3ec14eb55dd"
  },
  {
   "cell_type": "code",
   "execution_count": null,
   "outputs": [],
   "source": [
    "# folder = 'output/itc2007_track3_depth_first_search_test_'+time.strftime(\"%Y%m%d-%H%M%S\")\n",
    "# os.mkdir(folder)\n",
    "# \n",
    "# for f in itc2007_track3_files:\n",
    "#     \n",
    "#     date = time.time()\n",
    "#     \n",
    "#     problem = parse_itc2007_curriculum_based(f)[0]\n",
    "#     search = SolutionSearch(problem)\n",
    "#     \n",
    "#     options_open_before_ac4 = np.count_nonzero(search.decision_table == 0)\n",
    "#     \n",
    "#     ac4_start_time = time.time()    \n",
    "#     ac4 = AC4(search)\n",
    "#     ac4.apply()    \n",
    "#     ac4_end_time = time.time()\n",
    "#     \n",
    "#     options_open_after_ac4 = np.count_nonzero(search.decision_table == 0)\n",
    "#     \n",
    "#     solver = DepthFirstSearchSolver(search)\n",
    "#     res = solver.solve(max_operations=10000)\n",
    "#     \n",
    "#     res['ac4_results'] = {\n",
    "#         'options_open_before_ac4': options_open_before_ac4,\n",
    "#         'options_open_after_ac4': options_open_after_ac4,\n",
    "#         'options_closed_by_ac4': options_open_before_ac4 - options_open_after_ac4,\n",
    "#         'ac4_time': ac4_end_time - ac4_start_time\n",
    "#     }\n",
    "#     res = solver.solve(max_operations=10000)\n",
    "#     \n",
    "#     sub_folder = os.path.join(folder, problem.name)\n",
    "#     os.mkdir(sub_folder)\n",
    "#     \n",
    "#     experiment_details = ExperimentDetails(\n",
    "#         name='AC4 and depth_first_search with 10k max operations',\n",
    "#         instance_name=problem.name,\n",
    "#         instance_file_name = f.split('\\\\')[-1].split('.')[0],\n",
    "#         dataset_name='itc2007_track3',\n",
    "#         date=date,\n",
    "#         results_data=res,\n",
    "#         experiment_data={\n",
    "#             \"solver\": 'AC4 + depth_first_search',\n",
    "#             \"max_operations\": 10000\n",
    "#         }\n",
    "#     )\n",
    "#     \n",
    "#     pickle.dump(experiment_details, open(os.path.join(sub_folder, 'experiment_details.pkl'), 'wb'))\n",
    "#     \n",
    "#     if res['success']:\n",
    "#         np.save(os.path.join(sub_folder, 'solution gene.npy'), search.get_result_as_gene())\n",
    "#     \n",
    "#     plot_row_over_operation(os.path.join(sub_folder, 'row_over_operation_graph.png'), res['operation_history'], 'Depth first search max 10k operations for itc2007_track3 - ' + experiment_details.instance_name)\n",
    "#     \n",
    "#     plot_row_over_time(os.path.join(sub_folder, 'row_over_time_graph.png'),res['operation_history'], 'Depth first search max 10k operations for itc2007_track3 - ' + experiment_details.instance_name)\n",
    "#     "
   ],
   "metadata": {
    "collapsed": false
   },
   "id": "8826cb863cab000"
  },
  {
   "cell_type": "code",
   "execution_count": null,
   "outputs": [],
   "source": [
    "# folder = 'output/itc2019_depth_first_search_test_'+time.strftime(\"%Y%m%d-%H%M%S\")\n",
    "# os.mkdir(folder)\n",
    "# \n",
    "# for f in itc2019_files[5:6]:\n",
    "# #for f in ['D:\\\\Desktop\\\\Datasets\\\\test\\\\2019maxblock.xml']: \n",
    "#     date = time.time()\n",
    "# \n",
    "#     problem = parse_xml(f)[0]\n",
    "#     search = SolutionSearch(problem)\n",
    "# \n",
    "#     options_open_before_ac4 = np.count_nonzero(search.decision_table == 0)\n",
    "# \n",
    "#     ac4_start_time = time.time()    \n",
    "#     ac4 = AC4(search)\n",
    "#     ac4.apply()    \n",
    "#     ac4_end_time = time.time()\n",
    "# \n",
    "#     options_open_after_ac4 = np.count_nonzero(search.decision_table == 0)\n",
    "# \n",
    "#     solver = DepthFirstSearchSolver(search)\n",
    "# \n",
    "#     try:\n",
    "#         res = solver.solve(max_operations=10000)\n",
    "#     except Exception as e:\n",
    "#         res = {'success': False, 'error': str(e)}\n",
    "# \n",
    "#     res['ac4_results'] = {\n",
    "#         'options_open_before_ac4': options_open_before_ac4,\n",
    "#         'options_open_after_ac4': options_open_after_ac4,\n",
    "#         'options_closed_by_ac4': options_open_before_ac4 - options_open_after_ac4,\n",
    "#         'ac4_time': ac4_end_time - ac4_start_time\n",
    "#     }\n",
    "# \n",
    "#     sub_folder = os.path.join(folder, problem.name)\n",
    "#     os.mkdir(sub_folder)\n",
    "# \n",
    "#     experiment_details = ExperimentDetails(\n",
    "#         name='AC4 and depth_first_search with 10k max operations',\n",
    "#         instance_name=problem.name,\n",
    "#         instance_file_name = f.split('\\\\')[-1].split('.')[0],\n",
    "#         dataset_name='itc2019',\n",
    "#         date=date,\n",
    "#         results_data=res,\n",
    "#         experiment_data={\n",
    "#             \"solver\": 'AC4 + depth_first_search',\n",
    "#             \"max_operations\": 10000\n",
    "#         }\n",
    "#     )\n",
    "# \n",
    "#     pickle.dump(experiment_details, open(os.path.join(sub_folder, 'experiment_details.pkl'), 'wb'))\n",
    "# \n",
    "#     if res['success']:\n",
    "#         np.save(os.path.join(sub_folder, 'solution gene.npy'), search.get_result_as_gene())\n",
    "# \n",
    "#     plot_row_over_operation(os.path.join(sub_folder, 'row_over_operation_graph.png'), res['operation_history'], 'Depth first search max 10k operations for itc2019 - ' + experiment_details.instance_name)\n",
    "# \n",
    "#     plot_row_over_time(os.path.join(sub_folder, 'row_over_time_graph.png'),res['operation_history'], 'Depth first search max 10k operations for itc2019 - ' + experiment_details.instance_name)\n"
   ],
   "metadata": {
    "collapsed": false
   },
   "id": "7e22d464a2d342ea"
  },
  {
   "cell_type": "code",
   "execution_count": null,
   "outputs": [],
   "source": [
    "run_experiment('Depth_first_search with 10k max operations', itc2007_track2_files, 'itc2007_track2', ac4_params=None, depth_first_params={'max_operations': 10000})"
   ],
   "metadata": {
    "collapsed": false
   },
   "id": "c8c9c41570dae0ee"
  },
  {
   "cell_type": "code",
   "execution_count": null,
   "outputs": [],
   "source": [
    "run_experiment('Depth_first_search with 10k max operations', itc2007_track3_files, 'itc2007_track3', ac4_params=None, depth_first_params={'max_operations': 10000})"
   ],
   "metadata": {
    "collapsed": false
   },
   "id": "fe4f54a28cb20d29"
  },
  {
   "cell_type": "code",
   "execution_count": null,
   "outputs": [],
   "source": [
    "run_experiment('Depth_first_search with 10k max operations', itc2019_files, 'itc2019', ac4_params=None, depth_first_params={'max_operations': 10000})"
   ],
   "metadata": {
    "collapsed": false
   },
   "id": "e64ddb8db6dc4304"
  },
  {
   "cell_type": "code",
   "execution_count": null,
   "outputs": [],
   "source": [
    "run_experiment('AC4 and depth_first_search with 10k max operations', itc2007_track2_files, 'itc2007_track2', ac4_params={}, depth_first_params={'max_operations': 10000})"
   ],
   "metadata": {
    "collapsed": false
   },
   "id": "20601a94e4e324e7"
  },
  {
   "cell_type": "code",
   "execution_count": null,
   "outputs": [],
   "source": [
    "run_experiment('AC4 and depth_first_search with 10k max operations', itc2007_track3_files, 'itc2007_track3', ac4_params={}, depth_first_params={'max_operations': 10000})"
   ],
   "metadata": {
    "collapsed": false
   },
   "id": "e4601191ea129e4c"
  },
  {
   "cell_type": "code",
   "execution_count": null,
   "outputs": [],
   "source": [
    "run_experiment('AC4 and depth_first_search with 10k max operations', itc2019_files, 'itc2019', ac4_params={}, depth_first_params={'max_operations': 10000})"
   ],
   "metadata": {
    "collapsed": false
   },
   "id": "76e1fafe618cec14"
  },
  {
   "cell_type": "code",
   "execution_count": null,
   "outputs": [],
   "source": [],
   "metadata": {
    "collapsed": false
   },
   "id": "510961bd221c516a"
  }
 ],
 "metadata": {
  "kernelspec": {
   "display_name": "Python 3",
   "language": "python",
   "name": "python3"
  },
  "language_info": {
   "codemirror_mode": {
    "name": "ipython",
    "version": 2
   },
   "file_extension": ".py",
   "mimetype": "text/x-python",
   "name": "python",
   "nbconvert_exporter": "python",
   "pygments_lexer": "ipython2",
   "version": "2.7.6"
  }
 },
 "nbformat": 4,
 "nbformat_minor": 5
}
