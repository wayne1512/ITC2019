{
 "cells": [
  {
   "cell_type": "code",
   "execution_count": 1,
   "id": "initial_id",
   "metadata": {
    "collapsed": true,
    "ExecuteTime": {
     "end_time": "2024-03-21T15:31:40.042788Z",
     "start_time": "2024-03-21T15:31:38.753472300Z"
    }
   },
   "outputs": [],
   "source": [
    "import os\n",
    "import time\n",
    "\n",
    "import matplotlib.pyplot as plt\n",
    "import pandas as pd\n",
    "import numpy as np\n",
    "import pickle\n",
    "\n",
    "import solution_search\n",
    "from ac3 import AC3\n",
    "from ac4 import AC4\n",
    "from costCalcuation.distributions.create_distribtion_helper import create_helper_for_distribution\n",
    "from depth_first_search_solver import DepthFirstSearchSolver\n",
    "from experiment_details import ExperimentDetails\n",
    "from parse_input import parse_xml, parse_itc2007_curriculum_based, parse_itc2007_post_enrolment\n",
    "from solution_search import SolutionSearch\n",
    "from costCalcuation.distributions.create_distribtion_helper import create_helper_for_distribution\n",
    "\n",
    "\n"
   ]
  },
  {
   "cell_type": "code",
   "execution_count": 2,
   "outputs": [],
   "source": [
    "itc2007_track2_path = '.\\\\Datasets\\\\post'\n",
    "itc2007_track3_path = '.\\\\Datasets\\\\curriculum'\n",
    "itc2019_path = '.\\\\Datasets\\\\2019'"
   ],
   "metadata": {
    "collapsed": false,
    "ExecuteTime": {
     "end_time": "2024-03-21T15:31:40.048582600Z",
     "start_time": "2024-03-21T15:31:40.033843200Z"
    }
   },
   "id": "7b1339187b73dd08"
  },
  {
   "cell_type": "code",
   "execution_count": 3,
   "outputs": [],
   "source": [
    "def get_all_files(path):\n",
    "    return [os.path.join(dirpath, file) for dirpath, _, filenames in os.walk(path) for file in filenames]    "
   ],
   "metadata": {
    "collapsed": false,
    "ExecuteTime": {
     "end_time": "2024-03-21T15:31:40.049594900Z",
     "start_time": "2024-03-21T15:31:40.038156600Z"
    }
   },
   "id": "e1c47b36588bd122"
  },
  {
   "cell_type": "code",
   "execution_count": 4,
   "outputs": [],
   "source": [
    "itc2007_track2_files = get_all_files(itc2007_track2_path)\n",
    "itc2007_track3_files = get_all_files(itc2007_track3_path)\n",
    "itc2019_files = get_all_files(itc2019_path)"
   ],
   "metadata": {
    "collapsed": false,
    "ExecuteTime": {
     "end_time": "2024-03-21T15:31:40.054022Z",
     "start_time": "2024-03-21T15:31:40.047785100Z"
    }
   },
   "id": "2b980a6854d41fdb"
  },
  {
   "cell_type": "markdown",
   "source": [
    "# Get statistics"
   ],
   "metadata": {
    "collapsed": false
   },
   "id": "9774beffaeb401d2"
  },
  {
   "cell_type": "markdown",
   "source": [
    "## Statistics for ITC2019"
   ],
   "metadata": {
    "collapsed": false
   },
   "id": "e8035c67a0069d04"
  },
  {
   "cell_type": "code",
   "execution_count": 5,
   "outputs": [],
   "source": [
    "# problems_and_stats = [parse_xml(file) for file in itc2019_files]\n",
    "# stats = [problem[1] for problem in problems_and_stats]\n",
    "# \n",
    "# df = pd.DataFrame(stats)\n",
    "# \n",
    "# df.index += 1\n",
    "# df.reset_index(inplace=True,names='index')\n",
    "# \n",
    "# os.makedirs('output/stats', exist_ok=True)\n",
    "# df.to_csv('output/stats/itc2019_stats.csv',index=False)\n"
   ],
   "metadata": {
    "collapsed": false,
    "ExecuteTime": {
     "end_time": "2024-03-21T15:31:40.065382300Z",
     "start_time": "2024-03-21T15:31:40.053594300Z"
    }
   },
   "id": "ec7a06104067db80"
  },
  {
   "cell_type": "markdown",
   "source": [
    "## Statistics for ITC2007 Track 2"
   ],
   "metadata": {
    "collapsed": false
   },
   "id": "128c9e9b77ed0388"
  },
  {
   "cell_type": "code",
   "execution_count": 6,
   "outputs": [],
   "source": [
    "# problems_and_stats = [parse_itc2007_post_enrolment(file) for file in itc2007_track2_files]\n",
    "# stats = [problem[1] for problem in problems_and_stats]\n",
    "# \n",
    "# df = pd.DataFrame(stats)\n",
    "# \n",
    "# \n",
    "# #make index 1 based and name them as their file names ex. 1,2,...\n",
    "# df.index += 1\n",
    "# df.reset_index(inplace=True,names='name')\n",
    "# \n",
    "# df.index += 1\n",
    "# df.reset_index(inplace=True,names='index')\n",
    "# \n",
    "# os.makedirs('output/stats', exist_ok=True)\n",
    "# df.to_csv('output/stats/itc2007_track2_stats.csv',index=False)"
   ],
   "metadata": {
    "collapsed": false,
    "ExecuteTime": {
     "end_time": "2024-03-21T15:31:40.066384200Z",
     "start_time": "2024-03-21T15:31:40.057544800Z"
    }
   },
   "id": "b306dd26d38259f4"
  },
  {
   "cell_type": "markdown",
   "source": [
    "## Statistics for ITC2007 Track 3"
   ],
   "metadata": {
    "collapsed": false
   },
   "id": "bb7522cf1f4032f4"
  },
  {
   "cell_type": "code",
   "execution_count": 7,
   "outputs": [],
   "source": [
    "# problems_and_stats = [parse_itc2007_curriculum_based(file) for file in itc2007_track3_files]\n",
    "# stats = [problem[1] for problem in problems_and_stats]\n",
    "# \n",
    "# df = pd.DataFrame(stats)\n",
    "# \n",
    "# \n",
    "# df.index += 1\n",
    "# df.reset_index(inplace=True,names='index')\n",
    "# \n",
    "# os.makedirs('output/stats', exist_ok=True)\n",
    "# df.to_csv('output/stats/itc2007_track3_stats.csv',index=False)\n"
   ],
   "metadata": {
    "collapsed": false,
    "ExecuteTime": {
     "end_time": "2024-03-21T15:31:40.110026700Z",
     "start_time": "2024-03-21T15:31:40.064384600Z"
    }
   },
   "id": "42fc4703727af919"
  },
  {
   "cell_type": "markdown",
   "source": [
    "# Construction using depth first search"
   ],
   "metadata": {
    "collapsed": false
   },
   "id": "d322f8791c3cacd9"
  },
  {
   "cell_type": "code",
   "execution_count": 8,
   "outputs": [],
   "source": [
    "def plot_row_over_operation(file,operation_history , title):\n",
    "    fig,ax = plt.subplots()\n",
    "    ax.set_title(title)\n",
    "    \n",
    "    y = [i['current_row'] for i in operation_history]\n",
    "    \n",
    "    ax.set_xlabel('Operation')\n",
    "    ax.set_ylabel('Classes placed')\n",
    "    \n",
    "    ax.plot(y)\n",
    "    plt.show()\n",
    "    \n",
    "    if file:\n",
    "        fig.savefig(file + '.png')\n",
    "    \n",
    "    \n",
    "    \n",
    "def plot_row_over_time(file, operation_history , title):\n",
    "    fig,ax = plt.subplots()\n",
    "    ax.set_title(title)\n",
    "    \n",
    "    time = [i['time'] for i in operation_history]\n",
    "    row = [i['current_row'] for i in operation_history]\n",
    "    \n",
    "    ax.set_xlabel('Time')\n",
    "    ax.set_ylabel('Classes placed')\n",
    "    ax.plot(time,row)\n",
    "\n",
    "    plt.show()\n",
    "    \n",
    "    if file:\n",
    "        fig.savefig(file + '.png')\n",
    "    "
   ],
   "metadata": {
    "collapsed": false,
    "ExecuteTime": {
     "end_time": "2024-03-21T15:31:40.111548300Z",
     "start_time": "2024-03-21T15:31:40.073436900Z"
    }
   },
   "id": "e29fbf550ce72c9"
  },
  {
   "cell_type": "code",
   "execution_count": 9,
   "outputs": [],
   "source": [
    "def parse_problem (dataset,instance_path):\n",
    "    if dataset == 'itc2007_track2':\n",
    "        return parse_itc2007_post_enrolment(instance_path)\n",
    "    elif dataset == 'itc2007_track3':\n",
    "        return parse_itc2007_curriculum_based(instance_path)\n",
    "    elif dataset == 'itc2019':\n",
    "        return parse_xml(instance_path)\n",
    "\n",
    "\n",
    "def run_experiment(experiment_name, problem_files, dataset, ac3_params = None,ac4_params=None, depth_first_params=None):\n",
    "    \n",
    "    folder = f'output/{experiment_name}_{dataset}_{time.strftime(\"%Y%m%d-%H%M%S\")}'\n",
    "    os.mkdir(folder)\n",
    "    \n",
    "    print(f'experiment results will be saved in {folder}')\n",
    "    \n",
    "    for f in problem_files:\n",
    "        date = time.time()\n",
    "        problem = parse_problem(dataset,f)[0]        \n",
    "        sub_folder = os.path.join(folder, f.split('\\\\')[-1].split('.')[0])\n",
    "        os.mkdir(sub_folder)\n",
    "        \n",
    "        res = {}\n",
    "        \n",
    "        search = None\n",
    "        if ac3_params is not None or ac4_params is not None or depth_first_params is not None:\n",
    "            solution_search_init_start_time = time.time()\n",
    "            search = SolutionSearch(problem)\n",
    "            solution_search_init_end_time = time.time()\n",
    "            res['solution_search_init_time'] = solution_search_init_end_time - solution_search_init_start_time            \n",
    "            \n",
    "        if ac3_params is not None:\n",
    "            \n",
    "            ac3_res = {}\n",
    "            \n",
    "            ac3_start_time = time.time()\n",
    "            ac3 = AC3(search)            \n",
    "            ac3_res['ac3_init_time'] = time.time() - ac3_start_time\n",
    "            \n",
    "            ac3_apply_start_time = time.time()\n",
    "            ac3_return_value = ac3.apply(debugLevel=1,**ac3_params)\n",
    "            ac3_end_time = time.time()\n",
    "            ac3_res['ac3_apply_time'] = ac3_end_time - ac3_apply_start_time\n",
    "            \n",
    "            ac3_res['ac3_total_time'] = ac3_end_time - ac3_start_time\n",
    "            \n",
    "            options_open_before_ac3 = np.count_nonzero(search.decision_table == 0)\n",
    "            options_open_after_ac3 = np.count_nonzero(search.decision_table == 0)\n",
    "            options_closed_by_ac3 = options_open_before_ac3 - options_open_after_ac3\n",
    "            \n",
    "            ac3_res['options_open_before_ac3'] = options_open_before_ac3\n",
    "            ac3_res['options_open_after_ac3'] = options_open_after_ac3\n",
    "            ac3_res['options_closed_by_ac3'] = options_closed_by_ac3\n",
    "            ac3_res['ac3_return_value'] = ac3_return_value\n",
    "            \n",
    "            if ac3_return_value:\n",
    "                pickle.dump(search.decision_table, open(os.path.join(sub_folder, 'decision_table_after_ac3.pkl'), 'wb'))\n",
    "                \n",
    "            res['ac3_results'] = ac3_res\n",
    "        \n",
    "        if ac4_params is not None:\n",
    "            \n",
    "            ac4_res = {}\n",
    "            \n",
    "            ac4_start_time = time.time()\n",
    "            ac4 = AC4(search)            \n",
    "            ac4_res['ac4_init_time'] = time.time() - ac4_start_time\n",
    "            \n",
    "            ac4_apply_start_time = time.time()\n",
    "            ac4_return_value = ac4.apply(debugLevel=1,**ac4_params)\n",
    "            ac4_end_time = time.time()\n",
    "            ac4_res['ac4_apply_time'] = ac4_end_time - ac4_apply_start_time\n",
    "            \n",
    "            ac4_res['ac4_total_time'] = ac4_end_time - ac4_start_time\n",
    "            \n",
    "            options_open_before_ac4 = np.count_nonzero(search.decision_table == 0)\n",
    "            options_open_after_ac4 = np.count_nonzero(search.decision_table == 0)\n",
    "            options_closed_by_ac4 = options_open_before_ac4 - options_open_after_ac4\n",
    "            \n",
    "            ac4_res['options_open_before_ac4'] = options_open_before_ac4\n",
    "            ac4_res['options_open_after_ac4'] = options_open_after_ac4\n",
    "            ac4_res['options_closed_by_ac4'] = options_closed_by_ac4\n",
    "            ac4_res['ac4_return_value'] = ac4_return_value\n",
    "            \n",
    "            if ac4_return_value:\n",
    "                pickle.dump(search.decision_table, open(os.path.join(sub_folder, 'decision_table_after_ac4.pkl'), 'wb'))\n",
    "                \n",
    "            res['ac4_results'] = ac4_res\n",
    "            \n",
    "        if depth_first_params is not None:\n",
    "            solver = DepthFirstSearchSolver(search)            \n",
    "            depth_first_res = solver.solve(debug_level=1,**depth_first_params)\n",
    "            \n",
    "            if depth_first_res['success']:\n",
    "                np.save(os.path.join(sub_folder, 'solution gene after depth first search.npy'), search.get_result_as_gene())\n",
    "            \n",
    "            \n",
    "            instance_file_name = f.split('\\\\')[-1].split('.')[0]\n",
    "            instance_name = problem.name if dataset == 'itc2019' else instance_file_name\n",
    "            \n",
    "            plot_row_over_operation(os.path.join(sub_folder, 'row_over_operation_graph.png'), depth_first_res['operation_history'], f\"{experiment_name}\\n{dataset} - {instance_name}\")\n",
    "            plot_row_over_time(os.path.join(sub_folder, 'row_over_time_graph.png'),depth_first_res['operation_history'], f\"{experiment_name}\\n{dataset} - {instance_name}\")\n",
    "            \n",
    "            res['depth_first_search_results'] = depth_first_res\n",
    "        \n",
    "        \n",
    "        experiment_details = ExperimentDetails(\n",
    "            name=experiment_name,\n",
    "            instance_name=instance_name,\n",
    "            instance_file_name = instance_file_name,\n",
    "            dataset_name=dataset,\n",
    "            date=date,\n",
    "            results_data=res,\n",
    "            experiment_data={\n",
    "                'ac3_params': ac3_params,\n",
    "                'ac4_params': ac4_params,\n",
    "                'depth_first_params': depth_first_params\n",
    "            }\n",
    "        )\n",
    "        \n",
    "        pickle.dump(experiment_details, open(os.path.join(sub_folder, 'experiment_details.pkl'), 'wb'))\n",
    "        "
   ],
   "metadata": {
    "collapsed": false,
    "ExecuteTime": {
     "end_time": "2024-03-21T15:31:40.111548300Z",
     "start_time": "2024-03-21T15:31:40.088672500Z"
    }
   },
   "id": "1c8cbd7b62f19875"
  },
  {
   "cell_type": "markdown",
   "source": [
    "## Depth first search with 10k operations"
   ],
   "metadata": {
    "collapsed": false
   },
   "id": "f47cf29ebf08e1aa"
  },
  {
   "cell_type": "markdown",
   "source": [
    "## AC4 followed by Depth first search with 10k operations"
   ],
   "metadata": {
    "collapsed": false
   },
   "id": "4a345731df8bddd4"
  },
  {
   "cell_type": "code",
   "execution_count": 10,
   "outputs": [],
   "source": [
    "# run_experiment('Depth_first_search with 10k max operations', itc2007_track2_files, 'itc2007_track2', ac4_params=None, depth_first_params={'max_operations': 10000})"
   ],
   "metadata": {
    "collapsed": false,
    "ExecuteTime": {
     "end_time": "2024-03-21T15:31:40.112550600Z",
     "start_time": "2024-03-21T15:31:40.095946500Z"
    }
   },
   "id": "c8c9c41570dae0ee"
  },
  {
   "cell_type": "code",
   "execution_count": 11,
   "outputs": [],
   "source": [
    "# run_experiment('Depth_first_search with 10k max operations', itc2007_track3_files, 'itc2007_track3', ac4_params=None, depth_first_params={'max_operations': 10000})"
   ],
   "metadata": {
    "collapsed": false,
    "ExecuteTime": {
     "end_time": "2024-03-21T15:31:40.112550600Z",
     "start_time": "2024-03-21T15:31:40.100934400Z"
    }
   },
   "id": "fe4f54a28cb20d29"
  },
  {
   "cell_type": "code",
   "execution_count": 12,
   "outputs": [],
   "source": [
    "# run_experiment('Depth_first_search with 10k max operations', itc2019_files, 'itc2019', ac4_params=None, depth_first_params={'max_operations': 10000})"
   ],
   "metadata": {
    "collapsed": false,
    "ExecuteTime": {
     "end_time": "2024-03-21T15:31:40.131547900Z",
     "start_time": "2024-03-21T15:31:40.107266900Z"
    }
   },
   "id": "e64ddb8db6dc4304"
  },
  {
   "cell_type": "code",
   "execution_count": 13,
   "outputs": [
    {
     "name": "stdout",
     "output_type": "stream",
     "text": [
      "experiment results will be saved in output/AC3 and depth_first_search with 10k max operations_itc2007_track2_20240321-163140\n",
      "finished creating Q with 159600 elements\n"
     ]
    },
    {
     "ename": "KeyboardInterrupt",
     "evalue": "",
     "output_type": "error",
     "traceback": [
      "\u001B[1;31m---------------------------------------------------------------------------\u001B[0m",
      "\u001B[1;31mKeyboardInterrupt\u001B[0m                         Traceback (most recent call last)",
      "Cell \u001B[1;32mIn[13], line 1\u001B[0m\n\u001B[1;32m----> 1\u001B[0m \u001B[43mrun_experiment\u001B[49m\u001B[43m(\u001B[49m\u001B[38;5;124;43m'\u001B[39;49m\u001B[38;5;124;43mAC3 and depth_first_search with 10k max operations\u001B[39;49m\u001B[38;5;124;43m'\u001B[39;49m\u001B[43m,\u001B[49m\u001B[43m \u001B[49m\u001B[43mitc2007_track2_files\u001B[49m\u001B[43m,\u001B[49m\u001B[43m \u001B[49m\u001B[38;5;124;43m'\u001B[39;49m\u001B[38;5;124;43mitc2007_track2\u001B[39;49m\u001B[38;5;124;43m'\u001B[39;49m\u001B[43m,\u001B[49m\u001B[43m \u001B[49m\u001B[43mac3_params\u001B[49m\u001B[38;5;241;43m=\u001B[39;49m\u001B[43m{\u001B[49m\u001B[43m}\u001B[49m\u001B[43m,\u001B[49m\u001B[43m \u001B[49m\u001B[43mdepth_first_params\u001B[49m\u001B[38;5;241;43m=\u001B[39;49m\u001B[43m{\u001B[49m\u001B[38;5;124;43m'\u001B[39;49m\u001B[38;5;124;43mmax_operations\u001B[39;49m\u001B[38;5;124;43m'\u001B[39;49m\u001B[43m:\u001B[49m\u001B[43m \u001B[49m\u001B[38;5;241;43m10000\u001B[39;49m\u001B[43m}\u001B[49m\u001B[43m)\u001B[49m\n",
      "Cell \u001B[1;32mIn[9], line 41\u001B[0m, in \u001B[0;36mrun_experiment\u001B[1;34m(experiment_name, problem_files, dataset, ac3_params, ac4_params, depth_first_params)\u001B[0m\n\u001B[0;32m     38\u001B[0m ac3_res[\u001B[38;5;124m'\u001B[39m\u001B[38;5;124mac3_init_time\u001B[39m\u001B[38;5;124m'\u001B[39m] \u001B[38;5;241m=\u001B[39m time\u001B[38;5;241m.\u001B[39mtime() \u001B[38;5;241m-\u001B[39m ac3_start_time\n\u001B[0;32m     40\u001B[0m ac3_apply_start_time \u001B[38;5;241m=\u001B[39m time\u001B[38;5;241m.\u001B[39mtime()\n\u001B[1;32m---> 41\u001B[0m ac3_return_value \u001B[38;5;241m=\u001B[39m \u001B[43mac3\u001B[49m\u001B[38;5;241;43m.\u001B[39;49m\u001B[43mapply\u001B[49m\u001B[43m(\u001B[49m\u001B[43mdebugLevel\u001B[49m\u001B[38;5;241;43m=\u001B[39;49m\u001B[38;5;241;43m1\u001B[39;49m\u001B[43m,\u001B[49m\u001B[38;5;241;43m*\u001B[39;49m\u001B[38;5;241;43m*\u001B[39;49m\u001B[43mac3_params\u001B[49m\u001B[43m)\u001B[49m\n\u001B[0;32m     42\u001B[0m ac3_end_time \u001B[38;5;241m=\u001B[39m time\u001B[38;5;241m.\u001B[39mtime()\n\u001B[0;32m     43\u001B[0m ac3_res[\u001B[38;5;124m'\u001B[39m\u001B[38;5;124mac3_apply_time\u001B[39m\u001B[38;5;124m'\u001B[39m] \u001B[38;5;241m=\u001B[39m ac3_end_time \u001B[38;5;241m-\u001B[39m ac3_apply_start_time\n",
      "File \u001B[1;32mD:\\Desktop\\ITC2019\\ac3.py:91\u001B[0m, in \u001B[0;36mAC3.apply\u001B[1;34m(self, debugLevel)\u001B[0m\n\u001B[0;32m     89\u001B[0m \u001B[38;5;28;01mif\u001B[39;00m debugLevel \u001B[38;5;241m>\u001B[39m\u001B[38;5;241m=\u001B[39m \u001B[38;5;241m3\u001B[39m:\n\u001B[0;32m     90\u001B[0m     \u001B[38;5;28mprint\u001B[39m(\u001B[38;5;124m\"\u001B[39m\u001B[38;5;124mprocessing \u001B[39m\u001B[38;5;124m\"\u001B[39m, \u001B[38;5;28mstr\u001B[39m(Vi), \u001B[38;5;28mstr\u001B[39m(Vj), \u001B[38;5;124m\"\u001B[39m\u001B[38;5;124m current Q size: \u001B[39m\u001B[38;5;124m\"\u001B[39m, \u001B[38;5;28mlen\u001B[39m(Q))\n\u001B[1;32m---> 91\u001B[0m \u001B[38;5;28;01mif\u001B[39;00m \u001B[38;5;28;43mself\u001B[39;49m\u001B[38;5;241;43m.\u001B[39;49m\u001B[43mrevise\u001B[49m\u001B[43m(\u001B[49m\u001B[43mVi\u001B[49m\u001B[43m,\u001B[49m\u001B[43m \u001B[49m\u001B[43mVj\u001B[49m\u001B[43m,\u001B[49m\u001B[43m \u001B[49m\u001B[43mdebugLevel\u001B[49m\u001B[38;5;241;43m=\u001B[39;49m\u001B[43mdebugLevel\u001B[49m\u001B[43m)\u001B[49m:\n\u001B[0;32m     92\u001B[0m     \u001B[38;5;28;01mif\u001B[39;00m \u001B[38;5;241m0\u001B[39m \u001B[38;5;129;01mnot\u001B[39;00m \u001B[38;5;129;01min\u001B[39;00m \u001B[38;5;28mself\u001B[39m\u001B[38;5;241m.\u001B[39msolution_search\u001B[38;5;241m.\u001B[39mdecision_table[Vi]:\n\u001B[0;32m     93\u001B[0m         \u001B[38;5;28mprint\u001B[39m(\u001B[38;5;124mf\u001B[39m\u001B[38;5;124m\"\u001B[39m\u001B[38;5;124mVi: \u001B[39m\u001B[38;5;132;01m{\u001B[39;00mVi\u001B[38;5;132;01m}\u001B[39;00m\u001B[38;5;124m has no solution after closing options inconsistent with \u001B[39m\u001B[38;5;132;01m{\u001B[39;00mVj\u001B[38;5;132;01m}\u001B[39;00m\u001B[38;5;124m\"\u001B[39m)\n",
      "File \u001B[1;32mD:\\Desktop\\ITC2019\\ac3.py:60\u001B[0m, in \u001B[0;36mAC3.revise\u001B[1;34m(self, Vi, Vj, debugLevel)\u001B[0m\n\u001B[0;32m     57\u001B[0m \u001B[38;5;28;01mif\u001B[39;00m \u001B[38;5;28mself\u001B[39m\u001B[38;5;241m.\u001B[39msolution_search\u001B[38;5;241m.\u001B[39mdecision_table[Vj][Vj_option] \u001B[38;5;241m!=\u001B[39m \u001B[38;5;241m0\u001B[39m:\n\u001B[0;32m     58\u001B[0m     \u001B[38;5;28;01mcontinue\u001B[39;00m\n\u001B[1;32m---> 60\u001B[0m \u001B[38;5;28;01mif\u001B[39;00m \u001B[38;5;28;43mself\u001B[39;49m\u001B[38;5;241;43m.\u001B[39;49m\u001B[43msupports\u001B[49m\u001B[43m(\u001B[49m\u001B[43mVi\u001B[49m\u001B[43m,\u001B[49m\u001B[43m \u001B[49m\u001B[43mVj\u001B[49m\u001B[43m,\u001B[49m\u001B[43m \u001B[49m\u001B[43mVi_option\u001B[49m\u001B[43m,\u001B[49m\u001B[43m \u001B[49m\u001B[43mVj_option\u001B[49m\u001B[43m)\u001B[49m:\n\u001B[0;32m     61\u001B[0m     found \u001B[38;5;241m=\u001B[39m \u001B[38;5;28;01mTrue\u001B[39;00m\n\u001B[0;32m     62\u001B[0m     \u001B[38;5;28;01mbreak\u001B[39;00m\n",
      "File \u001B[1;32mD:\\Desktop\\ITC2019\\ac3.py:42\u001B[0m, in \u001B[0;36mAC3.supports\u001B[1;34m(self, class_row_i, class_row_j, class_row_i_option, class_row_j_option)\u001B[0m\n\u001B[0;32m     40\u001B[0m \u001B[38;5;28;01mdef\u001B[39;00m \u001B[38;5;21msupports\u001B[39m(\u001B[38;5;28mself\u001B[39m, class_row_i, class_row_j, class_row_i_option, class_row_j_option):\n\u001B[0;32m     41\u001B[0m     \u001B[38;5;28;01mfor\u001B[39;00m constraint \u001B[38;5;129;01min\u001B[39;00m \u001B[38;5;28mself\u001B[39m\u001B[38;5;241m.\u001B[39mconstraints[class_row_i][class_row_j]:\n\u001B[1;32m---> 42\u001B[0m         \u001B[38;5;28;01mif\u001B[39;00m \u001B[38;5;129;01mnot\u001B[39;00m \u001B[43mconstraint\u001B[49m\u001B[43m(\u001B[49m\u001B[38;5;28;43mself\u001B[39;49m\u001B[43m,\u001B[49m\u001B[43m \u001B[49m\u001B[43mclass_row_i\u001B[49m\u001B[43m,\u001B[49m\u001B[43m \u001B[49m\u001B[43mclass_row_j\u001B[49m\u001B[43m,\u001B[49m\u001B[43m \u001B[49m\u001B[43mclass_row_i_option\u001B[49m\u001B[43m,\u001B[49m\u001B[43m \u001B[49m\u001B[43mclass_row_j_option\u001B[49m\u001B[43m)\u001B[49m:\n\u001B[0;32m     43\u001B[0m             \u001B[38;5;28;01mreturn\u001B[39;00m \u001B[38;5;28;01mFalse\u001B[39;00m  \u001B[38;5;66;03m# if one of the constraints is not satisfied, return False\u001B[39;00m\n\u001B[0;32m     44\u001B[0m     \u001B[38;5;28;01mreturn\u001B[39;00m \u001B[38;5;28;01mTrue\u001B[39;00m\n",
      "File \u001B[1;32mD:\\Desktop\\ITC2019\\costCalcuation\\distributions\\not_overlap_distribution_helper.py:48\u001B[0m, in \u001B[0;36mNotOverlapDistributionHelper.check_ac4_constraints\u001B[1;34m(self, ac4, class_row_i, class_row_j, class_row_i_option, class_row_j_option)\u001B[0m\n\u001B[0;32m     46\u001B[0m \u001B[38;5;28;01mdef\u001B[39;00m \u001B[38;5;21mcheck_ac4_constraints\u001B[39m(\u001B[38;5;28mself\u001B[39m, ac4, class_row_i, class_row_j, class_row_i_option, class_row_j_option):\n\u001B[0;32m     47\u001B[0m     time_i \u001B[38;5;241m=\u001B[39m get_room_and_time_chosen(ac4\u001B[38;5;241m.\u001B[39msolution_search, class_row_i, class_row_i_option)[\u001B[38;5;241m1\u001B[39m]\n\u001B[1;32m---> 48\u001B[0m     time_j \u001B[38;5;241m=\u001B[39m \u001B[43mget_room_and_time_chosen\u001B[49m\u001B[43m(\u001B[49m\u001B[43mac4\u001B[49m\u001B[38;5;241;43m.\u001B[39;49m\u001B[43msolution_search\u001B[49m\u001B[43m,\u001B[49m\u001B[43m \u001B[49m\u001B[43mclass_row_j\u001B[49m\u001B[43m,\u001B[49m\u001B[43m \u001B[49m\u001B[43mclass_row_j_option\u001B[49m\u001B[43m)\u001B[49m[\u001B[38;5;241m1\u001B[39m]\n\u001B[0;32m     50\u001B[0m     \u001B[38;5;28;01mreturn\u001B[39;00m (\n\u001B[0;32m     51\u001B[0m             time_i\u001B[38;5;241m.\u001B[39mstart \u001B[38;5;241m>\u001B[39m\u001B[38;5;241m=\u001B[39m (time_j\u001B[38;5;241m.\u001B[39mstart \u001B[38;5;241m+\u001B[39m time_j\u001B[38;5;241m.\u001B[39mlength)\n\u001B[0;32m     52\u001B[0m             \u001B[38;5;129;01mor\u001B[39;00m\n\u001B[1;32m   (...)\u001B[0m\n\u001B[0;32m     55\u001B[0m             \u001B[38;5;129;01mor\u001B[39;00m \u001B[38;5;129;01mnot\u001B[39;00m np\u001B[38;5;241m.\u001B[39many(np\u001B[38;5;241m.\u001B[39mlogical_and(time_i\u001B[38;5;241m.\u001B[39mweeks, time_j\u001B[38;5;241m.\u001B[39mweeks))\n\u001B[0;32m     56\u001B[0m     )\n",
      "File \u001B[1;32mD:\\Desktop\\ITC2019\\costCalcuation\\distributions\\base_distribution_helper.py:16\u001B[0m, in \u001B[0;36mget_room_and_time_chosen\u001B[1;34m(solution_search, class_index, option_index)\u001B[0m\n\u001B[0;32m     12\u001B[0m \u001B[38;5;28;01mif\u001B[39;00m \u001B[38;5;28mlen\u001B[39m(clazz\u001B[38;5;241m.\u001B[39mroom_options) \u001B[38;5;241m==\u001B[39m \u001B[38;5;241m0\u001B[39m:\n\u001B[0;32m     13\u001B[0m     \u001B[38;5;28;01mreturn\u001B[39;00m \u001B[38;5;28;01mNone\u001B[39;00m, clazz\u001B[38;5;241m.\u001B[39mtime_options[option_index]\n\u001B[0;32m     15\u001B[0m current_room_option_idx, current_time_option_idx \u001B[38;5;241m=\u001B[39m \\\n\u001B[1;32m---> 16\u001B[0m     \u001B[43mnp\u001B[49m\u001B[38;5;241;43m.\u001B[39;49m\u001B[43munravel_index\u001B[49m\u001B[43m(\u001B[49m\u001B[43moption_index\u001B[49m\u001B[43m,\u001B[49m\u001B[43m \u001B[49m\u001B[43m(\u001B[49m\u001B[38;5;28;43mlen\u001B[39;49m\u001B[43m(\u001B[49m\u001B[43mclazz\u001B[49m\u001B[38;5;241;43m.\u001B[39;49m\u001B[43mroom_options\u001B[49m\u001B[43m)\u001B[49m\u001B[43m,\u001B[49m\u001B[43m \u001B[49m\u001B[38;5;28;43mlen\u001B[39;49m\u001B[43m(\u001B[49m\u001B[43mclazz\u001B[49m\u001B[38;5;241;43m.\u001B[39;49m\u001B[43mtime_options\u001B[49m\u001B[43m)\u001B[49m\u001B[43m)\u001B[49m\u001B[43m)\u001B[49m\n\u001B[0;32m     18\u001B[0m \u001B[38;5;28;01mreturn\u001B[39;00m clazz\u001B[38;5;241m.\u001B[39mroom_options[current_room_option_idx], clazz\u001B[38;5;241m.\u001B[39mtime_options[current_time_option_idx]\n",
      "\u001B[1;31mKeyboardInterrupt\u001B[0m: "
     ]
    }
   ],
   "source": [
    "run_experiment('AC3 and depth_first_search with 10k max operations', itc2007_track2_files, 'itc2007_track2', ac3_params={}, depth_first_params={'max_operations': 10000})"
   ],
   "metadata": {
    "collapsed": false,
    "ExecuteTime": {
     "end_time": "2024-03-21T15:32:10.139481200Z",
     "start_time": "2024-03-21T15:31:40.112550600Z"
    }
   },
   "id": "3bf4cacdb03a8b5c"
  },
  {
   "cell_type": "code",
   "execution_count": null,
   "outputs": [],
   "source": [
    "run_experiment('AC3 and depth_first_search with 10k max operations', itc2007_track3_files, 'itc2007_track3', ac3_params={}, depth_first_params={'max_operations': 10000})"
   ],
   "metadata": {
    "collapsed": false,
    "ExecuteTime": {
     "end_time": "2024-03-21T15:32:10.141482100Z",
     "start_time": "2024-03-21T15:32:10.140482200Z"
    }
   },
   "id": "774db8e34b0add7c"
  },
  {
   "cell_type": "code",
   "execution_count": null,
   "outputs": [],
   "source": [
    "run_experiment('AC3 and depth_first_search with 10k max operations', itc2019_files, 'itc2019', ac3_params={}, depth_first_params={'max_operations': 10000})"
   ],
   "metadata": {
    "collapsed": false,
    "ExecuteTime": {
     "start_time": "2024-03-21T15:32:10.142481400Z"
    }
   },
   "id": "e3913c72ae0d2149"
  },
  {
   "cell_type": "code",
   "execution_count": null,
   "outputs": [],
   "source": [
    "run_experiment('AC4 and depth_first_search with 10k max operations', itc2007_track2_files, 'itc2007_track2', ac4_params={}, depth_first_params={'max_operations': 10000})"
   ],
   "metadata": {
    "collapsed": false,
    "ExecuteTime": {
     "start_time": "2024-03-21T15:32:10.144482900Z"
    }
   },
   "id": "20601a94e4e324e7"
  },
  {
   "cell_type": "code",
   "execution_count": null,
   "outputs": [],
   "source": [
    "run_experiment('AC4 and depth_first_search with 10k max operations', itc2007_track3_files, 'itc2007_track3', ac4_params={}, depth_first_params={'max_operations': 10000})"
   ],
   "metadata": {
    "collapsed": false,
    "ExecuteTime": {
     "start_time": "2024-03-21T15:32:10.147482600Z"
    }
   },
   "id": "e4601191ea129e4c"
  },
  {
   "cell_type": "code",
   "execution_count": null,
   "outputs": [],
   "source": [
    "run_experiment('AC4 and depth_first_search with 10k max operations', itc2019_files, 'itc2019', ac4_params={}, depth_first_params={'max_operations': 10000})"
   ],
   "metadata": {
    "collapsed": false,
    "ExecuteTime": {
     "start_time": "2024-03-21T15:32:10.148483200Z"
    }
   },
   "id": "76e1fafe618cec14"
  },
  {
   "cell_type": "code",
   "execution_count": null,
   "outputs": [],
   "source": [],
   "metadata": {
    "collapsed": false,
    "ExecuteTime": {
     "start_time": "2024-03-21T15:32:10.149483300Z"
    }
   },
   "id": "510961bd221c516a"
  }
 ],
 "metadata": {
  "kernelspec": {
   "display_name": "Python 3",
   "language": "python",
   "name": "python3"
  },
  "language_info": {
   "codemirror_mode": {
    "name": "ipython",
    "version": 2
   },
   "file_extension": ".py",
   "mimetype": "text/x-python",
   "name": "python",
   "nbconvert_exporter": "python",
   "pygments_lexer": "ipython2",
   "version": "2.7.6"
  }
 },
 "nbformat": 4,
 "nbformat_minor": 5
}
