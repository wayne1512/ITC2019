{
 "cells": [
  {
   "cell_type": "code",
   "execution_count": 1,
   "id": "initial_id",
   "metadata": {
    "collapsed": true,
    "ExecuteTime": {
     "end_time": "2024-03-08T09:43:20.723281100Z",
     "start_time": "2024-03-08T09:43:16.598693200Z"
    }
   },
   "outputs": [],
   "source": [
    "import os\n",
    "import time\n",
    "\n",
    "import matplotlib.pyplot as plt\n",
    "import pandas as pd\n",
    "import numpy as np\n",
    "import pickle\n",
    "\n",
    "from costCalcuation.distributions.create_distribtion_helper import create_helper_for_distribution\n",
    "from depth_first_search_solver import DepthFirstSearchSolver\n",
    "from experiment_details import ExperimentDetails\n",
    "from parse_input import parse_xml, parse_itc2007_curriculum_based, parse_itc2007_post_enrolment\n",
    "from solution_search import SolutionSearch\n",
    "from costCalcuation.distributions.create_distribtion_helper import create_helper_for_distribution\n",
    "\n",
    "\n"
   ]
  },
  {
   "cell_type": "code",
   "execution_count": 2,
   "outputs": [],
   "source": [
    "itc2007_track2_path = 'D:\\\\Desktop\\\\Datasets\\\\post'\n",
    "itc2007_track3_path = 'D:\\\\Desktop\\\\Datasets\\\\curriculum'\n",
    "itc2019_path = 'D:\\\\Desktop\\\\Datasets\\\\2019'"
   ],
   "metadata": {
    "collapsed": false,
    "ExecuteTime": {
     "end_time": "2024-03-08T09:43:20.728316200Z",
     "start_time": "2024-03-08T09:43:20.724790400Z"
    }
   },
   "id": "7b1339187b73dd08"
  },
  {
   "cell_type": "code",
   "execution_count": 3,
   "outputs": [],
   "source": [
    "def get_all_files(path):\n",
    "    return [os.path.join(dirpath, file) for dirpath, _, filenames in os.walk(path) for file in filenames]    "
   ],
   "metadata": {
    "collapsed": false,
    "ExecuteTime": {
     "end_time": "2024-03-08T09:43:20.732915700Z",
     "start_time": "2024-03-08T09:43:20.728316200Z"
    }
   },
   "id": "e1c47b36588bd122"
  },
  {
   "cell_type": "code",
   "execution_count": 4,
   "outputs": [],
   "source": [
    "itc2007_track2_files = get_all_files(itc2007_track2_path)\n",
    "itc2007_track3_files = get_all_files(itc2007_track3_path)\n",
    "itc2019_files = get_all_files(itc2019_path)"
   ],
   "metadata": {
    "collapsed": false,
    "ExecuteTime": {
     "end_time": "2024-03-08T09:43:20.773718800Z",
     "start_time": "2024-03-08T09:43:20.733916600Z"
    }
   },
   "id": "2b980a6854d41fdb"
  },
  {
   "cell_type": "markdown",
   "source": [
    "# Get statistics"
   ],
   "metadata": {
    "collapsed": false
   },
   "id": "9774beffaeb401d2"
  },
  {
   "cell_type": "markdown",
   "source": [
    "## Statistics for ITC2019"
   ],
   "metadata": {
    "collapsed": false
   },
   "id": "e8035c67a0069d04"
  },
  {
   "cell_type": "code",
   "execution_count": null,
   "outputs": [],
   "source": [
    "problems_and_stats = [parse_xml(file) for file in itc2019_files]\n",
    "stats = [problem[1] for problem in problems_and_stats]\n",
    "\n",
    "df = pd.DataFrame(stats)\n",
    "\n",
    "df.index += 1\n",
    "df.reset_index(inplace=True,names='index')\n",
    "\n",
    "os.makedirs('output/stats', exist_ok=True)\n",
    "df.to_csv('output/stats/itc2019_stats.csv',index=False)\n"
   ],
   "metadata": {
    "collapsed": false
   },
   "id": "ec7a06104067db80"
  },
  {
   "cell_type": "markdown",
   "source": [
    "## Statistics for ITC2007 Track 2"
   ],
   "metadata": {
    "collapsed": false
   },
   "id": "128c9e9b77ed0388"
  },
  {
   "cell_type": "code",
   "execution_count": null,
   "outputs": [],
   "source": [
    "problems_and_stats = [parse_itc2007_post_enrolment(file) for file in itc2007_track2_files]\n",
    "stats = [problem[1] for problem in problems_and_stats]\n",
    "\n",
    "df = pd.DataFrame(stats)\n",
    "\n",
    "\n",
    "#make index 1 based and name them as their file names ex. 1,2,...\n",
    "df.index += 1\n",
    "df.reset_index(inplace=True,names='name')\n",
    "\n",
    "df.index += 1\n",
    "df.reset_index(inplace=True,names='index')\n",
    "\n",
    "os.makedirs('output/stats', exist_ok=True)\n",
    "df.to_csv('output/stats/itc2007_track2_stats.csv',index=False)"
   ],
   "metadata": {
    "collapsed": false
   },
   "id": "b306dd26d38259f4"
  },
  {
   "cell_type": "markdown",
   "source": [
    "## Statistics for ITC2007 Track 3"
   ],
   "metadata": {
    "collapsed": false
   },
   "id": "bb7522cf1f4032f4"
  },
  {
   "cell_type": "code",
   "execution_count": null,
   "outputs": [],
   "source": [
    "problems_and_stats = [parse_itc2007_curriculum_based(file) for file in itc2007_track3_files]\n",
    "stats = [problem[1] for problem in problems_and_stats]\n",
    "\n",
    "df = pd.DataFrame(stats)\n",
    "\n",
    "\n",
    "df.index += 1\n",
    "df.reset_index(inplace=True,names='index')\n",
    "\n",
    "os.makedirs('output/stats', exist_ok=True)\n",
    "df.to_csv('output/stats/itc2007_track3_stats.csv',index=False)\n"
   ],
   "metadata": {
    "collapsed": false
   },
   "id": "42fc4703727af919"
  },
  {
   "cell_type": "markdown",
   "source": [
    "# Construction using depth first search"
   ],
   "metadata": {
    "collapsed": false
   },
   "id": "d322f8791c3cacd9"
  },
  {
   "cell_type": "code",
   "execution_count": 5,
   "outputs": [],
   "source": [
    "def plot_row_over_operation(file,operation_history , title):\n",
    "    fig,ax = plt.subplots()\n",
    "    ax.set_title(title)\n",
    "    \n",
    "    y = [i['current_row'] for i in operation_history]\n",
    "    \n",
    "    ax.set_xlabel('Operation')\n",
    "    ax.set_ylabel('Classes placed')\n",
    "    \n",
    "    ax.plot(y)\n",
    "    plt.show()\n",
    "    \n",
    "    if file:\n",
    "        fig.savefig(file + '.png')\n",
    "    \n",
    "    \n",
    "    \n",
    "def plot_row_over_time(file, operation_history , title):\n",
    "    fig,ax = plt.subplots()\n",
    "    ax.set_title(title)\n",
    "    \n",
    "    time = [i['time'] for i in operation_history]\n",
    "    row = [i['current_row'] for i in operation_history]\n",
    "    \n",
    "    ax.set_xlabel('Time')\n",
    "    ax.set_ylabel('Classes placed')\n",
    "    ax.plot(time,row)\n",
    "\n",
    "    plt.show()\n",
    "    \n",
    "    if file:\n",
    "        fig.savefig(file + '.png')\n",
    "    "
   ],
   "metadata": {
    "collapsed": false,
    "ExecuteTime": {
     "end_time": "2024-03-08T09:43:20.780444Z",
     "start_time": "2024-03-08T09:43:20.773718800Z"
    }
   },
   "id": "e29fbf550ce72c9"
  },
  {
   "cell_type": "code",
   "execution_count": 9,
   "outputs": [
    {
     "name": "stdout",
     "output_type": "stream",
     "text": [
      "proceeded from 0 to 1\n",
      "proceeded from 1 to 2\n",
      "proceeded from 2 to 3\n",
      "proceeded from 3 to 4\n",
      "proceeded from 4 to 5\n",
      "proceeded from 5 to 6\n",
      "proceeded from 6 to 7\n",
      "proceeded from 7 to 8\n",
      "proceeded from 8 to 9\n",
      "proceeded from 9 to 10\n",
      "proceeded from 10 to 11\n",
      "proceeded from 11 to 12\n",
      "proceeded from 12 to 13\n",
      "proceeded from 13 to 14\n",
      "proceeded from 14 to 15\n",
      "proceeded from 15 to 16\n",
      "proceeded from 16 to 17\n",
      "proceeded from 17 to 18\n",
      "proceeded from 18 to 19\n",
      "proceeded from 19 to 20\n",
      "proceeded from 20 to 21\n",
      "proceeded from 21 to 22\n",
      "proceeded from 22 to 23\n",
      "proceeded from 23 to 24\n",
      "proceeded from 24 to 25\n",
      "proceeded from 25 to 26\n",
      "proceeded from 26 to 27\n",
      "proceeded from 27 to 28\n",
      "proceeded from 28 to 29\n",
      "proceeded from 29 to 30\n",
      "proceeded from 30 to 31\n",
      "proceeded from 31 to 32\n",
      "proceeded from 32 to 33\n",
      "proceeded from 33 to 34\n",
      "proceeded from 34 to 35\n",
      "proceeded from 35 to 36\n",
      "proceeded from 36 to 37\n",
      "proceeded from 37 to 38\n",
      "proceeded from 38 to 39\n",
      "proceeded from 39 to 40\n",
      "proceeded from 40 to 41\n",
      "proceeded from 41 to 42\n",
      "proceeded from 42 to 43\n",
      "proceeded from 43 to 44\n",
      "proceeded from 44 to 45\n",
      "proceeded from 45 to 46\n",
      "proceeded from 46 to 47\n",
      "proceeded from 47 to 48\n",
      "proceeded from 48 to 49\n",
      "proceeded from 49 to 50\n",
      "proceeded from 50 to 51\n",
      "proceeded from 51 to 52\n",
      "proceeded from 52 to 53\n",
      "proceeded from 53 to 54\n",
      "proceeded from 54 to 55\n",
      "backtrack from 55 to 54\n",
      "proceeded from 54 to 55\n",
      "proceeded from 55 to 56\n",
      "proceeded from 56 to 57\n",
      "backtrack from 57 to 56\n",
      "proceeded from 56 to 57\n",
      "proceeded from 57 to 58\n",
      "proceeded from 58 to 59\n",
      "proceeded from 59 to 60\n",
      "proceeded from 60 to 61\n",
      "proceeded from 61 to 62\n",
      "proceeded from 62 to 63\n",
      "proceeded from 63 to 64\n",
      "proceeded from 64 to 65\n",
      "proceeded from 65 to 66\n",
      "proceeded from 66 to 67\n",
      "proceeded from 67 to 68\n",
      "proceeded from 68 to 69\n",
      "proceeded from 69 to 70\n",
      "proceeded from 70 to 71\n",
      "proceeded from 71 to 72\n",
      "proceeded from 72 to 73\n",
      "proceeded from 73 to 74\n",
      "proceeded from 74 to 75\n",
      "proceeded from 75 to 76\n",
      "proceeded from 76 to 77\n",
      "proceeded from 77 to 78\n",
      "proceeded from 78 to 79\n",
      "proceeded from 79 to 80\n",
      "proceeded from 80 to 81\n",
      "proceeded from 81 to 82\n",
      "proceeded from 82 to 83\n",
      "proceeded from 83 to 84\n",
      "proceeded from 84 to 85\n",
      "proceeded from 85 to 86\n",
      "proceeded from 86 to 87\n",
      "proceeded from 87 to 88\n",
      "proceeded from 88 to 89\n",
      "proceeded from 89 to 90\n",
      "proceeded from 90 to 91\n",
      "proceeded from 91 to 92\n",
      "proceeded from 92 to 93\n",
      "proceeded from 93 to 94\n",
      "proceeded from 94 to 95\n",
      "proceeded from 95 to 96\n",
      "proceeded from 96 to 97\n",
      "proceeded from 97 to 98\n",
      "proceeded from 98 to 99\n",
      "proceeded from 99 to 100\n",
      "proceeded from 100 to 101\n",
      "proceeded from 101 to 102\n",
      "proceeded from 102 to 103\n",
      "proceeded from 103 to 104\n",
      "proceeded from 104 to 105\n",
      "proceeded from 105 to 106\n",
      "proceeded from 106 to 107\n",
      "proceeded from 107 to 108\n",
      "proceeded from 108 to 109\n",
      "backtrack from 109 to 108\n",
      "proceeded from 108 to 109\n",
      "proceeded from 109 to 110\n",
      "proceeded from 110 to 111\n",
      "proceeded from 111 to 112\n",
      "proceeded from 112 to 113\n",
      "proceeded from 113 to 114\n",
      "proceeded from 114 to 115\n",
      "proceeded from 115 to 116\n",
      "proceeded from 116 to 117\n",
      "proceeded from 117 to 118\n",
      "proceeded from 118 to 119\n",
      "proceeded from 119 to 120\n",
      "proceeded from 120 to 121\n",
      "proceeded from 121 to 122\n",
      "proceeded from 122 to 123\n",
      "proceeded from 123 to 124\n",
      "proceeded from 124 to 125\n",
      "proceeded from 125 to 126\n",
      "proceeded from 126 to 127\n",
      "proceeded from 127 to 128\n",
      "proceeded from 128 to 129\n",
      "proceeded from 129 to 130\n",
      "proceeded from 130 to 131\n",
      "proceeded from 131 to 132\n",
      "proceeded from 132 to 133\n",
      "proceeded from 133 to 134\n",
      "proceeded from 134 to 135\n",
      "proceeded from 135 to 136\n",
      "proceeded from 136 to 137\n",
      "proceeded from 137 to 138\n",
      "backtrack from 138 to 137\n",
      "proceeded from 137 to 138\n",
      "proceeded from 138 to 139\n",
      "proceeded from 139 to 140\n",
      "proceeded from 140 to 141\n",
      "proceeded from 141 to 142\n",
      "Unexpected exception formatting exception. Falling back to standard exception\n"
     ]
    },
    {
     "name": "stderr",
     "output_type": "stream",
     "text": [
      "Traceback (most recent call last):\n",
      "  File \"D:\\Desktop\\ITC2019\\venv\\Lib\\site-packages\\IPython\\core\\interactiveshell.py\", line 3526, in run_code\n",
      "    exec(code_obj, self.user_global_ns, self.user_ns)\n",
      "  File \"C:\\Users\\ADMIN\\AppData\\Local\\Temp\\ipykernel_20068\\3328812334.py\", line 14, in <module>\n",
      "    res = solver.solve(max_operations=10000)\n",
      "          ^^^^^^^^^^^^^^^^^^^^^^^^^^^^^^^^^^\n",
      "  File \"D:\\Desktop\\ITC2019\\depth_first_search_solver.py\", line 77, in solve\n",
      "    self.close_downwards_options(current_row, current_option)\n",
      "  File \"D:\\Desktop\\ITC2019\\depth_first_search_solver.py\", line 20, in close_downwards_options\n",
      "    d.distribution_helper.close_downwards_option(self.solution_search, current_row, current_option, mask)\n",
      "  File \"D:\\Desktop\\ITC2019\\costCalcuation\\distributions\\base_distribution_helper.py\", line -1, in close_downwards_option\n",
      "KeyboardInterrupt\n",
      "\n",
      "During handling of the above exception, another exception occurred:\n",
      "\n",
      "Traceback (most recent call last):\n",
      "  File \"D:\\Desktop\\ITC2019\\venv\\Lib\\site-packages\\IPython\\core\\interactiveshell.py\", line 2120, in showtraceback\n",
      "    stb = self.InteractiveTB.structured_traceback(\n",
      "          ^^^^^^^^^^^^^^^^^^^^^^^^^^^^^^^^^^^^^^^^\n",
      "  File \"D:\\Desktop\\ITC2019\\venv\\Lib\\site-packages\\IPython\\core\\ultratb.py\", line 1435, in structured_traceback\n",
      "    return FormattedTB.structured_traceback(\n",
      "           ^^^^^^^^^^^^^^^^^^^^^^^^^^^^^^^^^\n",
      "  File \"D:\\Desktop\\ITC2019\\venv\\Lib\\site-packages\\IPython\\core\\ultratb.py\", line 1326, in structured_traceback\n",
      "    return VerboseTB.structured_traceback(\n",
      "           ^^^^^^^^^^^^^^^^^^^^^^^^^^^^^^^\n",
      "  File \"D:\\Desktop\\ITC2019\\venv\\Lib\\site-packages\\IPython\\core\\ultratb.py\", line 1173, in structured_traceback\n",
      "    formatted_exception = self.format_exception_as_a_whole(etype, evalue, etb, number_of_lines_of_context,\n",
      "                          ^^^^^^^^^^^^^^^^^^^^^^^^^^^^^^^^^^^^^^^^^^^^^^^^^^^^^^^^^^^^^^^^^^^^^^^^^^^^^^^^\n",
      "  File \"D:\\Desktop\\ITC2019\\venv\\Lib\\site-packages\\IPython\\core\\ultratb.py\", line 1088, in format_exception_as_a_whole\n",
      "    frames.append(self.format_record(record))\n",
      "                  ^^^^^^^^^^^^^^^^^^^^^^^^^^\n",
      "  File \"D:\\Desktop\\ITC2019\\venv\\Lib\\site-packages\\IPython\\core\\ultratb.py\", line 970, in format_record\n",
      "    frame_info.lines, Colors, self.has_colors, lvals\n",
      "    ^^^^^^^^^^^^^^^^\n",
      "  File \"D:\\Desktop\\ITC2019\\venv\\Lib\\site-packages\\IPython\\core\\ultratb.py\", line 792, in lines\n",
      "    return self._sd.lines\n",
      "           ^^^^^^^^^^^^^^\n",
      "  File \"D:\\Desktop\\ITC2019\\venv\\Lib\\site-packages\\stack_data\\utils.py\", line 144, in cached_property_wrapper\n",
      "    value = obj.__dict__[self.func.__name__] = self.func(obj)\n",
      "                                               ^^^^^^^^^^^^^^\n",
      "  File \"D:\\Desktop\\ITC2019\\venv\\Lib\\site-packages\\stack_data\\core.py\", line 734, in lines\n",
      "    pieces = self.included_pieces\n",
      "             ^^^^^^^^^^^^^^^^^^^^\n",
      "  File \"D:\\Desktop\\ITC2019\\venv\\Lib\\site-packages\\stack_data\\utils.py\", line 144, in cached_property_wrapper\n",
      "    value = obj.__dict__[self.func.__name__] = self.func(obj)\n",
      "                                               ^^^^^^^^^^^^^^\n",
      "  File \"D:\\Desktop\\ITC2019\\venv\\Lib\\site-packages\\stack_data\\core.py\", line 681, in included_pieces\n",
      "    pos = scope_pieces.index(self.executing_piece)\n",
      "                             ^^^^^^^^^^^^^^^^^^^^\n",
      "  File \"D:\\Desktop\\ITC2019\\venv\\Lib\\site-packages\\stack_data\\utils.py\", line 144, in cached_property_wrapper\n",
      "    value = obj.__dict__[self.func.__name__] = self.func(obj)\n",
      "                                               ^^^^^^^^^^^^^^\n",
      "  File \"D:\\Desktop\\ITC2019\\venv\\Lib\\site-packages\\stack_data\\core.py\", line 660, in executing_piece\n",
      "    return only(\n",
      "           ^^^^^\n",
      "  File \"D:\\Desktop\\ITC2019\\venv\\Lib\\site-packages\\executing\\executing.py\", line 190, in only\n",
      "    raise NotOneValueFound('Expected one value, found 0')\n",
      "executing.executing.NotOneValueFound: Expected one value, found 0\n"
     ]
    }
   ],
   "source": [
    "folder = 'output/itc2007_track2_depth_first_search_test_'+time.strftime(\"%Y%m%d-%H%M%S\")\n",
    "os.mkdir(folder)\n",
    "\n",
    "for f in itc2007_track2_files:\n",
    "    \n",
    "    sub_folder = os.path.join(folder, f.split('\\\\')[-1].split('.')[0])\n",
    "    os.mkdir(sub_folder)\n",
    "    \n",
    "    date = time.time()\n",
    "    \n",
    "    problem = parse_itc2007_post_enrolment(f)[0]\n",
    "    search = SolutionSearch(problem)\n",
    "    solver = DepthFirstSearchSolver(search)\n",
    "    res = solver.solve(max_operations=10000)\n",
    "    \n",
    "    experiment_details = ExperimentDetails(\n",
    "        name='depth_first_search with 10k max operations',\n",
    "        instance_name=f.split('\\\\')[-1].split('.')[0],\n",
    "        instance_file_name = f.split('\\\\')[-1].split('.')[0],\n",
    "        dataset_name='itc2007_track2',\n",
    "        date=date,\n",
    "        results_data=res,\n",
    "        experiment_data={\n",
    "            \"solver\": 'depth_first_search',\n",
    "            \"max_operations\": 10000\n",
    "        }\n",
    "    )\n",
    "    \n",
    "    pickle.dump(experiment_details, open(os.path.join(sub_folder, 'experiment_details.pkl'), 'wb'))\n",
    "    \n",
    "    if res['success']:\n",
    "        np.save(os.path.join(sub_folder, 'solution gene.npy'), search.get_result_as_gene())\n",
    "    \n",
    "    plot_row_over_operation(os.path.join(sub_folder, 'row_over_operation_graph.png'), res['operation_history'], 'Depth first search max 10k operations for itc2007_track2 - ' + experiment_details.instance_name)\n",
    "    \n",
    "    plot_row_over_time(os.path.join(sub_folder, 'row_over_time_graph.png'),res['operation_history'], 'Depth first search max 10k operations for itc2007_track2 - ' + experiment_details.instance_name)\n",
    "    "
   ],
   "metadata": {
    "collapsed": false,
    "ExecuteTime": {
     "end_time": "2024-03-08T08:46:55.846422900Z",
     "start_time": "2024-03-08T08:46:50.736984200Z"
    }
   },
   "id": "e21c44b3028f15cb"
  },
  {
   "cell_type": "code",
   "execution_count": null,
   "outputs": [],
   "source": [
    "folder = 'output/itc2007_track3_depth_first_search_test_'+time.strftime(\"%Y%m%d-%H%M%S\")\n",
    "os.mkdir(folder)\n",
    "\n",
    "for f in itc2007_track3_files:\n",
    "    \n",
    "    \n",
    "    \n",
    "    date = time.time()\n",
    "    \n",
    "    problem = parse_itc2007_curriculum_based(f)[0]\n",
    "    search = SolutionSearch(problem)\n",
    "    solver = DepthFirstSearchSolver(search)\n",
    "    res = solver.solve(max_operations=10000)\n",
    "    \n",
    "    sub_folder = os.path.join(folder, problem.name)\n",
    "    os.mkdir(sub_folder)\n",
    "    \n",
    "    experiment_details = ExperimentDetails(\n",
    "        name='depth_first_search with 10k max operations',\n",
    "        instance_name=problem.name,\n",
    "        instance_file_name = f.split('\\\\')[-1].split('.')[0],\n",
    "        dataset_name='itc2007_track3',\n",
    "        date=date,\n",
    "        results_data=res,\n",
    "        experiment_data={\n",
    "            \"solver\": 'depth_first_search',\n",
    "            \"max_operations\": 10000\n",
    "        }\n",
    "    )\n",
    "    \n",
    "    pickle.dump(experiment_details, open(os.path.join(sub_folder, 'experiment_details.pkl'), 'wb'))\n",
    "    \n",
    "    if res['success']:\n",
    "        np.save(os.path.join(sub_folder, 'solution gene.npy'), search.get_result_as_gene())\n",
    "    \n",
    "    plot_row_over_operation(os.path.join(sub_folder, 'row_over_operation_graph.png'), res['operation_history'], 'Depth first search max 10k operations for itc2007_track3 - ' + experiment_details.instance_name)\n",
    "    \n",
    "    plot_row_over_time(os.path.join(sub_folder, 'row_over_time_graph.png'),res['operation_history'], 'Depth first search max 10k operations for itc2007_track3 - ' + experiment_details.instance_name)\n",
    "    "
   ],
   "metadata": {
    "collapsed": false,
    "ExecuteTime": {
     "start_time": "2024-03-08T08:46:55.849425200Z"
    }
   },
   "id": "a6a5c8d36d1dab1c"
  },
  {
   "cell_type": "code",
   "execution_count": 8,
   "outputs": [
    {
     "name": "stdout",
     "output_type": "stream",
     "text": [
      "proceeded from 0 to 1\n"
     ]
    },
    {
     "ename": "KeyboardInterrupt",
     "evalue": "",
     "output_type": "error",
     "traceback": [
      "\u001B[1;31m---------------------------------------------------------------------------\u001B[0m",
      "\u001B[1;31mKeyboardInterrupt\u001B[0m                         Traceback (most recent call last)",
      "Cell \u001B[1;32mIn[8], line 11\u001B[0m\n\u001B[0;32m      9\u001B[0m search \u001B[38;5;241m=\u001B[39m SolutionSearch(problem)\n\u001B[0;32m     10\u001B[0m solver \u001B[38;5;241m=\u001B[39m DepthFirstSearchSolver(search)\n\u001B[1;32m---> 11\u001B[0m res \u001B[38;5;241m=\u001B[39m \u001B[43msolver\u001B[49m\u001B[38;5;241;43m.\u001B[39;49m\u001B[43msolve\u001B[49m\u001B[43m(\u001B[49m\u001B[43mmax_operations\u001B[49m\u001B[38;5;241;43m=\u001B[39;49m\u001B[38;5;241;43m10000\u001B[39;49m\u001B[43m)\u001B[49m\n\u001B[0;32m     13\u001B[0m sub_folder \u001B[38;5;241m=\u001B[39m os\u001B[38;5;241m.\u001B[39mpath\u001B[38;5;241m.\u001B[39mjoin(folder, problem\u001B[38;5;241m.\u001B[39mname)\n\u001B[0;32m     14\u001B[0m os\u001B[38;5;241m.\u001B[39mmkdir(sub_folder)\n",
      "File \u001B[1;32mD:\\Desktop\\ITC2019\\depth_first_search_solver.py:79\u001B[0m, in \u001B[0;36mDepthFirstSearchSolver.solve\u001B[1;34m(self, choose_most_constrained_class, max_operations, max_backtracks)\u001B[0m\n\u001B[0;32m     75\u001B[0m \u001B[38;5;28mself\u001B[39m\u001B[38;5;241m.\u001B[39msolution_search\u001B[38;5;241m.\u001B[39mdecision_table[current_row, current_option] \u001B[38;5;241m=\u001B[39m \u001B[38;5;241m1\u001B[39m\n\u001B[0;32m     77\u001B[0m \u001B[38;5;28mself\u001B[39m\u001B[38;5;241m.\u001B[39mclose_downwards_options(current_row, current_option)\n\u001B[1;32m---> 79\u001B[0m \u001B[38;5;28;43mprint\u001B[39;49m(\u001B[38;5;124m\"\u001B[39m\u001B[38;5;124mproceeded from \u001B[39m\u001B[38;5;124m\"\u001B[39m \u001B[38;5;241m+\u001B[39m \u001B[38;5;28mstr\u001B[39m(current_row) \u001B[38;5;241m+\u001B[39m \u001B[38;5;124m\"\u001B[39m\u001B[38;5;124m to \u001B[39m\u001B[38;5;124m\"\u001B[39m \u001B[38;5;241m+\u001B[39m \u001B[38;5;28mstr\u001B[39m(current_row \u001B[38;5;241m+\u001B[39m \u001B[38;5;241m1\u001B[39m))\n\u001B[0;32m     80\u001B[0m current_row \u001B[38;5;241m+\u001B[39m\u001B[38;5;241m=\u001B[39m \u001B[38;5;241m1\u001B[39m\n\u001B[0;32m     82\u001B[0m operation_count \u001B[38;5;241m+\u001B[39m\u001B[38;5;241m=\u001B[39m \u001B[38;5;241m1\u001B[39m\n",
      "File \u001B[1;32m~\\AppData\\Local\\Programs\\PyCharm Professional 2\\plugins\\python\\helpers\\pydev\\_pydevd_bundle\\pydevd_trace_dispatch.py:60\u001B[0m, in \u001B[0;36mtrace_dispatch\u001B[1;34m(py_db, frame, event, arg)\u001B[0m\n\u001B[0;32m     58\u001B[0m \u001B[38;5;28;01mif\u001B[39;00m _trace_dispatch \u001B[38;5;129;01mis\u001B[39;00m \u001B[38;5;28;01mNone\u001B[39;00m:\n\u001B[0;32m     59\u001B[0m     \u001B[38;5;28;01mreturn\u001B[39;00m \u001B[38;5;28;01mNone\u001B[39;00m\n\u001B[1;32m---> 60\u001B[0m \u001B[38;5;28;01mreturn\u001B[39;00m \u001B[43m_trace_dispatch\u001B[49m\u001B[43m(\u001B[49m\u001B[43mpy_db\u001B[49m\u001B[43m,\u001B[49m\u001B[43m \u001B[49m\u001B[43mframe\u001B[49m\u001B[43m,\u001B[49m\u001B[43m \u001B[49m\u001B[43mevent\u001B[49m\u001B[43m,\u001B[49m\u001B[43m \u001B[49m\u001B[43marg\u001B[49m\u001B[43m)\u001B[49m\n",
      "File \u001B[1;32m_pydevd_bundle\\pydevd_cython_win32_311_64.pyx:1329\u001B[0m, in \u001B[0;36m_pydevd_bundle.pydevd_cython_win32_311_64.trace_dispatch\u001B[1;34m()\u001B[0m\n",
      "File \u001B[1;32m_pydevd_bundle\\pydevd_cython_win32_311_64.pyx:1589\u001B[0m, in \u001B[0;36m_pydevd_bundle.pydevd_cython_win32_311_64.ThreadTracer.__call__\u001B[1;34m()\u001B[0m\n",
      "File \u001B[1;32m_pydevd_bundle\\pydevd_cython_win32_311_64.pyx:1095\u001B[0m, in \u001B[0;36m_pydevd_bundle.pydevd_cython_win32_311_64.PyDBFrame.trace_dispatch\u001B[1;34m()\u001B[0m\n",
      "File \u001B[1;32m_pydevd_bundle\\pydevd_cython_win32_311_64.pyx:1057\u001B[0m, in \u001B[0;36m_pydevd_bundle.pydevd_cython_win32_311_64.PyDBFrame.trace_dispatch\u001B[1;34m()\u001B[0m\n",
      "File \u001B[1;32m_pydevd_bundle\\pydevd_cython_win32_311_64.pyx:317\u001B[0m, in \u001B[0;36m_pydevd_bundle.pydevd_cython_win32_311_64.PyDBFrame.do_wait_suspend\u001B[1;34m()\u001B[0m\n",
      "File \u001B[1;32m~\\AppData\\Local\\Programs\\PyCharm Professional 2\\plugins\\python\\helpers\\pydev\\pydevd.py:1160\u001B[0m, in \u001B[0;36mPyDB.do_wait_suspend\u001B[1;34m(self, thread, frame, event, arg, send_suspend_message, is_unhandled_exception)\u001B[0m\n\u001B[0;32m   1157\u001B[0m         from_this_thread\u001B[38;5;241m.\u001B[39mappend(frame_id)\n\u001B[0;32m   1159\u001B[0m \u001B[38;5;28;01mwith\u001B[39;00m \u001B[38;5;28mself\u001B[39m\u001B[38;5;241m.\u001B[39m_threads_suspended_single_notification\u001B[38;5;241m.\u001B[39mnotify_thread_suspended(thread_id, stop_reason):\n\u001B[1;32m-> 1160\u001B[0m     \u001B[38;5;28;43mself\u001B[39;49m\u001B[38;5;241;43m.\u001B[39;49m\u001B[43m_do_wait_suspend\u001B[49m\u001B[43m(\u001B[49m\u001B[43mthread\u001B[49m\u001B[43m,\u001B[49m\u001B[43m \u001B[49m\u001B[43mframe\u001B[49m\u001B[43m,\u001B[49m\u001B[43m \u001B[49m\u001B[43mevent\u001B[49m\u001B[43m,\u001B[49m\u001B[43m \u001B[49m\u001B[43marg\u001B[49m\u001B[43m,\u001B[49m\u001B[43m \u001B[49m\u001B[43msuspend_type\u001B[49m\u001B[43m,\u001B[49m\u001B[43m \u001B[49m\u001B[43mfrom_this_thread\u001B[49m\u001B[43m)\u001B[49m\n",
      "File \u001B[1;32m~\\AppData\\Local\\Programs\\PyCharm Professional 2\\plugins\\python\\helpers\\pydev\\pydevd.py:1175\u001B[0m, in \u001B[0;36mPyDB._do_wait_suspend\u001B[1;34m(self, thread, frame, event, arg, suspend_type, from_this_thread)\u001B[0m\n\u001B[0;32m   1172\u001B[0m             \u001B[38;5;28mself\u001B[39m\u001B[38;5;241m.\u001B[39m_call_mpl_hook()\n\u001B[0;32m   1174\u001B[0m         \u001B[38;5;28mself\u001B[39m\u001B[38;5;241m.\u001B[39mprocess_internal_commands()\n\u001B[1;32m-> 1175\u001B[0m         time\u001B[38;5;241m.\u001B[39msleep(\u001B[38;5;241m0.01\u001B[39m)\n\u001B[0;32m   1177\u001B[0m \u001B[38;5;28mself\u001B[39m\u001B[38;5;241m.\u001B[39mcancel_async_evaluation(get_current_thread_id(thread), \u001B[38;5;28mstr\u001B[39m(\u001B[38;5;28mid\u001B[39m(frame)))\n\u001B[0;32m   1179\u001B[0m \u001B[38;5;66;03m# process any stepping instructions\u001B[39;00m\n",
      "\u001B[1;31mKeyboardInterrupt\u001B[0m: "
     ]
    }
   ],
   "source": [
    "folder = 'output/itc2019_depth_first_search_test_'+time.strftime(\"%Y%m%d-%H%M%S\")\n",
    "os.mkdir(folder)\n",
    "\n",
    "for f in itc2019_files[2:3]:\n",
    "#for f in ['D:\\\\Desktop\\\\Datasets\\\\test\\\\2019maxblock.xml']: \n",
    "    date = time.time()\n",
    "    \n",
    "    problem = parse_xml(f)[0]\n",
    "    search = SolutionSearch(problem)\n",
    "    solver = DepthFirstSearchSolver(search)\n",
    "    res = solver.solve(max_operations=10000)\n",
    "    \n",
    "    sub_folder = os.path.join(folder, problem.name)\n",
    "    os.mkdir(sub_folder)\n",
    "    \n",
    "    experiment_details = ExperimentDetails(\n",
    "        name='depth_first_search with 10k max operations',\n",
    "        instance_name=problem.name,\n",
    "        instance_file_name = f.split('\\\\')[-1].split('.')[0],\n",
    "        dataset_name='itc2019',\n",
    "        date=date,\n",
    "        results_data=res,\n",
    "        experiment_data={\n",
    "            \"solver\": 'depth_first_search',\n",
    "            \"max_operations\": 10000\n",
    "        }\n",
    "    )\n",
    "    \n",
    "    pickle.dump(experiment_details, open(os.path.join(sub_folder, 'experiment_details.pkl'), 'wb'))\n",
    "    \n",
    "    if res['success']:\n",
    "        np.save(os.path.join(sub_folder, 'solution gene.npy'), search.get_result_as_gene())\n",
    "    \n",
    "    plot_row_over_operation(os.path.join(sub_folder, 'row_over_operation_graph.png'), res['operation_history'], 'Depth first search max 10k operations for itc2019 - ' + experiment_details.instance_name)\n",
    "    \n",
    "    plot_row_over_time(os.path.join(sub_folder, 'row_over_time_graph.png'),res['operation_history'], 'Depth first search max 10k operations for itc2019 - ' + experiment_details.instance_name)\n",
    "    "
   ],
   "metadata": {
    "collapsed": false,
    "ExecuteTime": {
     "end_time": "2024-03-08T09:46:54.544608300Z",
     "start_time": "2024-03-08T09:45:50.851160400Z"
    }
   },
   "id": "bf4431ffd65811bd"
  },
  {
   "cell_type": "code",
   "execution_count": null,
   "outputs": [],
   "source": [],
   "metadata": {
    "collapsed": false
   },
   "id": "cf1f1a7a1be42cae"
  }
 ],
 "metadata": {
  "kernelspec": {
   "display_name": "Python 3",
   "language": "python",
   "name": "python3"
  },
  "language_info": {
   "codemirror_mode": {
    "name": "ipython",
    "version": 2
   },
   "file_extension": ".py",
   "mimetype": "text/x-python",
   "name": "python",
   "nbconvert_exporter": "python",
   "pygments_lexer": "ipython2",
   "version": "2.7.6"
  }
 },
 "nbformat": 4,
 "nbformat_minor": 5
}
