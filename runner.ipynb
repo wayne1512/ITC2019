{
 "cells": [
  {
   "cell_type": "code",
   "execution_count": null,
   "id": "initial_id",
   "metadata": {
    "collapsed": true
   },
   "outputs": [],
   "source": [
    "import copy\n",
    "import os\n",
    "import time\n",
    "\n",
    "import matplotlib.pyplot as plt\n",
    "import pandas as pd\n",
    "import numpy as np\n",
    "import pickle\n",
    "\n",
    "import solution_search\n",
    "from ac3 import AC3\n",
    "from ac4 import AC4\n",
    "from costCalcuation.distributions.create_distribtion_helper import create_helper_for_distribution\n",
    "from depth_first_MAC_search_solver import DepthFirstSearchMACSolver\n",
    "from depth_first_search_solver import DepthFirstSearchSolver\n",
    "from experiment_details import ExperimentDetails\n",
    "from parse_input import parse_xml, parse_itc2007_curriculum_based, parse_itc2007_post_enrolment\n",
    "from solution_search import SolutionSearch\n",
    "from costCalcuation.distributions.create_distribtion_helper import create_helper_for_distribution\n",
    "\n",
    "\n"
   ]
  },
  {
   "cell_type": "code",
   "execution_count": null,
   "id": "7b1339187b73dd08",
   "metadata": {
    "collapsed": false
   },
   "outputs": [],
   "source": [
    "itc2007_track2_path = '.\\\\Datasets\\\\post'\n",
    "itc2007_track3_path = '.\\\\Datasets\\\\curriculum'\n",
    "itc2019_path = '.\\\\Datasets\\\\2019'"
   ]
  },
  {
   "cell_type": "code",
   "execution_count": null,
   "id": "e1c47b36588bd122",
   "metadata": {
    "collapsed": false
   },
   "outputs": [],
   "source": [
    "def get_all_files(path):\n",
    "    return [os.path.join(dirpath, file) for dirpath, _, filenames in os.walk(path) for file in filenames]    "
   ]
  },
  {
   "cell_type": "code",
   "execution_count": null,
   "id": "2b980a6854d41fdb",
   "metadata": {
    "collapsed": false
   },
   "outputs": [],
   "source": [
    "itc2007_track2_files = get_all_files(itc2007_track2_path)\n",
    "itc2007_track3_files = get_all_files(itc2007_track3_path)\n",
    "itc2019_files = get_all_files(itc2019_path)"
   ]
  },
  {
   "cell_type": "markdown",
   "id": "9774beffaeb401d2",
   "metadata": {
    "collapsed": false
   },
   "source": [
    "# Get statistics"
   ]
  },
  {
   "cell_type": "markdown",
   "id": "e8035c67a0069d04",
   "metadata": {
    "collapsed": false
   },
   "source": [
    "## Statistics for ITC2019"
   ]
  },
  {
   "cell_type": "code",
   "execution_count": null,
   "id": "ec7a06104067db80",
   "metadata": {
    "collapsed": false
   },
   "outputs": [],
   "source": [
    "# problems_and_stats = [parse_xml(file) for file in itc2019_files]\n",
    "# stats = [problem[1] for problem in problems_and_stats]\n",
    "# \n",
    "# df = pd.DataFrame(stats)\n",
    "# \n",
    "# df.index += 1\n",
    "# df.reset_index(inplace=True,names='index')\n",
    "# \n",
    "# os.makedirs('output/stats', exist_ok=True)\n",
    "# df.to_csv('output/stats/itc2019_stats.csv',index=False)\n"
   ]
  },
  {
   "cell_type": "markdown",
   "id": "128c9e9b77ed0388",
   "metadata": {
    "collapsed": false
   },
   "source": [
    "## Statistics for ITC2007 Track 2"
   ]
  },
  {
   "cell_type": "code",
   "execution_count": null,
   "id": "b306dd26d38259f4",
   "metadata": {
    "collapsed": false
   },
   "outputs": [],
   "source": [
    "# problems_and_stats = [parse_itc2007_post_enrolment(file) for file in itc2007_track2_files]\n",
    "# stats = [problem[1] for problem in problems_and_stats]\n",
    "# \n",
    "# df = pd.DataFrame(stats)\n",
    "# \n",
    "# \n",
    "# #make index 1 based and name them as their file names ex. 1,2,...\n",
    "# df.index += 1\n",
    "# df.reset_index(inplace=True,names='name')\n",
    "# \n",
    "# df.index += 1\n",
    "# df.reset_index(inplace=True,names='index')\n",
    "# \n",
    "# os.makedirs('output/stats', exist_ok=True)\n",
    "# df.to_csv('output/stats/itc2007_track2_stats.csv',index=False)"
   ]
  },
  {
   "cell_type": "markdown",
   "id": "bb7522cf1f4032f4",
   "metadata": {
    "collapsed": false
   },
   "source": [
    "## Statistics for ITC2007 Track 3"
   ]
  },
  {
   "cell_type": "code",
   "execution_count": null,
   "id": "42fc4703727af919",
   "metadata": {
    "collapsed": false
   },
   "outputs": [],
   "source": [
    "# problems_and_stats = [parse_itc2007_curriculum_based(file) for file in itc2007_track3_files]\n",
    "# stats = [problem[1] for problem in problems_and_stats]\n",
    "# \n",
    "# df = pd.DataFrame(stats)\n",
    "# \n",
    "# \n",
    "# df.index += 1\n",
    "# df.reset_index(inplace=True,names='index')\n",
    "# \n",
    "# os.makedirs('output/stats', exist_ok=True)\n",
    "# df.to_csv('output/stats/itc2007_track3_stats.csv',index=False)\n"
   ]
  },
  {
   "cell_type": "markdown",
   "id": "d322f8791c3cacd9",
   "metadata": {
    "collapsed": false
   },
   "source": [
    "# Construction using depth first search"
   ]
  },
  {
   "cell_type": "code",
   "execution_count": null,
   "id": "e29fbf550ce72c9",
   "metadata": {
    "collapsed": false
   },
   "outputs": [],
   "source": [
    "def plot_row_over_operation(file,operation_history , title):\n",
    "    fig,ax = plt.subplots()\n",
    "    ax.set_title(title)\n",
    "    \n",
    "    y = [i['current_row'] for i in operation_history]\n",
    "    \n",
    "    ax.set_xlabel('Operation')\n",
    "    ax.set_ylabel('Classes placed')\n",
    "    \n",
    "    ax.plot(y)\n",
    "    plt.show()\n",
    "    \n",
    "    if file:\n",
    "        fig.savefig(file + '.png')\n",
    "    \n",
    "    \n",
    "    \n",
    "def plot_row_over_time(file, operation_history , title):\n",
    "    fig,ax = plt.subplots()\n",
    "    ax.set_title(title)\n",
    "    \n",
    "    time = [i['time'] for i in operation_history]\n",
    "    row = [i['current_row'] for i in operation_history]\n",
    "    \n",
    "    ax.set_xlabel('Time')\n",
    "    ax.set_ylabel('Classes placed')\n",
    "    ax.plot(time,row)\n",
    "\n",
    "    plt.show()\n",
    "    \n",
    "    if file:\n",
    "        fig.savefig(file + '.png')\n",
    "    "
   ]
  },
  {
   "cell_type": "code",
   "execution_count": 23,
   "id": "1c8cbd7b62f19875",
   "metadata": {
    "collapsed": false,
    "ExecuteTime": {
     "end_time": "2024-04-07T17:04:48.320877100Z",
     "start_time": "2024-04-07T17:04:48.300460200Z"
    }
   },
   "outputs": [],
   "source": [
    "def parse_problem (dataset,instance_path):\n",
    "    if dataset == 'itc2007_track2':\n",
    "        return parse_itc2007_post_enrolment(instance_path)\n",
    "    elif dataset == 'itc2007_track3':\n",
    "        return parse_itc2007_curriculum_based(instance_path)\n",
    "    elif dataset == 'itc2019':\n",
    "        return parse_xml(instance_path)\n",
    "\n",
    "\n",
    "def run_experiment(experiment_name, problem_files, dataset, ac3_params = None,ac4_params=None, depth_first_params=None,mac_depth_first_search_params = None,repeat =1):\n",
    "    \n",
    "    folder = f'output/{experiment_name}_{dataset}_{time.strftime(\"%Y%m%d-%H%M%S\")}'\n",
    "    os.mkdir(folder)\n",
    "    \n",
    "    print(f'experiment results will be saved in {folder}')\n",
    "    \n",
    "    for f in problem_files:\n",
    "        sub_folder = os.path.join(folder, f.split('\\\\')[-1].split('.')[0])\n",
    "        sub_folder_prefix = sub_folder\n",
    "        \n",
    "        saved_ac3_result = None\n",
    "        saved_ac3_problem = None\n",
    "        saved_ac3_search = None\n",
    "        \n",
    "        for i in range(repeat):\n",
    "            date = time.time()\n",
    "            problem = parse_problem(dataset,f)[0]        \n",
    "            \n",
    "            if repeat > 1:\n",
    "                sub_folder = sub_folder_prefix + f\"_iteration_{i}\"\n",
    "            os.mkdir(sub_folder)\n",
    "            \n",
    "            res = {}\n",
    "            \n",
    "            search = None\n",
    "            if ac3_params is not None or ac4_params is not None or depth_first_params is not None or mac_depth_first_search_params is not None:\n",
    "                solution_search_init_start_time = time.time()\n",
    "                search = SolutionSearch(problem)\n",
    "                solution_search_init_end_time = time.time()\n",
    "                res['solution_search_init_time'] = solution_search_init_end_time - solution_search_init_start_time            \n",
    "                \n",
    "            if ac3_params is not None or (mac_depth_first_search_params is not None and mac_depth_first_search_params.get('skip_initial_ac3',False)):\n",
    "                \n",
    "                if saved_ac3_problem == problem.name:\n",
    "                    ac3_res = saved_ac3_result\n",
    "                    search = copy.copy(saved_ac3_search)\n",
    "                else:\n",
    "                    ac3_res = {}\n",
    "                    \n",
    "                    ac3_start_time = time.time()\n",
    "                    ac3 = AC3(search)            \n",
    "                    ac3_res['ac3_init_time'] = time.time() - ac3_start_time\n",
    "                    \n",
    "                    ac3_apply_start_time = time.time()\n",
    "                    ac3_return_value = ac3.apply(debugLevel=1,**ac3_params if ac3_params is not None else {})\n",
    "                    ac3_end_time = time.time()\n",
    "                    ac3_res['ac3_apply_time'] = ac3_end_time - ac3_apply_start_time\n",
    "                    \n",
    "                    ac3_res['ac3_total_time'] = ac3_end_time - ac3_start_time\n",
    "                    \n",
    "                    # oops... will have to recompute this during analysis since we forgot to save the decision table before ac3\n",
    "                    options_open_before_ac3 = np.count_nonzero(search.decision_table == 0)\n",
    "                    options_open_after_ac3 = np.count_nonzero(search.decision_table == 0)\n",
    "                    options_closed_by_ac3 = options_open_before_ac3 - options_open_after_ac3\n",
    "                    \n",
    "                    ac3_res['options_open_before_ac3'] = options_open_before_ac3\n",
    "                    ac3_res['options_open_after_ac3'] = options_open_after_ac3\n",
    "                    ac3_res['options_closed_by_ac3'] = options_closed_by_ac3\n",
    "                    ac3_res['ac3_return_value'] = ac3_return_value\n",
    "                    \n",
    "                    if ac3_return_value:\n",
    "                        pickle.dump(search.decision_table, open(os.path.join(sub_folder, 'decision_table_after_ac3.pkl'), 'wb'))\n",
    "                        \n",
    "                    if mac_depth_first_search_params is not None and mac_depth_first_search_params.get('skip_initial_ac3',False):\n",
    "                        saved_ac3_result = ac3_res\n",
    "                        saved_ac3_problem = problem.name\n",
    "                        saved_ac3_search = copy.copy(search)\n",
    "                    \n",
    "                res['ac3_results'] = ac3_res\n",
    "            \n",
    "            if ac4_params is not None:\n",
    "                \n",
    "                ac4_res = {}\n",
    "                \n",
    "                ac4_start_time = time.time()\n",
    "                ac4 = AC4(search)            \n",
    "                ac4_res['ac4_init_time'] = time.time() - ac4_start_time\n",
    "                \n",
    "                ac4_apply_start_time = time.time()\n",
    "                ac4_return_value = ac4.apply(debugLevel=1,**ac4_params)\n",
    "                ac4_end_time = time.time()\n",
    "                ac4_res['ac4_apply_time'] = ac4_end_time - ac4_apply_start_time\n",
    "                \n",
    "                ac4_res['ac4_total_time'] = ac4_end_time - ac4_start_time\n",
    "                \n",
    "                options_open_before_ac4 = np.count_nonzero(search.decision_table == 0)\n",
    "                options_open_after_ac4 = np.count_nonzero(search.decision_table == 0)\n",
    "                options_closed_by_ac4 = options_open_before_ac4 - options_open_after_ac4\n",
    "                \n",
    "                # oops... will have to recompute this during analysis since we forgot to save the decision table before ac4\n",
    "                ac4_res['options_open_before_ac4'] = options_open_before_ac4\n",
    "                ac4_res['options_open_after_ac4'] = options_open_after_ac4\n",
    "                ac4_res['options_closed_by_ac4'] = options_closed_by_ac4\n",
    "                ac4_res['ac4_return_value'] = ac4_return_value\n",
    "                \n",
    "                if ac4_return_value:\n",
    "                    pickle.dump(search.decision_table, open(os.path.join(sub_folder, 'decision_table_after_ac4.pkl'), 'wb'))\n",
    "                    \n",
    "                res['ac4_results'] = ac4_res\n",
    "                \n",
    "            if depth_first_params is not None or mac_depth_first_search_params is not None:\n",
    "                if depth_first_params is not None:\n",
    "                    solver = DepthFirstSearchSolver(search)\n",
    "                    depth_first_res = solver.solve(debug_level=1,**depth_first_params)\n",
    "                else:\n",
    "                    solver = DepthFirstSearchMACSolver(search)\n",
    "                    depth_first_res = solver.solve(debug_level=1,**mac_depth_first_search_params)\n",
    "                    \n",
    "                \n",
    "                if depth_first_res['success']:\n",
    "                    np.save(os.path.join(sub_folder, 'solution gene after depth first search.npy'), search.get_result_as_gene())\n",
    "                \n",
    "                \n",
    "                instance_file_name = f.split('\\\\')[-1].split('.')[0]\n",
    "                instance_name = problem.name if dataset == 'itc2019' else instance_file_name\n",
    "                \n",
    "                plot_row_over_operation(os.path.join(sub_folder, 'row_over_operation_graph.png'), depth_first_res['operation_history'], f\"{experiment_name}\\n{dataset} - {instance_name}\")\n",
    "                plot_row_over_time(os.path.join(sub_folder, 'row_over_time_graph.png'),depth_first_res['operation_history'], f\"{experiment_name}\\n{dataset} - {instance_name}\")\n",
    "                \n",
    "                res['depth_first_search_results'] = depth_first_res\n",
    "            \n",
    "            \n",
    "            experiment_details = ExperimentDetails(\n",
    "                name=experiment_name,\n",
    "                instance_name=instance_name,\n",
    "                instance_file_name = instance_file_name,\n",
    "                dataset_name=dataset,\n",
    "                date=date,\n",
    "                results_data=res,\n",
    "                experiment_data={\n",
    "                    'ac3_params': ac3_params,\n",
    "                    'ac4_params': ac4_params,\n",
    "                    'depth_first_params': depth_first_params,\n",
    "                    'mac_depth_first_search_params': mac_depth_first_search_params\n",
    "                }\n",
    "            )\n",
    "            \n",
    "            pickle.dump(experiment_details, open(os.path.join(sub_folder, 'experiment_details.pkl'), 'wb'))\n",
    "        "
   ]
  },
  {
   "cell_type": "markdown",
   "id": "f47cf29ebf08e1aa",
   "metadata": {
    "collapsed": false
   },
   "source": [
    "## Depth first search with 10k operations"
   ]
  },
  {
   "cell_type": "markdown",
   "id": "4a345731df8bddd4",
   "metadata": {
    "collapsed": false
   },
   "source": [
    "## AC4 followed by Depth first search with 10k operations"
   ]
  },
  {
   "cell_type": "code",
   "execution_count": null,
   "id": "c8c9c41570dae0ee",
   "metadata": {
    "collapsed": false
   },
   "outputs": [],
   "source": [
    "# run_experiment('Depth_first_search with 10k max operations', itc2007_track2_files, 'itc2007_track2', ac4_params=None, depth_first_params={'max_operations': 10000})"
   ]
  },
  {
   "cell_type": "code",
   "execution_count": null,
   "id": "fe4f54a28cb20d29",
   "metadata": {
    "collapsed": false
   },
   "outputs": [],
   "source": [
    "# run_experiment('Depth_first_search with 10k max operations', itc2007_track3_files, 'itc2007_track3', ac4_params=None, depth_first_params={'max_operations': 10000})"
   ]
  },
  {
   "cell_type": "code",
   "execution_count": null,
   "id": "e64ddb8db6dc4304",
   "metadata": {
    "collapsed": false
   },
   "outputs": [],
   "source": [
    "# run_experiment('Depth_first_search with 10k max operations', itc2019_files, 'itc2019', ac4_params=None, depth_first_params={'max_operations': 10000})"
   ]
  },
  {
   "cell_type": "code",
   "execution_count": null,
   "id": "3bf4cacdb03a8b5c",
   "metadata": {
    "collapsed": false
   },
   "outputs": [],
   "source": [
    "# run_experiment('AC3 and depth_first_search with 10k max operations', itc2007_track2_files, 'itc2007_track2', ac3_params={}, depth_first_params={'max_operations': 10000})"
   ]
  },
  {
   "cell_type": "code",
   "execution_count": null,
   "id": "774db8e34b0add7c",
   "metadata": {
    "collapsed": false
   },
   "outputs": [],
   "source": [
    "# run_experiment('AC3 and depth_first_search with 10k max operations', itc2007_track3_files, 'itc2007_track3', ac3_params={}, depth_first_params={'max_operations': 10000})"
   ]
  },
  {
   "cell_type": "code",
   "execution_count": null,
   "id": "e3913c72ae0d2149",
   "metadata": {
    "collapsed": false
   },
   "outputs": [],
   "source": [
    "# run_experiment('AC3 and depth_first_search with 10k max operations', itc2019_files[2:], 'itc2019', ac3_params={}, depth_first_params={'max_operations': 10000})"
   ]
  },
  {
   "cell_type": "code",
   "execution_count": null,
   "id": "20601a94e4e324e7",
   "metadata": {
    "collapsed": false
   },
   "outputs": [],
   "source": [
    "# run_experiment('AC4 and depth_first_search with 10k max operations', itc2007_track2_files, 'itc2007_track2', ac4_params={}, depth_first_params={'max_operations': 10000})"
   ]
  },
  {
   "cell_type": "code",
   "execution_count": null,
   "id": "e4601191ea129e4c",
   "metadata": {
    "collapsed": false
   },
   "outputs": [],
   "source": [
    "# run_experiment('AC4 and depth_first_search with 10k max operations', itc2007_track3_files, 'itc2007_track3', ac4_params={}, depth_first_params={'max_operations': 10000})"
   ]
  },
  {
   "cell_type": "code",
   "execution_count": null,
   "id": "76e1fafe618cec14",
   "metadata": {
    "collapsed": false
   },
   "outputs": [],
   "source": [
    "# run_experiment('AC4 and depth_first_search with 10k max operations', itc2019_files, 'itc2019', ac4_params={}, depth_first_params={'max_operations': 10000})"
   ]
  },
  {
   "cell_type": "code",
   "execution_count": null,
   "id": "510961bd221c516a",
   "metadata": {
    "collapsed": false
   },
   "outputs": [],
   "source": [
    "# run_experiment('Depth_first_search (random option) with 10k max operations', itc2007_track2_files, 'itc2007_track2',\n",
    "#                ac4_params=None,\n",
    "#                depth_first_params={'max_operations': 10000, 'randomize_option': True}, repeat=5)\n",
    "# run_experiment('Depth_first_search (random option) with 10k max operations', itc2007_track3_files, 'itc2007_track3',\n",
    "#                ac4_params=None,\n",
    "#                depth_first_params={'max_operations': 10000, 'randomize_option': True}, repeat=5)\n",
    "# run_experiment('Depth_first_search (random option) with 10k max operations', itc2019_files, 'itc2019', ac4_params=None,\n",
    "#                depth_first_params={'max_operations': 10000, 'randomize_option': True}, repeat=5)"
   ]
  },
  {
   "cell_type": "code",
   "execution_count": null,
   "id": "4530c6ef6be15cb6",
   "metadata": {
    "collapsed": false
   },
   "outputs": [],
   "source": [
    "run_experiment('MAC Depth_first_search with 5k max operations', itc2007_track2_files[0:1], 'itc2007_track2',               mac_depth_first_search_params={'max_backtracks': 5000})\n",
    " \n",
    "run_experiment('MAC Depth_first_search with 5k max operations', itc2007_track3_files[0:1], 'itc2007_track3',               mac_depth_first_search_params={'max_backtracks': 5000})"
   ]
  },
  {
   "cell_type": "code",
   "execution_count": null,
   "outputs": [
    {
     "name": "stdout",
     "output_type": "stream",
     "text": [
      "experiment results will be saved in output/MAC Depth_first_search (random options) with 5k max backtracks_itc2007_track3_20240407-204805\n",
      "finished creating Q with 25564 elements\n"
     ]
    }
   ],
   "source": [
    "# run_experiment('MAC Depth_first_search (random options) with 5k max backtracks', itc2007_track2_files[0:1], 'itc2007_track2',               mac_depth_first_search_params={'max_backtracks': 10000,'randomize_option': True,'skip_initial_ac3': True},repeat=5)\n",
    "\n",
    "run_experiment('MAC Depth_first_search (random options) with 5k max backtracks', itc2007_track3_files[0:1], 'itc2007_track3',                mac_depth_first_search_params={'max_backtracks': 10000,'randomize_option': True,'skip_initial_ac3': True},repeat=5)\n"
   ],
   "metadata": {
    "collapsed": false,
    "is_executing": true,
    "ExecuteTime": {
     "start_time": "2024-04-07T18:48:05.049132600Z"
    }
   },
   "id": "a33c26a5324d31c6"
  },
  {
   "cell_type": "code",
   "execution_count": null,
   "outputs": [],
   "source": [],
   "metadata": {
    "collapsed": false
   },
   "id": "46696c8ec196e89c"
  }
 ],
 "metadata": {
  "kernelspec": {
   "display_name": "Python 3",
   "language": "python",
   "name": "python3"
  },
  "language_info": {
   "codemirror_mode": {
    "name": "ipython",
    "version": 2
   },
   "file_extension": ".py",
   "mimetype": "text/x-python",
   "name": "python",
   "nbconvert_exporter": "python",
   "pygments_lexer": "ipython2",
   "version": "2.7.6"
  }
 },
 "nbformat": 4,
 "nbformat_minor": 5
}
